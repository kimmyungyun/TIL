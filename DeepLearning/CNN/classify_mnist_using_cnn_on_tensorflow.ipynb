{
 "cells": [
  {
   "cell_type": "code",
   "execution_count": 44,
   "metadata": {
    "colab": {
     "base_uri": "https://localhost:8080/",
     "height": 63
    },
    "colab_type": "code",
    "id": "NDfvL9Kuu0Ph",
    "outputId": "dd428793-22a4-45b2-d36b-cf9e32b46438",
    "scrolled": true
   },
   "outputs": [],
   "source": [
    "import tensorflow as tf\n",
    "import numpy as np"
   ]
  },
  {
   "cell_type": "code",
   "execution_count": 45,
   "metadata": {
    "colab": {},
    "colab_type": "code",
    "id": "UZrMBWGPu0Ps"
   },
   "outputs": [],
   "source": [
    "tf.enable_eager_execution()"
   ]
  },
  {
   "cell_type": "code",
   "execution_count": 46,
   "metadata": {
    "colab": {
     "base_uri": "https://localhost:8080/",
     "height": 424
    },
    "colab_type": "code",
    "id": "Iq3WpbRLu0Py",
    "outputId": "566aa3af-50ec-47d1-c471-39b9f453c01d",
    "scrolled": false
   },
   "outputs": [
    {
     "name": "stdout",
     "output_type": "stream",
     "text": [
      "WARNING:tensorflow:From c:\\library\\python\\lib\\site-packages\\tensorflow\\contrib\\learn\\python\\learn\\datasets\\base.py:252: _internal_retry.<locals>.wrap.<locals>.wrapped_fn (from tensorflow.contrib.learn.python.learn.datasets.base) is deprecated and will be removed in a future version.\n",
      "Instructions for updating:\n",
      "Please use urllib or similar directly.\n",
      "Successfully downloaded train-images-idx3-ubyte.gz 9912422 bytes.\n",
      "Extracting ./mnist/data/train-images-idx3-ubyte.gz\n",
      "Successfully downloaded train-labels-idx1-ubyte.gz 28881 bytes.\n",
      "Extracting ./mnist/data/train-labels-idx1-ubyte.gz\n",
      "Successfully downloaded t10k-images-idx3-ubyte.gz 1648877 bytes.\n",
      "Extracting ./mnist/data/t10k-images-idx3-ubyte.gz\n",
      "Successfully downloaded t10k-labels-idx1-ubyte.gz 4542 bytes.\n",
      "Extracting ./mnist/data/t10k-labels-idx1-ubyte.gz\n"
     ]
    }
   ],
   "source": [
    "from tensorflow.examples.tutorials.mnist import input_data\n",
    "\n",
    "mnist = input_data.read_data_sets(\"./mnist/data/\", one_hot=True)"
   ]
  },
  {
   "cell_type": "code",
   "execution_count": 47,
   "metadata": {
    "colab": {},
    "colab_type": "code",
    "id": "3eu1e63Ju0P3"
   },
   "outputs": [],
   "source": [
    "X, y = mnist.train.next_batch(1)"
   ]
  },
  {
   "cell_type": "code",
   "execution_count": 0,
   "metadata": {
    "colab": {
     "base_uri": "https://localhost:8080/",
     "height": 34
    },
    "colab_type": "code",
    "id": "DVoCZrjYu0P7",
    "outputId": "65e1c7e6-1b92-4381-bb60-b8693f133535"
   },
   "outputs": [
    {
     "data": {
      "text/plain": [
       "(1, 28, 28, 1)"
      ]
     },
     "execution_count": 5,
     "metadata": {
      "tags": []
     },
     "output_type": "execute_result"
    }
   ],
   "source": [
    "X = X.reshape(-1, 28, 28, 1)\n",
    "X.shape"
   ]
  },
  {
   "cell_type": "code",
   "execution_count": 0,
   "metadata": {
    "colab": {
     "base_uri": "https://localhost:8080/",
     "height": 34
    },
    "colab_type": "code",
    "id": "Hus7zoalu0QA",
    "outputId": "5982ab3a-438e-4702-fa4b-a23c68d2000c"
   },
   "outputs": [
    {
     "data": {
      "text/plain": [
       "array([[0., 0., 0., 0., 0., 0., 1., 0., 0., 0.]])"
      ]
     },
     "execution_count": 6,
     "metadata": {
      "tags": []
     },
     "output_type": "execute_result"
    }
   ],
   "source": [
    "y"
   ]
  },
  {
   "cell_type": "code",
   "execution_count": 0,
   "metadata": {
    "colab": {
     "base_uri": "https://localhost:8080/",
     "height": 34
    },
    "colab_type": "code",
    "id": "25lYg7T7u0QG",
    "outputId": "a8e517fe-2fd3-4e06-e71a-5ff7e1bb975d",
    "scrolled": true
   },
   "outputs": [
    {
     "data": {
      "text/plain": [
       "(28, 28)"
      ]
     },
     "execution_count": 7,
     "metadata": {
      "tags": []
     },
     "output_type": "execute_result"
    }
   ],
   "source": [
    "tmp_img = X[0].reshape(28, 28)\n",
    "tmp_img.shape"
   ]
  },
  {
   "cell_type": "code",
   "execution_count": 0,
   "metadata": {
    "colab": {
     "base_uri": "https://localhost:8080/",
     "height": 282
    },
    "colab_type": "code",
    "id": "m_e96mRGu0QM",
    "outputId": "26ec1728-bc76-41cf-cc28-87a0da90217a"
   },
   "outputs": [
    {
     "data": {
      "text/plain": [
       "<matplotlib.image.AxesImage at 0x7fbc2c0744a8>"
      ]
     },
     "execution_count": 8,
     "metadata": {
      "tags": []
     },
     "output_type": "execute_result"
    },
    {
     "data": {
      "image/png": "[encoded data removed]",
      "text/plain": [
       "<Figure size 432x288 with 1 Axes>"
      ]
     },
     "metadata": {
      "tags": []
     },
     "output_type": "display_data"
    }
   ],
   "source": [
    "import matplotlib.pyplot as plt\n",
    "plt.imshow(tmp_img, cmap='gray')"
   ]
  },
  {
   "cell_type": "code",
   "execution_count": 0,
   "metadata": {
    "colab": {
     "base_uri": "https://localhost:8080/",
     "height": 158
    },
    "colab_type": "code",
    "id": "F_T8lUKQu0QR",
    "outputId": "983a932f-fb01-4c3c-feb1-499eaa546376"
   },
   "outputs": [
    {
     "name": "stdout",
     "output_type": "stream",
     "text": [
      "WARNING:tensorflow:\n",
      "The TensorFlow contrib module will not be included in TensorFlow 2.0.\n",
      "For more information, please see:\n",
      "  * https://github.com/tensorflow/community/blob/master/rfcs/20180907-contrib-sunset.md\n",
      "  * https://github.com/tensorflow/addons\n",
      "  * https://github.com/tensorflow/io (for I/O related ops)\n",
      "If you depend on functionality not listed there, please file an issue.\n",
      "\n"
     ]
    }
   ],
   "source": [
    "initializer = tf.contrib.layers.xavier_initializer()"
   ]
  },
  {
   "cell_type": "code",
   "execution_count": 0,
   "metadata": {
    "colab": {
     "base_uri": "https://localhost:8080/",
     "height": 1000
    },
    "colab_type": "code",
    "id": "zcnAynYIu0QU",
    "outputId": "49eef420-12dd-402d-c279-4bba8adcbbd8",
    "scrolled": true
   },
   "outputs": [
    {
     "data": {
      "text/plain": [
       "<tf.Variable 'Variable:0' shape=(3, 3, 1, 32) dtype=float32, numpy=\n",
       "array([[[[ 0.06127039,  0.03218877,  0.0538318 ,  0.01777178,\n",
       "           0.05422521,  0.0866359 , -0.05555017, -0.13866761,\n",
       "           0.11199914,  0.13091277, -0.00348684,  0.00298335,\n",
       "          -0.1327236 , -0.01041037,  0.06045333,  0.07877448,\n",
       "           0.1154107 ,  0.06121148, -0.11111101,  0.12625091,\n",
       "           0.08241838, -0.10099716, -0.0085818 ,  0.11448644,\n",
       "          -0.11672288,  0.01172136,  0.13435782, -0.07988413,\n",
       "          -0.08193532,  0.08352681,  0.09391968, -0.12005916]],\n",
       "\n",
       "        [[ 0.04628472, -0.11282411, -0.12395529, -0.02952333,\n",
       "          -0.00149518,  0.13884564,  0.03406338, -0.08224916,\n",
       "          -0.02365594,  0.12137385, -0.08687403, -0.01477742,\n",
       "           0.02022611, -0.09248473,  0.10854317,  0.07002525,\n",
       "          -0.05810154, -0.01165555, -0.07740367, -0.05638251,\n",
       "          -0.06810261,  0.09510049, -0.04704878,  0.00365417,\n",
       "          -0.03311146, -0.02673607,  0.00474867, -0.12900206,\n",
       "          -0.0945774 ,  0.11523648,  0.08712141,  0.05309835]],\n",
       "\n",
       "        [[-0.12044799,  0.03869538,  0.13768403, -0.08338198,\n",
       "          -0.04187097,  0.11300196, -0.09157363, -0.03965053,\n",
       "           0.06211703, -0.01536265,  0.09118311, -0.03961247,\n",
       "          -0.00943783,  0.07024531, -0.03543562, -0.01296015,\n",
       "          -0.01379153,  0.11689748,  0.08735953, -0.00778772,\n",
       "          -0.1298945 , -0.12745579,  0.0659814 , -0.05735809,\n",
       "          -0.02722319, -0.0978619 , -0.08532836, -0.04163206,\n",
       "           0.13498037,  0.11348797, -0.00967413, -0.03615644]]],\n",
       "\n",
       "\n",
       "       [[[-0.08000083, -0.10234032,  0.00769623, -0.04105675,\n",
       "          -0.02228808,  0.01018034,  0.1115302 ,  0.05613756,\n",
       "          -0.12583403,  0.05808921, -0.08295005,  0.01362187,\n",
       "           0.10784447,  0.01014082,  0.06457667,  0.06801091,\n",
       "           0.06526913,  0.06911314,  0.0248888 , -0.04529074,\n",
       "          -0.10002073,  0.06028467,  0.07339351,  0.0320683 ,\n",
       "           0.12354167, -0.08788079, -0.11379424, -0.11226287,\n",
       "          -0.09917738, -0.01367131, -0.13713527,  0.02309185]],\n",
       "\n",
       "        [[-0.02325865, -0.05898847,  0.07900143,  0.04953502,\n",
       "           0.0249688 , -0.06576967,  0.1357794 ,  0.1043213 ,\n",
       "          -0.10355985,  0.04889104, -0.05921437, -0.08940504,\n",
       "          -0.14011844, -0.0683727 ,  0.1035748 , -0.09210383,\n",
       "           0.11957   ,  0.09774847, -0.13280681, -0.0937926 ,\n",
       "          -0.04681279,  0.13863613, -0.08167392, -0.11136455,\n",
       "           0.13917182,  0.00317782, -0.03748658, -0.10881165,\n",
       "          -0.02577576, -0.01512623, -0.08300243,  0.03222974]],\n",
       "\n",
       "        [[ 0.12065558,  0.06465092, -0.01302928,  0.02579762,\n",
       "           0.00734769,  0.00552276, -0.12607363, -0.13576588,\n",
       "          -0.07133201, -0.10647562,  0.09193094, -0.07981293,\n",
       "           0.13260628, -0.03824383, -0.03974734, -0.00228408,\n",
       "          -0.11514559,  0.0716518 , -0.13805696, -0.10558175,\n",
       "           0.02486888,  0.00331198,  0.06085549, -0.09652704,\n",
       "           0.06819858, -0.01336133,  0.07376814, -0.08147296,\n",
       "           0.05177166,  0.09760575,  0.03049289, -0.10977205]]],\n",
       "\n",
       "\n",
       "       [[[ 0.07383907, -0.09710763,  0.04839252, -0.03583831,\n",
       "          -0.0786005 ,  0.07738829,  0.07791409, -0.13370787,\n",
       "          -0.1187202 ,  0.04161043,  0.00679536,  0.05828941,\n",
       "          -0.04359441,  0.09344296, -0.11158648, -0.10337774,\n",
       "          -0.06494428, -0.12487388,  0.10493161,  0.03615874,\n",
       "           0.09069422, -0.02587763, -0.13035089,  0.02208686,\n",
       "          -0.04321748,  0.12788971,  0.05608144, -0.0183053 ,\n",
       "           0.08540851, -0.00595377,  0.10530762, -0.12680434]],\n",
       "\n",
       "        [[-0.04129166, -0.04921449, -0.03357978, -0.05352245,\n",
       "           0.09623785,  0.019802  , -0.02321097,  0.12306572,\n",
       "           0.06612904,  0.03878756, -0.00219251, -0.12233456,\n",
       "           0.02677165,  0.08013639, -0.01109916,  0.07973719,\n",
       "           0.03475821,  0.12399991,  0.01092562, -0.112226  ,\n",
       "           0.12602068, -0.13799247, -0.13796598, -0.01249389,\n",
       "          -0.09095569,  0.05638921, -0.08777249,  0.00585116,\n",
       "           0.11699028,  0.08970125, -0.07154164,  0.03449881]],\n",
       "\n",
       "        [[-0.03817572,  0.10886754,  0.00443633, -0.06121959,\n",
       "          -0.121607  , -0.03503667,  0.03309472, -0.10110238,\n",
       "          -0.08943191,  0.08820672, -0.10848837, -0.11118264,\n",
       "           0.13153546,  0.02776387, -0.01692459, -0.03049082,\n",
       "          -0.10170276,  0.03060816, -0.07846441, -0.07158132,\n",
       "           0.0997597 ,  0.08889748, -0.00784777,  0.12655433,\n",
       "           0.0101047 , -0.03712589,  0.1222146 , -0.06907054,\n",
       "           0.03849971, -0.00950634, -0.12352658, -0.08601522]]]],\n",
       "      dtype=float32)>"
      ]
     },
     "execution_count": 10,
     "metadata": {
      "tags": []
     },
     "output_type": "execute_result"
    }
   ],
   "source": [
    "w1 = tf.Variable(initializer([3, 3, 1, 32]))\n",
    "w1"
   ]
  },
  {
   "cell_type": "code",
   "execution_count": 0,
   "metadata": {
    "colab": {
     "base_uri": "https://localhost:8080/",
     "height": 897
    },
    "colab_type": "code",
    "id": "tzWWx5Y3u0QZ",
    "outputId": "a84c2919-34c0-41fb-ffe3-8f536ae1ae25",
    "scrolled": true
   },
   "outputs": [
    {
     "data": {
      "text/plain": [
       "<tf.Tensor: id=18, shape=(1, 28, 28, 32), dtype=float32, numpy=\n",
       "array([[[[0., 0., 0., ..., 0., 0., 0.],\n",
       "         [0., 0., 0., ..., 0., 0., 0.],\n",
       "         [0., 0., 0., ..., 0., 0., 0.],\n",
       "         ...,\n",
       "         [0., 0., 0., ..., 0., 0., 0.],\n",
       "         [0., 0., 0., ..., 0., 0., 0.],\n",
       "         [0., 0., 0., ..., 0., 0., 0.]],\n",
       "\n",
       "        [[0., 0., 0., ..., 0., 0., 0.],\n",
       "         [0., 0., 0., ..., 0., 0., 0.],\n",
       "         [0., 0., 0., ..., 0., 0., 0.],\n",
       "         ...,\n",
       "         [0., 0., 0., ..., 0., 0., 0.],\n",
       "         [0., 0., 0., ..., 0., 0., 0.],\n",
       "         [0., 0., 0., ..., 0., 0., 0.]],\n",
       "\n",
       "        [[0., 0., 0., ..., 0., 0., 0.],\n",
       "         [0., 0., 0., ..., 0., 0., 0.],\n",
       "         [0., 0., 0., ..., 0., 0., 0.],\n",
       "         ...,\n",
       "         [0., 0., 0., ..., 0., 0., 0.],\n",
       "         [0., 0., 0., ..., 0., 0., 0.],\n",
       "         [0., 0., 0., ..., 0., 0., 0.]],\n",
       "\n",
       "        ...,\n",
       "\n",
       "        [[0., 0., 0., ..., 0., 0., 0.],\n",
       "         [0., 0., 0., ..., 0., 0., 0.],\n",
       "         [0., 0., 0., ..., 0., 0., 0.],\n",
       "         ...,\n",
       "         [0., 0., 0., ..., 0., 0., 0.],\n",
       "         [0., 0., 0., ..., 0., 0., 0.],\n",
       "         [0., 0., 0., ..., 0., 0., 0.]],\n",
       "\n",
       "        [[0., 0., 0., ..., 0., 0., 0.],\n",
       "         [0., 0., 0., ..., 0., 0., 0.],\n",
       "         [0., 0., 0., ..., 0., 0., 0.],\n",
       "         ...,\n",
       "         [0., 0., 0., ..., 0., 0., 0.],\n",
       "         [0., 0., 0., ..., 0., 0., 0.],\n",
       "         [0., 0., 0., ..., 0., 0., 0.]],\n",
       "\n",
       "        [[0., 0., 0., ..., 0., 0., 0.],\n",
       "         [0., 0., 0., ..., 0., 0., 0.],\n",
       "         [0., 0., 0., ..., 0., 0., 0.],\n",
       "         ...,\n",
       "         [0., 0., 0., ..., 0., 0., 0.],\n",
       "         [0., 0., 0., ..., 0., 0., 0.],\n",
       "         [0., 0., 0., ..., 0., 0., 0.]]]], dtype=float32)>"
      ]
     },
     "execution_count": 11,
     "metadata": {
      "tags": []
     },
     "output_type": "execute_result"
    }
   ],
   "source": [
    "conv1 = tf.nn.conv2d(X, w1, strides=[1, 1, 1, 1], padding=\"SAME\")\n",
    "conv1"
   ]
  },
  {
   "cell_type": "code",
   "execution_count": 0,
   "metadata": {
    "colab": {
     "base_uri": "https://localhost:8080/",
     "height": 897
    },
    "colab_type": "code",
    "id": "Z5Rf65jGu0Qd",
    "outputId": "404c4b08-8656-42cb-ac9a-9b33e0c6a4c5",
    "scrolled": true
   },
   "outputs": [
    {
     "data": {
      "text/plain": [
       "<tf.Tensor: id=19, shape=(1, 28, 28, 32), dtype=float32, numpy=\n",
       "array([[[[0., 0., 0., ..., 0., 0., 0.],\n",
       "         [0., 0., 0., ..., 0., 0., 0.],\n",
       "         [0., 0., 0., ..., 0., 0., 0.],\n",
       "         ...,\n",
       "         [0., 0., 0., ..., 0., 0., 0.],\n",
       "         [0., 0., 0., ..., 0., 0., 0.],\n",
       "         [0., 0., 0., ..., 0., 0., 0.]],\n",
       "\n",
       "        [[0., 0., 0., ..., 0., 0., 0.],\n",
       "         [0., 0., 0., ..., 0., 0., 0.],\n",
       "         [0., 0., 0., ..., 0., 0., 0.],\n",
       "         ...,\n",
       "         [0., 0., 0., ..., 0., 0., 0.],\n",
       "         [0., 0., 0., ..., 0., 0., 0.],\n",
       "         [0., 0., 0., ..., 0., 0., 0.]],\n",
       "\n",
       "        [[0., 0., 0., ..., 0., 0., 0.],\n",
       "         [0., 0., 0., ..., 0., 0., 0.],\n",
       "         [0., 0., 0., ..., 0., 0., 0.],\n",
       "         ...,\n",
       "         [0., 0., 0., ..., 0., 0., 0.],\n",
       "         [0., 0., 0., ..., 0., 0., 0.],\n",
       "         [0., 0., 0., ..., 0., 0., 0.]],\n",
       "\n",
       "        ...,\n",
       "\n",
       "        [[0., 0., 0., ..., 0., 0., 0.],\n",
       "         [0., 0., 0., ..., 0., 0., 0.],\n",
       "         [0., 0., 0., ..., 0., 0., 0.],\n",
       "         ...,\n",
       "         [0., 0., 0., ..., 0., 0., 0.],\n",
       "         [0., 0., 0., ..., 0., 0., 0.],\n",
       "         [0., 0., 0., ..., 0., 0., 0.]],\n",
       "\n",
       "        [[0., 0., 0., ..., 0., 0., 0.],\n",
       "         [0., 0., 0., ..., 0., 0., 0.],\n",
       "         [0., 0., 0., ..., 0., 0., 0.],\n",
       "         ...,\n",
       "         [0., 0., 0., ..., 0., 0., 0.],\n",
       "         [0., 0., 0., ..., 0., 0., 0.],\n",
       "         [0., 0., 0., ..., 0., 0., 0.]],\n",
       "\n",
       "        [[0., 0., 0., ..., 0., 0., 0.],\n",
       "         [0., 0., 0., ..., 0., 0., 0.],\n",
       "         [0., 0., 0., ..., 0., 0., 0.],\n",
       "         ...,\n",
       "         [0., 0., 0., ..., 0., 0., 0.],\n",
       "         [0., 0., 0., ..., 0., 0., 0.],\n",
       "         [0., 0., 0., ..., 0., 0., 0.]]]], dtype=float32)>"
      ]
     },
     "execution_count": 12,
     "metadata": {
      "tags": []
     },
     "output_type": "execute_result"
    }
   ],
   "source": [
    "conv1 = tf.nn.relu(conv1)\n",
    "conv1"
   ]
  },
  {
   "cell_type": "code",
   "execution_count": 0,
   "metadata": {
    "colab": {
     "base_uri": "https://localhost:8080/",
     "height": 34
    },
    "colab_type": "code",
    "id": "h0T4ZdpQu0Qg",
    "outputId": "5f232c6d-a3e5-43ec-b739-4b2777b95c23"
   },
   "outputs": [
    {
     "data": {
      "text/plain": [
       "TensorShape([Dimension(1), Dimension(28), Dimension(28), Dimension(32)])"
      ]
     },
     "execution_count": 13,
     "metadata": {
      "tags": []
     },
     "output_type": "execute_result"
    }
   ],
   "source": [
    "conv1.shape"
   ]
  },
  {
   "cell_type": "code",
   "execution_count": 0,
   "metadata": {
    "colab": {
     "base_uri": "https://localhost:8080/",
     "height": 1000
    },
    "colab_type": "code",
    "id": "A6i-HvNFu0Ql",
    "outputId": "bbca436d-7e13-4d91-c653-afd78c77223e"
   },
   "outputs": [
    {
     "data": {
      "text/plain": [
       "<tf.Variable 'Variable:0' shape=(3, 3, 32, 64) dtype=float32, numpy=\n",
       "array([[[[-6.78248405e-02,  3.08350325e-02, -5.36066517e-02, ...,\n",
       "          -2.09957771e-02,  2.51612812e-03, -1.76829919e-02],\n",
       "         [-1.55937448e-02, -8.02277178e-02, -3.53447609e-02, ...,\n",
       "           4.68010679e-02, -1.51154771e-02, -4.10834774e-02],\n",
       "         [ 1.15913749e-02,  6.39410987e-02,  6.15334511e-03, ...,\n",
       "          -3.96197438e-02,  8.22554305e-02, -4.26101312e-02],\n",
       "         ...,\n",
       "         [-7.18907267e-03,  1.65205821e-02, -8.08075890e-02, ...,\n",
       "          -1.81065574e-02,  7.60466680e-02,  3.32554430e-03],\n",
       "         [ 6.26810566e-02,  4.61446866e-02, -2.03225836e-02, ...,\n",
       "          -1.13741159e-02, -6.29613847e-02,  6.29761070e-03],\n",
       "         [-7.35488981e-02,  7.64876604e-03,  1.98426023e-02, ...,\n",
       "           6.10586256e-03,  6.31410703e-02, -7.66173005e-02]],\n",
       "\n",
       "        [[ 8.23624358e-02,  3.03231105e-02, -5.67016825e-02, ...,\n",
       "          -6.83097094e-02,  2.23516822e-02,  7.42175654e-02],\n",
       "         [ 6.43610433e-02, -1.14695802e-02,  6.37153164e-02, ...,\n",
       "           6.39042035e-02,  6.02357015e-02,  7.67765418e-02],\n",
       "         [-3.37852836e-02, -8.32310542e-02, -2.72475705e-02, ...,\n",
       "          -7.61391521e-02,  5.51389083e-02,  4.79290709e-02],\n",
       "         ...,\n",
       "         [-7.59077072e-02, -5.21183833e-02, -4.62354049e-02, ...,\n",
       "          -5.90091757e-02,  7.41447434e-02,  7.24051967e-02],\n",
       "         [ 2.63065919e-02, -8.02455172e-02, -1.15780458e-02, ...,\n",
       "          -3.85711342e-03, -3.10416445e-02,  6.39716536e-03],\n",
       "         [-3.50240879e-02,  1.58768669e-02, -5.49540333e-02, ...,\n",
       "          -5.22762947e-02,  1.68275461e-02,  1.19781867e-02]],\n",
       "\n",
       "        [[ 8.81441683e-03, -6.72332495e-02, -1.74252987e-02, ...,\n",
       "           7.14957938e-02, -7.71568045e-02,  5.08992895e-02],\n",
       "         [ 2.42784619e-02, -4.22866754e-02,  7.64575079e-02, ...,\n",
       "           4.90623787e-02,  6.13516793e-02,  3.22033763e-02],\n",
       "         [-7.02181906e-02, -7.01462626e-02,  8.09133723e-02, ...,\n",
       "          -6.42227530e-02,  6.78597167e-02,  5.56688532e-02],\n",
       "         ...,\n",
       "         [-5.48896417e-02,  4.29797247e-02, -7.59502053e-02, ...,\n",
       "          -2.37789005e-03,  5.41853383e-02, -5.31967096e-02],\n",
       "         [-1.77037120e-02,  6.30506352e-02, -5.82902431e-02, ...,\n",
       "           4.48941365e-02,  6.94545358e-03,  9.34811682e-03],\n",
       "         [ 7.21526965e-02,  5.04054129e-04,  6.81436062e-03, ...,\n",
       "          -2.32693776e-02, -9.80278105e-03,  2.81438455e-02]]],\n",
       "\n",
       "\n",
       "       [[[-3.05748396e-02,  5.95499948e-02, -3.47633958e-02, ...,\n",
       "           7.44199380e-02, -8.78242403e-03,  4.33323607e-02],\n",
       "         [ 1.06569901e-02,  4.05856371e-02,  5.59796318e-02, ...,\n",
       "          -1.21826753e-02,  5.26416078e-02, -1.31037235e-02],\n",
       "         [-4.71436977e-02,  1.68925300e-02, -4.13962007e-02, ...,\n",
       "           7.61765316e-02,  6.53668121e-02,  1.66334510e-02],\n",
       "         ...,\n",
       "         [-1.59999356e-02,  4.95584086e-02, -6.40296564e-02, ...,\n",
       "          -7.95764923e-02, -2.30982117e-02,  7.42185786e-02],\n",
       "         [ 8.98762792e-03, -7.19169825e-02,  4.26039472e-02, ...,\n",
       "           4.94758040e-03, -7.52136558e-02,  2.17491984e-02],\n",
       "         [-5.53000979e-02,  5.25113419e-02,  2.42092460e-03, ...,\n",
       "          -3.54374461e-02, -4.75396737e-02,  2.17970014e-02]],\n",
       "\n",
       "        [[-3.64794135e-02,  1.13543645e-02, -8.15463662e-02, ...,\n",
       "          -6.34614825e-02, -5.84187359e-03,  2.95625702e-02],\n",
       "         [ 4.49992046e-02,  4.76493314e-02, -7.63848424e-02, ...,\n",
       "          -2.62842998e-02,  5.22823110e-02, -5.32914810e-02],\n",
       "         [-5.78059778e-02, -4.86270338e-03,  7.13237002e-02, ...,\n",
       "           5.84377721e-02,  7.31577501e-02, -5.99211454e-03],\n",
       "         ...,\n",
       "         [ 4.70683351e-02,  7.82069638e-02,  1.87759399e-02, ...,\n",
       "           3.20489034e-02, -7.20041990e-02, -7.92433023e-02],\n",
       "         [ 7.28876367e-02, -6.79558143e-02, -2.17307620e-02, ...,\n",
       "           3.53635773e-02,  2.00711861e-02, -8.28060508e-02],\n",
       "         [ 7.51519278e-02, -7.42912292e-02,  5.05714193e-02, ...,\n",
       "          -2.52760649e-02,  4.44571003e-02,  2.50209197e-02]],\n",
       "\n",
       "        [[ 3.77365723e-02,  6.65727630e-02,  4.05585766e-02, ...,\n",
       "          -2.41993479e-02,  2.12980732e-02, -3.75538096e-02],\n",
       "         [ 3.42880264e-02, -6.57204241e-02,  2.69108787e-02, ...,\n",
       "          -4.32682633e-02,  1.03917345e-02,  7.07791224e-02],\n",
       "         [ 1.15095153e-02,  5.03867641e-02,  3.79924551e-02, ...,\n",
       "           5.34066930e-02,  3.60542163e-02, -3.81929688e-02],\n",
       "         ...,\n",
       "         [ 7.54444078e-02,  7.65703991e-02,  8.91574472e-03, ...,\n",
       "          -7.60633945e-02,  2.38011032e-03,  6.91982731e-02],\n",
       "         [-6.03153110e-02,  2.24992856e-02,  6.35438934e-02, ...,\n",
       "           4.54729274e-02, -4.92095165e-02, -8.80817324e-03],\n",
       "         [-4.43965197e-02,  5.81536368e-02,  2.94146538e-02, ...,\n",
       "           5.76750115e-02,  5.77481836e-03, -1.08706132e-02]]],\n",
       "\n",
       "\n",
       "       [[[ 4.69070897e-02,  5.04735187e-02,  3.15619335e-02, ...,\n",
       "           4.17407379e-02, -6.01658821e-02, -1.96338072e-02],\n",
       "         [ 4.13103923e-02, -7.97630996e-02, -1.86465010e-02, ...,\n",
       "          -3.01342607e-02, -3.81679945e-02,  2.05262303e-02],\n",
       "         [ 4.22657356e-02,  1.73690170e-03,  8.14743266e-02, ...,\n",
       "           5.38080409e-02,  1.46807656e-02, -6.92034960e-02],\n",
       "         ...,\n",
       "         [ 4.40165177e-02,  7.32742250e-04,  6.68187216e-02, ...,\n",
       "           2.44611725e-02, -1.23291016e-02, -8.02857280e-02],\n",
       "         [-7.45738596e-02,  3.53548676e-03, -6.01750612e-02, ...,\n",
       "           5.60768470e-02, -4.18306403e-02, -7.03786016e-02],\n",
       "         [ 2.61275172e-02,  3.49421725e-02, -2.97289714e-02, ...,\n",
       "          -4.19095904e-03,  2.82005444e-02,  6.37165383e-02]],\n",
       "\n",
       "        [[-2.49446258e-02,  5.54207191e-02,  3.60843316e-02, ...,\n",
       "          -8.25103521e-02, -4.51511145e-03,  3.86101827e-02],\n",
       "         [-5.28867058e-02, -6.31805286e-02, -3.33347134e-02, ...,\n",
       "          -2.33091712e-02,  8.16863999e-02, -5.76520972e-02],\n",
       "         [ 7.80590624e-03, -1.92883834e-02, -6.10306263e-02, ...,\n",
       "          -2.79595852e-02, -2.69111209e-02,  4.74504381e-03],\n",
       "         ...,\n",
       "         [-1.05871782e-02,  5.69237098e-02, -8.23300108e-02, ...,\n",
       "           7.32884482e-02,  6.76142946e-02, -3.55571322e-02],\n",
       "         [-8.20079893e-02, -7.45390877e-02, -7.38883466e-02, ...,\n",
       "          -6.29461855e-02, -1.14033818e-02, -6.44273013e-02],\n",
       "         [-3.41928229e-02,  3.02789584e-02, -1.17086768e-02, ...,\n",
       "          -1.45686492e-02, -4.60167974e-03, -4.55132946e-02]],\n",
       "\n",
       "        [[-5.22532091e-02, -1.31534338e-02, -5.59846759e-02, ...,\n",
       "           1.77857503e-02, -5.85424900e-02,  6.32661581e-03],\n",
       "         [-3.35035920e-02, -4.08674479e-02,  8.26473609e-02, ...,\n",
       "           3.69756594e-02,  1.99421644e-02,  3.48788500e-03],\n",
       "         [ 2.31079832e-02,  5.17932251e-02, -6.00115210e-03, ...,\n",
       "          -6.16582483e-03, -6.81696162e-02, -2.51022205e-02],\n",
       "         ...,\n",
       "         [-4.00372967e-02,  6.70545474e-02, -4.57566790e-02, ...,\n",
       "           7.99886957e-02,  8.87950510e-03,  6.36406764e-02],\n",
       "         [-3.29058170e-02, -7.37349615e-02, -7.07448721e-02, ...,\n",
       "          -8.02698135e-02,  4.76653054e-02, -4.14173231e-02],\n",
       "         [ 7.72993192e-02,  5.06296009e-03, -2.68816948e-05, ...,\n",
       "           7.41096586e-03,  6.55536875e-02, -8.12024325e-02]]]],\n",
       "      dtype=float32)>"
      ]
     },
     "execution_count": 14,
     "metadata": {
      "tags": []
     },
     "output_type": "execute_result"
    }
   ],
   "source": [
    "w2 = tf.Variable(initializer([3, 3, 32, 64]))\n",
    "w2"
   ]
  },
  {
   "cell_type": "code",
   "execution_count": 0,
   "metadata": {
    "colab": {
     "base_uri": "https://localhost:8080/",
     "height": 897
    },
    "colab_type": "code",
    "id": "xAUBBrnVu0Qn",
    "outputId": "4966e7ec-7326-455b-b2b2-33c6d7419b24",
    "scrolled": true
   },
   "outputs": [
    {
     "data": {
      "text/plain": [
       "<tf.Tensor: id=36, shape=(1, 28, 28, 64), dtype=float32, numpy=\n",
       "array([[[[0., 0., 0., ..., 0., 0., 0.],\n",
       "         [0., 0., 0., ..., 0., 0., 0.],\n",
       "         [0., 0., 0., ..., 0., 0., 0.],\n",
       "         ...,\n",
       "         [0., 0., 0., ..., 0., 0., 0.],\n",
       "         [0., 0., 0., ..., 0., 0., 0.],\n",
       "         [0., 0., 0., ..., 0., 0., 0.]],\n",
       "\n",
       "        [[0., 0., 0., ..., 0., 0., 0.],\n",
       "         [0., 0., 0., ..., 0., 0., 0.],\n",
       "         [0., 0., 0., ..., 0., 0., 0.],\n",
       "         ...,\n",
       "         [0., 0., 0., ..., 0., 0., 0.],\n",
       "         [0., 0., 0., ..., 0., 0., 0.],\n",
       "         [0., 0., 0., ..., 0., 0., 0.]],\n",
       "\n",
       "        [[0., 0., 0., ..., 0., 0., 0.],\n",
       "         [0., 0., 0., ..., 0., 0., 0.],\n",
       "         [0., 0., 0., ..., 0., 0., 0.],\n",
       "         ...,\n",
       "         [0., 0., 0., ..., 0., 0., 0.],\n",
       "         [0., 0., 0., ..., 0., 0., 0.],\n",
       "         [0., 0., 0., ..., 0., 0., 0.]],\n",
       "\n",
       "        ...,\n",
       "\n",
       "        [[0., 0., 0., ..., 0., 0., 0.],\n",
       "         [0., 0., 0., ..., 0., 0., 0.],\n",
       "         [0., 0., 0., ..., 0., 0., 0.],\n",
       "         ...,\n",
       "         [0., 0., 0., ..., 0., 0., 0.],\n",
       "         [0., 0., 0., ..., 0., 0., 0.],\n",
       "         [0., 0., 0., ..., 0., 0., 0.]],\n",
       "\n",
       "        [[0., 0., 0., ..., 0., 0., 0.],\n",
       "         [0., 0., 0., ..., 0., 0., 0.],\n",
       "         [0., 0., 0., ..., 0., 0., 0.],\n",
       "         ...,\n",
       "         [0., 0., 0., ..., 0., 0., 0.],\n",
       "         [0., 0., 0., ..., 0., 0., 0.],\n",
       "         [0., 0., 0., ..., 0., 0., 0.]],\n",
       "\n",
       "        [[0., 0., 0., ..., 0., 0., 0.],\n",
       "         [0., 0., 0., ..., 0., 0., 0.],\n",
       "         [0., 0., 0., ..., 0., 0., 0.],\n",
       "         ...,\n",
       "         [0., 0., 0., ..., 0., 0., 0.],\n",
       "         [0., 0., 0., ..., 0., 0., 0.],\n",
       "         [0., 0., 0., ..., 0., 0., 0.]]]], dtype=float32)>"
      ]
     },
     "execution_count": 15,
     "metadata": {
      "tags": []
     },
     "output_type": "execute_result"
    }
   ],
   "source": [
    "conv2 = tf.nn.conv2d(conv1, w2, strides=[1, 1, 1, 1], padding=\"SAME\")\n",
    "conv2"
   ]
  },
  {
   "cell_type": "code",
   "execution_count": 0,
   "metadata": {
    "colab": {
     "base_uri": "https://localhost:8080/",
     "height": 897
    },
    "colab_type": "code",
    "id": "FK7v8X-Hu0Qt",
    "outputId": "ad824762-1181-48dd-f4ac-9f98ea35f8b3",
    "scrolled": true
   },
   "outputs": [
    {
     "data": {
      "text/plain": [
       "<tf.Tensor: id=37, shape=(1, 28, 28, 64), dtype=float32, numpy=\n",
       "array([[[[0., 0., 0., ..., 0., 0., 0.],\n",
       "         [0., 0., 0., ..., 0., 0., 0.],\n",
       "         [0., 0., 0., ..., 0., 0., 0.],\n",
       "         ...,\n",
       "         [0., 0., 0., ..., 0., 0., 0.],\n",
       "         [0., 0., 0., ..., 0., 0., 0.],\n",
       "         [0., 0., 0., ..., 0., 0., 0.]],\n",
       "\n",
       "        [[0., 0., 0., ..., 0., 0., 0.],\n",
       "         [0., 0., 0., ..., 0., 0., 0.],\n",
       "         [0., 0., 0., ..., 0., 0., 0.],\n",
       "         ...,\n",
       "         [0., 0., 0., ..., 0., 0., 0.],\n",
       "         [0., 0., 0., ..., 0., 0., 0.],\n",
       "         [0., 0., 0., ..., 0., 0., 0.]],\n",
       "\n",
       "        [[0., 0., 0., ..., 0., 0., 0.],\n",
       "         [0., 0., 0., ..., 0., 0., 0.],\n",
       "         [0., 0., 0., ..., 0., 0., 0.],\n",
       "         ...,\n",
       "         [0., 0., 0., ..., 0., 0., 0.],\n",
       "         [0., 0., 0., ..., 0., 0., 0.],\n",
       "         [0., 0., 0., ..., 0., 0., 0.]],\n",
       "\n",
       "        ...,\n",
       "\n",
       "        [[0., 0., 0., ..., 0., 0., 0.],\n",
       "         [0., 0., 0., ..., 0., 0., 0.],\n",
       "         [0., 0., 0., ..., 0., 0., 0.],\n",
       "         ...,\n",
       "         [0., 0., 0., ..., 0., 0., 0.],\n",
       "         [0., 0., 0., ..., 0., 0., 0.],\n",
       "         [0., 0., 0., ..., 0., 0., 0.]],\n",
       "\n",
       "        [[0., 0., 0., ..., 0., 0., 0.],\n",
       "         [0., 0., 0., ..., 0., 0., 0.],\n",
       "         [0., 0., 0., ..., 0., 0., 0.],\n",
       "         ...,\n",
       "         [0., 0., 0., ..., 0., 0., 0.],\n",
       "         [0., 0., 0., ..., 0., 0., 0.],\n",
       "         [0., 0., 0., ..., 0., 0., 0.]],\n",
       "\n",
       "        [[0., 0., 0., ..., 0., 0., 0.],\n",
       "         [0., 0., 0., ..., 0., 0., 0.],\n",
       "         [0., 0., 0., ..., 0., 0., 0.],\n",
       "         ...,\n",
       "         [0., 0., 0., ..., 0., 0., 0.],\n",
       "         [0., 0., 0., ..., 0., 0., 0.],\n",
       "         [0., 0., 0., ..., 0., 0., 0.]]]], dtype=float32)>"
      ]
     },
     "execution_count": 16,
     "metadata": {
      "tags": []
     },
     "output_type": "execute_result"
    }
   ],
   "source": [
    "conv2 = tf.nn.relu(conv2)\n",
    "conv2"
   ]
  },
  {
   "cell_type": "code",
   "execution_count": 0,
   "metadata": {
    "colab": {
     "base_uri": "https://localhost:8080/",
     "height": 897
    },
    "colab_type": "code",
    "id": "l4u9pEJSu0Qy",
    "outputId": "6e30878d-8c30-4532-870a-5371cf084066"
   },
   "outputs": [
    {
     "data": {
      "text/plain": [
       "<tf.Tensor: id=38, shape=(1, 28, 28, 64), dtype=float32, numpy=\n",
       "array([[[[0., 0., 0., ..., 0., 0., 0.],\n",
       "         [0., 0., 0., ..., 0., 0., 0.],\n",
       "         [0., 0., 0., ..., 0., 0., 0.],\n",
       "         ...,\n",
       "         [0., 0., 0., ..., 0., 0., 0.],\n",
       "         [0., 0., 0., ..., 0., 0., 0.],\n",
       "         [0., 0., 0., ..., 0., 0., 0.]],\n",
       "\n",
       "        [[0., 0., 0., ..., 0., 0., 0.],\n",
       "         [0., 0., 0., ..., 0., 0., 0.],\n",
       "         [0., 0., 0., ..., 0., 0., 0.],\n",
       "         ...,\n",
       "         [0., 0., 0., ..., 0., 0., 0.],\n",
       "         [0., 0., 0., ..., 0., 0., 0.],\n",
       "         [0., 0., 0., ..., 0., 0., 0.]],\n",
       "\n",
       "        [[0., 0., 0., ..., 0., 0., 0.],\n",
       "         [0., 0., 0., ..., 0., 0., 0.],\n",
       "         [0., 0., 0., ..., 0., 0., 0.],\n",
       "         ...,\n",
       "         [0., 0., 0., ..., 0., 0., 0.],\n",
       "         [0., 0., 0., ..., 0., 0., 0.],\n",
       "         [0., 0., 0., ..., 0., 0., 0.]],\n",
       "\n",
       "        ...,\n",
       "\n",
       "        [[0., 0., 0., ..., 0., 0., 0.],\n",
       "         [0., 0., 0., ..., 0., 0., 0.],\n",
       "         [0., 0., 0., ..., 0., 0., 0.],\n",
       "         ...,\n",
       "         [0., 0., 0., ..., 0., 0., 0.],\n",
       "         [0., 0., 0., ..., 0., 0., 0.],\n",
       "         [0., 0., 0., ..., 0., 0., 0.]],\n",
       "\n",
       "        [[0., 0., 0., ..., 0., 0., 0.],\n",
       "         [0., 0., 0., ..., 0., 0., 0.],\n",
       "         [0., 0., 0., ..., 0., 0., 0.],\n",
       "         ...,\n",
       "         [0., 0., 0., ..., 0., 0., 0.],\n",
       "         [0., 0., 0., ..., 0., 0., 0.],\n",
       "         [0., 0., 0., ..., 0., 0., 0.]],\n",
       "\n",
       "        [[0., 0., 0., ..., 0., 0., 0.],\n",
       "         [0., 0., 0., ..., 0., 0., 0.],\n",
       "         [0., 0., 0., ..., 0., 0., 0.],\n",
       "         ...,\n",
       "         [0., 0., 0., ..., 0., 0., 0.],\n",
       "         [0., 0., 0., ..., 0., 0., 0.],\n",
       "         [0., 0., 0., ..., 0., 0., 0.]]]], dtype=float32)>"
      ]
     },
     "execution_count": 17,
     "metadata": {
      "tags": []
     },
     "output_type": "execute_result"
    }
   ],
   "source": [
    "maxpool = tf.nn.max_pool(conv2, ksize = [1, 2, 2, 1], strides=[1, 1, 1, 1], padding=\"SAME\")\n",
    "maxpool"
   ]
  },
  {
   "cell_type": "code",
   "execution_count": 0,
   "metadata": {
    "colab": {
     "base_uri": "https://localhost:8080/",
     "height": 897
    },
    "colab_type": "code",
    "id": "McPe3n-Ku0Q2",
    "outputId": "b06183ef-74e9-4827-ab51-c1d83b24103c",
    "scrolled": true
   },
   "outputs": [
    {
     "data": {
      "text/plain": [
       "<tf.Tensor: id=39, shape=(1, 28, 28, 64), dtype=float32, numpy=\n",
       "array([[[[0., 0., 0., ..., 0., 0., 0.],\n",
       "         [0., 0., 0., ..., 0., 0., 0.],\n",
       "         [0., 0., 0., ..., 0., 0., 0.],\n",
       "         ...,\n",
       "         [0., 0., 0., ..., 0., 0., 0.],\n",
       "         [0., 0., 0., ..., 0., 0., 0.],\n",
       "         [0., 0., 0., ..., 0., 0., 0.]],\n",
       "\n",
       "        [[0., 0., 0., ..., 0., 0., 0.],\n",
       "         [0., 0., 0., ..., 0., 0., 0.],\n",
       "         [0., 0., 0., ..., 0., 0., 0.],\n",
       "         ...,\n",
       "         [0., 0., 0., ..., 0., 0., 0.],\n",
       "         [0., 0., 0., ..., 0., 0., 0.],\n",
       "         [0., 0., 0., ..., 0., 0., 0.]],\n",
       "\n",
       "        [[0., 0., 0., ..., 0., 0., 0.],\n",
       "         [0., 0., 0., ..., 0., 0., 0.],\n",
       "         [0., 0., 0., ..., 0., 0., 0.],\n",
       "         ...,\n",
       "         [0., 0., 0., ..., 0., 0., 0.],\n",
       "         [0., 0., 0., ..., 0., 0., 0.],\n",
       "         [0., 0., 0., ..., 0., 0., 0.]],\n",
       "\n",
       "        ...,\n",
       "\n",
       "        [[0., 0., 0., ..., 0., 0., 0.],\n",
       "         [0., 0., 0., ..., 0., 0., 0.],\n",
       "         [0., 0., 0., ..., 0., 0., 0.],\n",
       "         ...,\n",
       "         [0., 0., 0., ..., 0., 0., 0.],\n",
       "         [0., 0., 0., ..., 0., 0., 0.],\n",
       "         [0., 0., 0., ..., 0., 0., 0.]],\n",
       "\n",
       "        [[0., 0., 0., ..., 0., 0., 0.],\n",
       "         [0., 0., 0., ..., 0., 0., 0.],\n",
       "         [0., 0., 0., ..., 0., 0., 0.],\n",
       "         ...,\n",
       "         [0., 0., 0., ..., 0., 0., 0.],\n",
       "         [0., 0., 0., ..., 0., 0., 0.],\n",
       "         [0., 0., 0., ..., 0., 0., 0.]],\n",
       "\n",
       "        [[0., 0., 0., ..., 0., 0., 0.],\n",
       "         [0., 0., 0., ..., 0., 0., 0.],\n",
       "         [0., 0., 0., ..., 0., 0., 0.],\n",
       "         ...,\n",
       "         [0., 0., 0., ..., 0., 0., 0.],\n",
       "         [0., 0., 0., ..., 0., 0., 0.],\n",
       "         [0., 0., 0., ..., 0., 0., 0.]]]], dtype=float32)>"
      ]
     },
     "execution_count": 18,
     "metadata": {
      "tags": []
     },
     "output_type": "execute_result"
    }
   ],
   "source": [
    "maxpool = tf.nn.relu(maxpool)\n",
    "maxpool"
   ]
  },
  {
   "cell_type": "code",
   "execution_count": 0,
   "metadata": {
    "colab": {
     "base_uri": "https://localhost:8080/",
     "height": 34
    },
    "colab_type": "code",
    "id": "TBQnJyeju0Q4",
    "outputId": "bc6c64d0-a15e-4fec-9418-6a626ee8234f"
   },
   "outputs": [
    {
     "data": {
      "text/plain": [
       "<tf.Tensor: id=41, shape=(1, 50176), dtype=float32, numpy=array([[0., 0., 0., ..., 0., 0., 0.]], dtype=float32)>"
      ]
     },
     "execution_count": 19,
     "metadata": {
      "tags": []
     },
     "output_type": "execute_result"
    }
   ],
   "source": [
    "maxpool = tf.reshape(maxpool, [-1, 28 * 28 * 64])\n",
    "maxpool"
   ]
  },
  {
   "cell_type": "code",
   "execution_count": 0,
   "metadata": {
    "colab": {
     "base_uri": "https://localhost:8080/",
     "height": 263
    },
    "colab_type": "code",
    "id": "c93GVyzZu0Q7",
    "outputId": "6a5e49ab-fa05-438f-bef3-1893e497432d",
    "scrolled": true
   },
   "outputs": [
    {
     "data": {
      "text/plain": [
       "<tf.Variable 'Variable:0' shape=(50176, 512) dtype=float32, numpy=\n",
       "array([[ 0.00247612,  0.00842691, -0.00891491, ..., -0.00151374,\n",
       "        -0.00027032,  0.00832508],\n",
       "       [ 0.00624825, -0.00981331, -0.00131971, ..., -0.00456658,\n",
       "        -0.00051565,  0.00819197],\n",
       "       [-0.0099721 , -0.00754357,  0.00691939, ...,  0.00878548,\n",
       "         0.00374242,  0.00533286],\n",
       "       ...,\n",
       "       [ 0.00215525, -0.00835505, -0.00804786, ...,  0.00416755,\n",
       "         0.0104376 , -0.00299122],\n",
       "       [ 0.00535257, -0.0028874 , -0.00906633, ..., -0.00394011,\n",
       "        -0.00682969,  0.00472425],\n",
       "       [-0.00408554, -0.00235596,  0.00927376, ..., -0.00660981,\n",
       "         0.00233711,  0.00643968]], dtype=float32)>"
      ]
     },
     "execution_count": 20,
     "metadata": {
      "tags": []
     },
     "output_type": "execute_result"
    }
   ],
   "source": [
    "w3 = tf.Variable(initializer([28 * 28 * 64, 512]))\n",
    "w3"
   ]
  },
  {
   "cell_type": "code",
   "execution_count": 0,
   "metadata": {
    "colab": {},
    "colab_type": "code",
    "id": "VzFPwpBku0Q_"
   },
   "outputs": [],
   "source": [
    "layer4 = tf.nn.relu(tf.matmul(maxpool, w3))"
   ]
  },
  {
   "cell_type": "code",
   "execution_count": 0,
   "metadata": {
    "colab": {
     "base_uri": "https://localhost:8080/",
     "height": 263
    },
    "colab_type": "code",
    "id": "pl4PYsZKu0RC",
    "outputId": "b05cf9bb-0fe3-4deb-ec11-d4d13c819eeb",
    "scrolled": true
   },
   "outputs": [
    {
     "data": {
      "text/plain": [
       "<tf.Variable 'Variable:0' shape=(512, 10) dtype=float32, numpy=\n",
       "array([[-0.05183268, -0.10075967, -0.04844189, ...,  0.04416595,\n",
       "        -0.03943741,  0.03861666],\n",
       "       [ 0.08073553,  0.01843183, -0.08908834, ...,  0.06002831,\n",
       "        -0.09869684, -0.05896695],\n",
       "       [-0.07938868, -0.05681849,  0.01519961, ..., -0.04945266,\n",
       "         0.03054938, -0.08378872],\n",
       "       ...,\n",
       "       [ 0.07931294,  0.01311962, -0.05588014, ..., -0.06475456,\n",
       "        -0.05847874, -0.04015931],\n",
       "       [ 0.1052198 ,  0.06057199,  0.0214841 , ...,  0.0443596 ,\n",
       "         0.02464467, -0.04773919],\n",
       "       [ 0.10258313,  0.09320232,  0.08813197, ..., -0.04298159,\n",
       "        -0.070547  ,  0.05060441]], dtype=float32)>"
      ]
     },
     "execution_count": 22,
     "metadata": {
      "tags": []
     },
     "output_type": "execute_result"
    }
   ],
   "source": [
    "w4 = tf.Variable(initializer([512, 10]))\n",
    "w4"
   ]
  },
  {
   "cell_type": "code",
   "execution_count": 0,
   "metadata": {
    "colab": {
     "base_uri": "https://localhost:8080/",
     "height": 87
    },
    "colab_type": "code",
    "id": "iTqPfxjru0RG",
    "outputId": "17bbb1c0-e145-4336-92f5-33dd2f648476"
   },
   "outputs": [
    {
     "data": {
      "text/plain": [
       "<tf.Tensor: id=77, shape=(1, 10), dtype=float32, numpy=\n",
       "array([[0.111118  , 0.11172895, 0.10558802, 0.0975306 , 0.10956614,\n",
       "        0.09206581, 0.08677673, 0.09233035, 0.0994708 , 0.09382455]],\n",
       "      dtype=float32)>"
      ]
     },
     "execution_count": 23,
     "metadata": {
      "tags": []
     },
     "output_type": "execute_result"
    }
   ],
   "source": [
    "output = tf.nn.softmax(tf.matmul(layer4, w4))\n",
    "output"
   ]
  },
  {
   "cell_type": "code",
   "execution_count": 0,
   "metadata": {
    "colab": {
     "base_uri": "https://localhost:8080/",
     "height": 105
    },
    "colab_type": "code",
    "id": "saXGvJERu0RI",
    "outputId": "f229498a-5777-4747-f2c7-e01337a54ba1"
   },
   "outputs": [
    {
     "name": "stdout",
     "output_type": "stream",
     "text": [
      "epoch : 0  cost:0.11530481278896332\n",
      "epoch : 1  cost:0.03050130605697632\n",
      "epoch : 2  cost:0.01824323460459709\n",
      "epoch : 3  cost:0.01043663825839758\n",
      "epoch : 4  cost:0.008615103550255299\n"
     ]
    }
   ],
   "source": [
    "epochs = 5\n",
    "batch_size = 100\n",
    "optimizer = tf.train.AdamOptimizer(0.001)\n",
    "total_batch = int(mnist.train.num_examples/batch_size)\n",
    "for epoch in range(epochs):\n",
    "    total_cost = 0\n",
    "    for batch in range(total_batch):\n",
    "        X, y = mnist.train.next_batch(batch_size)\n",
    "        X = X.reshape(-1, 28, 28, 1)\n",
    "        with tf.GradientTape() as tape:\n",
    "            conv1 = tf.nn.conv2d(X, w1, strides=[1, 1, 1, 1], padding=\"SAME\")\n",
    "            conv1 = tf.nn.relu(conv1)\n",
    "            conv2 = tf.nn.conv2d(conv1, w2, strides=[1, 1, 1, 1], padding=\"SAME\")\n",
    "            conv2 = tf.nn.relu(conv2)\n",
    "            maxpool = tf.nn.relu(tf.nn.max_pool(conv2, ksize = [1, 2, 2, 1], strides=[1, 1, 1, 1], padding=\"SAME\"))\n",
    "            maxpool = tf.reshape(maxpool, [-1, 28 * 28 * 64])\n",
    "            layer4 = tf.nn.relu(tf.matmul(maxpool, w3))\n",
    "            output = tf.nn.softmax(tf.matmul(layer4, w4))\n",
    "            \n",
    "            cost = -tf.reduce_sum(y * tf.log(output)) / len(X)\n",
    "            \n",
    "            grads=tape.gradient(cost, [w1, w2, w3, w4])\n",
    "        \n",
    "        optimizer.apply_gradients(grads_and_vars=zip(grads, [w1, w2, w3, w4]))\n",
    "        \n",
    "        total_cost += cost\n",
    "\n",
    "\n",
    "    print(f\"epoch : {epoch}  cost:{total_cost/total_batch}\")"
   ]
  },
  {
   "cell_type": "code",
   "execution_count": 0,
   "metadata": {
    "colab": {
     "base_uri": "https://localhost:8080/",
     "height": 140
    },
    "colab_type": "code",
    "id": "cu63zPMwu0RL",
    "outputId": "9b78b7a7-7a55-4cac-a38f-54b94bb161ed"
   },
   "outputs": [
    {
     "data": {
      "text/plain": [
       "array([[0., 0., 0., ..., 0., 0., 0.],\n",
       "       [0., 0., 0., ..., 0., 0., 0.],\n",
       "       [0., 0., 0., ..., 0., 0., 0.],\n",
       "       ...,\n",
       "       [0., 0., 0., ..., 0., 0., 0.],\n",
       "       [0., 0., 0., ..., 0., 0., 0.],\n",
       "       [0., 0., 0., ..., 0., 0., 0.]], dtype=float32)"
      ]
     },
     "execution_count": 25,
     "metadata": {
      "tags": []
     },
     "output_type": "execute_result"
    }
   ],
   "source": [
    "X_test = mnist.test.images\n",
    "X_test"
   ]
  },
  {
   "cell_type": "code",
   "execution_count": 0,
   "metadata": {
    "colab": {
     "base_uri": "https://localhost:8080/",
     "height": 140
    },
    "colab_type": "code",
    "id": "OS2MVVSFu0RP",
    "outputId": "b1637e62-76ab-4882-e9f1-6e8b0b9f1334"
   },
   "outputs": [
    {
     "data": {
      "text/plain": [
       "array([[0., 0., 0., ..., 1., 0., 0.],\n",
       "       [0., 0., 1., ..., 0., 0., 0.],\n",
       "       [0., 1., 0., ..., 0., 0., 0.],\n",
       "       ...,\n",
       "       [0., 0., 0., ..., 0., 0., 0.],\n",
       "       [0., 0., 0., ..., 0., 0., 0.],\n",
       "       [0., 0., 0., ..., 0., 0., 0.]])"
      ]
     },
     "execution_count": 34,
     "metadata": {
      "tags": []
     },
     "output_type": "execute_result"
    }
   ],
   "source": [
    "test_labels = mnist.test.labels\n",
    "test_labels"
   ]
  },
  {
   "cell_type": "code",
   "execution_count": 0,
   "metadata": {
    "colab": {
     "base_uri": "https://localhost:8080/",
     "height": 34
    },
    "colab_type": "code",
    "id": "IUTvaWOeu0RT",
    "outputId": "60f2f0d2-274c-4678-f8dd-76f15c22b60b"
   },
   "outputs": [
    {
     "data": {
      "text/plain": [
       "(10000, 28, 28, 1)"
      ]
     },
     "execution_count": 35,
     "metadata": {
      "tags": []
     },
     "output_type": "execute_result"
    }
   ],
   "source": [
    "X_test = X_test.reshape(-1, 28, 28, 1)\n",
    "X_test.shape"
   ]
  },
  {
   "cell_type": "code",
   "execution_count": 0,
   "metadata": {
    "colab": {},
    "colab_type": "code",
    "id": "dP3KY_34u0RV"
   },
   "outputs": [],
   "source": [
    "conv1 = tf.nn.conv2d(X_test, w1, strides=[1, 1, 1, 1], padding=\"SAME\")\n",
    "conv1 = tf.nn.relu(conv1)\n",
    "conv2 = tf.nn.conv2d(conv1, w2, strides=[1, 1, 1, 1], padding=\"SAME\")\n",
    "conv2 = tf.nn.relu(conv2)\n",
    "maxpool = tf.nn.relu(tf.nn.max_pool(conv2, ksize = [1, 2, 2, 1], strides=[1, 1, 1, 1], padding=\"SAME\"))\n",
    "maxpool = tf.reshape(maxpool, [-1, 28 * 28 * 64])\n",
    "layer4 = tf.nn.relu(tf.matmul(maxpool, w3))\n",
    "test_output = tf.nn.softmax(tf.matmul(layer4, w4))"
   ]
  },
  {
   "cell_type": "code",
   "execution_count": 0,
   "metadata": {
    "colab": {
     "base_uri": "https://localhost:8080/",
     "height": 263
    },
    "colab_type": "code",
    "id": "YGJdVsvru0RY",
    "outputId": "1757039b-0a44-4b9e-bd2a-f7dc830ec324"
   },
   "outputs": [
    {
     "data": {
      "text/plain": [
       "<tf.Tensor: id=242342, shape=(10000, 10), dtype=float32, numpy=\n",
       "array([[3.9582997e-11, 1.6042409e-11, 2.0403593e-10, ..., 1.0000000e+00,\n",
       "        1.4728090e-10, 4.6008186e-10],\n",
       "       [3.0922848e-11, 6.0551530e-10, 1.0000000e+00, ..., 4.5089818e-18,\n",
       "        8.0060910e-14, 2.2530417e-14],\n",
       "       [3.0432346e-08, 9.9999845e-01, 1.8562042e-09, ..., 6.9237666e-07,\n",
       "        1.9946725e-07, 3.6386412e-09],\n",
       "       ...,\n",
       "       [9.0644871e-16, 8.2327255e-13, 2.2267111e-15, ..., 2.7108161e-11,\n",
       "        2.0124061e-08, 2.0881723e-09],\n",
       "       [3.0214241e-11, 1.4260571e-12, 8.6048713e-15, ..., 3.0709940e-12,\n",
       "        2.9565688e-09, 2.4875203e-13],\n",
       "       [3.6199526e-11, 6.4057613e-13, 9.0817718e-13, ..., 2.6782502e-17,\n",
       "        8.9566408e-13, 1.9256405e-14]], dtype=float32)>"
      ]
     },
     "execution_count": 37,
     "metadata": {
      "tags": []
     },
     "output_type": "execute_result"
    }
   ],
   "source": [
    "test_output"
   ]
  },
  {
   "cell_type": "code",
   "execution_count": 0,
   "metadata": {
    "colab": {
     "base_uri": "https://localhost:8080/",
     "height": 34
    },
    "colab_type": "code",
    "id": "nhJfE5uDwUE_",
    "outputId": "7d1f2d70-a6fd-4f3f-b313-68ad9dd4ec1a"
   },
   "outputs": [
    {
     "data": {
      "text/plain": [
       "<tf.Tensor: id=242344, shape=(10000,), dtype=int64, numpy=array([7, 2, 1, ..., 4, 5, 6])>"
      ]
     },
     "execution_count": 38,
     "metadata": {
      "tags": []
     },
     "output_type": "execute_result"
    }
   ],
   "source": [
    "predict = tf.argmax(test_output, 1)\n",
    "predict"
   ]
  },
  {
   "cell_type": "code",
   "execution_count": 0,
   "metadata": {
    "colab": {
     "base_uri": "https://localhost:8080/",
     "height": 34
    },
    "colab_type": "code",
    "id": "oex6b80Yyy4G",
    "outputId": "55c5115f-0dc1-4b72-c5b0-7ba5304085c1"
   },
   "outputs": [
    {
     "data": {
      "text/plain": [
       "<tf.Tensor: id=242347, shape=(10000,), dtype=int64, numpy=array([7, 2, 1, ..., 4, 5, 6])>"
      ]
     },
     "execution_count": 39,
     "metadata": {
      "tags": []
     },
     "output_type": "execute_result"
    }
   ],
   "source": [
    "target = tf.argmax(test_labels, 1)\n",
    "target"
   ]
  },
  {
   "cell_type": "code",
   "execution_count": 0,
   "metadata": {
    "colab": {
     "base_uri": "https://localhost:8080/",
     "height": 34
    },
    "colab_type": "code",
    "id": "l0sl_0M-y12i",
    "outputId": "aaf74b77-a9ca-4597-8b61-1cf61f77c687"
   },
   "outputs": [
    {
     "data": {
      "text/plain": [
       "<tf.Tensor: id=242351, shape=(), dtype=float32, numpy=0.9908>"
      ]
     },
     "execution_count": 40,
     "metadata": {
      "tags": []
     },
     "output_type": "execute_result"
    }
   ],
   "source": [
    "ac1 = tf.reduce_mean(tf.cast(tf.equal(predict, target), dtype=\"float32\"))\n",
    "ac1"
   ]
  },
  {
   "cell_type": "code",
   "execution_count": 0,
   "metadata": {
    "colab": {
     "base_uri": "https://localhost:8080/",
     "height": 1000
    },
    "colab_type": "code",
    "id": "BWmncg3ky4S7",
    "outputId": "6c277dd5-deeb-432c-8c77-a78fa3288584"
   },
   "outputs": [
    {
     "data": {
      "image/png": "[encoded data removed]",
      "text/plain": [
       "<Figure size 2160x1440 with 30 Axes>"
      ]
     },
     "metadata": {
      "tags": []
     },
     "output_type": "display_data"
    }
   ],
   "source": [
    "import matplotlib.pyplot as plt\n",
    "\n",
    "fig = plt.figure(figsize=(30, 20))\n",
    "for i in range(30):\n",
    "  subplot = fig.add_subplot(6, 5, i+1)\n",
    "\n",
    "  subplot.set_xticks([])\n",
    "\n",
    "  subplot.set_yticks([])\n",
    "\n",
    "  subplot.set_title('predict : %d' %predict[i])\n",
    "\n",
    "  subplot.imshow(mnist.test.images[i].reshape((28, 28)),\n",
    "                 cmap=plt.cm.gray_r)\n",
    "  \n",
    "plt.show()"
   ]
  }
 ],
 "metadata": {
  "accelerator": "GPU",
  "colab": {
   "name": "classify_mnist_using_cnn_on_tensorflow.ipynb",
   "provenance": []
  },
  "kernelspec": {
   "display_name": "Python 3",
   "language": "python",
   "name": "python3"
  },
  "language_info": {
   "codemirror_mode": {
    "name": "ipython",
    "version": 3
   },
   "file_extension": ".py",
   "mimetype": "text/x-python",
   "name": "python",
   "nbconvert_exporter": "python",
   "pygments_lexer": "ipython3",
   "version": "3.7.5"
  }
 },
 "nbformat": 4,
 "nbformat_minor": 1
}
