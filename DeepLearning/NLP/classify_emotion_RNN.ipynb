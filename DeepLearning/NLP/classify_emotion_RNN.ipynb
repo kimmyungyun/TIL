{
  "nbformat": 4,
  "nbformat_minor": 0,
  "metadata": {
    "colab": {
      "name": "classify_emotion_RNN.ipynb",
      "provenance": [],
      "private_outputs": true,
      "machine_shape": "hm"
    },
    "kernelspec": {
      "name": "python3",
      "display_name": "Python 3"
    },
    "accelerator": "GPU"
  },
  "cells": [
    {
      "cell_type": "code",
      "metadata": {
        "id": "cNGna7wVWxs9",
        "colab_type": "code",
        "colab": {}
      },
      "source": [
        "from keras.models import Sequential\n",
        "from keras.layers import Dense, SimpleRNN\n",
        "from keras.optimizers import Adam\n",
        "import numpy as np"
      ],
      "execution_count": 0,
      "outputs": []
    },
    {
      "cell_type": "markdown",
      "metadata": {
        "id": "JCMsb5u9Xeff",
        "colab_type": "text"
      },
      "source": [
        "## X_train : 분석하려는 문장\n",
        "## y_train : 문장에 대한 감정"
      ]
    },
    {
      "cell_type": "code",
      "metadata": {
        "id": "qX_wkWfhXHiD",
        "colab_type": "code",
        "colab": {}
      },
      "source": [
        "X_train = [\"Traffic ticket fines\", \"Traffic is fine\"]\n",
        "y_train = [0, 1]"
      ],
      "execution_count": 0,
      "outputs": []
    },
    {
      "cell_type": "markdown",
      "metadata": {
        "id": "9yO8mmlgYKC9",
        "colab_type": "text"
      },
      "source": [
        "## 학습을 위한 문장 전처리"
      ]
    },
    {
      "cell_type": "code",
      "metadata": {
        "id": "yUPGyK56XaJG",
        "colab_type": "code",
        "colab": {}
      },
      "source": [
        "from keras.preprocessing.text import Tokenizer\n",
        "tokenizer = Tokenizer()\n",
        "tokenizer"
      ],
      "execution_count": 0,
      "outputs": []
    },
    {
      "cell_type": "code",
      "metadata": {
        "id": "56nGIKkxYG6y",
        "colab_type": "code",
        "colab": {}
      },
      "source": [
        "tokenizer.fit_on_texts(X_train)"
      ],
      "execution_count": 0,
      "outputs": []
    },
    {
      "cell_type": "code",
      "metadata": {
        "id": "fhBFbu8lY2tj",
        "colab_type": "code",
        "colab": {}
      },
      "source": [
        "X_tokens = tokenizer.texts_to_sequences(X_train)\n",
        "X_tokens"
      ],
      "execution_count": 0,
      "outputs": []
    },
    {
      "cell_type": "markdown",
      "metadata": {
        "id": "f-pn3mGRZQKA",
        "colab_type": "text"
      },
      "source": [
        "## 무슨 단어를 어떤 숫자로 바꿨는지 알려주는 것"
      ]
    },
    {
      "cell_type": "code",
      "metadata": {
        "id": "0poeIIweZET9",
        "colab_type": "code",
        "colab": {}
      },
      "source": [
        "tokenizer.word_index"
      ],
      "execution_count": 0,
      "outputs": []
    },
    {
      "cell_type": "code",
      "metadata": {
        "id": "j6-WiGwHZO9E",
        "colab_type": "code",
        "colab": {}
      },
      "source": [
        "tokenizer.index_word"
      ],
      "execution_count": 0,
      "outputs": []
    },
    {
      "cell_type": "markdown",
      "metadata": {
        "id": "ECzb57RoZrlb",
        "colab_type": "text"
      },
      "source": [
        "## 위의 숫자들을 원핫 인코딩 해줘야한다"
      ]
    },
    {
      "cell_type": "code",
      "metadata": {
        "id": "Ry1JFtsZZ0fk",
        "colab_type": "code",
        "colab": {}
      },
      "source": [
        "from keras.utils import to_categorical\n",
        "X_train_onehot = to_categorical(X_tokens)\n",
        "X_train_onehot.shape"
      ],
      "execution_count": 0,
      "outputs": []
    },
    {
      "cell_type": "code",
      "metadata": {
        "id": "UpR1bGpbaCH6",
        "colab_type": "code",
        "colab": {}
      },
      "source": [
        "model = Sequential()\n",
        "model.add(SimpleRNN(units=3, input_shape = (3, 6)))"
      ],
      "execution_count": 0,
      "outputs": []
    },
    {
      "cell_type": "code",
      "metadata": {
        "id": "4JqnQomPbhF7",
        "colab_type": "code",
        "colab": {}
      },
      "source": [
        "model.add(Dense(1, activation=\"sigmoid\"))"
      ],
      "execution_count": 0,
      "outputs": []
    },
    {
      "cell_type": "code",
      "metadata": {
        "id": "ZpEyeUZVb1-i",
        "colab_type": "code",
        "colab": {}
      },
      "source": [
        "model.summary()"
      ],
      "execution_count": 0,
      "outputs": []
    },
    {
      "cell_type": "code",
      "metadata": {
        "id": "8by0w-NSb3JD",
        "colab_type": "code",
        "colab": {}
      },
      "source": [
        "model.get_layer(\"simple_rnn_1\").get_weights()"
      ],
      "execution_count": 0,
      "outputs": []
    },
    {
      "cell_type": "code",
      "metadata": {
        "id": "pmRfEsVycFD4",
        "colab_type": "code",
        "colab": {}
      },
      "source": [
        "model.compile(loss=\"binary_crossentropy\", optimizer = Adam(lr=0.1), metrics=['acc'])"
      ],
      "execution_count": 0,
      "outputs": []
    },
    {
      "cell_type": "code",
      "metadata": {
        "id": "_VTvUaXSck9O",
        "colab_type": "code",
        "colab": {}
      },
      "source": [
        "model.fit(X_train_onehot, y_train, epochs=10)"
      ],
      "execution_count": 0,
      "outputs": []
    },
    {
      "cell_type": "code",
      "metadata": {
        "id": "VT0AePyUcpL_",
        "colab_type": "code",
        "colab": {}
      },
      "source": [
        "pred = model.predict(X_train_onehot)\n",
        "pred"
      ],
      "execution_count": 0,
      "outputs": []
    },
    {
      "cell_type": "code",
      "metadata": {
        "id": "fwIugTTxc-4U",
        "colab_type": "code",
        "colab": {}
      },
      "source": [
        "pred01 = np.where(pred>0.5, 1, 0)\n",
        "print(f\"predict : {pred01}\")"
      ],
      "execution_count": 0,
      "outputs": []
    },
    {
      "cell_type": "code",
      "metadata": {
        "id": "OkZvLEzvdFcS",
        "colab_type": "code",
        "colab": {}
      },
      "source": [
        ""
      ],
      "execution_count": 0,
      "outputs": []
    }
  ]
}