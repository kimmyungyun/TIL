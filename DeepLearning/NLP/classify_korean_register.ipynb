{
 "cells": [
  {
   "cell_type": "code",
   "execution_count": 0,
   "metadata": {
    "colab": {},
    "colab_type": "code",
    "id": "GNC9ycwP31e3"
   },
   "outputs": [],
   "source": [
    "import numpy as np\n",
    "import pandas as pd"
   ]
  },
  {
   "cell_type": "code",
   "execution_count": 0,
   "metadata": {
    "colab": {},
    "colab_type": "code",
    "id": "gCD7-Tyb393D"
   },
   "outputs": [],
   "source": [
    "from google.colab import drive\n",
    "drive.mount(\"gdrive\")"
   ]
  },
  {
   "cell_type": "code",
   "execution_count": 0,
   "metadata": {
    "colab": {},
    "colab_type": "code",
    "id": "O0Q2Mb0F4o73"
   },
   "outputs": [],
   "source": [
    "df = pd.read_csv(\"./gdrive/My Drive/ai/workspace/data/customer_data.csv\", encoding=\"cp949\")\n",
    "df.loc[pd.isna(df[\"Review\"]), \"Review\"] = \"\"\n",
    "df"
   ]
  },
  {
   "cell_type": "code",
   "execution_count": 0,
   "metadata": {
    "colab": {},
    "colab_type": "code",
    "id": "pOXLKpsP4G_i"
   },
   "outputs": [],
   "source": [
    "from konlpy.tag import Okt"
   ]
  },
  {
   "cell_type": "code",
   "execution_count": 0,
   "metadata": {
    "colab": {},
    "colab_type": "code",
    "id": "d6yLB8f04Nca"
   },
   "outputs": [],
   "source": [
    "twitter = Okt()"
   ]
  },
  {
   "cell_type": "markdown",
   "metadata": {
    "colab_type": "text",
    "id": "q84xgP0v5LHY"
   },
   "source": [
    "## 분리된 품사를 기본형으로 맞춰주는 stem=True를 사용해준다"
   ]
  },
  {
   "cell_type": "code",
   "execution_count": 0,
   "metadata": {
    "colab": {},
    "colab_type": "code",
    "id": "XB2VSFwi4RIR"
   },
   "outputs": [],
   "source": [
    "tagged = twitter.pos(df[\"Review\"][0], stem=True)\n",
    "tagged"
   ]
  },
  {
   "cell_type": "code",
   "execution_count": 0,
   "metadata": {
    "colab": {},
    "colab_type": "code",
    "id": "RNwff8y340x7"
   },
   "outputs": [],
   "source": [
    "for word, pos in tagged:\n",
    "    print(f\"word : {word}, pos : {pos}\")"
   ]
  },
  {
   "cell_type": "code",
   "execution_count": 0,
   "metadata": {
    "colab": {},
    "colab_type": "code",
    "id": "xuBsD8_b50ET"
   },
   "outputs": [],
   "source": [
    "for word, pos in tagged:\n",
    "    if pos == \"Noun\" or pos == \"Adjective\":\n",
    "        print(f\"word : {word}, pos : {pos}\")"
   ]
  },
  {
   "cell_type": "code",
   "execution_count": 0,
   "metadata": {
    "colab": {},
    "colab_type": "code",
    "id": "CAdpcICZ7mS-"
   },
   "outputs": [],
   "source": [
    "def preprocessingText(text):\n",
    "    stems = []\n",
    "    tagged_review = twitter.pos(text, stem=True)\n",
    "\n",
    "    for word, pos in tagged_review:\n",
    "        if len(word) >= 2:\n",
    "            if pos == \"Noun\" or pos == \"Adjective\":\n",
    "                stems.append(word)\n",
    "    if len(stems) != 0:\n",
    "        return \" \".join(stems)\n",
    "    return \"\""
   ]
  },
  {
   "cell_type": "code",
   "execution_count": 0,
   "metadata": {
    "colab": {},
    "colab_type": "code",
    "id": "utridXMSAQZL"
   },
   "outputs": [],
   "source": [
    "preprocessingText(\"아버지 방에 들어가신다 슬프다 배가 아파요\")"
   ]
  },
  {
   "cell_type": "code",
   "execution_count": 0,
   "metadata": {
    "colab": {},
    "colab_type": "code",
    "id": "y9OuOpbdAbee"
   },
   "outputs": [],
   "source": [
    "preprocessingText(df[\"Review\"][0])"
   ]
  },
  {
   "cell_type": "code",
   "execution_count": 0,
   "metadata": {
    "colab": {},
    "colab_type": "code",
    "id": "pCxnyglmF_w2"
   },
   "outputs": [],
   "source": [
    "df[\"Review_clear\"] = df[\"Review\"].apply(preprocessingText)"
   ]
  },
  {
   "cell_type": "code",
   "execution_count": 0,
   "metadata": {
    "colab": {},
    "colab_type": "code",
    "id": "47N3nO1aGPqO"
   },
   "outputs": [],
   "source": [
    "df[\"Review_clear\"]"
   ]
  },
  {
   "cell_type": "code",
   "execution_count": 0,
   "metadata": {
    "colab": {},
    "colab_type": "code",
    "id": "4nkKi8NKHQel"
   },
   "outputs": [],
   "source": [
    "def preprocessing_Score(score):\n",
    "    if score<2:\n",
    "        return 0\n",
    "    elif score == 2:\n",
    "        return 1\n",
    "    else:\n",
    "        return 2"
   ]
  },
  {
   "cell_type": "code",
   "execution_count": 0,
   "metadata": {
    "colab": {},
    "colab_type": "code",
    "id": "5mLjZkshHwZT"
   },
   "outputs": [],
   "source": [
    "df[\"Score2\"] = df[\"Score\"].apply(preprocessing_Score)"
   ]
  },
  {
   "cell_type": "code",
   "execution_count": 0,
   "metadata": {
    "colab": {},
    "colab_type": "code",
    "id": "LiHi7bgFH1hm"
   },
   "outputs": [],
   "source": [
    "df"
   ]
  },
  {
   "cell_type": "code",
   "execution_count": 0,
   "metadata": {
    "colab": {},
    "colab_type": "code",
    "id": "WzPjfMzXMruf"
   },
   "outputs": [],
   "source": [
    "from sklearn.model_selection import train_test_split\n",
    "\n",
    "X_train, X_test,y_train, y_test = train_test_split(\n",
    "    df[\"Review_clear\"],\n",
    "    df[\"Score2\"],\n",
    "    test_size = 0.2,\n",
    "    stratify=df[\"Score2\"],\n",
    "    random_state=156\n",
    ")"
   ]
  },
  {
   "cell_type": "code",
   "execution_count": 0,
   "metadata": {
    "colab": {},
    "colab_type": "code",
    "id": "LehiTOPDOODq"
   },
   "outputs": [],
   "source": [
    "from sklearn.feature_extraction.text import TfidfVectorizer\n",
    "vectorizer = TfidfVectorizer(min_df = 2,\n",
    "                             norm='l2')"
   ]
  },
  {
   "cell_type": "code",
   "execution_count": 0,
   "metadata": {
    "colab": {},
    "colab_type": "code",
    "id": "NIm905EWSesw"
   },
   "outputs": [],
   "source": [
    "X_train_vector = vectorizer.fit_transform(X_train)\n",
    "X_train_vector"
   ]
  },
  {
   "cell_type": "code",
   "execution_count": 0,
   "metadata": {
    "colab": {},
    "colab_type": "code",
    "id": "xuZfxeKzSiqw"
   },
   "outputs": [],
   "source": [
    "X_train_df = pd.DataFrame(X_train_vector.toarray(),\n",
    "                          columns = vectorizer.get_feature_names())\n",
    "X_train_df"
   ]
  },
  {
   "cell_type": "code",
   "execution_count": 0,
   "metadata": {
    "colab": {},
    "colab_type": "code",
    "id": "N0VC2ND3SraB"
   },
   "outputs": [],
   "source": [
    "X_test_vector = vectorizer.transform(X_test)\n",
    "X_test_vector"
   ]
  },
  {
   "cell_type": "code",
   "execution_count": 0,
   "metadata": {
    "colab": {},
    "colab_type": "code",
    "id": "GHW5p2n5SxRA"
   },
   "outputs": [],
   "source": [
    "X_test_df = pd.DataFrame(X_test_vector.toarray(),\n",
    "                          columns = vectorizer.get_feature_names())\n",
    "X_test_df"
   ]
  },
  {
   "cell_type": "code",
   "execution_count": 0,
   "metadata": {
    "colab": {},
    "colab_type": "code",
    "id": "BEGHr5IoTAfy"
   },
   "outputs": [],
   "source": [
    "from imblearn.over_sampling import SMOTE\n",
    "smote = SMOTE()"
   ]
  },
  {
   "cell_type": "code",
   "execution_count": 0,
   "metadata": {
    "colab": {},
    "colab_type": "code",
    "id": "0GGTReh1TJyt"
   },
   "outputs": [],
   "source": [
    "X_train_imbalance, y_train_imbalance = smote.fit_resample(X_train_vector, y_train)\n",
    "X_test_imbalance, y_test_imbalance = smote.fit_resample(X_test_vector, y_test)"
   ]
  },
  {
   "cell_type": "code",
   "execution_count": 0,
   "metadata": {
    "colab": {},
    "colab_type": "code",
    "id": "L4-G0FiFTTBm"
   },
   "outputs": [],
   "source": [
    "from xgboost import XGBClassifier\n",
    "\n",
    "xgb_clf = XGBClassifier(n_estimators = 30, n_jobs=-1)\n",
    "xgb_clf"
   ]
  },
  {
   "cell_type": "code",
   "execution_count": 0,
   "metadata": {
    "colab": {},
    "colab_type": "code",
    "id": "fkr7F_lgTh2x"
   },
   "outputs": [],
   "source": [
    "params = {\"max_depth\":[3, 5, 7],\n",
    "          \"min_child_weight\" : [3, 5, 7],\n",
    "          \"colsample_bytree\":[0.1, 0.5, 1.0],\n",
    "          \"learning_rate\" : [0.001, 0.01, 0.1],\n",
    "          \"num_class\":[3]}"
   ]
  },
  {
   "cell_type": "code",
   "execution_count": 0,
   "metadata": {
    "colab": {},
    "colab_type": "code",
    "id": "l1JalCkTTt-n"
   },
   "outputs": [],
   "source": [
    "from sklearn.model_selection import GridSearchCV\n",
    "\n",
    "gridcv = GridSearchCV(xgb_clf, param_grid=params, n_jobs=-1)\n",
    "gridcv"
   ]
  },
  {
   "cell_type": "code",
   "execution_count": 0,
   "metadata": {
    "colab": {},
    "colab_type": "code",
    "id": "OR-jk1LWUctL"
   },
   "outputs": [],
   "source": [
    "y_test"
   ]
  },
  {
   "cell_type": "code",
   "execution_count": 0,
   "metadata": {
    "colab": {},
    "colab_type": "code",
    "id": "J5hsDlgNVD_J"
   },
   "outputs": [],
   "source": [
    "X_test"
   ]
  },
  {
   "cell_type": "code",
   "execution_count": 0,
   "metadata": {
    "colab": {},
    "colab_type": "code",
    "id": "nVFoQX6nT4TO"
   },
   "outputs": [],
   "source": [
    "gridcv.fit(X_train_imbalance,\n",
    "           y_train_imbalance,\n",
    "           eval_set = [(X_test_imbalance, y_test_imbalance)])"
   ]
  },
  {
   "cell_type": "code",
   "execution_count": 0,
   "metadata": {
    "colab": {},
    "colab_type": "code",
    "id": "NizER31vUSu9"
   },
   "outputs": [],
   "source": [
    "from sklearn.metrics import confusion_matrix\n",
    "pred = gridcv.predict(X_test_imbalance)\n",
    "print(confusion_matrix(y_test_imbalance, pred, labels=[0, 1, 2]))"
   ]
  },
  {
   "cell_type": "code",
   "execution_count": 0,
   "metadata": {
    "colab": {},
    "colab_type": "code",
    "id": "GyRBrErLgLHA"
   },
   "outputs": [],
   "source": [
    "x_test_vector = vectorizer.transform(X_test.values)\n",
    "pred = gridcv.predict(x_test_vector)\n",
    "print(confusion_matrix(y_test.values, pred, labels=[0, 1, 2]))"
   ]
  },
  {
   "cell_type": "code",
   "execution_count": 0,
   "metadata": {
    "colab": {},
    "colab_type": "code",
    "id": "I-04YwR4gOlK"
   },
   "outputs": [],
   "source": []
  },
  {
   "cell_type": "code",
   "execution_count": 0,
   "metadata": {
    "colab": {},
    "colab_type": "code",
    "id": "InpZrdqzqytP"
   },
   "outputs": [],
   "source": []
  }
 ],
 "metadata": {
  "accelerator": "GPU",
  "colab": {
   "collapsed_sections": [],
   "machine_shape": "hm",
   "name": "Untitled",
   "private_outputs": true,
   "provenance": []
  },
  "kernelspec": {
   "display_name": "Python 3",
   "language": "python",
   "name": "python3"
  },
  "language_info": {
   "codemirror_mode": {
    "name": "ipython",
    "version": 3
   },
   "file_extension": ".py",
   "mimetype": "text/x-python",
   "name": "python",
   "nbconvert_exporter": "python",
   "pygments_lexer": "ipython3",
   "version": "3.7.5"
  }
 },
 "nbformat": 4,
 "nbformat_minor": 1
}
