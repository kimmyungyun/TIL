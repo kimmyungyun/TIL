{
  "nbformat": 4,
  "nbformat_minor": 0,
  "metadata": {
    "colab": {
      "name": "convert_word2vector_reuternews.ipynb",
      "provenance": [],
      "private_outputs": true,
      "machine_shape": "hm"
    },
    "kernelspec": {
      "name": "python3",
      "display_name": "Python 3"
    },
    "accelerator": "GPU"
  },
  "cells": [
    {
      "cell_type": "code",
      "metadata": {
        "id": "MWGmpUJpy94E",
        "colab_type": "code",
        "colab": {}
      },
      "source": [
        "import numpy as np\n",
        "from keras.datasets import reuters"
      ],
      "execution_count": 0,
      "outputs": []
    },
    {
      "cell_type": "code",
      "metadata": {
        "id": "vkIoHHkp-Rwo",
        "colab_type": "code",
        "colab": {}
      },
      "source": [
        "(X_train, y_train), (X_test, y_test) = reuters.load_data(num_words=1000, test_split=0.2)"
      ],
      "execution_count": 0,
      "outputs": []
    },
    {
      "cell_type": "markdown",
      "metadata": {
        "id": "7fjP-1nt_F6L",
        "colab_type": "text"
      },
      "source": [
        "## 어떤 단어를 어떤 숫자로 변환되었는지 확인"
      ]
    },
    {
      "cell_type": "code",
      "metadata": {
        "id": "SolMBF4x_MoY",
        "colab_type": "code",
        "colab": {}
      },
      "source": [
        "reuters.get_word_index()"
      ],
      "execution_count": 0,
      "outputs": []
    },
    {
      "cell_type": "markdown",
      "metadata": {
        "id": "UzhWgxVWAZjr",
        "colab_type": "text"
      },
      "source": [
        "## 키값 첫번째로 정렬하는 방법"
      ]
    },
    {
      "cell_type": "code",
      "metadata": {
        "id": "4nsvYqu2_RE1",
        "colab_type": "code",
        "colab": {}
      },
      "source": [
        "import operator\n",
        "sorted(reuters.get_word_index().items(), key=operator.itemgetter(1))"
      ],
      "execution_count": 0,
      "outputs": []
    },
    {
      "cell_type": "code",
      "metadata": {
        "id": "izzrIPEEAExL",
        "colab_type": "code",
        "colab": {}
      },
      "source": [
        "word_list = [\"\"]*1001\n",
        "for word, index in sorted(sorted(reuters.get_word_index().items(), key=operator.itemgetter(1))[0:1000]):\n",
        "    word_list[index] = word\n",
        "\n",
        "word_list"
      ],
      "execution_count": 0,
      "outputs": []
    },
    {
      "cell_type": "code",
      "metadata": {
        "id": "Ipux5rfHCoSV",
        "colab_type": "code",
        "colab": {}
      },
      "source": [
        "X_train_word = []\n",
        "for tmp_X_train in X_train:\n",
        "    input = []\n",
        "    for word in tmp_X_train:\n",
        "        input.append(word_list[word])\n",
        "    X_train_word.append(input)\n",
        "X_train_word"
      ],
      "execution_count": 0,
      "outputs": []
    },
    {
      "cell_type": "markdown",
      "metadata": {
        "id": "qMPxz1tEdoYn",
        "colab_type": "text"
      },
      "source": [
        "## 단어 리스트에 대하여 word2vector 변환"
      ]
    },
    {
      "cell_type": "code",
      "metadata": {
        "id": "Z5JGZBwVDqr5",
        "colab_type": "code",
        "colab": {}
      },
      "source": [
        "from gensim.models.word2vec import Word2Vec"
      ],
      "execution_count": 0,
      "outputs": []
    },
    {
      "cell_type": "code",
      "metadata": {
        "id": "AC7nWMVDbzBY",
        "colab_type": "code",
        "colab": {}
      },
      "source": [
        "word2vector = Word2Vec(X_train_word)\n",
        "word2vector.init_sims(replace=True)"
      ],
      "execution_count": 0,
      "outputs": []
    },
    {
      "cell_type": "code",
      "metadata": {
        "id": "dFOGdaWjb5Pv",
        "colab_type": "code",
        "colab": {}
      },
      "source": [
        "word2vector.wv.most_similar(\"home\")"
      ],
      "execution_count": 0,
      "outputs": []
    },
    {
      "cell_type": "markdown",
      "metadata": {
        "id": "hqkn3fRRdV6N",
        "colab_type": "text"
      },
      "source": [
        "## 단어 리스트가 아닌 문장 배열로 넣어도 되는가"
      ]
    },
    {
      "cell_type": "code",
      "metadata": {
        "id": "dIhXca6VcGPm",
        "colab_type": "code",
        "colab": {}
      },
      "source": [
        "practice = [ \" \".join(K) for K in X_train_word]"
      ],
      "execution_count": 0,
      "outputs": []
    },
    {
      "cell_type": "code",
      "metadata": {
        "id": "sHqvteeLcAPt",
        "colab_type": "code",
        "colab": {}
      },
      "source": [
        "word2vector = Word2Vec(practice)\n",
        "word2vector.init_sims(replace=True)"
      ],
      "execution_count": 0,
      "outputs": []
    },
    {
      "cell_type": "code",
      "metadata": {
        "id": "JbR-X0rldi_q",
        "colab_type": "code",
        "colab": {}
      },
      "source": [
        "word2vector.wv.most_similar(\"home\")"
      ],
      "execution_count": 0,
      "outputs": []
    },
    {
      "cell_type": "code",
      "metadata": {
        "id": "7mvmXvRhcWf5",
        "colab_type": "code",
        "colab": {}
      },
      "source": [
        "word2vector.wv.vocab"
      ],
      "execution_count": 0,
      "outputs": []
    },
    {
      "cell_type": "code",
      "metadata": {
        "id": "o8TpLy5ucZ51",
        "colab_type": "code",
        "colab": {}
      },
      "source": [
        ""
      ],
      "execution_count": 0,
      "outputs": []
    }
  ]
}