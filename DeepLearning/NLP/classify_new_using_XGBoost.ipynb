{
 "cells": [
  {
   "cell_type": "markdown",
   "metadata": {},
   "source": [
    "## 데이터 읽기"
   ]
  },
  {
   "cell_type": "code",
   "execution_count": 1,
   "metadata": {},
   "outputs": [
    {
     "data": {
      "text/html": [
       "<div>\n",
       "<style scoped>\n",
       "    .dataframe tbody tr th:only-of-type {\n",
       "        vertical-align: middle;\n",
       "    }\n",
       "\n",
       "    .dataframe tbody tr th {\n",
       "        vertical-align: top;\n",
       "    }\n",
       "\n",
       "    .dataframe thead th {\n",
       "        text-align: right;\n",
       "    }\n",
       "</style>\n",
       "<table border=\"1\" class=\"dataframe\">\n",
       "  <thead>\n",
       "    <tr style=\"text-align: right;\">\n",
       "      <th></th>\n",
       "      <th>Unnamed: 0</th>\n",
       "      <th>name</th>\n",
       "      <th>description</th>\n",
       "      <th>category</th>\n",
       "    </tr>\n",
       "  </thead>\n",
       "  <tbody>\n",
       "    <tr>\n",
       "      <th>0</th>\n",
       "      <td>0</td>\n",
       "      <td>Coronavirus: Largest study suggests elderly an...</td>\n",
       "      <td>Health officials in China have published the f...</td>\n",
       "      <td>World</td>\n",
       "    </tr>\n",
       "    <tr>\n",
       "      <th>1</th>\n",
       "      <td>1</td>\n",
       "      <td>Coronavirus: Largest study suggests elderly an...</td>\n",
       "      <td>Health officials in China have published the f...</td>\n",
       "      <td>World</td>\n",
       "    </tr>\n",
       "    <tr>\n",
       "      <th>2</th>\n",
       "      <td>2</td>\n",
       "      <td>'From bad to worse': Dashed hopes may deter ma...</td>\n",
       "      <td>DUBAI (Reuters) - Confrontation with America, ...</td>\n",
       "      <td>World</td>\n",
       "    </tr>\n",
       "    <tr>\n",
       "      <th>3</th>\n",
       "      <td>3</td>\n",
       "      <td>Caroline Flack’s best friend shares heartbreak...</td>\n",
       "      <td>CAROLINE Flack's close friend who was with her...</td>\n",
       "      <td>World</td>\n",
       "    </tr>\n",
       "    <tr>\n",
       "      <th>4</th>\n",
       "      <td>4</td>\n",
       "      <td>Healthcare reform gives Sanders a headache in ...</td>\n",
       "      <td>Bernie Sanders heads in to Saturday’s Nevada c...</td>\n",
       "      <td>World</td>\n",
       "    </tr>\n",
       "    <tr>\n",
       "      <th>...</th>\n",
       "      <td>...</td>\n",
       "      <td>...</td>\n",
       "      <td>...</td>\n",
       "      <td>...</td>\n",
       "    </tr>\n",
       "    <tr>\n",
       "      <th>704</th>\n",
       "      <td>704</td>\n",
       "      <td>Over 674,000 people sign two separate petition...</td>\n",
       "      <td>Hundreds of thousands of people have signed th...</td>\n",
       "      <td>UK</td>\n",
       "    </tr>\n",
       "    <tr>\n",
       "      <th>705</th>\n",
       "      <td>705</td>\n",
       "      <td>Love Island star Caroline Flack said she would...</td>\n",
       "      <td>The former Love Island presenter was found dea...</td>\n",
       "      <td>UK</td>\n",
       "    </tr>\n",
       "    <tr>\n",
       "      <th>706</th>\n",
       "      <td>706</td>\n",
       "      <td>Police investigate after girl heard screaming ...</td>\n",
       "      <td>Police are looking to identify a girl who was ...</td>\n",
       "      <td>UK</td>\n",
       "    </tr>\n",
       "    <tr>\n",
       "      <th>707</th>\n",
       "      <td>707</td>\n",
       "      <td>Mum and son forced to flee home as they 'lose ...</td>\n",
       "      <td>A mother and her son have been forced to move ...</td>\n",
       "      <td>UK</td>\n",
       "    </tr>\n",
       "    <tr>\n",
       "      <th>708</th>\n",
       "      <td>708</td>\n",
       "      <td>Knife crime hits record high after 7% increase...</td>\n",
       "      <td>Knife crime in England and Wales hit a record ...</td>\n",
       "      <td>UK</td>\n",
       "    </tr>\n",
       "  </tbody>\n",
       "</table>\n",
       "<p>709 rows × 4 columns</p>\n",
       "</div>"
      ],
      "text/plain": [
       "     Unnamed: 0                                               name  \\\n",
       "0             0  Coronavirus: Largest study suggests elderly an...   \n",
       "1             1  Coronavirus: Largest study suggests elderly an...   \n",
       "2             2  'From bad to worse': Dashed hopes may deter ma...   \n",
       "3             3  Caroline Flack’s best friend shares heartbreak...   \n",
       "4             4  Healthcare reform gives Sanders a headache in ...   \n",
       "..          ...                                                ...   \n",
       "704         704  Over 674,000 people sign two separate petition...   \n",
       "705         705  Love Island star Caroline Flack said she would...   \n",
       "706         706  Police investigate after girl heard screaming ...   \n",
       "707         707  Mum and son forced to flee home as they 'lose ...   \n",
       "708         708  Knife crime hits record high after 7% increase...   \n",
       "\n",
       "                                           description category  \n",
       "0    Health officials in China have published the f...    World  \n",
       "1    Health officials in China have published the f...    World  \n",
       "2    DUBAI (Reuters) - Confrontation with America, ...    World  \n",
       "3    CAROLINE Flack's close friend who was with her...    World  \n",
       "4    Bernie Sanders heads in to Saturday’s Nevada c...    World  \n",
       "..                                                 ...      ...  \n",
       "704  Hundreds of thousands of people have signed th...       UK  \n",
       "705  The former Love Island presenter was found dea...       UK  \n",
       "706  Police are looking to identify a girl who was ...       UK  \n",
       "707  A mother and her son have been forced to move ...       UK  \n",
       "708  Knife crime in England and Wales hit a record ...       UK  \n",
       "\n",
       "[709 rows x 4 columns]"
      ]
     },
     "execution_count": 1,
     "metadata": {},
     "output_type": "execute_result"
    }
   ],
   "source": [
    "import pandas as pd\n",
    "df = pd.read_csv(\"bing_news_shuffle.csv\", encoding=\"UTF-8\")\n",
    "df"
   ]
  },
  {
   "cell_type": "markdown",
   "metadata": {},
   "source": [
    "## 불용어 설정 및 품사 타입 변환"
   ]
  },
  {
   "cell_type": "code",
   "execution_count": 2,
   "metadata": {},
   "outputs": [],
   "source": [
    "import nltk"
   ]
  },
  {
   "cell_type": "code",
   "execution_count": 3,
   "metadata": {},
   "outputs": [],
   "source": [
    "from nltk.stem import WordNetLemmatizer\n",
    "from nltk.corpus import stopwords\n",
    "lem = WordNetLemmatizer()\n",
    "stop_words = stopwords.words('english')\n",
    "lemm_dic = {\"NN\":\"n\", \"JJ\":\"a\", \"VB\":\"v\", \"RB\":\"r\"}"
   ]
  },
  {
   "cell_type": "markdown",
   "metadata": {},
   "source": [
    "## 텍스트 전처리 함수 정의"
   ]
  },
  {
   "cell_type": "code",
   "execution_count": 4,
   "metadata": {},
   "outputs": [],
   "source": [
    "def clearText(description):\n",
    "    tokens = nltk.word_tokenize(description)\n",
    "    \n",
    "    tokens = [token.lower() for token in tokens if len(token) > 2]\n",
    "    \n",
    "    tokens_clean = [token for token in tokens if not token in stop_words]\n",
    "    \n",
    "    tokens_tagged = nltk.pos_tag(tokens_clean)\n",
    "    \n",
    "    tokens_tagged = [(word, pos[:2]) for word, pos in tokens_tagged if pos[:2] in ['NN', 'JJ', 'VB', 'RB']]\n",
    "    \n",
    "    tokens_tagged = [lem.lemmatize(word, lemm_dic[pos])\n",
    "                    for word, pos in tokens_tagged]\n",
    "    \n",
    "    return \" \".join(tokens_tagged)"
   ]
  },
  {
   "cell_type": "markdown",
   "metadata": {},
   "source": [
    "## 텍스트 전처리 적용"
   ]
  },
  {
   "cell_type": "code",
   "execution_count": 5,
   "metadata": {},
   "outputs": [
    {
     "data": {
      "text/html": [
       "<div>\n",
       "<style scoped>\n",
       "    .dataframe tbody tr th:only-of-type {\n",
       "        vertical-align: middle;\n",
       "    }\n",
       "\n",
       "    .dataframe tbody tr th {\n",
       "        vertical-align: top;\n",
       "    }\n",
       "\n",
       "    .dataframe thead th {\n",
       "        text-align: right;\n",
       "    }\n",
       "</style>\n",
       "<table border=\"1\" class=\"dataframe\">\n",
       "  <thead>\n",
       "    <tr style=\"text-align: right;\">\n",
       "      <th></th>\n",
       "      <th>Unnamed: 0</th>\n",
       "      <th>name</th>\n",
       "      <th>description</th>\n",
       "      <th>category</th>\n",
       "      <th>description_clear</th>\n",
       "    </tr>\n",
       "  </thead>\n",
       "  <tbody>\n",
       "    <tr>\n",
       "      <th>0</th>\n",
       "      <td>0</td>\n",
       "      <td>Coronavirus: Largest study suggests elderly an...</td>\n",
       "      <td>Health officials in China have published the f...</td>\n",
       "      <td>World</td>\n",
       "      <td>health official china publish first detail cas...</td>\n",
       "    </tr>\n",
       "    <tr>\n",
       "      <th>1</th>\n",
       "      <td>1</td>\n",
       "      <td>Coronavirus: Largest study suggests elderly an...</td>\n",
       "      <td>Health officials in China have published the f...</td>\n",
       "      <td>World</td>\n",
       "      <td>health official china publish first detail cas...</td>\n",
       "    </tr>\n",
       "    <tr>\n",
       "      <th>2</th>\n",
       "      <td>2</td>\n",
       "      <td>'From bad to worse': Dashed hopes may deter ma...</td>\n",
       "      <td>DUBAI (Reuters) - Confrontation with America, ...</td>\n",
       "      <td>World</td>\n",
       "      <td>dubai reuters confrontation economic hardship ...</td>\n",
       "    </tr>\n",
       "    <tr>\n",
       "      <th>3</th>\n",
       "      <td>3</td>\n",
       "      <td>Caroline Flack’s best friend shares heartbreak...</td>\n",
       "      <td>CAROLINE Flack's close friend who was with her...</td>\n",
       "      <td>World</td>\n",
       "      <td>caroline flack close friend hour kill share he...</td>\n",
       "    </tr>\n",
       "    <tr>\n",
       "      <th>4</th>\n",
       "      <td>4</td>\n",
       "      <td>Healthcare reform gives Sanders a headache in ...</td>\n",
       "      <td>Bernie Sanders heads in to Saturday’s Nevada c...</td>\n",
       "      <td>World</td>\n",
       "      <td>bernie sander head saturday nevada caucus fron...</td>\n",
       "    </tr>\n",
       "    <tr>\n",
       "      <th>...</th>\n",
       "      <td>...</td>\n",
       "      <td>...</td>\n",
       "      <td>...</td>\n",
       "      <td>...</td>\n",
       "      <td>...</td>\n",
       "    </tr>\n",
       "    <tr>\n",
       "      <th>704</th>\n",
       "      <td>704</td>\n",
       "      <td>Over 674,000 people sign two separate petition...</td>\n",
       "      <td>Hundreds of thousands of people have signed th...</td>\n",
       "      <td>UK</td>\n",
       "      <td>hundred thousand people sign petition picture ...</td>\n",
       "    </tr>\n",
       "    <tr>\n",
       "      <th>705</th>\n",
       "      <td>705</td>\n",
       "      <td>Love Island star Caroline Flack said she would...</td>\n",
       "      <td>The former Love Island presenter was found dea...</td>\n",
       "      <td>UK</td>\n",
       "      <td>former love island presenter find dead home sa...</td>\n",
       "    </tr>\n",
       "    <tr>\n",
       "      <th>706</th>\n",
       "      <td>706</td>\n",
       "      <td>Police investigate after girl heard screaming ...</td>\n",
       "      <td>Police are looking to identify a girl who was ...</td>\n",
       "      <td>UK</td>\n",
       "      <td>police look identify heard scream street barnh...</td>\n",
       "    </tr>\n",
       "    <tr>\n",
       "      <th>707</th>\n",
       "      <td>707</td>\n",
       "      <td>Mum and son forced to flee home as they 'lose ...</td>\n",
       "      <td>A mother and her son have been forced to move ...</td>\n",
       "      <td>UK</td>\n",
       "      <td>mother son force move hotel raw sewage flood w...</td>\n",
       "    </tr>\n",
       "    <tr>\n",
       "      <th>708</th>\n",
       "      <td>708</td>\n",
       "      <td>Knife crime hits record high after 7% increase...</td>\n",
       "      <td>Knife crime in England and Wales hit a record ...</td>\n",
       "      <td>UK</td>\n",
       "      <td>knife crime england wale hit record high year ...</td>\n",
       "    </tr>\n",
       "  </tbody>\n",
       "</table>\n",
       "<p>709 rows × 5 columns</p>\n",
       "</div>"
      ],
      "text/plain": [
       "     Unnamed: 0                                               name  \\\n",
       "0             0  Coronavirus: Largest study suggests elderly an...   \n",
       "1             1  Coronavirus: Largest study suggests elderly an...   \n",
       "2             2  'From bad to worse': Dashed hopes may deter ma...   \n",
       "3             3  Caroline Flack’s best friend shares heartbreak...   \n",
       "4             4  Healthcare reform gives Sanders a headache in ...   \n",
       "..          ...                                                ...   \n",
       "704         704  Over 674,000 people sign two separate petition...   \n",
       "705         705  Love Island star Caroline Flack said she would...   \n",
       "706         706  Police investigate after girl heard screaming ...   \n",
       "707         707  Mum and son forced to flee home as they 'lose ...   \n",
       "708         708  Knife crime hits record high after 7% increase...   \n",
       "\n",
       "                                           description category  \\\n",
       "0    Health officials in China have published the f...    World   \n",
       "1    Health officials in China have published the f...    World   \n",
       "2    DUBAI (Reuters) - Confrontation with America, ...    World   \n",
       "3    CAROLINE Flack's close friend who was with her...    World   \n",
       "4    Bernie Sanders heads in to Saturday’s Nevada c...    World   \n",
       "..                                                 ...      ...   \n",
       "704  Hundreds of thousands of people have signed th...       UK   \n",
       "705  The former Love Island presenter was found dea...       UK   \n",
       "706  Police are looking to identify a girl who was ...       UK   \n",
       "707  A mother and her son have been forced to move ...       UK   \n",
       "708  Knife crime in England and Wales hit a record ...       UK   \n",
       "\n",
       "                                     description_clear  \n",
       "0    health official china publish first detail cas...  \n",
       "1    health official china publish first detail cas...  \n",
       "2    dubai reuters confrontation economic hardship ...  \n",
       "3    caroline flack close friend hour kill share he...  \n",
       "4    bernie sander head saturday nevada caucus fron...  \n",
       "..                                                 ...  \n",
       "704  hundred thousand people sign petition picture ...  \n",
       "705  former love island presenter find dead home sa...  \n",
       "706  police look identify heard scream street barnh...  \n",
       "707  mother son force move hotel raw sewage flood w...  \n",
       "708  knife crime england wale hit record high year ...  \n",
       "\n",
       "[709 rows x 5 columns]"
      ]
     },
     "execution_count": 5,
     "metadata": {},
     "output_type": "execute_result"
    }
   ],
   "source": [
    "df[\"description_clear\"] = df[\"description\"].apply(clearText)\n",
    "df"
   ]
  },
  {
   "cell_type": "markdown",
   "metadata": {},
   "source": [
    "## 데이터 분할"
   ]
  },
  {
   "cell_type": "code",
   "execution_count": 6,
   "metadata": {},
   "outputs": [],
   "source": [
    "from sklearn.model_selection import train_test_split\n",
    "\n",
    "X_train, X_test, y_train, y_test = train_test_split(\n",
    "        df[\"description_clear\"],\n",
    "        df[\"category\"],\n",
    "        test_size = 0.2\n",
    "        )"
   ]
  },
  {
   "cell_type": "code",
   "execution_count": 7,
   "metadata": {},
   "outputs": [],
   "source": [
    "from sklearn.feature_extraction.text import TfidfVectorizer\n",
    "import numpy as np"
   ]
  },
  {
   "cell_type": "code",
   "execution_count": 8,
   "metadata": {},
   "outputs": [],
   "source": [
    "vectorizer = TfidfVectorizer(min_df = 2,\n",
    "                            ngram_range=(1, 2),\n",
    "                            strip_accents=\"unicode\",\n",
    "                            norm='l2')"
   ]
  },
  {
   "cell_type": "code",
   "execution_count": 9,
   "metadata": {},
   "outputs": [],
   "source": [
    "X_train_vector = vectorizer.fit_transform(X_train)"
   ]
  },
  {
   "cell_type": "code",
   "execution_count": 10,
   "metadata": {},
   "outputs": [],
   "source": [
    "X_test_vector = vectorizer.transform(X_test)"
   ]
  },
  {
   "cell_type": "code",
   "execution_count": 11,
   "metadata": {},
   "outputs": [
    {
     "data": {
      "text/plain": [
       "XGBClassifier(base_score=0.5, booster='gbtree', colsample_bylevel=1,\n",
       "              colsample_bynode=1, colsample_bytree=1, gamma=0,\n",
       "              learning_rate=0.1, max_delta_step=0, max_depth=3,\n",
       "              min_child_weight=1, missing=None, n_estimators=30, n_jobs=1,\n",
       "              nthread=-1, objective='binary:logistic', random_state=0,\n",
       "              reg_alpha=0, reg_lambda=1, scale_pos_weight=1, seed=None,\n",
       "              silent=None, subsample=1, verbosity=1)"
      ]
     },
     "execution_count": 11,
     "metadata": {},
     "output_type": "execute_result"
    }
   ],
   "source": [
    "from xgboost import XGBClassifier\n",
    "xgb_clf = XGBClassifier(n_estimators=30,\n",
    "                       nthread= -1)\n",
    "xgb_clf"
   ]
  },
  {
   "cell_type": "markdown",
   "metadata": {},
   "source": [
    "## 파람 설정"
   ]
  },
  {
   "cell_type": "code",
   "execution_count": 12,
   "metadata": {},
   "outputs": [],
   "source": [
    "params = {'max_dpeth' : [3, 5, 7],\n",
    "         'min_child_weight' : [3, 5, 7],\n",
    "         'colsample_bytree' : [0.1, 0.5, 1.0],\n",
    "         'learning_rate':[0.001, 0.01, 0.1],\n",
    "         'num_class':[8]}"
   ]
  },
  {
   "cell_type": "code",
   "execution_count": 13,
   "metadata": {},
   "outputs": [
    {
     "data": {
      "text/plain": [
       "GridSearchCV(cv='warn', error_score='raise-deprecating',\n",
       "             estimator=XGBClassifier(base_score=0.5, booster='gbtree',\n",
       "                                     colsample_bylevel=1, colsample_bynode=1,\n",
       "                                     colsample_bytree=1, gamma=0,\n",
       "                                     learning_rate=0.1, max_delta_step=0,\n",
       "                                     max_depth=3, min_child_weight=1,\n",
       "                                     missing=None, n_estimators=30, n_jobs=1,\n",
       "                                     nthread=-1, objective='binary:logistic',\n",
       "                                     random_state=0, reg_alpha=0, reg_lambda=1,\n",
       "                                     scale_pos_weight=1, seed=None, silent=None,\n",
       "                                     subsample=1, verbosity=1),\n",
       "             iid='warn', n_jobs=10,\n",
       "             param_grid={'colsample_bytree': [0.1, 0.5, 1.0],\n",
       "                         'learning_rate': [0.001, 0.01, 0.1],\n",
       "                         'max_dpeth': [3, 5, 7], 'min_child_weight': [3, 5, 7],\n",
       "                         'num_class': [8]},\n",
       "             pre_dispatch='2*n_jobs', refit=True, return_train_score=False,\n",
       "             scoring=None, verbose=0)"
      ]
     },
     "execution_count": 13,
     "metadata": {},
     "output_type": "execute_result"
    }
   ],
   "source": [
    "from sklearn.model_selection import GridSearchCV\n",
    "\n",
    "gridcv = GridSearchCV(xgb_clf, param_grid=params, n_jobs=10)\n",
    "gridcv"
   ]
  },
  {
   "cell_type": "markdown",
   "metadata": {},
   "source": [
    "## XGBoost 적용"
   ]
  },
  {
   "cell_type": "code",
   "execution_count": 14,
   "metadata": {},
   "outputs": [
    {
     "name": "stderr",
     "output_type": "stream",
     "text": [
      "c:\\library\\python\\lib\\site-packages\\sklearn\\model_selection\\_split.py:1978: FutureWarning: The default value of cv will change from 3 to 5 in version 0.22. Specify it explicitly to silence this warning.\n",
      "  warnings.warn(CV_WARNING, FutureWarning)\n"
     ]
    },
    {
     "name": "stdout",
     "output_type": "stream",
     "text": [
      "[0]\tvalidation_0-merror:0.676056\n",
      "[1]\tvalidation_0-merror:0.65493\n"
     ]
    },
    {
     "name": "stderr",
     "output_type": "stream",
     "text": [
      "c:\\library\\python\\lib\\site-packages\\sklearn\\model_selection\\_search.py:814: DeprecationWarning: The default of the `iid` parameter will change from True to False in version 0.22 and will be removed in 0.24. This will change numeric results when test-set sizes are unequal.\n",
      "  DeprecationWarning)\n"
     ]
    },
    {
     "name": "stdout",
     "output_type": "stream",
     "text": [
      "[2]\tvalidation_0-merror:0.640845\n",
      "[3]\tvalidation_0-merror:0.640845\n",
      "[4]\tvalidation_0-merror:0.626761\n",
      "[5]\tvalidation_0-merror:0.626761\n",
      "[6]\tvalidation_0-merror:0.626761\n",
      "[7]\tvalidation_0-merror:0.640845\n",
      "[8]\tvalidation_0-merror:0.65493\n",
      "[9]\tvalidation_0-merror:0.598592\n",
      "[10]\tvalidation_0-merror:0.612676\n",
      "[11]\tvalidation_0-merror:0.619718\n",
      "[12]\tvalidation_0-merror:0.598592\n",
      "[13]\tvalidation_0-merror:0.584507\n",
      "[14]\tvalidation_0-merror:0.591549\n",
      "[15]\tvalidation_0-merror:0.591549\n",
      "[16]\tvalidation_0-merror:0.584507\n",
      "[17]\tvalidation_0-merror:0.584507\n",
      "[18]\tvalidation_0-merror:0.591549\n",
      "[19]\tvalidation_0-merror:0.584507\n",
      "[20]\tvalidation_0-merror:0.591549\n",
      "[21]\tvalidation_0-merror:0.584507\n",
      "[22]\tvalidation_0-merror:0.570423\n",
      "[23]\tvalidation_0-merror:0.570423\n",
      "[24]\tvalidation_0-merror:0.570423\n",
      "[25]\tvalidation_0-merror:0.570423\n",
      "[26]\tvalidation_0-merror:0.577465\n",
      "[27]\tvalidation_0-merror:0.584507\n",
      "[28]\tvalidation_0-merror:0.584507\n",
      "[29]\tvalidation_0-merror:0.577465\n"
     ]
    },
    {
     "data": {
      "text/plain": [
       "GridSearchCV(cv='warn', error_score='raise-deprecating',\n",
       "             estimator=XGBClassifier(base_score=0.5, booster='gbtree',\n",
       "                                     colsample_bylevel=1, colsample_bynode=1,\n",
       "                                     colsample_bytree=1, gamma=0,\n",
       "                                     learning_rate=0.1, max_delta_step=0,\n",
       "                                     max_depth=3, min_child_weight=1,\n",
       "                                     missing=None, n_estimators=30, n_jobs=1,\n",
       "                                     nthread=-1, objective='binary:logistic',\n",
       "                                     random_state=0, reg_alpha=0, reg_lambda=1,\n",
       "                                     scale_pos_weight=1, seed=None, silent=None,\n",
       "                                     subsample=1, verbosity=1),\n",
       "             iid='warn', n_jobs=10,\n",
       "             param_grid={'colsample_bytree': [0.1, 0.5, 1.0],\n",
       "                         'learning_rate': [0.001, 0.01, 0.1],\n",
       "                         'max_dpeth': [3, 5, 7], 'min_child_weight': [3, 5, 7],\n",
       "                         'num_class': [8]},\n",
       "             pre_dispatch='2*n_jobs', refit=True, return_train_score=False,\n",
       "             scoring=None, verbose=0)"
      ]
     },
     "execution_count": 14,
     "metadata": {},
     "output_type": "execute_result"
    }
   ],
   "source": [
    "import time\n",
    "start_time = time.time()\n",
    "gridcv.fit(X_train_vector,\n",
    "          y_train,\n",
    "          eval_set = [(X_test_vector, y_test)])\n"
   ]
  },
  {
   "cell_type": "code",
   "execution_count": 15,
   "metadata": {},
   "outputs": [
    {
     "name": "stdout",
     "output_type": "stream",
     "text": [
      "실행 시간 : 157.67434930801392s\n"
     ]
    }
   ],
   "source": [
    "print(f\"실행 시간 : {time.time() - start_time}s\")"
   ]
  },
  {
   "cell_type": "code",
   "execution_count": 16,
   "metadata": {
    "scrolled": true
   },
   "outputs": [
    {
     "data": {
      "text/plain": [
       "array(['Health', 'ScienceAndTechnology', 'Politics',\n",
       "       'ScienceAndTechnology', 'ScienceAndTechnology', 'UK',\n",
       "       'Entertainment', 'Sports', 'Health', 'Entertainment',\n",
       "       'ScienceAndTechnology', 'ScienceAndTechnology', 'Health',\n",
       "       'Business', 'Sports', 'Health', 'Politics', 'Politics',\n",
       "       'ScienceAndTechnology', 'ScienceAndTechnology', 'Politics',\n",
       "       'ScienceAndTechnology', 'ScienceAndTechnology', 'Sports',\n",
       "       'Politics', 'Sports', 'ScienceAndTechnology',\n",
       "       'ScienceAndTechnology', 'Politics', 'Sports', 'Sports',\n",
       "       'ScienceAndTechnology', 'Health', 'Entertainment', 'Business',\n",
       "       'Health', 'ScienceAndTechnology', 'Politics',\n",
       "       'ScienceAndTechnology', 'UK', 'Health', 'Business', 'UK', 'UK',\n",
       "       'Entertainment', 'Business', 'Politics', 'Health', 'Health',\n",
       "       'Politics', 'Entertainment', 'Politics', 'ScienceAndTechnology',\n",
       "       'Health', 'ScienceAndTechnology', 'Entertainment', 'Business',\n",
       "       'ScienceAndTechnology', 'ScienceAndTechnology', 'Politics',\n",
       "       'ScienceAndTechnology', 'Politics', 'Business', 'Business',\n",
       "       'ScienceAndTechnology', 'ScienceAndTechnology', 'Sports',\n",
       "       'Politics', 'Health', 'Sports', 'Politics', 'World',\n",
       "       'ScienceAndTechnology', 'ScienceAndTechnology', 'Sports',\n",
       "       'ScienceAndTechnology', 'ScienceAndTechnology', 'Health',\n",
       "       'Politics', 'Politics', 'UK', 'Entertainment', 'Health',\n",
       "       'ScienceAndTechnology', 'Health', 'Sports', 'ScienceAndTechnology',\n",
       "       'Health', 'Entertainment', 'World', 'Entertainment', 'Politics',\n",
       "       'ScienceAndTechnology', 'Sports', 'World', 'Entertainment',\n",
       "       'World', 'ScienceAndTechnology', 'World', 'Politics', 'Health',\n",
       "       'World', 'Sports', 'UK', 'Health', 'Sports', 'UK', 'UK', 'Health',\n",
       "       'Entertainment', 'Health', 'Health', 'Politics',\n",
       "       'ScienceAndTechnology', 'Business', 'Business',\n",
       "       'ScienceAndTechnology', 'Entertainment', 'Entertainment', 'Health',\n",
       "       'Health', 'Health', 'ScienceAndTechnology', 'Entertainment',\n",
       "       'Business', 'Health', 'UK', 'Politics', 'Entertainment', 'Health',\n",
       "       'World', 'Entertainment', 'Entertainment', 'Politics', 'Business',\n",
       "       'Health', 'UK', 'Health', 'UK', 'Politics', 'Entertainment', 'UK'],\n",
       "      dtype=object)"
      ]
     },
     "execution_count": 16,
     "metadata": {},
     "output_type": "execute_result"
    }
   ],
   "source": [
    "pred = gridcv.predict(X_test_vector)\n",
    "pred"
   ]
  },
  {
   "cell_type": "code",
   "execution_count": 17,
   "metadata": {},
   "outputs": [
    {
     "name": "stdout",
     "output_type": "stream",
     "text": [
      "0.4225352112676056\n"
     ]
    }
   ],
   "source": [
    "from sklearn.metrics import accuracy_score\n",
    "print(accuracy_score(y_test, pred))"
   ]
  },
  {
   "cell_type": "code",
   "execution_count": 18,
   "metadata": {},
   "outputs": [
    {
     "data": {
      "text/plain": [
       "league          0.041209\n",
       "police          0.030036\n",
       "side            0.021853\n",
       "manchester      0.019939\n",
       "star            0.019414\n",
       "storm           0.018853\n",
       "player          0.017757\n",
       "minister        0.016935\n",
       "host            0.016070\n",
       "market          0.016007\n",
       "club            0.015784\n",
       "storm dennis    0.015368\n",
       "road            0.015332\n",
       "island          0.014201\n",
       "flood           0.014187\n",
       "warning         0.013672\n",
       "study           0.013557\n",
       "hospital        0.013387\n",
       "chelsea         0.013356\n",
       "adviser         0.013023\n",
       "dtype: float32"
      ]
     },
     "execution_count": 18,
     "metadata": {},
     "output_type": "execute_result"
    }
   ],
   "source": [
    "ftr_importances_values = gridcv.best_estimator_.feature_importances_\n",
    "ftr_importances_values = pd.Series(ftr_importances_values, index = vectorizer.get_feature_names()).sort_values(ascending=False)[:20]\n",
    "ftr_importances_values"
   ]
  },
  {
   "cell_type": "code",
   "execution_count": 19,
   "metadata": {},
   "outputs": [
    {
     "name": "stdout",
     "output_type": "stream",
     "text": [
      "                      precision    recall  f1-score   support\n",
      "\n",
      "            Business       0.55      0.32      0.40        19\n",
      "       Entertainment       0.28      0.42      0.33        12\n",
      "              Health       0.15      0.21      0.17        19\n",
      "            Politics       0.55      0.57      0.56        21\n",
      "ScienceAndTechnology       0.44      0.58      0.50        24\n",
      "              Sports       0.77      0.53      0.62        19\n",
      "                  UK       0.50      0.33      0.40        18\n",
      "               World       0.43      0.30      0.35        10\n",
      "\n",
      "            accuracy                           0.42       142\n",
      "           macro avg       0.46      0.41      0.42       142\n",
      "        weighted avg       0.47      0.42      0.43       142\n",
      "\n"
     ]
    }
   ],
   "source": [
    "from sklearn.metrics import classification_report\n",
    "print(classification_report(y_test, pred))"
   ]
  },
  {
   "cell_type": "code",
   "execution_count": 20,
   "metadata": {},
   "outputs": [],
   "source": [
    "import matplotlib.pyplot as plt\n",
    "import seaborn as sns\n",
    "%matplotlib inline"
   ]
  },
  {
   "cell_type": "code",
   "execution_count": 21,
   "metadata": {},
   "outputs": [
    {
     "data": {
      "image/png": "[encoded data removed]",
      "text/plain": [
       "<Figure size 576x432 with 1 Axes>"
      ]
     },
     "metadata": {
      "needs_background": "light"
     },
     "output_type": "display_data"
    }
   ],
   "source": [
    "plt.figure(figsize=(8, 6))\n",
    "plt.title(\"Feature importances\")\n",
    "sns.barplot(x=ftr_importances_values, y=ftr_importances_values.index)\n",
    "plt.show()"
   ]
  },
  {
   "cell_type": "code",
   "execution_count": null,
   "metadata": {},
   "outputs": [],
   "source": []
  },
  {
   "cell_type": "code",
   "execution_count": null,
   "metadata": {},
   "outputs": [],
   "source": []
  }
 ],
 "metadata": {
  "kernelspec": {
   "display_name": "Python 3",
   "language": "python",
   "name": "python3"
  },
  "language_info": {
   "codemirror_mode": {
    "name": "ipython",
    "version": 3
   },
   "file_extension": ".py",
   "mimetype": "text/x-python",
   "name": "python",
   "nbconvert_exporter": "python",
   "pygments_lexer": "ipython3",
   "version": "3.7.5"
  }
 },
 "nbformat": 4,
 "nbformat_minor": 2
}
