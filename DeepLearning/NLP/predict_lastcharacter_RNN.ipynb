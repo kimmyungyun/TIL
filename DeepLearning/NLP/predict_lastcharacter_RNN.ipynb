{
  "nbformat": 4,
  "nbformat_minor": 0,
  "metadata": {
    "colab": {
      "name": "predict_lastword_RNN",
      "provenance": [],
      "private_outputs": true,
      "collapsed_sections": [],
      "machine_shape": "hm"
    },
    "kernelspec": {
      "name": "python3",
      "display_name": "Python 3"
    },
    "accelerator": "GPU"
  },
  "cells": [
    {
      "cell_type": "code",
      "metadata": {
        "id": "6ToenTAn0T4F",
        "colab_type": "code",
        "colab": {}
      },
      "source": [
        "from keras.models import Sequential\n",
        "from keras.layers import Dense, SimpleRNN\n",
        "from keras.optimizers import Adam\n",
        "import numpy as np"
      ],
      "execution_count": 0,
      "outputs": []
    },
    {
      "cell_type": "code",
      "metadata": {
        "id": "mJ5E1hub0lxG",
        "colab_type": "code",
        "colab": {}
      },
      "source": [
        "X_train = [\"wor\", \"woo\", \"dee\", \"div\", \"col\", \"coo\", \"loa\", \"lov\", \"kis\", \"kin\"]\n",
        "X_train"
      ],
      "execution_count": 0,
      "outputs": []
    },
    {
      "cell_type": "code",
      "metadata": {
        "id": "8TY_L6QS0vgw",
        "colab_type": "code",
        "colab": {}
      },
      "source": [
        "y_train = [\"d\", \"d\", \"p\", \"e\", \"d\", \"d\", \"d\", \"e\", \"s\", \"d\"]\n",
        "y_train"
      ],
      "execution_count": 0,
      "outputs": []
    },
    {
      "cell_type": "code",
      "metadata": {
        "id": "-TSr3JVr05R1",
        "colab_type": "code",
        "colab": {}
      },
      "source": [
        "print(f\"X_train : {len(X_train)}, y_train : {len(y_train)}\")"
      ],
      "execution_count": 0,
      "outputs": []
    },
    {
      "cell_type": "code",
      "metadata": {
        "id": "Ka21k09g1jXs",
        "colab_type": "code",
        "colab": {}
      },
      "source": [
        "import string\n",
        "char_arr = list(string.ascii_lowercase)\n",
        "char_arr"
      ],
      "execution_count": 0,
      "outputs": []
    },
    {
      "cell_type": "code",
      "metadata": {
        "id": "bx8IbvdI1slC",
        "colab_type": "code",
        "colab": {}
      },
      "source": [
        "num_dic = {char: i for i, char in enumerate(char_arr)}"
      ],
      "execution_count": 0,
      "outputs": []
    },
    {
      "cell_type": "code",
      "metadata": {
        "id": "g2l82yY51-hF",
        "colab_type": "code",
        "colab": {}
      },
      "source": [
        "input = [num_dic[char] for char in \"wor\"]"
      ],
      "execution_count": 0,
      "outputs": []
    },
    {
      "cell_type": "code",
      "metadata": {
        "id": "ZxsBXDl_2UCL",
        "colab_type": "code",
        "colab": {}
      },
      "source": [
        "np.eye(26)[input]"
      ],
      "execution_count": 0,
      "outputs": []
    },
    {
      "cell_type": "code",
      "metadata": {
        "id": "01Ri-RRN4Psq",
        "colab_type": "code",
        "colab": {}
      },
      "source": [
        "X_train_onehot = []\n",
        "for seq in X_train:\n",
        "    print(f\"word : {seq}\")\n",
        "    input = [num_dic[char] for char in seq]\n",
        "    onehot = np.eye(26)[input]\n",
        "\n",
        "    X_train_onehot.append(onehot)\n"
      ],
      "execution_count": 0,
      "outputs": []
    },
    {
      "cell_type": "code",
      "metadata": {
        "id": "rmML5--R93Or",
        "colab_type": "code",
        "colab": {}
      },
      "source": [
        "X_train_onehot = np.array(X_train_onehot, dtype=\"float32\")\n",
        "X_train_onehot"
      ],
      "execution_count": 0,
      "outputs": []
    },
    {
      "cell_type": "code",
      "metadata": {
        "id": "t77kqBww9_Kv",
        "colab_type": "code",
        "colab": {}
      },
      "source": [
        "y_train_tokens = [num_dic[char] for char in y_train]\n",
        "y_train_tokens "
      ],
      "execution_count": 0,
      "outputs": []
    },
    {
      "cell_type": "code",
      "metadata": {
        "id": "99glLbcO-HOQ",
        "colab_type": "code",
        "colab": {}
      },
      "source": [
        "y_train_onehot = np.eye(26)[y_train_tokens]"
      ],
      "execution_count": 0,
      "outputs": []
    },
    {
      "cell_type": "code",
      "metadata": {
        "id": "8QVaFF88-Xpt",
        "colab_type": "code",
        "colab": {}
      },
      "source": [
        "X_train_onehot.shape"
      ],
      "execution_count": 0,
      "outputs": []
    },
    {
      "cell_type": "code",
      "metadata": {
        "id": "Jv3euI74-Lmu",
        "colab_type": "code",
        "colab": {}
      },
      "source": [
        "model = Sequential()\n",
        "model.add(SimpleRNN(units=3, input_shape=(3, 26)))\n",
        "model.add(Dense(26, activation=\"softmax\"))"
      ],
      "execution_count": 0,
      "outputs": []
    },
    {
      "cell_type": "code",
      "metadata": {
        "id": "TKatHVXQ-hca",
        "colab_type": "code",
        "colab": {}
      },
      "source": [
        "model.summary()"
      ],
      "execution_count": 0,
      "outputs": []
    },
    {
      "cell_type": "code",
      "metadata": {
        "id": "MSIokxn--mej",
        "colab_type": "code",
        "colab": {}
      },
      "source": [
        "model.compile(loss=\"categorical_crossentropy\", optimizer=Adam(lr=0.1), metrics=['acc'])"
      ],
      "execution_count": 0,
      "outputs": []
    },
    {
      "cell_type": "code",
      "metadata": {
        "id": "ZRBUwH0l-ztB",
        "colab_type": "code",
        "colab": {}
      },
      "source": [
        "model.fit(X_train_onehot, y_train_onehot, epochs=30)"
      ],
      "execution_count": 0,
      "outputs": []
    },
    {
      "cell_type": "code",
      "metadata": {
        "id": "xRXyT0LO-4iK",
        "colab_type": "code",
        "colab": {}
      },
      "source": [
        "new_data = [\"wor\", \"mul\", \"goo\"]\n",
        "new_data"
      ],
      "execution_count": 0,
      "outputs": []
    },
    {
      "cell_type": "code",
      "metadata": {
        "id": "b8RaVyHh_JCJ",
        "colab_type": "code",
        "colab": {}
      },
      "source": [
        "X_test_onehot = []\n",
        "for seq in new_data:\n",
        "    print(f\"word : {seq}\")\n",
        "    input = [num_dic[char] for char in seq]\n",
        "    onehot = np.eye(26)[input]\n",
        "\n",
        "    X_test_onehot.append(onehot)\n"
      ],
      "execution_count": 0,
      "outputs": []
    },
    {
      "cell_type": "code",
      "metadata": {
        "id": "7uLey_CV_S2T",
        "colab_type": "code",
        "colab": {}
      },
      "source": [
        "X_test_onehot = np.array(X_test_onehot, dtype=\"float32\")"
      ],
      "execution_count": 0,
      "outputs": []
    },
    {
      "cell_type": "code",
      "metadata": {
        "id": "3bci23yD_WM4",
        "colab_type": "code",
        "colab": {}
      },
      "source": [
        "pred = model.predict(X_test_onehot)"
      ],
      "execution_count": 0,
      "outputs": []
    },
    {
      "cell_type": "code",
      "metadata": {
        "id": "uGcY0JjS_jom",
        "colab_type": "code",
        "colab": {}
      },
      "source": [
        "for pred_num in np.argmax(pred, 1):\n",
        "    print(f\"{char_arr[pred_num]}\")"
      ],
      "execution_count": 0,
      "outputs": []
    },
    {
      "cell_type": "code",
      "metadata": {
        "id": "fUE70Zny_t1M",
        "colab_type": "code",
        "colab": {}
      },
      "source": [
        ""
      ],
      "execution_count": 0,
      "outputs": []
    }
  ]
}