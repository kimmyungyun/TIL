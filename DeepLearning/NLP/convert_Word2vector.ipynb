{
  "nbformat": 4,
  "nbformat_minor": 0,
  "metadata": {
    "colab": {
      "name": "convert_Word2vector.ipynb",
      "provenance": [],
      "private_outputs": true,
      "collapsed_sections": [],
      "machine_shape": "hm"
    },
    "kernelspec": {
      "name": "python3",
      "display_name": "Python 3"
    },
    "accelerator": "GPU"
  },
  "cells": [
    {
      "cell_type": "code",
      "metadata": {
        "id": "R24sHniq7imy",
        "colab_type": "code",
        "colab": {}
      },
      "source": [
        "corpus = [\"king is a strong man\",\n",
        "          \"queen is a wise woman\",\n",
        "          \"boy is a young man\",\n",
        "          \"girl is a young woman\",\n",
        "          \"prince is a young king\",\n",
        "          \"princess is a young queen\",\n",
        "          \"man is strong\"]"
      ],
      "execution_count": 0,
      "outputs": []
    },
    {
      "cell_type": "markdown",
      "metadata": {
        "id": "czQbSxF48rMr",
        "colab_type": "text"
      },
      "source": [
        "## 불용어 삭제 함수 정의"
      ]
    },
    {
      "cell_type": "code",
      "metadata": {
        "id": "LI73yGYF8zzX",
        "colab_type": "code",
        "colab": {}
      },
      "source": [
        "stop_words = [\"is\", \"a\", \"will\", \"be\"]\n",
        "result = []\n",
        "for text in corpus:\n",
        "    print(f\"text : {text}\")\n",
        "    tmp_text = text.split(\" \")\n",
        "    clear_text = [tmp for tmp in tmp_text if tmp not in stop_words]\n",
        "    print(f\"{clear_text}\")\n",
        "    result.append(clear_text)"
      ],
      "execution_count": 0,
      "outputs": []
    },
    {
      "cell_type": "code",
      "metadata": {
        "id": "_qtLB5lP-HV0",
        "colab_type": "code",
        "colab": {}
      },
      "source": [
        "sentences = result\n",
        "sentences"
      ],
      "execution_count": 0,
      "outputs": []
    },
    {
      "cell_type": "code",
      "metadata": {
        "id": "1RhhtsujCEEg",
        "colab_type": "code",
        "colab": {}
      },
      "source": [
        "WINDOW_SIZE = 2\n",
        "data = []\n",
        "\n",
        "for sentence in sentences:\n",
        "    for idx, word in enumerate(sentence):\n",
        "        for neighbor in sentence[max(idx-WINDOW_SIZE, 0) : min(idx+WINDOW_SIZE, len(sentence)) + 1]:\n",
        "            # print(f\"word : {word}, neighbor : {neighbor}\")\n",
        "            if neighbor != word:\n",
        "                data.append([word, neighbor])"
      ],
      "execution_count": 0,
      "outputs": []
    },
    {
      "cell_type": "code",
      "metadata": {
        "id": "VTM2bM9aM363",
        "colab_type": "code",
        "colab": {}
      },
      "source": [
        "data"
      ],
      "execution_count": 0,
      "outputs": []
    },
    {
      "cell_type": "code",
      "metadata": {
        "id": "pxTeFmmAOlbW",
        "colab_type": "code",
        "colab": {}
      },
      "source": [
        "import pandas as pd\n",
        "df = pd.DataFrame(data, columns = [\"input\", \"label\"])\n",
        "df"
      ],
      "execution_count": 0,
      "outputs": []
    },
    {
      "cell_type": "code",
      "metadata": {
        "id": "-AeYvx0yZDXw",
        "colab_type": "code",
        "colab": {}
      },
      "source": [
        "word = [x for tmp_word in sentences for x in tmp_word]\n",
        "word"
      ],
      "execution_count": 0,
      "outputs": []
    },
    {
      "cell_type": "code",
      "metadata": {
        "id": "NIQk4wBGPWsM",
        "colab_type": "code",
        "colab": {}
      },
      "source": [
        "words = set(\" \".join(word).split(\" \"))\n",
        "words"
      ],
      "execution_count": 0,
      "outputs": []
    },
    {
      "cell_type": "code",
      "metadata": {
        "id": "Zo_gXcz5XA9o",
        "colab_type": "code",
        "colab": {}
      },
      "source": [
        "word2int = {}\n",
        "for i, tmp_word in enumerate(words):\n",
        "    word2int[tmp_word] = i\n",
        "word2int"
      ],
      "execution_count": 0,
      "outputs": []
    },
    {
      "cell_type": "code",
      "metadata": {
        "id": "hRlnMUb9XYo8",
        "colab_type": "code",
        "colab": {}
      },
      "source": [
        ""
      ],
      "execution_count": 0,
      "outputs": []
    }
  ]
}