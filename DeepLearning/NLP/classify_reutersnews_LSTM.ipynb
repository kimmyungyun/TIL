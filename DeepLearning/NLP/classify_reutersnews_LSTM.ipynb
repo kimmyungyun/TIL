{
  "nbformat": 4,
  "nbformat_minor": 0,
  "metadata": {
    "colab": {
      "name": "classify_reutersnews_LSTM.ipynb",
      "provenance": [],
      "private_outputs": true,
      "collapsed_sections": [],
      "machine_shape": "hm"
    },
    "kernelspec": {
      "name": "python3",
      "display_name": "Python 3"
    },
    "accelerator": "GPU"
  },
  "cells": [
    {
      "cell_type": "code",
      "metadata": {
        "id": "s39SL9HINKwy",
        "colab_type": "code",
        "colab": {}
      },
      "source": [
        "from keras.models import Sequential\n",
        "from keras.layers import Dense, LSTM, Dropout\n",
        "from keras.optimizers import Adam\n",
        "import numpy as np"
      ],
      "execution_count": 0,
      "outputs": []
    },
    {
      "cell_type": "markdown",
      "metadata": {
        "id": "pVUkWersOHME",
        "colab_type": "text"
      },
      "source": [
        "## 데이터 로드\n",
        "## num_words를 통해 빈도수가 Top 1000만을 가져온다"
      ]
    },
    {
      "cell_type": "code",
      "metadata": {
        "id": "lal_zRTPNdqf",
        "colab_type": "code",
        "colab": {}
      },
      "source": [
        "from keras.datasets import reuters\n",
        "(X_train, y_train), (X_test, y_test) = reuters.load_data(num_words=1000, test_split=0.2)"
      ],
      "execution_count": 0,
      "outputs": []
    },
    {
      "cell_type": "markdown",
      "metadata": {
        "id": "Afvq760XPPzJ",
        "colab_type": "text"
      },
      "source": [
        "## 무슨 단어를 무슨 숫자로 변환했는지 알려줌"
      ]
    },
    {
      "cell_type": "code",
      "metadata": {
        "id": "pz01QwR7Odb-",
        "colab_type": "code",
        "colab": {}
      },
      "source": [
        "reuters.get_word_index()"
      ],
      "execution_count": 0,
      "outputs": []
    },
    {
      "cell_type": "markdown",
      "metadata": {
        "id": "rdKK3QatQsvy",
        "colab_type": "text"
      },
      "source": [
        "## 기본 키값이 아닌 value를 기준으로 정렬"
      ]
    },
    {
      "cell_type": "code",
      "metadata": {
        "id": "YqbYChmzPMX0",
        "colab_type": "code",
        "colab": {}
      },
      "source": [
        "import operator\n",
        "sorted(reuters.get_word_index().items(), key=operator.itemgetter(1))"
      ],
      "execution_count": 0,
      "outputs": []
    },
    {
      "cell_type": "markdown",
      "metadata": {
        "id": "bDs1EIuVQSpI",
        "colab_type": "text"
      },
      "source": [
        "## X_test의 칸의 수를 100개로 고정\n",
        "## train의 개수도 100으로 고정\n",
        "## 100보다 많이 들어오면 100개로 자르고,\n",
        "## 100보다 작으면 앞에 0을 추가해서 칸의 수를 100으로 고정\n"
      ]
    },
    {
      "cell_type": "code",
      "metadata": {
        "id": "EcPRYAM8Rs_2",
        "colab_type": "code",
        "colab": {}
      },
      "source": [
        "from keras.preprocessing import sequence\n",
        "X_train_sequence = sequence.pad_sequences(X_train, maxlen=100)\n",
        "X_train_sequence.shape"
      ],
      "execution_count": 0,
      "outputs": []
    },
    {
      "cell_type": "code",
      "metadata": {
        "id": "P7wixDEsR8Y2",
        "colab_type": "code",
        "colab": {}
      },
      "source": [
        "from keras.utils import to_categorical\n",
        "X_train_onehot = to_categorical(X_train_sequence)\n",
        "X_train_onehot.shape"
      ],
      "execution_count": 0,
      "outputs": []
    },
    {
      "cell_type": "code",
      "metadata": {
        "id": "LCQv61xCXSqT",
        "colab_type": "code",
        "colab": {}
      },
      "source": [
        "X_test_sequence = sequence.pad_sequences(X_test, maxlen=100)\n",
        "X_test_sequence.shape"
      ],
      "execution_count": 0,
      "outputs": []
    },
    {
      "cell_type": "code",
      "metadata": {
        "id": "4ur0TCWPUWn8",
        "colab_type": "code",
        "colab": {}
      },
      "source": [
        "X_test_onehot = to_categorical(X_test_sequence)\n",
        "y_train_onehot = to_categorical(y_train)\n",
        "y_test_onehot = to_categorical(y_test)"
      ],
      "execution_count": 0,
      "outputs": []
    },
    {
      "cell_type": "code",
      "metadata": {
        "id": "N1CsVXBISRE8",
        "colab_type": "code",
        "colab": {}
      },
      "source": [
        "model = Sequential()\n",
        "model.add(LSTM(units=100, input_shape=(100, 1000)))\n",
        "model.add(Dropout(0.2))\n",
        "model.add(Dense(46, activation='softmax'))"
      ],
      "execution_count": 0,
      "outputs": []
    },
    {
      "cell_type": "markdown",
      "metadata": {
        "id": "3iXNSY-VZGzk",
        "colab_type": "text"
      },
      "source": [
        "## lstm param 사이즈 계산 방법\n",
        "- 0번째 : input size, cell size * 4 = weight\n",
        "- 1번째 : cell size, cell size * 4  = memorize rate\n",
        "- 2번째 : cell size * 4  = bias\n",
        "\n",
        "## 4는 LSTM의 weight 갯수 (아래 그림의 노란색의 갯수)\n",
        "![](https://i.stack.imgur.com/MLGXm.png)\n"
      ]
    },
    {
      "cell_type": "code",
      "metadata": {
        "id": "XBnLYWSaUkkd",
        "colab_type": "code",
        "colab": {}
      },
      "source": [
        "model.summary()"
      ],
      "execution_count": 0,
      "outputs": []
    },
    {
      "cell_type": "code",
      "metadata": {
        "id": "RZoj2J8TYhcf",
        "colab_type": "code",
        "colab": {}
      },
      "source": [
        "lstm = model.get_layer(\"lstm_1\")\n",
        "print(f\"{lstm.get_weights()[0].shape}\")\n",
        "print(f\"{lstm.get_weights()[1].shape}\")\n",
        "print(f\"{lstm.get_weights()[2].shape}\")"
      ],
      "execution_count": 0,
      "outputs": []
    },
    {
      "cell_type": "code",
      "metadata": {
        "id": "N5274n_rT901",
        "colab_type": "code",
        "colab": {}
      },
      "source": [
        "model.compile(loss=\"categorical_crossentropy\", optimizer=Adam(lr=0.001), metrics=['acc'])"
      ],
      "execution_count": 0,
      "outputs": []
    },
    {
      "cell_type": "code",
      "metadata": {
        "id": "tFm52cnuUNg_",
        "colab_type": "code",
        "colab": {}
      },
      "source": [
        "model.fit(X_train_onehot, y_train_onehot, epochs=30)"
      ],
      "execution_count": 0,
      "outputs": []
    },
    {
      "cell_type": "code",
      "metadata": {
        "id": "qRZMrRUmUhfW",
        "colab_type": "code",
        "colab": {}
      },
      "source": [
        "model.evaluate(X_test_onehot, y_test_onehot)"
      ],
      "execution_count": 0,
      "outputs": []
    },
    {
      "cell_type": "code",
      "metadata": {
        "id": "kT9a6OGtVLsU",
        "colab_type": "code",
        "colab": {}
      },
      "source": [
        ""
      ],
      "execution_count": 0,
      "outputs": []
    }
  ]
}