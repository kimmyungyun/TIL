{
  "nbformat": 4,
  "nbformat_minor": 0,
  "metadata": {
    "colab": {
      "name": "classify_reuternews_LSTM_Word2Vector.ipynb",
      "provenance": [],
      "private_outputs": true,
      "collapsed_sections": [],
      "machine_shape": "hm"
    },
    "kernelspec": {
      "name": "python3",
      "display_name": "Python 3"
    },
    "accelerator": "GPU"
  },
  "cells": [
    {
      "cell_type": "code",
      "metadata": {
        "id": "pFEMDQ99oqoO",
        "colab_type": "code",
        "colab": {}
      },
      "source": [
        "from keras.models import Sequential\n",
        "from keras.layers import Dense, LSTM, Dropout\n",
        "from keras.optimizers import Adam\n",
        "import numpy as np\n",
        "from keras.utils import to_categorical"
      ],
      "execution_count": 0,
      "outputs": []
    },
    {
      "cell_type": "code",
      "metadata": {
        "id": "evu5oVH1o8VR",
        "colab_type": "code",
        "colab": {}
      },
      "source": [
        "from keras.datasets import reuters"
      ],
      "execution_count": 0,
      "outputs": []
    },
    {
      "cell_type": "code",
      "metadata": {
        "id": "AdzTqv_Go-mz",
        "colab_type": "code",
        "colab": {}
      },
      "source": [
        "(X_train, y_train), (X_test, y_test) = reuters.load_data(num_words = 1000, test_split=0.2)"
      ],
      "execution_count": 0,
      "outputs": []
    },
    {
      "cell_type": "code",
      "metadata": {
        "id": "XIyXEF42pEtv",
        "colab_type": "code",
        "colab": {}
      },
      "source": [
        "y_train_onehot = to_categorical(y_train)\n",
        "y_train_onehot"
      ],
      "execution_count": 0,
      "outputs": []
    },
    {
      "cell_type": "code",
      "metadata": {
        "id": "ITDnOZJsqe4h",
        "colab_type": "code",
        "colab": {}
      },
      "source": [
        "import operator\n",
        "sorted(reuters.get_word_index().items(), key=operator.itemgetter(1))[0:1000]"
      ],
      "execution_count": 0,
      "outputs": []
    },
    {
      "cell_type": "code",
      "metadata": {
        "id": "YzWKnqa3q_oq",
        "colab_type": "code",
        "colab": {}
      },
      "source": [
        "word_list = [\"\"] * 1001\n",
        "for word, index in sorted(reuters.get_word_index().items(), key=operator.itemgetter(1))[0:1000]:\n",
        "    word_list[index] = word"
      ],
      "execution_count": 0,
      "outputs": []
    },
    {
      "cell_type": "code",
      "metadata": {
        "id": "SWx17xEztjKE",
        "colab_type": "code",
        "colab": {}
      },
      "source": [
        "X_train_word = []\n",
        "for index in range(len(X_train)):\n",
        "    input = []\n",
        "    for num in X_train[index]:\n",
        "        input.append(word_list[num])\n",
        "    str_input = \" \".join(input)\n",
        "\n",
        "    X_train_word.append(str_input)\n",
        "X_train_word"
      ],
      "execution_count": 0,
      "outputs": []
    },
    {
      "cell_type": "markdown",
      "metadata": {
        "id": "yp3hoJCM1FAb",
        "colab_type": "text"
      },
      "source": [
        "## 불용어 데이터"
      ]
    },
    {
      "cell_type": "code",
      "metadata": {
        "id": "Twg1r7j6uEdG",
        "colab_type": "code",
        "colab": {}
      },
      "source": [
        "from nltk.corpus import stopwords\n",
        "stop_words = stopwords.words(\"english\")\n",
        "stop_words"
      ],
      "execution_count": 0,
      "outputs": []
    },
    {
      "cell_type": "code",
      "metadata": {
        "id": "tOCeqgy4zIc2",
        "colab_type": "code",
        "colab": {}
      },
      "source": [
        "from nltk.stem import WordNetLemmatizer\n",
        "lem = WordNetLemmatizer()"
      ],
      "execution_count": 0,
      "outputs": []
    },
    {
      "cell_type": "markdown",
      "metadata": {
        "id": "M7uksMHn1IMq",
        "colab_type": "text"
      },
      "source": [
        "## 기본형태로 바꿔주는 lem 객체 예시"
      ]
    },
    {
      "cell_type": "code",
      "metadata": {
        "id": "gbU5UhTu0_dH",
        "colab_type": "code",
        "colab": {}
      },
      "source": [
        "vm_list = [\"are\", \"am\", \"was\", \"has\", \"had\", \"have\"]\n",
        "for vm in vm_list:\n",
        "    stem = lem.lemmatize(vm, \"v\")\n",
        "    print(f\"vm : {vm}, stem : {stem}\")"
      ],
      "execution_count": 0,
      "outputs": []
    },
    {
      "cell_type": "markdown",
      "metadata": {
        "id": "GzjJKU5p1qea",
        "colab_type": "text"
      },
      "source": [
        "## 단어 품사 정리"
      ]
    },
    {
      "cell_type": "code",
      "metadata": {
        "id": "A5u37mti2fsK",
        "colab_type": "code",
        "colab": {}
      },
      "source": [
        "lemm_dic = {\"NN\":\"n\", \"JJ\":\"a\", \"VB\":\"v\", \"RB\":\"r\"}\n",
        "lemm_dic"
      ],
      "execution_count": 0,
      "outputs": []
    },
    {
      "cell_type": "code",
      "metadata": {
        "id": "ljYL9IYA2oKB",
        "colab_type": "code",
        "colab": {}
      },
      "source": [
        ""
      ],
      "execution_count": 0,
      "outputs": []
    }
  ]
}