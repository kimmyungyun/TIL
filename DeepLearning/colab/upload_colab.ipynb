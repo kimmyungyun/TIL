{
  "nbformat": 4,
  "nbformat_minor": 0,
  "metadata": {
    "colab": {
      "name": "upload_colab.ipynb",
      "provenance": [],
      "authorship_tag": "ABX9TyP7Re1FhxnhKIezXqLgqrkh",
      "include_colab_link": true
    },
    "kernelspec": {
      "name": "python3",
      "display_name": "Python 3"
    }
  },
  "cells": [
    {
      "cell_type": "markdown",
      "metadata": {
        "id": "view-in-github",
        "colab_type": "text"
      },
      "source": [
        "<a href=\"https://colab.research.google.com/github/kimmyungyun/TIL/blob/master/DeepLearning/colab/upload_colab.ipynb\" target=\"_parent\"><img src=\"https://colab.research.google.com/assets/colab-badge.svg\" alt=\"Open In Colab\"/></a>"
      ]
    },
    {
      "cell_type": "code",
      "metadata": {
        "id": "DT20_w2XsSnt",
        "colab_type": "code",
        "outputId": "5cbd772c-a7da-45a6-b1d5-6e65464ecd7e",
        "colab": {
          "base_uri": "https://localhost:8080/",
          "height": 125
        }
      },
      "source": [
        "from google.colab import drive\n",
        "drive.mount('./MyDrive')"
      ],
      "execution_count": 2,
      "outputs": [
        {
          "output_type": "stream",
          "text": [
            "Go to this URL in a browser: https://accounts.google.com/o/oauth2/auth?client_id=947318989803-6bn6qk8qdgf4n4g3pfee6491hc0brc4i.apps.googleusercontent.com&redirect_uri=urn%3aietf%3awg%3aoauth%3a2.0%3aoob&response_type=code&scope=email%20https%3a%2f%2fwww.googleapis.com%2fauth%2fdocs.test%20https%3a%2f%2fwww.googleapis.com%2fauth%2fdrive%20https%3a%2f%2fwww.googleapis.com%2fauth%2fdrive.photos.readonly%20https%3a%2f%2fwww.googleapis.com%2fauth%2fpeopleapi.readonly\n",
            "\n",
            "Enter your authorization code:\n",
            "··········\n",
            "Mounted at ./MyDrive\n"
          ],
          "name": "stdout"
        }
      ]
    },
    {
      "cell_type": "code",
      "metadata": {
        "id": "_fvxP-SEsVTZ",
        "colab_type": "code",
        "outputId": "3d6ba1c7-06f4-48ef-d2a1-a4241a180894",
        "colab": {
          "base_uri": "https://localhost:8080/",
          "height": 34
        }
      },
      "source": [
        "cd MyDrive"
      ],
      "execution_count": 4,
      "outputs": [
        {
          "output_type": "stream",
          "text": [
            "/content/MyDrive\n"
          ],
          "name": "stdout"
        }
      ]
    },
    {
      "cell_type": "code",
      "metadata": {
        "id": "2zB7f5lPsXGH",
        "colab_type": "code",
        "outputId": "3ee7aaf1-3bf9-4378-ea47-3e569f181321",
        "colab": {
          "base_uri": "https://localhost:8080/",
          "height": 34
        }
      },
      "source": [
        "cd My\\ Drive"
      ],
      "execution_count": 5,
      "outputs": [
        {
          "output_type": "stream",
          "text": [
            "/content/MyDrive/My Drive\n"
          ],
          "name": "stdout"
        }
      ]
    },
    {
      "cell_type": "code",
      "metadata": {
        "id": "cCXgTNGH2_g9",
        "colab_type": "code",
        "colab": {
          "base_uri": "https://localhost:8080/",
          "height": 193
        },
        "outputId": "775732e7-9c42-4f95-b991-c71aaa704dbf"
      },
      "source": [
        "!ls"
      ],
      "execution_count": 7,
      "outputs": [
        {
          "output_type": "stream",
          "text": [
            " 영상\t\t\t\t        Desktop.zip\n",
            "'논문 정리'\t\t\t        ETRI_demo_v2-streetView-short.mp4\n",
            " 계획서\t\t\t\t       '제목 없는 문서.gdoc'\n",
            " 아빠작업\t\t\t       '제목 없는 스프레드시트.gsheet'\n",
            " 13_-_3_-_.pdf\t\t\t       'package e02;.gdoc'\n",
            " apache-maven-3.6.2-bin.zip\t        경력증명서_김명윤.pdf\n",
            " apache-tomcat-9.0.27-windows-x64.zip  '삼성 SW Expert + 백준 알고리즘.gsheet'\n",
            "'Colab Notebooks'\t\t        www.zip\n",
            " data\t\t\t\t        이미지.zip\n",
            " dental_image\t\t\t        컴퓨터비전.zip\n"
          ],
          "name": "stdout"
        }
      ]
    },
    {
      "cell_type": "code",
      "metadata": {
        "id": "7aXEYBS8AKzm",
        "colab_type": "code",
        "colab": {}
      },
      "source": [
        ""
      ],
      "execution_count": 0,
      "outputs": []
    }
  ]
}