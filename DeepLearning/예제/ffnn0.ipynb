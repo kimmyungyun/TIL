{
 "cells": [
  {
   "cell_type": "markdown",
   "metadata": {},
   "source": [
    "### 직접 만드는 Feed Forward Neural Network\n",
    "1개의 neuron 만으로 구성되는 단순한 FFNN regresser를 구현해보자.\n",
    "\n",
    "for one sample (x, y) :\n",
    "$$\\begin{aligned}\n",
    "s &= x \\cdot w + b \\\\\n",
    "e &= (s - y)^2\n",
    "\\end{aligned}$$\n",
    "\n",
    "for gradients :\n",
    "$$\\begin{aligned}\n",
    "\\Delta w = \\cfrac {\\partial e}{\\partial w} &= \\cfrac{\\partial e}{\\partial s} \\cfrac{\\partial s}{\\partial w} = 2 (s - y) \\cdot x \\\\\n",
    "&= 2(s - y) \\cdot x \\\\\n",
    "\\Delta b = \\cfrac {\\partial e}{\\partial b} &= \\cfrac{\\partial e}{\\partial s} \\cfrac{\\partial s}{\\partial b} = 2 (s - y) \\cdot 1\n",
    "\\end{aligned}$$\n",
    "\n",
    "for batch samples :\n",
    "- (grad_w, grad_b) = average (de/dw, de/db) over samples in batch\n",
    "\n",
    "for update :\n",
    "- w -= grad_w * learning_rate\n",
    "- b -= grad_b * learning_rate"
   ]
  },
  {
   "cell_type": "code",
   "execution_count": 197,
   "metadata": {},
   "outputs": [],
   "source": [
    "import numpy as np\n",
    "from numpy.random import shuffle, rand"
   ]
  },
  {
   "cell_type": "code",
   "execution_count": 198,
   "metadata": {},
   "outputs": [],
   "source": [
    "x_train = np.random.rand(1024, 1)\n",
    "y_train = x_train * 2 + 1"
   ]
  },
  {
   "cell_type": "code",
   "execution_count": 199,
   "metadata": {},
   "outputs": [
    {
     "data": {
      "text/plain": [
       "array([[0.2],\n",
       "       [0.4],\n",
       "       [0.6],\n",
       "       [0.8]])"
      ]
     },
     "execution_count": 199,
     "metadata": {},
     "output_type": "execute_result"
    }
   ],
   "source": [
    "x_val = np.random.rand(32, 1)\n",
    "y_val = x_val * 2 + 1\n",
    "\n",
    "x_test = np.arange(1, 5).reshape(-1,1) * 2 / 10\n",
    "y_test = x_test * 2 + 1\n",
    "x_test"
   ]
  },
  {
   "cell_type": "code",
   "execution_count": 278,
   "metadata": {},
   "outputs": [],
   "source": [
    "class FFNN:\n",
    "    def __init__(self, lr=0.01):\n",
    "        self.lr = lr\n",
    "        # initial weights: w는 .5, b는 .0\n",
    "        self.w = np.array([.5]).reshape(-1, 1)\n",
    "        self.b = np.array([.0])\n",
    "        \n",
    "        \n",
    "    def calc_sum(self, x, w, b):\n",
    "        pass\n",
    "    \n",
    "    # feed forward network\n",
    "    def predict(self, x):\n",
    "        predict_y = np.dot(x, self.w) + self.b\n",
    "        return predict_y\n",
    "    \n",
    "    # train for one batch. x 자체가 batch\n",
    "    def train_on_batch(self, x, y, istrain=True):\n",
    "        predict_y = self.predict(x)\n",
    "        N = x.shape[0]\n",
    "        loss = np.sum((predict_y - y) ** 2)\n",
    "        if istrain:\n",
    "            dw = np.dot(x.T, (predict_y - y)) / N\n",
    "            db = np.sum(predict_y - y) / N\n",
    "            self.w -= dw\n",
    "            self.b -= db\n",
    "        return loss\n",
    "    \n",
    "    # epochs 동안 batch 단위의 학습을 반복하며, loss를 추가함.\n",
    "    def fit(self, x, y, batch_size=16, epochs=100, val_data=None):\n",
    "        Losses = {}\n",
    "        Losses[\"train_loss\"] = []\n",
    "        if val_data is not None:\n",
    "            Losses[\"val_loss\"] = []\n",
    "        test_case = int(x.shape[0]//batch_size)\n",
    "        randRow = np.arange(x.shape[0])\n",
    "\n",
    "        for i in range(epochs):\n",
    "            Loss = 0\n",
    "            shuffle(randRow)\n",
    "            for t in range(test_case):\n",
    "#                 print(randRow[1008:1024] )\n",
    "                batch_idx = t*batch_size\n",
    "                x_batch = x[randRow[batch_idx: batch_idx+batch_size]]\n",
    "                y_batch = y[randRow[batch_idx: batch_idx+batch_size]]\n",
    "#                 print(\"Here : \", randRow[batch_idx: batch_idx+batch_size])\n",
    "                Loss += self.train_on_batch(x_batch, y_batch)\n",
    "                \n",
    "            \n",
    "            Losses[\"train_loss\"].append((Loss/test_case))\n",
    "            if val_data is not None:\n",
    "                val_Loss = 0\n",
    "\n",
    "                val_x = val_data[0]\n",
    "                val_y = val_data[1]\n",
    "                predict_y = self.predict(x)\n",
    "\n",
    "                val_Loss = self.train_on_batch(val_x, val_y, False)\n",
    "                \n",
    "                Losses[\"val_loss\"].append((val_Loss))\n",
    "                \n",
    "        return Losses"
   ]
  },
  {
   "cell_type": "code",
   "execution_count": 279,
   "metadata": {},
   "outputs": [],
   "source": [
    "model = FFNN()"
   ]
  },
  {
   "cell_type": "code",
   "execution_count": 280,
   "metadata": {},
   "outputs": [],
   "source": [
    "hist = model.fit(x_train, y_train, val_data=(x_val, y_val))"
   ]
  },
  {
   "cell_type": "code",
   "execution_count": 281,
   "metadata": {},
   "outputs": [
    {
     "data": {
      "text/plain": [
       "{'train_loss': [0.8597697933966986,\n",
       "  1.5513344730094594e-05,\n",
       "  2.3445798855678946e-09,\n",
       "  3.4339984455463443e-13,\n",
       "  4.9902467920739587e-17,\n",
       "  7.305146938681641e-21,\n",
       "  1.1191496161180097e-24,\n",
       "  1.6052703123665386e-28,\n",
       "  2.981339553911441e-31,\n",
       "  0.0,\n",
       "  0.0,\n",
       "  0.0,\n",
       "  0.0,\n",
       "  0.0,\n",
       "  0.0,\n",
       "  0.0,\n",
       "  0.0,\n",
       "  0.0,\n",
       "  0.0,\n",
       "  0.0,\n",
       "  0.0,\n",
       "  0.0,\n",
       "  0.0,\n",
       "  0.0,\n",
       "  0.0,\n",
       "  0.0,\n",
       "  0.0,\n",
       "  0.0,\n",
       "  0.0,\n",
       "  0.0,\n",
       "  0.0,\n",
       "  0.0,\n",
       "  0.0,\n",
       "  0.0,\n",
       "  0.0,\n",
       "  0.0,\n",
       "  0.0,\n",
       "  0.0,\n",
       "  0.0,\n",
       "  0.0,\n",
       "  0.0,\n",
       "  0.0,\n",
       "  0.0,\n",
       "  0.0,\n",
       "  0.0,\n",
       "  0.0,\n",
       "  0.0,\n",
       "  0.0,\n",
       "  0.0,\n",
       "  0.0,\n",
       "  0.0,\n",
       "  0.0,\n",
       "  0.0,\n",
       "  0.0,\n",
       "  0.0,\n",
       "  0.0,\n",
       "  0.0,\n",
       "  0.0,\n",
       "  0.0,\n",
       "  0.0,\n",
       "  0.0,\n",
       "  0.0,\n",
       "  0.0,\n",
       "  0.0,\n",
       "  0.0,\n",
       "  0.0,\n",
       "  0.0,\n",
       "  0.0,\n",
       "  0.0,\n",
       "  0.0,\n",
       "  0.0,\n",
       "  0.0,\n",
       "  0.0,\n",
       "  0.0,\n",
       "  0.0,\n",
       "  0.0,\n",
       "  0.0,\n",
       "  0.0,\n",
       "  0.0,\n",
       "  0.0,\n",
       "  0.0,\n",
       "  0.0,\n",
       "  0.0,\n",
       "  0.0,\n",
       "  0.0,\n",
       "  0.0,\n",
       "  0.0,\n",
       "  0.0,\n",
       "  0.0,\n",
       "  0.0,\n",
       "  0.0,\n",
       "  0.0,\n",
       "  0.0,\n",
       "  0.0,\n",
       "  0.0,\n",
       "  0.0,\n",
       "  0.0,\n",
       "  0.0,\n",
       "  0.0,\n",
       "  0.0],\n",
       " 'val_loss': [0.0002542451516242397,\n",
       "  3.035175797110779e-08,\n",
       "  4.338968508608027e-12,\n",
       "  5.216165660189839e-16,\n",
       "  7.913393574430274e-20,\n",
       "  1.3106559585116512e-23,\n",
       "  2.316144921535467e-27,\n",
       "  1.035379938102578e-30,\n",
       "  0.0,\n",
       "  0.0,\n",
       "  0.0,\n",
       "  0.0,\n",
       "  0.0,\n",
       "  0.0,\n",
       "  0.0,\n",
       "  0.0,\n",
       "  0.0,\n",
       "  0.0,\n",
       "  0.0,\n",
       "  0.0,\n",
       "  0.0,\n",
       "  0.0,\n",
       "  0.0,\n",
       "  0.0,\n",
       "  0.0,\n",
       "  0.0,\n",
       "  0.0,\n",
       "  0.0,\n",
       "  0.0,\n",
       "  0.0,\n",
       "  0.0,\n",
       "  0.0,\n",
       "  0.0,\n",
       "  0.0,\n",
       "  0.0,\n",
       "  0.0,\n",
       "  0.0,\n",
       "  0.0,\n",
       "  0.0,\n",
       "  0.0,\n",
       "  0.0,\n",
       "  0.0,\n",
       "  0.0,\n",
       "  0.0,\n",
       "  0.0,\n",
       "  0.0,\n",
       "  0.0,\n",
       "  0.0,\n",
       "  0.0,\n",
       "  0.0,\n",
       "  0.0,\n",
       "  0.0,\n",
       "  0.0,\n",
       "  0.0,\n",
       "  0.0,\n",
       "  0.0,\n",
       "  0.0,\n",
       "  0.0,\n",
       "  0.0,\n",
       "  0.0,\n",
       "  0.0,\n",
       "  0.0,\n",
       "  0.0,\n",
       "  0.0,\n",
       "  0.0,\n",
       "  0.0,\n",
       "  0.0,\n",
       "  0.0,\n",
       "  0.0,\n",
       "  0.0,\n",
       "  0.0,\n",
       "  0.0,\n",
       "  0.0,\n",
       "  0.0,\n",
       "  0.0,\n",
       "  0.0,\n",
       "  0.0,\n",
       "  0.0,\n",
       "  0.0,\n",
       "  0.0,\n",
       "  0.0,\n",
       "  0.0,\n",
       "  0.0,\n",
       "  0.0,\n",
       "  0.0,\n",
       "  0.0,\n",
       "  0.0,\n",
       "  0.0,\n",
       "  0.0,\n",
       "  0.0,\n",
       "  0.0,\n",
       "  0.0,\n",
       "  0.0,\n",
       "  0.0,\n",
       "  0.0,\n",
       "  0.0,\n",
       "  0.0,\n",
       "  0.0,\n",
       "  0.0,\n",
       "  0.0]}"
      ]
     },
     "execution_count": 281,
     "metadata": {},
     "output_type": "execute_result"
    }
   ],
   "source": [
    "hist"
   ]
  },
  {
   "cell_type": "code",
   "execution_count": 282,
   "metadata": {},
   "outputs": [
    {
     "data": {
      "text/plain": [
       "<matplotlib.axes._subplots.AxesSubplot at 0x285fce3d188>"
      ]
     },
     "execution_count": 282,
     "metadata": {},
     "output_type": "execute_result"
    },
    {
     "data": {
      "image/png": "[encoded data removed]",
      "text/plain": [
       "<Figure size 432x288 with 1 Axes>"
      ]
     },
     "metadata": {
      "needs_background": "light"
     },
     "output_type": "display_data"
    }
   ],
   "source": [
    "import pandas as pd\n",
    "import matplotlib.pyplot as plt\n",
    "\n",
    "df_hist = pd.DataFrame(hist)\n",
    "# loss의 결과를 시각화하세요.\n",
    "df_hist.plot()"
   ]
  },
  {
   "cell_type": "code",
   "execution_count": 283,
   "metadata": {},
   "outputs": [
    {
     "data": {
      "text/plain": [
       "array([[2.]])"
      ]
     },
     "execution_count": 283,
     "metadata": {},
     "output_type": "execute_result"
    }
   ],
   "source": [
    "model.w"
   ]
  },
  {
   "cell_type": "code",
   "execution_count": 284,
   "metadata": {},
   "outputs": [
    {
     "data": {
      "text/plain": [
       "array([1.])"
      ]
     },
     "execution_count": 284,
     "metadata": {},
     "output_type": "execute_result"
    }
   ],
   "source": [
    "model.b"
   ]
  },
  {
   "cell_type": "code",
   "execution_count": null,
   "metadata": {},
   "outputs": [],
   "source": []
  }
 ],
 "metadata": {
  "kernelspec": {
   "display_name": "Python 3",
   "language": "python",
   "name": "python3"
  },
  "language_info": {
   "codemirror_mode": {
    "name": "ipython",
    "version": 3
   },
   "file_extension": ".py",
   "mimetype": "text/x-python",
   "name": "python",
   "nbconvert_exporter": "python",
   "pygments_lexer": "ipython3",
   "version": "3.7.5"
  },
  "toc": {
   "base_numbering": 1,
   "nav_menu": {},
   "number_sections": false,
   "sideBar": true,
   "skip_h1_title": false,
   "title_cell": "Table of Contents",
   "title_sidebar": "Contents",
   "toc_cell": false,
   "toc_position": {},
   "toc_section_display": true,
   "toc_window_display": false
  },
  "varInspector": {
   "cols": {
    "lenName": 16,
    "lenType": 16,
    "lenVar": 40
   },
   "kernels_config": {
    "python": {
     "delete_cmd_postfix": "",
     "delete_cmd_prefix": "del ",
     "library": "var_list.py",
     "varRefreshCmd": "print(var_dic_list())"
    },
    "r": {
     "delete_cmd_postfix": ") ",
     "delete_cmd_prefix": "rm(",
     "library": "var_list.r",
     "varRefreshCmd": "cat(var_dic_list()) "
    }
   },
   "types_to_exclude": [
    "module",
    "function",
    "builtin_function_or_method",
    "instance",
    "_Feature"
   ],
   "window_display": false
  }
 },
 "nbformat": 4,
 "nbformat_minor": 2
}
