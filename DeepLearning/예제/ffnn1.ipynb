{
 "cells": [
  {
   "cell_type": "markdown",
   "metadata": {},
   "source": [
    "### 7. custom FFNN\n",
    "#### 1) 활성화함수가 있는 FFNN\n",
    "활성화 함수가 있는 FFNN를 구현해 보자.\n",
    "$$\\begin{aligned}\n",
    "s &= x \\cdot w + b \\\\\n",
    "\\hat y &= f(s) \\\\\n",
    "e &= (\\hat y - y)^2 \\\\ \n",
    "& \\\\\n",
    "\\cfrac {\\partial e}{\\partial w} &= \\cfrac{\\partial e}{\\partial \\hat y} \\cfrac{\\partial \\hat y}{\\partial s} \\cfrac{\\partial s}{\\partial w} \\\\\n",
    "&= x^T \\cdot 2(\\hat y - y)f^{'}(s)\\\\\n",
    "(p, h=1) &= (b, p)^T \\cdot [(B, 1) \\times (B, 1)]\n",
    "\\end{aligned}$$\n",
    "\n",
    "참고로:\n",
    "$$\\begin{aligned}\n",
    "f(x) &= \\tanh(x) \\\\\n",
    "f^{'}(x) &= 1 - \\tanh^2(x)\n",
    "\\end{aligned}$$\n",
    "\n",
    "이를 위해 propagate_forward(self, x)함수를 구해보자."
   ]
  },
  {
   "cell_type": "code",
   "execution_count": 5,
   "metadata": {},
   "outputs": [],
   "source": [
    "%matplotlib inline\n",
    "import numpy as np\n",
    "from numpy.random import shuffle, rand\n",
    "\n",
    "x_train = np.random.rand(1024, 1)\n",
    "y_train = x_train * 0.1 - 0.05\n",
    "\n",
    "x_val = np.random.rand(32).reshape(-1,1)\n",
    "y_val = x_val * 0.1 - 0.05\n",
    "\n",
    "x_test = np.arange(0, 10, 2).reshape(-1,1)*.1\n",
    "y_test = x_test * 0.1 - 0.05"
   ]
  },
  {
   "cell_type": "code",
   "execution_count": 90,
   "metadata": {},
   "outputs": [],
   "source": [
    "class FFNN:\n",
    "    def __init__(self, lr=0.01):\n",
    "        self.lr = lr\n",
    "        # initial weights: w는 .5, b는 .0\n",
    "        self.w = np.array([0.5]).reshape(-1, 1)\n",
    "        self.b = np.array([0.])\n",
    "        \n",
    "    def calc_sum(self, x, w, b):\n",
    "        return np.dot(x, w) + b\n",
    "    \n",
    "    # feed forward network\n",
    "    def predict(self, x):\n",
    "        return np.tanh(self.calc_sum(x, self.w, self.b))\n",
    "    \n",
    "    # train for one batch. x 자체가 batch\n",
    "    def train_on_batch(self, x, y, istrain=True):\n",
    "        predict_y = self.predict(x)\n",
    "        loss = np.sum((predict_y - y) ** 2)\n",
    "        \n",
    "        if istrain:\n",
    "            qq = 2*(predict_y - y) * (1 - np.tanh(predict_y.T)**2).T \n",
    "            \n",
    "            dw = np.dot(x.T, qq)\n",
    "            db = np.sum(predict_y - y)\n",
    "            \n",
    "            self.w -= self.lr * dw\n",
    "            self.b -= self.lr * db\n",
    "        return loss\n",
    "    \n",
    "    def fit(self, x, y, batch_size=16, epochs=100, val_data=None):\n",
    "        Losses = {}\n",
    "        Losses[\"train_loss\"] = []\n",
    "        if val_data is not None:\n",
    "            Losses[\"val_loss\"] = []\n",
    "        randRow = np.arange(x.shape[0])\n",
    "        test_case = int(x.shape[0]//batch_size)\n",
    "        \n",
    "        for i in range(epochs):\n",
    "            Loss = 0\n",
    "            shuffle(randRow)\n",
    "            \n",
    "            for t in range(test_case):\n",
    "                batch_idx = t*batch_size\n",
    "                x_batch = x[randRow[batch_idx: batch_idx+batch_size]]\n",
    "                y_batch = y[randRow[batch_idx: batch_idx+batch_size]]\n",
    "                \n",
    "                Loss += self.train_on_batch(x_batch, y_batch)\n",
    "            \n",
    "            Losses[\"train_loss\"].append(Loss)\n",
    "            if val_data is not None:\n",
    "                Loss = self.train_on_batch(x_val, y_val, False)\n",
    "                Losses[\"val_loss\"].append(Loss)\n",
    "                \n",
    "        return Losses"
   ]
  },
  {
   "cell_type": "code",
   "execution_count": 91,
   "metadata": {},
   "outputs": [],
   "source": [
    "model = FFNN()"
   ]
  },
  {
   "cell_type": "code",
   "execution_count": 92,
   "metadata": {},
   "outputs": [],
   "source": [
    "hist = model.fit(x_train, y_train, val_data=(x_val, y_val))"
   ]
  },
  {
   "cell_type": "code",
   "execution_count": 93,
   "metadata": {
    "scrolled": true
   },
   "outputs": [
    {
     "data": {
      "text/plain": [
       "{'train_loss': [4.434472738455791,\n",
       "  0.19176601890560616,\n",
       "  0.021380413394358422,\n",
       "  0.002413386113433674,\n",
       "  0.0002729429821368439,\n",
       "  3.056425140021673e-05,\n",
       "  3.47991503599424e-06,\n",
       "  4.366150673920635e-07,\n",
       "  8.8759742932386e-08,\n",
       "  4.879672410829933e-08,\n",
       "  4.427536364291011e-08,\n",
       "  4.386643159526337e-08,\n",
       "  4.387460642879483e-08,\n",
       "  4.384745101671956e-08,\n",
       "  4.3903063073931745e-08,\n",
       "  4.3960664801581614e-08,\n",
       "  4.37034055295818e-08,\n",
       "  4.381849444018433e-08,\n",
       "  4.3678003865347646e-08,\n",
       "  4.372247634082439e-08,\n",
       "  4.373393205587906e-08,\n",
       "  4.381950750593572e-08,\n",
       "  4.391908177576956e-08,\n",
       "  4.375244730734906e-08,\n",
       "  4.420520063796169e-08,\n",
       "  4.381848206478927e-08,\n",
       "  4.356956115827267e-08,\n",
       "  4.38295414430262e-08,\n",
       "  4.396432439434567e-08,\n",
       "  4.381312246184401e-08,\n",
       "  4.361613716035145e-08,\n",
       "  4.382281807686829e-08,\n",
       "  4.383991969219114e-08,\n",
       "  4.4060621552363454e-08,\n",
       "  4.376876006627851e-08,\n",
       "  4.375160916320324e-08,\n",
       "  4.3732522890854844e-08,\n",
       "  4.372872075052395e-08,\n",
       "  4.3821573513436426e-08,\n",
       "  4.376988238205929e-08,\n",
       "  4.362645364960496e-08,\n",
       "  4.349392902052661e-08,\n",
       "  4.3783752052399725e-08,\n",
       "  4.4101983201764265e-08,\n",
       "  4.371004266258724e-08,\n",
       "  4.3709182117295054e-08,\n",
       "  4.3809126412110546e-08,\n",
       "  4.382963718225961e-08,\n",
       "  4.356035743976202e-08,\n",
       "  4.3732534149609274e-08,\n",
       "  4.361199221122085e-08,\n",
       "  4.37701931783794e-08,\n",
       "  4.4016662808373584e-08,\n",
       "  4.35754311782303e-08,\n",
       "  4.377075520597785e-08,\n",
       "  4.391205194182737e-08,\n",
       "  4.392765465510691e-08,\n",
       "  4.356209333895212e-08,\n",
       "  4.3830299198338597e-08,\n",
       "  4.365116800953248e-08,\n",
       "  4.372392608791892e-08,\n",
       "  4.360848705326319e-08,\n",
       "  4.401607154184027e-08,\n",
       "  4.347068810950108e-08,\n",
       "  4.386768728684527e-08,\n",
       "  4.357310766960509e-08,\n",
       "  4.3859927285475465e-08,\n",
       "  4.361156119284212e-08,\n",
       "  4.4165241845376766e-08,\n",
       "  4.377929049881803e-08,\n",
       "  4.38344480290989e-08,\n",
       "  4.3825896947256445e-08,\n",
       "  4.3729146043456834e-08,\n",
       "  4.377625436272661e-08,\n",
       "  4.382439302467702e-08,\n",
       "  4.35928186894102e-08,\n",
       "  4.396388664913516e-08,\n",
       "  4.3759785553785665e-08,\n",
       "  4.369092282909316e-08,\n",
       "  4.382465266586311e-08,\n",
       "  4.384184087170051e-08,\n",
       "  4.377858985689359e-08,\n",
       "  4.361456605260002e-08,\n",
       "  4.382316532798503e-08,\n",
       "  4.366147154406538e-08,\n",
       "  4.381263075905942e-08,\n",
       "  4.36789261008219e-08,\n",
       "  4.354092743017927e-08,\n",
       "  4.3932704365401204e-08,\n",
       "  4.4146778400505514e-08,\n",
       "  4.3878254523426206e-08,\n",
       "  4.349296962024989e-08,\n",
       "  4.398534974251246e-08,\n",
       "  4.374661160694718e-08,\n",
       "  4.366270788538064e-08,\n",
       "  4.3866340694883224e-08,\n",
       "  4.37531609291255e-08,\n",
       "  4.402465244626799e-08,\n",
       "  4.388051354256082e-08,\n",
       "  4.3837975974839585e-08],\n",
       " 'val_loss': [0.01521598562900749,\n",
       "  0.0015976501311055686,\n",
       "  0.00019316577218416595,\n",
       "  2.015825759087805e-05,\n",
       "  2.291202644562718e-06,\n",
       "  2.693219193162658e-07,\n",
       "  2.9805265664833496e-08,\n",
       "  4.510258468354873e-09,\n",
       "  1.6937395454568201e-09,\n",
       "  1.5200867943863533e-09,\n",
       "  1.4791173093020469e-09,\n",
       "  1.4888671046538723e-09,\n",
       "  1.493921383624608e-09,\n",
       "  1.4939873761855871e-09,\n",
       "  1.48941881655983e-09,\n",
       "  1.4939854403193532e-09,\n",
       "  1.4982679820863147e-09,\n",
       "  1.49207097896861e-09,\n",
       "  1.4894831976633677e-09,\n",
       "  1.4883285344818263e-09,\n",
       "  1.516432860778022e-09,\n",
       "  1.4885162426901321e-09,\n",
       "  1.4948679541379108e-09,\n",
       "  1.4910786219909938e-09,\n",
       "  1.4870690648610355e-09,\n",
       "  1.4946457428644624e-09,\n",
       "  1.517716655886356e-09,\n",
       "  1.4939694992793706e-09,\n",
       "  1.496086396629445e-09,\n",
       "  1.4926393633040369e-09,\n",
       "  1.5101544972097589e-09,\n",
       "  1.5107124216794393e-09,\n",
       "  1.5022391668088946e-09,\n",
       "  1.4901703164434152e-09,\n",
       "  1.4932169351296263e-09,\n",
       "  1.5357661555459213e-09,\n",
       "  1.4920683367325597e-09,\n",
       "  1.4911977472183658e-09,\n",
       "  1.5671497855985608e-09,\n",
       "  1.4900810883775553e-09,\n",
       "  1.5297572302577257e-09,\n",
       "  1.5163153482362844e-09,\n",
       "  1.5039857967111419e-09,\n",
       "  1.5006038927439268e-09,\n",
       "  1.4911919069978052e-09,\n",
       "  1.5066897219658329e-09,\n",
       "  1.5120577089854563e-09,\n",
       "  1.493123005189716e-09,\n",
       "  1.5070016494351196e-09,\n",
       "  1.490066444819237e-09,\n",
       "  1.4925678010870591e-09,\n",
       "  1.4935964396605414e-09,\n",
       "  1.4931023569856382e-09,\n",
       "  1.5166277292781037e-09,\n",
       "  1.4965105172583484e-09,\n",
       "  1.52872436756222e-09,\n",
       "  1.49296503964976e-09,\n",
       "  1.5150638863217153e-09,\n",
       "  1.5149337154903229e-09,\n",
       "  1.5093038799743575e-09,\n",
       "  1.497897069143212e-09,\n",
       "  1.5027390150154544e-09,\n",
       "  1.4957151111707852e-09,\n",
       "  1.513683435108625e-09,\n",
       "  1.5538355945365224e-09,\n",
       "  1.4972841960966188e-09,\n",
       "  1.48480321840377e-09,\n",
       "  1.5155698065777747e-09,\n",
       "  1.5020885219110945e-09,\n",
       "  1.4986986670108065e-09,\n",
       "  1.5034551652142327e-09,\n",
       "  1.4919195093117053e-09,\n",
       "  1.4959058194442157e-09,\n",
       "  1.5672468374221077e-09,\n",
       "  1.4938609475322375e-09,\n",
       "  1.5521437862748028e-09,\n",
       "  1.4923972689935534e-09,\n",
       "  1.4924607356487361e-09,\n",
       "  1.4830511719154275e-09,\n",
       "  1.5160513642595583e-09,\n",
       "  1.4840627309807025e-09,\n",
       "  1.4896450658062339e-09,\n",
       "  1.5631463546876968e-09,\n",
       "  1.5087870962434902e-09,\n",
       "  1.49843298593416e-09,\n",
       "  1.494229036506096e-09,\n",
       "  1.5054049685944425e-09,\n",
       "  1.5240541002874907e-09,\n",
       "  1.5000700088323608e-09,\n",
       "  1.492686150266509e-09,\n",
       "  1.496291715716491e-09,\n",
       "  1.5356632241771512e-09,\n",
       "  1.502052417133836e-09,\n",
       "  1.489874341904568e-09,\n",
       "  1.490722340272182e-09,\n",
       "  1.4961573788228474e-09,\n",
       "  1.498070447813849e-09,\n",
       "  1.4932762140775032e-09,\n",
       "  1.4961300370548222e-09,\n",
       "  1.492472859225431e-09]}"
      ]
     },
     "execution_count": 93,
     "metadata": {},
     "output_type": "execute_result"
    }
   ],
   "source": [
    "import pandas as pd\n",
    "import matplotlib.pyplot as plt\n",
    "\n",
    "hist\n",
    "# loss의 결과를 시각화하세요."
   ]
  },
  {
   "cell_type": "code",
   "execution_count": 94,
   "metadata": {},
   "outputs": [],
   "source": [
    "df = pd.DataFrame(hist)"
   ]
  },
  {
   "cell_type": "code",
   "execution_count": 95,
   "metadata": {},
   "outputs": [
    {
     "data": {
      "text/html": [
       "<div>\n",
       "<style scoped>\n",
       "    .dataframe tbody tr th:only-of-type {\n",
       "        vertical-align: middle;\n",
       "    }\n",
       "\n",
       "    .dataframe tbody tr th {\n",
       "        vertical-align: top;\n",
       "    }\n",
       "\n",
       "    .dataframe thead th {\n",
       "        text-align: right;\n",
       "    }\n",
       "</style>\n",
       "<table border=\"1\" class=\"dataframe\">\n",
       "  <thead>\n",
       "    <tr style=\"text-align: right;\">\n",
       "      <th></th>\n",
       "      <th>pred</th>\n",
       "      <th>target</th>\n",
       "    </tr>\n",
       "  </thead>\n",
       "  <tbody>\n",
       "    <tr>\n",
       "      <th>0</th>\n",
       "      <td>-0.049984</td>\n",
       "      <td>-0.05</td>\n",
       "    </tr>\n",
       "    <tr>\n",
       "      <th>1</th>\n",
       "      <td>-0.030006</td>\n",
       "      <td>-0.03</td>\n",
       "    </tr>\n",
       "    <tr>\n",
       "      <th>2</th>\n",
       "      <td>-0.010005</td>\n",
       "      <td>-0.01</td>\n",
       "    </tr>\n",
       "    <tr>\n",
       "      <th>3</th>\n",
       "      <td>0.010005</td>\n",
       "      <td>0.01</td>\n",
       "    </tr>\n",
       "    <tr>\n",
       "      <th>4</th>\n",
       "      <td>0.030006</td>\n",
       "      <td>0.03</td>\n",
       "    </tr>\n",
       "  </tbody>\n",
       "</table>\n",
       "</div>"
      ],
      "text/plain": [
       "       pred  target\n",
       "0 -0.049984   -0.05\n",
       "1 -0.030006   -0.03\n",
       "2 -0.010005   -0.01\n",
       "3  0.010005    0.01\n",
       "4  0.030006    0.03"
      ]
     },
     "execution_count": 95,
     "metadata": {},
     "output_type": "execute_result"
    }
   ],
   "source": [
    "pd.DataFrame({'pred':model.predict(x_test).ravel(), 'target':y_test.ravel()})"
   ]
  },
  {
   "cell_type": "code",
   "execution_count": 96,
   "metadata": {},
   "outputs": [
    {
     "data": {
      "text/plain": [
       "<matplotlib.axes._subplots.AxesSubplot at 0x14510b4bd08>"
      ]
     },
     "execution_count": 96,
     "metadata": {},
     "output_type": "execute_result"
    },
    {
     "data": {
      "image/png": "[encoded data removed]",
      "text/plain": [
       "<Figure size 432x288 with 1 Axes>"
      ]
     },
     "metadata": {
      "needs_background": "light"
     },
     "output_type": "display_data"
    }
   ],
   "source": [
    "df.plot()"
   ]
  },
  {
   "cell_type": "code",
   "execution_count": 97,
   "metadata": {},
   "outputs": [
    {
     "data": {
      "text/plain": [
       "array([[0.10005107]])"
      ]
     },
     "execution_count": 97,
     "metadata": {},
     "output_type": "execute_result"
    }
   ],
   "source": [
    "model.w"
   ]
  },
  {
   "cell_type": "code",
   "execution_count": 98,
   "metadata": {},
   "outputs": [
    {
     "data": {
      "text/plain": [
       "array([-0.05002536])"
      ]
     },
     "execution_count": 98,
     "metadata": {},
     "output_type": "execute_result"
    }
   ],
   "source": [
    "model.b"
   ]
  },
  {
   "cell_type": "code",
   "execution_count": null,
   "metadata": {},
   "outputs": [],
   "source": []
  }
 ],
 "metadata": {
  "kernelspec": {
   "display_name": "Python 3",
   "language": "python",
   "name": "python3"
  },
  "language_info": {
   "codemirror_mode": {
    "name": "ipython",
    "version": 3
   },
   "file_extension": ".py",
   "mimetype": "text/x-python",
   "name": "python",
   "nbconvert_exporter": "python",
   "pygments_lexer": "ipython3",
   "version": "3.7.5"
  },
  "toc": {
   "base_numbering": 1,
   "nav_menu": {},
   "number_sections": false,
   "sideBar": true,
   "skip_h1_title": false,
   "title_cell": "Table of Contents",
   "title_sidebar": "Contents",
   "toc_cell": false,
   "toc_position": {},
   "toc_section_display": true,
   "toc_window_display": false
  },
  "varInspector": {
   "cols": {
    "lenName": 16,
    "lenType": 16,
    "lenVar": 40
   },
   "kernels_config": {
    "python": {
     "delete_cmd_postfix": "",
     "delete_cmd_prefix": "del ",
     "library": "var_list.py",
     "varRefreshCmd": "print(var_dic_list())"
    },
    "r": {
     "delete_cmd_postfix": ") ",
     "delete_cmd_prefix": "rm(",
     "library": "var_list.r",
     "varRefreshCmd": "cat(var_dic_list()) "
    }
   },
   "types_to_exclude": [
    "module",
    "function",
    "builtin_function_or_method",
    "instance",
    "_Feature"
   ],
   "window_display": false
  }
 },
 "nbformat": 4,
 "nbformat_minor": 2
}
