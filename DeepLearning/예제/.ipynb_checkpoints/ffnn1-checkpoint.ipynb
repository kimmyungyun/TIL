{
 "cells": [
  {
   "cell_type": "markdown",
   "metadata": {},
   "source": [
    "### 7. custom FFNN\n",
    "#### 1) 활성화함수가 있는 FFNN\n",
    "활성화 함수가 있는 FFNN를 구현해 보자.\n",
    "$$\\begin{aligned}\n",
    "s &= x \\cdot w + b \\\\\n",
    "\\hat y &= f(s) \\\\\n",
    "e &= (\\hat y - y)^2 \\\\ \n",
    "& \\\\\n",
    "\\cfrac {\\partial e}{\\partial w} &= \\cfrac{\\partial e}{\\partial \\hat y} \\cfrac{\\partial \\hat y}{\\partial s} \\cfrac{\\partial s}{\\partial w} \\\\\n",
    "&= x^T \\cdot 2(\\hat y - y)f^{'}(s)\\\\\n",
    "(p, h=1) &= (b, p)^T \\cdot [(B, 1) \\times (B, 1)]\n",
    "\\end{aligned}$$\n",
    "\n",
    "참고로:\n",
    "$$\\begin{aligned}\n",
    "f(x) &= \\tanh(x) \\\\\n",
    "f^{'}(x) &= 1 - \\tanh^2(x)\n",
    "\\end{aligned}$$\n",
    "\n",
    "이를 위해 propagate_forward(self, x)함수를 구해보자."
   ]
  },
  {
   "cell_type": "code",
   "execution_count": 5,
   "metadata": {},
   "outputs": [],
   "source": [
    "%matplotlib inline\n",
    "import numpy as np\n",
    "from numpy.random import shuffle, rand\n",
    "\n",
    "x_train = np.random.rand(1024, 1)\n",
    "y_train = x_train * 0.1 - 0.05\n",
    "\n",
    "x_val = np.random.rand(32).reshape(-1,1)\n",
    "y_val = x_val * 0.1 - 0.05\n",
    "\n",
    "x_test = np.arange(0, 10, 2).reshape(-1,1)*.1\n",
    "y_test = x_test * 0.1 - 0.05"
   ]
  },
  {
   "cell_type": "code",
   "execution_count": 81,
   "metadata": {},
   "outputs": [],
   "source": [
    "class FFNN:\n",
    "    def __init__(self, lr=0.01):\n",
    "        self.lr = lr\n",
    "        # initial weights: w는 .5, b는 .0\n",
    "        self.w = np.array([0.5]).reshape(-1, 1)\n",
    "        self.b = np.array([0.])\n",
    "        \n",
    "    def calc_sum(self, x, w, b):\n",
    "        return np.dot(x, w) + b\n",
    "    \n",
    "    # feed forward network\n",
    "    def predict(self, x):\n",
    "        return np.tanh(self.calc_sum(x, self.w, self.b))\n",
    "    \n",
    "    # train for one batch. x 자체가 batch\n",
    "    def train_on_batch(self, x, y, istrain=True):\n",
    "        predict_y = self.predict(x)\n",
    "        loss = np.sum((predict_y - y) ** 2)\n",
    "        \n",
    "        if istrain:\n",
    "            qq = 2*(predict_y - y) * (1 - np.tanh(predict_y.T)**2).T \n",
    "            \n",
    "            dw = np.dot(x.T, qq)\n",
    "            db = np.sum(predict_y - y)\n",
    "            \n",
    "            self.w -= self.lr * dw\n",
    "            self.b -= self.lr * db\n",
    "        return loss\n",
    "    \n",
    "    def fit(self, x, y, batch_size=16, epochs=100, val_data=None):\n",
    "        Losses = {}\n",
    "        Losses[\"train_loss\"] = []\n",
    "        if val_data is not None:\n",
    "            Losses[\"val_loss\"] = []\n",
    "        randRow = np.arange(x.shape[0])\n",
    "        test_case = int(x.shape[0]//batch_size)\n",
    "        \n",
    "        for i in range(epochs):\n",
    "            Loss = 0\n",
    "            shuffle(randRow)\n",
    "            \n",
    "            for t in range(test_case):\n",
    "                batch_idx = t*batch_size\n",
    "                x_batch = x[RandRow[batch_idx: batch_idx+batch_size]]\n",
    "                y_batch = y[RandRow[batch_idx: batch_idx+batch_size]]\n",
    "                \n",
    "                Loss += self.train_on_batch(x_batch, y_batch)\n",
    "            \n",
    "            Losses[\"train_loss\"].append(Loss)\n",
    "            if val_data is not None:\n",
    "                Loss = self.train_on_batch(x_val, y_val, False)\n",
    "                Losses[\"val_loss\"].append(Loss)\n",
    "                \n",
    "        return Losses"
   ]
  },
  {
   "cell_type": "code",
   "execution_count": 82,
   "metadata": {},
   "outputs": [],
   "source": [
    "model = FFNN()"
   ]
  },
  {
   "cell_type": "code",
   "execution_count": 83,
   "metadata": {},
   "outputs": [],
   "source": [
    "hist = model.fit(x_train, y_train, val_data=(x_val, y_val))"
   ]
  },
  {
   "cell_type": "code",
   "execution_count": 84,
   "metadata": {
    "scrolled": true
   },
   "outputs": [
    {
     "data": {
      "text/plain": [
       "{'train_loss': [4.326529150447728,\n",
       "  0.2167359536606019,\n",
       "  0.024516504535352302,\n",
       "  0.002764606106978318,\n",
       "  0.00031149309681067084,\n",
       "  3.511770166413707e-05,\n",
       "  3.992181340740132e-06,\n",
       "  4.878499253074279e-07,\n",
       "  9.354790675586178e-08,\n",
       "  4.9258291614644244e-08,\n",
       "  4.430909108788515e-08,\n",
       "  4.3764640242187266e-08,\n",
       "  4.3707655915862106e-08,\n",
       "  4.370269122055813e-08,\n",
       "  4.370261956775949e-08,\n",
       "  4.3702775074070466e-08,\n",
       "  4.370284747887106e-08,\n",
       "  4.3702874053533174e-08,\n",
       "  4.370288322787751e-08,\n",
       "  4.370288633549145e-08,\n",
       "  4.3702887381586005e-08,\n",
       "  4.370288773300817e-08,\n",
       "  4.3702887850973495e-08,\n",
       "  4.3702887890568606e-08,\n",
       "  4.370288790385285e-08,\n",
       "  4.3702887908319213e-08,\n",
       "  4.37028879098107e-08,\n",
       "  4.370288791031495e-08,\n",
       "  4.370288791047948e-08,\n",
       "  4.3702887910543264e-08,\n",
       "  4.370288791055829e-08,\n",
       "  4.3702887910561826e-08,\n",
       "  4.370288791056651e-08,\n",
       "  4.3702887910562964e-08,\n",
       "  4.37028879105666e-08,\n",
       "  4.37028879105666e-08,\n",
       "  4.37028879105666e-08,\n",
       "  4.37028879105666e-08,\n",
       "  4.37028879105666e-08,\n",
       "  4.37028879105666e-08,\n",
       "  4.37028879105666e-08,\n",
       "  4.37028879105666e-08,\n",
       "  4.37028879105666e-08,\n",
       "  4.37028879105666e-08,\n",
       "  4.37028879105666e-08,\n",
       "  4.37028879105666e-08,\n",
       "  4.37028879105666e-08,\n",
       "  4.37028879105666e-08,\n",
       "  4.37028879105666e-08,\n",
       "  4.37028879105666e-08,\n",
       "  4.37028879105666e-08,\n",
       "  4.37028879105666e-08,\n",
       "  4.37028879105666e-08,\n",
       "  4.37028879105666e-08,\n",
       "  4.37028879105666e-08,\n",
       "  4.37028879105666e-08,\n",
       "  4.37028879105666e-08,\n",
       "  4.37028879105666e-08,\n",
       "  4.37028879105666e-08,\n",
       "  4.37028879105666e-08,\n",
       "  4.37028879105666e-08,\n",
       "  4.37028879105666e-08,\n",
       "  4.37028879105666e-08,\n",
       "  4.37028879105666e-08,\n",
       "  4.37028879105666e-08,\n",
       "  4.37028879105666e-08,\n",
       "  4.37028879105666e-08,\n",
       "  4.37028879105666e-08,\n",
       "  4.37028879105666e-08,\n",
       "  4.37028879105666e-08,\n",
       "  4.37028879105666e-08,\n",
       "  4.37028879105666e-08,\n",
       "  4.37028879105666e-08,\n",
       "  4.37028879105666e-08,\n",
       "  4.37028879105666e-08,\n",
       "  4.37028879105666e-08,\n",
       "  4.37028879105666e-08,\n",
       "  4.37028879105666e-08,\n",
       "  4.37028879105666e-08,\n",
       "  4.37028879105666e-08,\n",
       "  4.37028879105666e-08,\n",
       "  4.37028879105666e-08,\n",
       "  4.37028879105666e-08,\n",
       "  4.37028879105666e-08,\n",
       "  4.37028879105666e-08,\n",
       "  4.37028879105666e-08,\n",
       "  4.37028879105666e-08,\n",
       "  4.37028879105666e-08,\n",
       "  4.37028879105666e-08,\n",
       "  4.37028879105666e-08,\n",
       "  4.37028879105666e-08,\n",
       "  4.37028879105666e-08,\n",
       "  4.37028879105666e-08,\n",
       "  4.37028879105666e-08,\n",
       "  4.37028879105666e-08,\n",
       "  4.37028879105666e-08,\n",
       "  4.37028879105666e-08,\n",
       "  4.37028879105666e-08,\n",
       "  4.37028879105666e-08,\n",
       "  4.37028879105666e-08],\n",
       " 'val_loss': [0.016780657704745558,\n",
       "  0.001901463035708394,\n",
       "  0.0002144327387497915,\n",
       "  2.413076532474653e-05,\n",
       "  2.708239311145412e-06,\n",
       "  3.0261316430817014e-07,\n",
       "  3.4157202384168204e-08,\n",
       "  4.7535743473965564e-09,\n",
       "  1.7204764962351118e-09,\n",
       "  1.4722604684611596e-09,\n",
       "  1.475635588918025e-09,\n",
       "  1.486528633640656e-09,\n",
       "  1.491283280863896e-09,\n",
       "  1.4930026258778844e-09,\n",
       "  1.4935935430361466e-09,\n",
       "  1.4937934127652997e-09,\n",
       "  1.4938606618197964e-09,\n",
       "  1.4938832491620404e-09,\n",
       "  1.4938908312639753e-09,\n",
       "  1.4938933759176396e-09,\n",
       "  1.4938942298807273e-09,\n",
       "  1.4938945164566678e-09,\n",
       "  1.4938946126261783e-09,\n",
       "  1.4938946448998179e-09,\n",
       "  1.4938946557290063e-09,\n",
       "  1.493894659363943e-09,\n",
       "  1.4938946605832703e-09,\n",
       "  1.4938946609918702e-09,\n",
       "  1.493894661130251e-09,\n",
       "  1.4938946611753448e-09,\n",
       "  1.4938946611917007e-09,\n",
       "  1.4938946611965738e-09,\n",
       "  1.4938946611985803e-09,\n",
       "  1.4938946611984223e-09,\n",
       "  1.4938946611984223e-09,\n",
       "  1.4938946611984223e-09,\n",
       "  1.4938946611984223e-09,\n",
       "  1.4938946611984223e-09,\n",
       "  1.4938946611984223e-09,\n",
       "  1.4938946611984223e-09,\n",
       "  1.4938946611984223e-09,\n",
       "  1.4938946611984223e-09,\n",
       "  1.4938946611984223e-09,\n",
       "  1.4938946611984223e-09,\n",
       "  1.4938946611984223e-09,\n",
       "  1.4938946611984223e-09,\n",
       "  1.4938946611984223e-09,\n",
       "  1.4938946611984223e-09,\n",
       "  1.4938946611984223e-09,\n",
       "  1.4938946611984223e-09,\n",
       "  1.4938946611984223e-09,\n",
       "  1.4938946611984223e-09,\n",
       "  1.4938946611984223e-09,\n",
       "  1.4938946611984223e-09,\n",
       "  1.4938946611984223e-09,\n",
       "  1.4938946611984223e-09,\n",
       "  1.4938946611984223e-09,\n",
       "  1.4938946611984223e-09,\n",
       "  1.4938946611984223e-09,\n",
       "  1.4938946611984223e-09,\n",
       "  1.4938946611984223e-09,\n",
       "  1.4938946611984223e-09,\n",
       "  1.4938946611984223e-09,\n",
       "  1.4938946611984223e-09,\n",
       "  1.4938946611984223e-09,\n",
       "  1.4938946611984223e-09,\n",
       "  1.4938946611984223e-09,\n",
       "  1.4938946611984223e-09,\n",
       "  1.4938946611984223e-09,\n",
       "  1.4938946611984223e-09,\n",
       "  1.4938946611984223e-09,\n",
       "  1.4938946611984223e-09,\n",
       "  1.4938946611984223e-09,\n",
       "  1.4938946611984223e-09,\n",
       "  1.4938946611984223e-09,\n",
       "  1.4938946611984223e-09,\n",
       "  1.4938946611984223e-09,\n",
       "  1.4938946611984223e-09,\n",
       "  1.4938946611984223e-09,\n",
       "  1.4938946611984223e-09,\n",
       "  1.4938946611984223e-09,\n",
       "  1.4938946611984223e-09,\n",
       "  1.4938946611984223e-09,\n",
       "  1.4938946611984223e-09,\n",
       "  1.4938946611984223e-09,\n",
       "  1.4938946611984223e-09,\n",
       "  1.4938946611984223e-09,\n",
       "  1.4938946611984223e-09,\n",
       "  1.4938946611984223e-09,\n",
       "  1.4938946611984223e-09,\n",
       "  1.4938946611984223e-09,\n",
       "  1.4938946611984223e-09,\n",
       "  1.4938946611984223e-09,\n",
       "  1.4938946611984223e-09,\n",
       "  1.4938946611984223e-09,\n",
       "  1.4938946611984223e-09,\n",
       "  1.4938946611984223e-09,\n",
       "  1.4938946611984223e-09,\n",
       "  1.4938946611984223e-09,\n",
       "  1.4938946611984223e-09]}"
      ]
     },
     "execution_count": 84,
     "metadata": {},
     "output_type": "execute_result"
    }
   ],
   "source": [
    "import pandas as pd\n",
    "import matplotlib.pyplot as plt\n",
    "\n",
    "hist\n",
    "# loss의 결과를 시각화하세요."
   ]
  },
  {
   "cell_type": "code",
   "execution_count": 85,
   "metadata": {},
   "outputs": [],
   "source": [
    "df = pd.DataFrame(hist)"
   ]
  },
  {
   "cell_type": "code",
   "execution_count": 86,
   "metadata": {},
   "outputs": [
    {
     "data": {
      "text/html": [
       "<div>\n",
       "<style scoped>\n",
       "    .dataframe tbody tr th:only-of-type {\n",
       "        vertical-align: middle;\n",
       "    }\n",
       "\n",
       "    .dataframe tbody tr th {\n",
       "        vertical-align: top;\n",
       "    }\n",
       "\n",
       "    .dataframe thead th {\n",
       "        text-align: right;\n",
       "    }\n",
       "</style>\n",
       "<table border=\"1\" class=\"dataframe\">\n",
       "  <thead>\n",
       "    <tr style=\"text-align: right;\">\n",
       "      <th></th>\n",
       "      <th>pred</th>\n",
       "      <th>target</th>\n",
       "    </tr>\n",
       "  </thead>\n",
       "  <tbody>\n",
       "    <tr>\n",
       "      <th>0</th>\n",
       "      <td>-0.049984</td>\n",
       "      <td>-0.05</td>\n",
       "    </tr>\n",
       "    <tr>\n",
       "      <th>1</th>\n",
       "      <td>-0.030006</td>\n",
       "      <td>-0.03</td>\n",
       "    </tr>\n",
       "    <tr>\n",
       "      <th>2</th>\n",
       "      <td>-0.010005</td>\n",
       "      <td>-0.01</td>\n",
       "    </tr>\n",
       "    <tr>\n",
       "      <th>3</th>\n",
       "      <td>0.010005</td>\n",
       "      <td>0.01</td>\n",
       "    </tr>\n",
       "    <tr>\n",
       "      <th>4</th>\n",
       "      <td>0.030006</td>\n",
       "      <td>0.03</td>\n",
       "    </tr>\n",
       "  </tbody>\n",
       "</table>\n",
       "</div>"
      ],
      "text/plain": [
       "       pred  target\n",
       "0 -0.049984   -0.05\n",
       "1 -0.030006   -0.03\n",
       "2 -0.010005   -0.01\n",
       "3  0.010005    0.01\n",
       "4  0.030006    0.03"
      ]
     },
     "execution_count": 86,
     "metadata": {},
     "output_type": "execute_result"
    }
   ],
   "source": [
    "pd.DataFrame({'pred':model.predict(x_test).ravel(), 'target':y_test.ravel()})"
   ]
  },
  {
   "cell_type": "code",
   "execution_count": 87,
   "metadata": {},
   "outputs": [
    {
     "data": {
      "text/plain": [
       "<matplotlib.axes._subplots.AxesSubplot at 0x14510abce08>"
      ]
     },
     "execution_count": 87,
     "metadata": {},
     "output_type": "execute_result"
    },
    {
     "data": {
      "image/png": "[encoded data removed]",
      "text/plain": [
       "<Figure size 432x288 with 1 Axes>"
      ]
     },
     "metadata": {
      "needs_background": "light"
     },
     "output_type": "display_data"
    }
   ],
   "source": [
    "df.plot()"
   ]
  },
  {
   "cell_type": "code",
   "execution_count": 88,
   "metadata": {},
   "outputs": [
    {
     "data": {
      "text/plain": [
       "array([[0.10005096]])"
      ]
     },
     "execution_count": 88,
     "metadata": {},
     "output_type": "execute_result"
    }
   ],
   "source": [
    "model.w"
   ]
  },
  {
   "cell_type": "code",
   "execution_count": 89,
   "metadata": {},
   "outputs": [
    {
     "data": {
      "text/plain": [
       "array([-0.05002549])"
      ]
     },
     "execution_count": 89,
     "metadata": {},
     "output_type": "execute_result"
    }
   ],
   "source": [
    "model.b"
   ]
  },
  {
   "cell_type": "code",
   "execution_count": null,
   "metadata": {},
   "outputs": [],
   "source": []
  }
 ],
 "metadata": {
  "kernelspec": {
   "display_name": "Python 3",
   "language": "python",
   "name": "python3"
  },
  "language_info": {
   "codemirror_mode": {
    "name": "ipython",
    "version": 3
   },
   "file_extension": ".py",
   "mimetype": "text/x-python",
   "name": "python",
   "nbconvert_exporter": "python",
   "pygments_lexer": "ipython3",
   "version": "3.7.5"
  },
  "toc": {
   "base_numbering": 1,
   "nav_menu": {},
   "number_sections": false,
   "sideBar": true,
   "skip_h1_title": false,
   "title_cell": "Table of Contents",
   "title_sidebar": "Contents",
   "toc_cell": false,
   "toc_position": {},
   "toc_section_display": true,
   "toc_window_display": false
  },
  "varInspector": {
   "cols": {
    "lenName": 16,
    "lenType": 16,
    "lenVar": 40
   },
   "kernels_config": {
    "python": {
     "delete_cmd_postfix": "",
     "delete_cmd_prefix": "del ",
     "library": "var_list.py",
     "varRefreshCmd": "print(var_dic_list())"
    },
    "r": {
     "delete_cmd_postfix": ") ",
     "delete_cmd_prefix": "rm(",
     "library": "var_list.r",
     "varRefreshCmd": "cat(var_dic_list()) "
    }
   },
   "types_to_exclude": [
    "module",
    "function",
    "builtin_function_or_method",
    "instance",
    "_Feature"
   ],
   "window_display": false
  }
 },
 "nbformat": 4,
 "nbformat_minor": 2
}
