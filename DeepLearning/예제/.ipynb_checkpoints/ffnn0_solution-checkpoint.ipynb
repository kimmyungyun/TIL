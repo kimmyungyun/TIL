{
 "cells": [
  {
   "cell_type": "markdown",
   "metadata": {},
   "source": [
    "### 직접 만드는 Feed Forward Neural Network\n",
    "1개의 neuron 만으로 구성되는 단순한 FFNN regresser를 구현해보자.\n",
    "\n",
    "for one sample (x, y) :\n",
    "$$\\begin{aligned}\n",
    "s &= x \\cdot w + b \\\\\n",
    "e &= (s - y)^2\n",
    "\\end{aligned}$$\n",
    "\n",
    "for gradients :\n",
    "$$\\begin{aligned}\n",
    "\\Delta w = \\cfrac {\\partial e}{\\partial w} &= \\cfrac{\\partial e}{\\partial s} \\cfrac{\\partial s}{\\partial w} = 2 (s - y) \\cdot x \\\\\n",
    "&= 2(s - y) \\cdot x \\\\\n",
    "\\Delta b = \\cfrac {\\partial e}{\\partial b} &= \\cfrac{\\partial e}{\\partial s} \\cfrac{\\partial s}{\\partial b} = 2 (s - y) \\cdot 1\n",
    "\\end{aligned}$$\n",
    "\n",
    "for batch samples :\n",
    "- (grad_w, grad_b) = average (de/dw, de/db) over samples in batch\n",
    "\n",
    "for update :\n",
    "- w -= grad_w * learning_rate\n",
    "- b -= grad_b * learning_rate"
   ]
  },
  {
   "cell_type": "code",
   "execution_count": 1,
   "metadata": {},
   "outputs": [],
   "source": [
    "import numpy as np"
   ]
  },
  {
   "cell_type": "code",
   "execution_count": 2,
   "metadata": {},
   "outputs": [],
   "source": [
    "x_train = np.random.rand(1024, 1)\n",
    "y_train = x_train * 2 + 1"
   ]
  },
  {
   "cell_type": "code",
   "execution_count": 3,
   "metadata": {},
   "outputs": [
    {
     "data": {
      "text/plain": [
       "array([[0.2],\n",
       "       [0.4],\n",
       "       [0.6],\n",
       "       [0.8]])"
      ]
     },
     "execution_count": 3,
     "metadata": {},
     "output_type": "execute_result"
    }
   ],
   "source": [
    "x_val = np.random.rand(32, 1)\n",
    "y_val = x_val * 2 + 1\n",
    "\n",
    "x_test = np.arange(1, 5).reshape(-1,1) * 2 / 10\n",
    "y_test = x_test * 2 + 1\n",
    "x_test"
   ]
  },
  {
   "cell_type": "code",
   "execution_count": 12,
   "metadata": {},
   "outputs": [],
   "source": [
    "class FFNN:\n",
    "    def __init__(self, lr=0.01):\n",
    "        self.lr = lr\n",
    "        self.w = np.array([.5]).reshape(-1,1)\n",
    "        self.b = np.array([.0])\n",
    "        \n",
    "    def calc_sum(self, x, w, b):\n",
    "        return x.dot(w) + b\n",
    "    \n",
    "    # feed forward network\n",
    "    def predict(self, x):\n",
    "        return self.calc_sum(x, self.w, self.b)\n",
    "    \n",
    "    # train for one batch. x 자체가 batch\n",
    "    def train_on_batch(self, x, y, istrain=True):\n",
    "        s = self.predict(x)\n",
    "        N = x.shape[0]\n",
    "        loss = 1/2 * np.sum((s - y)**2)\n",
    "        if istrain:\n",
    "            dw = 1/N * x.T.dot((s - y))\n",
    "            db = 1/N * np.sum(s-y)\n",
    "            self.w -= dw\n",
    "            self.b -= db\n",
    "        return loss\n",
    "    \n",
    "    # epochs 동안 batch 단위의 학습을 반복하며, loss를 추가함.\n",
    "    def fit(self, x, y, batch_size=16, epochs=100, val_data=None):\n",
    "        Losses = {}\n",
    "        Losses[\"train_loss\"] = []\n",
    "        if val_data is not None:\n",
    "            Losses[\"val_loss\"] = []\n",
    "        \n",
    "        for i in range(epochs):\n",
    "            Loss = 0\n",
    "            N = x.shape[0]\n",
    "            for j in range(0, N, batch_size):\n",
    "                x_batch = x[j:j+batch_size]\n",
    "                y_batch = y[j:j+batch_size]\n",
    "                n = x_batch.shape[0]\n",
    "                Loss += (self.train_on_batch(x_batch, y_batch) / n)\n",
    "        \n",
    "            print(\"Train Loss at Epoch %d is %.8f\" %(i, Loss))\n",
    "            Losses[\"train_loss\"].append(Loss)\n",
    "            if val_data is not None:\n",
    "                val_N = val_data[0].shape[0]\n",
    "                val_loss = self.train_on_batch(*val_data) / val_N\n",
    "                print(\"Val Loss at Epoch %d is %.8f\" %(i, val_loss))\n",
    "                Losses[\"val_loss\"].append(val_loss)\n",
    "                \n",
    "        return Losses"
   ]
  },
  {
   "cell_type": "code",
   "execution_count": 13,
   "metadata": {},
   "outputs": [],
   "source": [
    "model = FFNN()"
   ]
  },
  {
   "cell_type": "code",
   "execution_count": 14,
   "metadata": {},
   "outputs": [
    {
     "name": "stdout",
     "output_type": "stream",
     "text": [
      "Train Loss at Epoch 0 is 1.96683198\n",
      "Val Loss at Epoch 0 is 0.00000762\n",
      "Train Loss at Epoch 1 is 0.00004998\n",
      "Val Loss at Epoch 1 is 0.00000000\n",
      "Train Loss at Epoch 2 is 0.00000001\n",
      "Val Loss at Epoch 2 is 0.00000000\n",
      "Train Loss at Epoch 3 is 0.00000000\n",
      "Val Loss at Epoch 3 is 0.00000000\n",
      "Train Loss at Epoch 4 is 0.00000000\n",
      "Val Loss at Epoch 4 is 0.00000000\n",
      "Train Loss at Epoch 5 is 0.00000000\n",
      "Val Loss at Epoch 5 is 0.00000000\n",
      "Train Loss at Epoch 6 is 0.00000000\n",
      "Val Loss at Epoch 6 is 0.00000000\n",
      "Train Loss at Epoch 7 is 0.00000000\n",
      "Val Loss at Epoch 7 is 0.00000000\n",
      "Train Loss at Epoch 8 is 0.00000000\n",
      "Val Loss at Epoch 8 is 0.00000000\n",
      "Train Loss at Epoch 9 is 0.00000000\n",
      "Val Loss at Epoch 9 is 0.00000000\n",
      "Train Loss at Epoch 10 is 0.00000000\n",
      "Val Loss at Epoch 10 is 0.00000000\n",
      "Train Loss at Epoch 11 is 0.00000000\n",
      "Val Loss at Epoch 11 is 0.00000000\n",
      "Train Loss at Epoch 12 is 0.00000000\n",
      "Val Loss at Epoch 12 is 0.00000000\n",
      "Train Loss at Epoch 13 is 0.00000000\n",
      "Val Loss at Epoch 13 is 0.00000000\n",
      "Train Loss at Epoch 14 is 0.00000000\n",
      "Val Loss at Epoch 14 is 0.00000000\n",
      "Train Loss at Epoch 15 is 0.00000000\n",
      "Val Loss at Epoch 15 is 0.00000000\n",
      "Train Loss at Epoch 16 is 0.00000000\n",
      "Val Loss at Epoch 16 is 0.00000000\n",
      "Train Loss at Epoch 17 is 0.00000000\n",
      "Val Loss at Epoch 17 is 0.00000000\n",
      "Train Loss at Epoch 18 is 0.00000000\n",
      "Val Loss at Epoch 18 is 0.00000000\n",
      "Train Loss at Epoch 19 is 0.00000000\n",
      "Val Loss at Epoch 19 is 0.00000000\n",
      "Train Loss at Epoch 20 is 0.00000000\n",
      "Val Loss at Epoch 20 is 0.00000000\n",
      "Train Loss at Epoch 21 is 0.00000000\n",
      "Val Loss at Epoch 21 is 0.00000000\n",
      "Train Loss at Epoch 22 is 0.00000000\n",
      "Val Loss at Epoch 22 is 0.00000000\n",
      "Train Loss at Epoch 23 is 0.00000000\n",
      "Val Loss at Epoch 23 is 0.00000000\n",
      "Train Loss at Epoch 24 is 0.00000000\n",
      "Val Loss at Epoch 24 is 0.00000000\n",
      "Train Loss at Epoch 25 is 0.00000000\n",
      "Val Loss at Epoch 25 is 0.00000000\n",
      "Train Loss at Epoch 26 is 0.00000000\n",
      "Val Loss at Epoch 26 is 0.00000000\n",
      "Train Loss at Epoch 27 is 0.00000000\n",
      "Val Loss at Epoch 27 is 0.00000000\n",
      "Train Loss at Epoch 28 is 0.00000000\n",
      "Val Loss at Epoch 28 is 0.00000000\n",
      "Train Loss at Epoch 29 is 0.00000000\n",
      "Val Loss at Epoch 29 is 0.00000000\n",
      "Train Loss at Epoch 30 is 0.00000000\n",
      "Val Loss at Epoch 30 is 0.00000000\n",
      "Train Loss at Epoch 31 is 0.00000000\n",
      "Val Loss at Epoch 31 is 0.00000000\n",
      "Train Loss at Epoch 32 is 0.00000000\n",
      "Val Loss at Epoch 32 is 0.00000000\n",
      "Train Loss at Epoch 33 is 0.00000000\n",
      "Val Loss at Epoch 33 is 0.00000000\n",
      "Train Loss at Epoch 34 is 0.00000000\n",
      "Val Loss at Epoch 34 is 0.00000000\n",
      "Train Loss at Epoch 35 is 0.00000000\n",
      "Val Loss at Epoch 35 is 0.00000000\n",
      "Train Loss at Epoch 36 is 0.00000000\n",
      "Val Loss at Epoch 36 is 0.00000000\n",
      "Train Loss at Epoch 37 is 0.00000000\n",
      "Val Loss at Epoch 37 is 0.00000000\n",
      "Train Loss at Epoch 38 is 0.00000000\n",
      "Val Loss at Epoch 38 is 0.00000000\n",
      "Train Loss at Epoch 39 is 0.00000000\n",
      "Val Loss at Epoch 39 is 0.00000000\n",
      "Train Loss at Epoch 40 is 0.00000000\n",
      "Val Loss at Epoch 40 is 0.00000000\n",
      "Train Loss at Epoch 41 is 0.00000000\n",
      "Val Loss at Epoch 41 is 0.00000000\n",
      "Train Loss at Epoch 42 is 0.00000000\n",
      "Val Loss at Epoch 42 is 0.00000000\n",
      "Train Loss at Epoch 43 is 0.00000000\n",
      "Val Loss at Epoch 43 is 0.00000000\n",
      "Train Loss at Epoch 44 is 0.00000000\n",
      "Val Loss at Epoch 44 is 0.00000000\n",
      "Train Loss at Epoch 45 is 0.00000000\n",
      "Val Loss at Epoch 45 is 0.00000000\n",
      "Train Loss at Epoch 46 is 0.00000000\n",
      "Val Loss at Epoch 46 is 0.00000000\n",
      "Train Loss at Epoch 47 is 0.00000000\n",
      "Val Loss at Epoch 47 is 0.00000000\n",
      "Train Loss at Epoch 48 is 0.00000000\n",
      "Val Loss at Epoch 48 is 0.00000000\n",
      "Train Loss at Epoch 49 is 0.00000000\n",
      "Val Loss at Epoch 49 is 0.00000000\n",
      "Train Loss at Epoch 50 is 0.00000000\n",
      "Val Loss at Epoch 50 is 0.00000000\n",
      "Train Loss at Epoch 51 is 0.00000000\n",
      "Val Loss at Epoch 51 is 0.00000000\n",
      "Train Loss at Epoch 52 is 0.00000000\n",
      "Val Loss at Epoch 52 is 0.00000000\n",
      "Train Loss at Epoch 53 is 0.00000000\n",
      "Val Loss at Epoch 53 is 0.00000000\n",
      "Train Loss at Epoch 54 is 0.00000000\n",
      "Val Loss at Epoch 54 is 0.00000000\n",
      "Train Loss at Epoch 55 is 0.00000000\n",
      "Val Loss at Epoch 55 is 0.00000000\n",
      "Train Loss at Epoch 56 is 0.00000000\n",
      "Val Loss at Epoch 56 is 0.00000000\n",
      "Train Loss at Epoch 57 is 0.00000000\n",
      "Val Loss at Epoch 57 is 0.00000000\n",
      "Train Loss at Epoch 58 is 0.00000000\n",
      "Val Loss at Epoch 58 is 0.00000000\n",
      "Train Loss at Epoch 59 is 0.00000000\n",
      "Val Loss at Epoch 59 is 0.00000000\n",
      "Train Loss at Epoch 60 is 0.00000000\n",
      "Val Loss at Epoch 60 is 0.00000000\n",
      "Train Loss at Epoch 61 is 0.00000000\n",
      "Val Loss at Epoch 61 is 0.00000000\n",
      "Train Loss at Epoch 62 is 0.00000000\n",
      "Val Loss at Epoch 62 is 0.00000000\n",
      "Train Loss at Epoch 63 is 0.00000000\n",
      "Val Loss at Epoch 63 is 0.00000000\n",
      "Train Loss at Epoch 64 is 0.00000000\n",
      "Val Loss at Epoch 64 is 0.00000000\n",
      "Train Loss at Epoch 65 is 0.00000000\n",
      "Val Loss at Epoch 65 is 0.00000000\n",
      "Train Loss at Epoch 66 is 0.00000000\n",
      "Val Loss at Epoch 66 is 0.00000000\n",
      "Train Loss at Epoch 67 is 0.00000000\n",
      "Val Loss at Epoch 67 is 0.00000000\n",
      "Train Loss at Epoch 68 is 0.00000000\n",
      "Val Loss at Epoch 68 is 0.00000000\n",
      "Train Loss at Epoch 69 is 0.00000000\n",
      "Val Loss at Epoch 69 is 0.00000000\n",
      "Train Loss at Epoch 70 is 0.00000000\n",
      "Val Loss at Epoch 70 is 0.00000000\n",
      "Train Loss at Epoch 71 is 0.00000000\n",
      "Val Loss at Epoch 71 is 0.00000000\n",
      "Train Loss at Epoch 72 is 0.00000000\n",
      "Val Loss at Epoch 72 is 0.00000000\n",
      "Train Loss at Epoch 73 is 0.00000000\n",
      "Val Loss at Epoch 73 is 0.00000000\n",
      "Train Loss at Epoch 74 is 0.00000000\n",
      "Val Loss at Epoch 74 is 0.00000000\n",
      "Train Loss at Epoch 75 is 0.00000000\n",
      "Val Loss at Epoch 75 is 0.00000000\n",
      "Train Loss at Epoch 76 is 0.00000000\n",
      "Val Loss at Epoch 76 is 0.00000000\n",
      "Train Loss at Epoch 77 is 0.00000000\n",
      "Val Loss at Epoch 77 is 0.00000000\n",
      "Train Loss at Epoch 78 is 0.00000000\n",
      "Val Loss at Epoch 78 is 0.00000000\n",
      "Train Loss at Epoch 79 is 0.00000000\n",
      "Val Loss at Epoch 79 is 0.00000000\n",
      "Train Loss at Epoch 80 is 0.00000000\n",
      "Val Loss at Epoch 80 is 0.00000000\n",
      "Train Loss at Epoch 81 is 0.00000000\n",
      "Val Loss at Epoch 81 is 0.00000000\n",
      "Train Loss at Epoch 82 is 0.00000000\n",
      "Val Loss at Epoch 82 is 0.00000000\n",
      "Train Loss at Epoch 83 is 0.00000000\n",
      "Val Loss at Epoch 83 is 0.00000000\n",
      "Train Loss at Epoch 84 is 0.00000000\n",
      "Val Loss at Epoch 84 is 0.00000000\n",
      "Train Loss at Epoch 85 is 0.00000000\n",
      "Val Loss at Epoch 85 is 0.00000000\n",
      "Train Loss at Epoch 86 is 0.00000000\n",
      "Val Loss at Epoch 86 is 0.00000000\n",
      "Train Loss at Epoch 87 is 0.00000000\n",
      "Val Loss at Epoch 87 is 0.00000000\n",
      "Train Loss at Epoch 88 is 0.00000000\n",
      "Val Loss at Epoch 88 is 0.00000000\n",
      "Train Loss at Epoch 89 is 0.00000000\n",
      "Val Loss at Epoch 89 is 0.00000000\n",
      "Train Loss at Epoch 90 is 0.00000000\n",
      "Val Loss at Epoch 90 is 0.00000000\n",
      "Train Loss at Epoch 91 is 0.00000000\n",
      "Val Loss at Epoch 91 is 0.00000000\n",
      "Train Loss at Epoch 92 is 0.00000000\n",
      "Val Loss at Epoch 92 is 0.00000000\n",
      "Train Loss at Epoch 93 is 0.00000000\n",
      "Val Loss at Epoch 93 is 0.00000000\n",
      "Train Loss at Epoch 94 is 0.00000000\n",
      "Val Loss at Epoch 94 is 0.00000000\n",
      "Train Loss at Epoch 95 is 0.00000000\n",
      "Val Loss at Epoch 95 is 0.00000000\n",
      "Train Loss at Epoch 96 is 0.00000000\n",
      "Val Loss at Epoch 96 is 0.00000000\n",
      "Train Loss at Epoch 97 is 0.00000000\n",
      "Val Loss at Epoch 97 is 0.00000000\n",
      "Train Loss at Epoch 98 is 0.00000000\n",
      "Val Loss at Epoch 98 is 0.00000000\n",
      "Train Loss at Epoch 99 is 0.00000000\n",
      "Val Loss at Epoch 99 is 0.00000000\n"
     ]
    }
   ],
   "source": [
    "hist = model.fit(x_train, y_train, val_data=(x_val, y_val))"
   ]
  },
  {
   "cell_type": "code",
   "execution_count": 15,
   "metadata": {},
   "outputs": [
    {
     "data": {
      "text/plain": [
       "<matplotlib.axes._subplots.AxesSubplot at 0x1fcffbe3940>"
      ]
     },
     "execution_count": 15,
     "metadata": {},
     "output_type": "execute_result"
    },
    {
     "data": {
      "image/png": "[encoded data removed]",
      "text/plain": [
       "<Figure size 432x288 with 1 Axes>"
      ]
     },
     "metadata": {
      "needs_background": "light"
     },
     "output_type": "display_data"
    }
   ],
   "source": [
    "import pandas as pd\n",
    "import matplotlib.pyplot as plt\n",
    "%matplotlib inline\n",
    "\n",
    "pd.DataFrame(hist).plot()"
   ]
  },
  {
   "cell_type": "code",
   "execution_count": 16,
   "metadata": {},
   "outputs": [
    {
     "data": {
      "text/plain": [
       "<matplotlib.axes._subplots.AxesSubplot at 0x1fc8036c7f0>"
      ]
     },
     "execution_count": 16,
     "metadata": {},
     "output_type": "execute_result"
    },
    {
     "data": {
      "image/png": "[encoded data removed]",
      "text/plain": [
       "<Figure size 432x288 with 1 Axes>"
      ]
     },
     "metadata": {
      "needs_background": "light"
     },
     "output_type": "display_data"
    }
   ],
   "source": [
    "pd.DataFrame(hist)[:10].plot()"
   ]
  },
  {
   "cell_type": "code",
   "execution_count": 17,
   "metadata": {},
   "outputs": [
    {
     "data": {
      "text/plain": [
       "array([[2.]])"
      ]
     },
     "execution_count": 17,
     "metadata": {},
     "output_type": "execute_result"
    }
   ],
   "source": [
    "model.w"
   ]
  },
  {
   "cell_type": "code",
   "execution_count": 18,
   "metadata": {},
   "outputs": [
    {
     "data": {
      "text/plain": [
       "array([1.])"
      ]
     },
     "execution_count": 18,
     "metadata": {},
     "output_type": "execute_result"
    }
   ],
   "source": [
    "model.b"
   ]
  },
  {
   "cell_type": "code",
   "execution_count": null,
   "metadata": {},
   "outputs": [],
   "source": []
  }
 ],
 "metadata": {
  "kernelspec": {
   "display_name": "Python 3",
   "language": "python",
   "name": "python3"
  },
  "language_info": {
   "codemirror_mode": {
    "name": "ipython",
    "version": 3
   },
   "file_extension": ".py",
   "mimetype": "text/x-python",
   "name": "python",
   "nbconvert_exporter": "python",
   "pygments_lexer": "ipython3",
   "version": "3.7.5"
  },
  "toc": {
   "base_numbering": 1,
   "nav_menu": {},
   "number_sections": false,
   "sideBar": true,
   "skip_h1_title": false,
   "title_cell": "Table of Contents",
   "title_sidebar": "Contents",
   "toc_cell": false,
   "toc_position": {},
   "toc_section_display": true,
   "toc_window_display": false
  },
  "varInspector": {
   "cols": {
    "lenName": 16,
    "lenType": 16,
    "lenVar": 40
   },
   "kernels_config": {
    "python": {
     "delete_cmd_postfix": "",
     "delete_cmd_prefix": "del ",
     "library": "var_list.py",
     "varRefreshCmd": "print(var_dic_list())"
    },
    "r": {
     "delete_cmd_postfix": ") ",
     "delete_cmd_prefix": "rm(",
     "library": "var_list.r",
     "varRefreshCmd": "cat(var_dic_list()) "
    }
   },
   "types_to_exclude": [
    "module",
    "function",
    "builtin_function_or_method",
    "instance",
    "_Feature"
   ],
   "window_display": false
  }
 },
 "nbformat": 4,
 "nbformat_minor": 2
}
