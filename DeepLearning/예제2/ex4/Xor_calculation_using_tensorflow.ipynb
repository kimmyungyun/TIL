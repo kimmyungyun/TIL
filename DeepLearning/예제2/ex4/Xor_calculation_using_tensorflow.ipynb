{
 "cells": [
  {
   "cell_type": "code",
   "execution_count": 1,
   "metadata": {},
   "outputs": [
    {
     "name": "stderr",
     "output_type": "stream",
     "text": [
      "c:\\library\\python\\lib\\site-packages\\tensorflow\\python\\framework\\dtypes.py:526: FutureWarning: Passing (type, 1) or '1type' as a synonym of type is deprecated; in a future version of numpy, it will be understood as (type, (1,)) / '(1,)type'.\n",
      "  _np_qint8 = np.dtype([(\"qint8\", np.int8, 1)])\n",
      "c:\\library\\python\\lib\\site-packages\\tensorflow\\python\\framework\\dtypes.py:527: FutureWarning: Passing (type, 1) or '1type' as a synonym of type is deprecated; in a future version of numpy, it will be understood as (type, (1,)) / '(1,)type'.\n",
      "  _np_quint8 = np.dtype([(\"quint8\", np.uint8, 1)])\n",
      "c:\\library\\python\\lib\\site-packages\\tensorflow\\python\\framework\\dtypes.py:528: FutureWarning: Passing (type, 1) or '1type' as a synonym of type is deprecated; in a future version of numpy, it will be understood as (type, (1,)) / '(1,)type'.\n",
      "  _np_qint16 = np.dtype([(\"qint16\", np.int16, 1)])\n",
      "c:\\library\\python\\lib\\site-packages\\tensorflow\\python\\framework\\dtypes.py:529: FutureWarning: Passing (type, 1) or '1type' as a synonym of type is deprecated; in a future version of numpy, it will be understood as (type, (1,)) / '(1,)type'.\n",
      "  _np_quint16 = np.dtype([(\"quint16\", np.uint16, 1)])\n",
      "c:\\library\\python\\lib\\site-packages\\tensorflow\\python\\framework\\dtypes.py:530: FutureWarning: Passing (type, 1) or '1type' as a synonym of type is deprecated; in a future version of numpy, it will be understood as (type, (1,)) / '(1,)type'.\n",
      "  _np_qint32 = np.dtype([(\"qint32\", np.int32, 1)])\n",
      "c:\\library\\python\\lib\\site-packages\\tensorflow\\python\\framework\\dtypes.py:535: FutureWarning: Passing (type, 1) or '1type' as a synonym of type is deprecated; in a future version of numpy, it will be understood as (type, (1,)) / '(1,)type'.\n",
      "  np_resource = np.dtype([(\"resource\", np.ubyte, 1)])\n"
     ]
    }
   ],
   "source": [
    "import tensorflow as tf\n",
    "import numpy as np\n",
    "tf.enable_eager_execution()"
   ]
  },
  {
   "cell_type": "code",
   "execution_count": 2,
   "metadata": {},
   "outputs": [
    {
     "data": {
      "text/plain": [
       "array([[0., 0.],\n",
       "       [0., 1.],\n",
       "       [1., 0.],\n",
       "       [1., 1.]], dtype=float32)"
      ]
     },
     "execution_count": 2,
     "metadata": {},
     "output_type": "execute_result"
    }
   ],
   "source": [
    "X = np.array([\n",
    "    [0, 0],\n",
    "    [0, 1],\n",
    "    [1, 0],\n",
    "    [1, 1]\n",
    "], dtype=\"float32\")\n",
    "X"
   ]
  },
  {
   "cell_type": "code",
   "execution_count": 4,
   "metadata": {},
   "outputs": [
    {
     "data": {
      "text/plain": [
       "(4, 2)"
      ]
     },
     "execution_count": 4,
     "metadata": {},
     "output_type": "execute_result"
    }
   ],
   "source": [
    "X.shape"
   ]
  },
  {
   "cell_type": "code",
   "execution_count": 5,
   "metadata": {},
   "outputs": [
    {
     "data": {
      "text/plain": [
       "array([[0.],\n",
       "       [1.],\n",
       "       [1.],\n",
       "       [0.]], dtype=float32)"
      ]
     },
     "execution_count": 5,
     "metadata": {},
     "output_type": "execute_result"
    }
   ],
   "source": [
    "y = np.array([\n",
    "    [0],\n",
    "    [1],\n",
    "    [1],\n",
    "    [0]\n",
    "], dtype=\"float32\")\n",
    "y"
   ]
  },
  {
   "cell_type": "code",
   "execution_count": 25,
   "metadata": {},
   "outputs": [
    {
     "data": {
      "text/plain": [
       "<tf.Variable 'Variable:0' shape=(2, 2) dtype=float32, numpy=\n",
       "array([[1., 2.],\n",
       "       [3., 4.]], dtype=float32)>"
      ]
     },
     "execution_count": 25,
     "metadata": {},
     "output_type": "execute_result"
    }
   ],
   "source": [
    "w0 = tf.Variable([\n",
    "    [1, 2],\n",
    "    [3, 4]\n",
    "], dtype=\"float32\")\n",
    "w0"
   ]
  },
  {
   "cell_type": "code",
   "execution_count": 26,
   "metadata": {},
   "outputs": [
    {
     "data": {
      "text/plain": [
       "<tf.Variable 'Variable:0' shape=(1, 2) dtype=float32, numpy=array([[0., 0.]], dtype=float32)>"
      ]
     },
     "execution_count": 26,
     "metadata": {},
     "output_type": "execute_result"
    }
   ],
   "source": [
    "b0 = tf.Variable([\n",
    "    [0, 0]\n",
    "], dtype=\"float32\")\n",
    "b0"
   ]
  },
  {
   "cell_type": "code",
   "execution_count": 27,
   "metadata": {},
   "outputs": [
    {
     "data": {
      "text/plain": [
       "<tf.Variable 'Variable:0' shape=(2, 1) dtype=float32, numpy=\n",
       "array([[5.],\n",
       "       [6.]], dtype=float32)>"
      ]
     },
     "execution_count": 27,
     "metadata": {},
     "output_type": "execute_result"
    }
   ],
   "source": [
    "w1 = tf.Variable([\n",
    "    [5],\n",
    "    [6]\n",
    "], dtype=\"float32\")\n",
    "w1"
   ]
  },
  {
   "cell_type": "code",
   "execution_count": 28,
   "metadata": {},
   "outputs": [
    {
     "data": {
      "text/plain": [
       "<tf.Variable 'Variable:0' shape=(1, 1) dtype=float32, numpy=array([[0.]], dtype=float32)>"
      ]
     },
     "execution_count": 28,
     "metadata": {},
     "output_type": "execute_result"
    }
   ],
   "source": [
    "b1 = tf.Variable([\n",
    "    [0]\n",
    "], dtype=\"float32\")\n",
    "b1"
   ]
  },
  {
   "cell_type": "markdown",
   "metadata": {},
   "source": [
    "## arr라는 하나의 행의 예제에 대해서 순전파 계산"
   ]
  },
  {
   "cell_type": "code",
   "execution_count": 9,
   "metadata": {},
   "outputs": [
    {
     "data": {
      "text/plain": [
       "array([[0., 1.]], dtype=float32)"
      ]
     },
     "execution_count": 9,
     "metadata": {},
     "output_type": "execute_result"
    }
   ],
   "source": [
    "arr = np.array([\n",
    "    [0, 1]\n",
    "], dtype=\"float32\")\n",
    "arr"
   ]
  },
  {
   "cell_type": "code",
   "execution_count": 13,
   "metadata": {},
   "outputs": [
    {
     "data": {
      "text/plain": [
       "<tf.Tensor: id=28, shape=(1, 2), dtype=float32, numpy=array([[0.95257413, 0.98201376]], dtype=float32)>"
      ]
     },
     "execution_count": 13,
     "metadata": {},
     "output_type": "execute_result"
    }
   ],
   "source": [
    "hypothesis0 = tf.sigmoid(tf.matmul(arr, w0) + b0)\n",
    "hypothesis0"
   ]
  },
  {
   "cell_type": "code",
   "execution_count": 18,
   "metadata": {},
   "outputs": [
    {
     "data": {
      "text/plain": [
       "<tf.Tensor: id=61, shape=(1, 1), dtype=float32, numpy=array([[0.9999764]], dtype=float32)>"
      ]
     },
     "execution_count": 18,
     "metadata": {},
     "output_type": "execute_result"
    }
   ],
   "source": [
    "hypothesis1 = tf.sigmoid(tf.matmul(hypothesis0, w1) + b1)\n",
    "hypothesis1"
   ]
  },
  {
   "cell_type": "markdown",
   "metadata": {},
   "source": [
    "## 입력 X에 대해서 순전파 계산"
   ]
  },
  {
   "cell_type": "code",
   "execution_count": 21,
   "metadata": {},
   "outputs": [
    {
     "data": {
      "text/plain": [
       "<tf.Tensor: id=86, shape=(4, 2), dtype=float32, numpy=\n",
       "array([[0.5       , 0.5       ],\n",
       "       [0.95257413, 0.98201376],\n",
       "       [0.7310586 , 0.8807971 ],\n",
       "       [0.98201376, 0.99752736]], dtype=float32)>"
      ]
     },
     "execution_count": 21,
     "metadata": {},
     "output_type": "execute_result"
    }
   ],
   "source": [
    "hypothesis0 = tf.sigmoid(tf.matmul(X, w0) + b0)\n",
    "hypothesis0"
   ]
  },
  {
   "cell_type": "code",
   "execution_count": 22,
   "metadata": {},
   "outputs": [
    {
     "data": {
      "text/plain": [
       "<tf.Tensor: id=92, shape=(4, 1), dtype=float32, numpy=\n",
       "array([[0.9959299],\n",
       "       [0.9999764],\n",
       "       [0.999869 ],\n",
       "       [0.9999814]], dtype=float32)>"
      ]
     },
     "execution_count": 22,
     "metadata": {},
     "output_type": "execute_result"
    }
   ],
   "source": [
    "hypothesis1 = tf.sigmoid(tf.matmul(hypothesis0, w1) + b1)\n",
    "hypothesis1"
   ]
  },
  {
   "cell_type": "code",
   "execution_count": 23,
   "metadata": {},
   "outputs": [],
   "source": [
    "optimizer = tf.train.AdamOptimizer(0.1)"
   ]
  },
  {
   "cell_type": "markdown",
   "metadata": {},
   "source": [
    "## 입력 데이터를 통한 모델 학습"
   ]
  },
  {
   "cell_type": "code",
   "execution_count": 29,
   "metadata": {
    "scrolled": true
   },
   "outputs": [
    {
     "name": "stdout",
     "output_type": "stream",
     "text": [
      "cost : 4.0991926193237305, w0 : <tf.Variable 'Variable:0' shape=(2, 2) dtype=float32, numpy=\n",
      "array([[0.9000014, 1.9000086],\n",
      "       [2.9000015, 3.9000084]], dtype=float32)>, w1:<tf.Variable 'Variable:0' shape=(2, 1) dtype=float32, numpy=\n",
      "array([[4.9],\n",
      "       [5.9]], dtype=float32)>\n",
      "cost : 0.5574862957000732, w0 : <tf.Variable 'Variable:0' shape=(2, 2) dtype=float32, numpy=\n",
      "array([[-2.0565376, -4.4126096],\n",
      "       [ 1.2810544,  3.060032 ]], dtype=float32)>, w1:<tf.Variable 'Variable:0' shape=(2, 1) dtype=float32, numpy=\n",
      "array([[2.685531 ],\n",
      "       [3.8502126]], dtype=float32)>\n",
      "cost : 0.5103297233581543, w0 : <tf.Variable 'Variable:0' shape=(2, 2) dtype=float32, numpy=\n",
      "array([[-2.5863264, -6.2746277],\n",
      "       [ 1.5904136,  4.8805466]], dtype=float32)>, w1:<tf.Variable 'Variable:0' shape=(2, 1) dtype=float32, numpy=\n",
      "array([[2.3543894],\n",
      "       [4.4116955]], dtype=float32)>\n",
      "cost : 0.49529534578323364, w0 : <tf.Variable 'Variable:0' shape=(2, 2) dtype=float32, numpy=\n",
      "array([[-2.8877606, -7.3770666],\n",
      "       [ 1.6697836,  5.898696 ]], dtype=float32)>, w1:<tf.Variable 'Variable:0' shape=(2, 1) dtype=float32, numpy=\n",
      "array([[2.0767355],\n",
      "       [4.993746 ]], dtype=float32)>\n",
      "cost : 0.48861074447631836, w0 : <tf.Variable 'Variable:0' shape=(2, 2) dtype=float32, numpy=\n",
      "array([[-3.056922 , -8.128945 ],\n",
      "       [ 1.6668214,  6.5931687]], dtype=float32)>, w1:<tf.Variable 'Variable:0' shape=(2, 1) dtype=float32, numpy=\n",
      "array([[1.8414866],\n",
      "       [5.4756556]], dtype=float32)>\n",
      "cost : 0.485080361366272, w0 : <tf.Variable 'Variable:0' shape=(2, 2) dtype=float32, numpy=\n",
      "array([[-3.160714 , -8.691851 ],\n",
      "       [ 1.6366965,  7.1160617]], dtype=float32)>, w1:<tf.Variable 'Variable:0' shape=(2, 1) dtype=float32, numpy=\n",
      "array([[1.636861],\n",
      "       [5.869411]], dtype=float32)>\n",
      "cost : 0.482993483543396, w0 : <tf.Variable 'Variable:0' shape=(2, 2) dtype=float32, numpy=\n",
      "array([[-3.2296512, -9.13944  ],\n",
      "       [ 1.6007806,  7.5347667]], dtype=float32)>, w1:<tf.Variable 'Variable:0' shape=(2, 1) dtype=float32, numpy=\n",
      "array([[1.4542731],\n",
      "       [6.1975965]], dtype=float32)>\n",
      "cost : 0.4816552400588989, w0 : <tf.Variable 'Variable:0' shape=(2, 2) dtype=float32, numpy=\n",
      "array([[-3.278318 , -9.5105   ],\n",
      "       [ 1.5663017,  7.884343 ]], dtype=float32)>, w1:<tf.Variable 'Variable:0' shape=(2, 1) dtype=float32, numpy=\n",
      "array([[1.2874049],\n",
      "       [6.477644 ]], dtype=float32)>\n",
      "cost : 0.4807426631450653, w0 : <tf.Variable 'Variable:0' shape=(2, 2) dtype=float32, numpy=\n",
      "array([[-3.31422  , -9.827594 ],\n",
      "       [ 1.5354052,  8.185023 ]], dtype=float32)>, w1:<tf.Variable 'Variable:0' shape=(2, 1) dtype=float32, numpy=\n",
      "array([[1.1316694],\n",
      "       [6.7216663]], dtype=float32)>\n",
      "cost : 0.4800896644592285, w0 : <tf.Variable 'Variable:0' shape=(2, 2) dtype=float32, numpy=\n",
      "array([[ -3.3415203, -10.104818 ],\n",
      "       [  1.5085078,   8.449404 ]], dtype=float32)>, w1:<tf.Variable 'Variable:0' shape=(2, 1) dtype=float32, numpy=\n",
      "array([[0.9836721],\n",
      "       [6.938035 ]], dtype=float32)>\n",
      "cost : 0.479604572057724, w0 : <tf.Variable 'Variable:0' shape=(2, 2) dtype=float32, numpy=\n",
      "array([[ -3.362668 , -10.3515415],\n",
      "       [  1.4854846,   8.685836 ]], dtype=float32)>, w1:<tf.Variable 'Variable:0' shape=(2, 1) dtype=float32, numpy=\n",
      "array([[0.8407974],\n",
      "       [7.1326523]], dtype=float32)>\n",
      "cost : 0.4792320430278778, w0 : <tf.Variable 'Variable:0' shape=(2, 2) dtype=float32, numpy=\n",
      "array([[ -3.37917  , -10.574235 ],\n",
      "       [  1.4660883,   8.90014  ]], dtype=float32)>, w1:<tf.Variable 'Variable:0' shape=(2, 1) dtype=float32, numpy=\n",
      "array([[0.70091224],\n",
      "       [7.3097887 ]], dtype=float32)>\n",
      "cost : 0.4789380729198456, w0 : <tf.Variable 'Variable:0' shape=(2, 2) dtype=float32, numpy=\n",
      "array([[ -3.3919735, -10.777549 ],\n",
      "       [  1.4501041,   9.096494 ]], dtype=float32)>, w1:<tf.Variable 'Variable:0' shape=(2, 1) dtype=float32, numpy=\n",
      "array([[0.5621566],\n",
      "       [7.4726114]], dtype=float32)>\n",
      "cost : 0.47870033979415894, w0 : <tf.Variable 'Variable:0' shape=(2, 2) dtype=float32, numpy=\n",
      "array([[ -3.4016645, -10.96491  ],\n",
      "       [  1.4374096,   9.278022 ]], dtype=float32)>, w1:<tf.Variable 'Variable:0' shape=(2, 1) dtype=float32, numpy=\n",
      "array([[0.42277974],\n",
      "       [7.62353   ]], dtype=float32)>\n",
      "cost : 0.4785034656524658, w0 : <tf.Variable 'Variable:0' shape=(2, 2) dtype=float32, numpy=\n",
      "array([[ -3.40857  , -11.13901  ],\n",
      "       [  1.4280113,   9.447112 ]], dtype=float32)>, w1:<tf.Variable 'Variable:0' shape=(2, 1) dtype=float32, numpy=\n",
      "array([[0.2809939],\n",
      "       [7.764418 ]], dtype=float32)>\n",
      "cost : 0.4783359169960022, w0 : <tf.Variable 'Variable:0' shape=(2, 2) dtype=float32, numpy=\n",
      "array([[ -3.4127977, -11.3018465],\n",
      "       [  1.4220829,   9.60564  ]], dtype=float32)>, w1:<tf.Variable 'Variable:0' shape=(2, 1) dtype=float32, numpy=\n",
      "array([[0.13481359],\n",
      "       [7.8967505 ]], dtype=float32)>\n",
      "cost : 0.4781891107559204, w0 : <tf.Variable 'Variable:0' shape=(2, 2) dtype=float32, numpy=\n",
      "array([[ -3.4142323, -11.455023 ],\n",
      "       [  1.4200277,   9.75511  ]], dtype=float32)>, w1:<tf.Variable 'Variable:0' shape=(2, 1) dtype=float32, numpy=\n",
      "array([[-0.01815693],\n",
      "       [ 8.021722  ]], dtype=float32)>\n",
      "cost : 0.47805556654930115, w0 : <tf.Variable 'Variable:0' shape=(2, 2) dtype=float32, numpy=\n",
      "array([[ -3.412469 , -11.5998535],\n",
      "       [  1.4226114,   9.896721 ]], dtype=float32)>, w1:<tf.Variable 'Variable:0' shape=(2, 1) dtype=float32, numpy=\n",
      "array([[-0.18105094],\n",
      "       [ 8.140311  ]], dtype=float32)>\n",
      "cost : 0.47792667150497437, w0 : <tf.Variable 'Variable:0' shape=(2, 2) dtype=float32, numpy=\n",
      "array([[ -3.4066362, -11.73741  ],\n",
      "       [  1.431219 ,  10.031483 ]], dtype=float32)>, w1:<tf.Variable 'Variable:0' shape=(2, 1) dtype=float32, numpy=\n",
      "array([[-0.35832372],\n",
      "       [ 8.253344  ]], dtype=float32)>\n",
      "cost : 0.47779130935668945, w0 : <tf.Variable 'Variable:0' shape=(2, 2) dtype=float32, numpy=\n",
      "array([[ -3.3949666, -11.868604 ],\n",
      "       [  1.4484562,  10.160267 ]], dtype=float32)>, w1:<tf.Variable 'Variable:0' shape=(2, 1) dtype=float32, numpy=\n",
      "array([[-0.5569292],\n",
      "       [ 8.36153  ]], dtype=float32)>\n",
      "cost : 0.47762709856033325, w0 : <tf.Variable 'Variable:0' shape=(2, 2) dtype=float32, numpy=\n",
      "array([[ -3.3735895, -11.994181 ],\n",
      "       [  1.4797367,  10.283877 ]], dtype=float32)>, w1:<tf.Variable 'Variable:0' shape=(2, 1) dtype=float32, numpy=\n",
      "array([[-0.7890739],\n",
      "       [ 8.465544 ]], dtype=float32)>\n",
      "cost : 0.47737276554107666, w0 : <tf.Variable 'Variable:0' shape=(2, 2) dtype=float32, numpy=\n",
      "array([[ -3.3323   , -12.114802 ],\n",
      "       [  1.5386599,  10.403195 ]], dtype=float32)>, w1:<tf.Variable 'Variable:0' shape=(2, 1) dtype=float32, numpy=\n",
      "array([[-1.0801965],\n",
      "       [ 8.56612  ]], dtype=float32)>\n",
      "cost : 0.4767339527606964, w0 : <tf.Variable 'Variable:0' shape=(2, 2) dtype=float32, numpy=\n",
      "array([[ -3.2307615, -12.231201 ],\n",
      "       [  1.6757071,  10.519846 ]], dtype=float32)>, w1:<tf.Variable 'Variable:0' shape=(2, 1) dtype=float32, numpy=\n",
      "array([[-1.5026554],\n",
      "       [ 8.664626 ]], dtype=float32)>\n",
      "cost : 0.445719450712204, w0 : <tf.Variable 'Variable:0' shape=(2, 2) dtype=float32, numpy=\n",
      "array([[ -1.9525247, -12.344328 ],\n",
      "       [  3.0564644,  10.655116 ]], dtype=float32)>, w1:<tf.Variable 'Variable:0' shape=(2, 1) dtype=float32, numpy=\n",
      "array([[-2.7252026],\n",
      "       [ 8.776802 ]], dtype=float32)>\n",
      "cost : 0.009365543723106384, w0 : <tf.Variable 'Variable:0' shape=(2, 2) dtype=float32, numpy=\n",
      "array([[ -7.2837267, -12.370115 ],\n",
      "       [  7.598799 ,  11.797045 ]], dtype=float32)>, w1:<tf.Variable 'Variable:0' shape=(2, 1) dtype=float32, numpy=\n",
      "array([[-9.524924],\n",
      "       [10.312638]], dtype=float32)>\n",
      "cost : 0.005068739410489798, w0 : <tf.Variable 'Variable:0' shape=(2, 2) dtype=float32, numpy=\n",
      "array([[ -7.6133466, -12.385497 ],\n",
      "       [  8.024971 ,  12.1129465]], dtype=float32)>, w1:<tf.Variable 'Variable:0' shape=(2, 1) dtype=float32, numpy=\n",
      "array([[-10.758542],\n",
      "       [ 11.394747]], dtype=float32)>\n",
      "cost : 0.003445911221206188, w0 : <tf.Variable 'Variable:0' shape=(2, 2) dtype=float32, numpy=\n",
      "array([[ -7.817231 , -12.400346 ],\n",
      "       [  8.267978 ,  12.2676935]], dtype=float32)>, w1:<tf.Variable 'Variable:0' shape=(2, 1) dtype=float32, numpy=\n",
      "array([[-11.524826 ],\n",
      "       [ 12.1132965]], dtype=float32)>\n",
      "cost : 0.002581613603979349, w0 : <tf.Variable 'Variable:0' shape=(2, 2) dtype=float32, numpy=\n",
      "array([[ -7.9666057, -12.414353 ],\n",
      "       [  8.440041 ,  12.368528 ]], dtype=float32)>, w1:<tf.Variable 'Variable:0' shape=(2, 1) dtype=float32, numpy=\n",
      "array([[-12.096522],\n"
     ]
    },
    {
     "name": "stdout",
     "output_type": "stream",
     "text": [
      "       [ 12.661127]], dtype=float32)>\n",
      "cost : 0.00204339437186718, w0 : <tf.Variable 'Variable:0' shape=(2, 2) dtype=float32, numpy=\n",
      "array([[ -8.08532 , -12.427614],\n",
      "       [  8.57395 ,  12.44262 ]], dtype=float32)>, w1:<tf.Variable 'Variable:0' shape=(2, 1) dtype=float32, numpy=\n",
      "array([[-12.558693],\n",
      "       [ 13.109066]], dtype=float32)>\n",
      "cost : 0.001675998792052269, w0 : <tf.Variable 'Variable:0' shape=(2, 2) dtype=float32, numpy=\n",
      "array([[ -8.184334, -12.440248],\n",
      "       [  8.684057,  12.500909]], dtype=float32)>, w1:<tf.Variable 'Variable:0' shape=(2, 1) dtype=float32, numpy=\n",
      "array([[-12.950265],\n",
      "       [ 13.491261]], dtype=float32)>\n",
      "cost : 0.0014093072386458516, w0 : <tf.Variable 'Variable:0' shape=(2, 2) dtype=float32, numpy=\n",
      "array([[ -8.26962 , -12.452357],\n",
      "       [  8.777926,  12.54883 ]], dtype=float32)>, w1:<tf.Variable 'Variable:0' shape=(2, 1) dtype=float32, numpy=\n",
      "array([[-13.292456],\n",
      "       [ 13.826859]], dtype=float32)>\n",
      "cost : 0.0012071061646565795, w0 : <tf.Variable 'Variable:0' shape=(2, 2) dtype=float32, numpy=\n",
      "array([[ -8.344804 , -12.4640255],\n",
      "       [  8.860023 ,  12.589479 ]], dtype=float32)>, w1:<tf.Variable 'Variable:0' shape=(2, 1) dtype=float32, numpy=\n",
      "array([[-13.59815],\n",
      "       [ 14.12771]], dtype=float32)>\n",
      "cost : 0.0010487193940207362, w0 : <tf.Variable 'Variable:0' shape=(2, 2) dtype=float32, numpy=\n",
      "array([[ -8.412244, -12.475322],\n",
      "       [  8.9332  ,  12.624764]], dtype=float32)>, w1:<tf.Variable 'Variable:0' shape=(2, 1) dtype=float32, numpy=\n",
      "array([[-13.875771 ],\n",
      "       [ 14.4016485]], dtype=float32)>\n",
      "cost : 0.000921460276003927, w0 : <tf.Variable 'Variable:0' shape=(2, 2) dtype=float32, numpy=\n",
      "array([[ -8.47357 , -12.4863  ],\n",
      "       [  8.9994  ,  12.655936]], dtype=float32)>, w1:<tf.Variable 'Variable:0' shape=(2, 1) dtype=float32, numpy=\n",
      "array([[-14.131127],\n",
      "       [ 14.654141]], dtype=float32)>\n",
      "cost : 0.0008170825894922018, w0 : <tf.Variable 'Variable:0' shape=(2, 2) dtype=float32, numpy=\n",
      "array([[ -8.529944 , -12.497    ],\n",
      "       [  9.059991 ,  12.6838665]], dtype=float32)>, w1:<tf.Variable 'Variable:0' shape=(2, 1) dtype=float32, numpy=\n",
      "array([[-14.368418],\n",
      "       [ 14.889161]], dtype=float32)>\n",
      "cost : 0.0007300307042896748, w0 : <tf.Variable 'Variable:0' shape=(2, 2) dtype=float32, numpy=\n",
      "array([[ -8.5822315, -12.507467 ],\n",
      "       [  9.115986 ,  12.709183 ]], dtype=float32)>, w1:<tf.Variable 'Variable:0' shape=(2, 1) dtype=float32, numpy=\n",
      "array([[-14.59076 ],\n",
      "       [ 15.109665]], dtype=float32)>\n",
      "cost : 0.0006564079085364938, w0 : <tf.Variable 'Variable:0' shape=(2, 2) dtype=float32, numpy=\n",
      "array([[ -8.631091, -12.517724],\n",
      "       [  9.168143,  12.732349]], dtype=float32)>, w1:<tf.Variable 'Variable:0' shape=(2, 1) dtype=float32, numpy=\n",
      "array([[-14.800534],\n",
      "       [ 15.317946]], dtype=float32)>\n",
      "cost : 0.0005934223881922662, w0 : <tf.Variable 'Variable:0' shape=(2, 2) dtype=float32, numpy=\n",
      "array([[ -8.677032 , -12.527794 ],\n",
      "       [  9.2170515,  12.75372  ]], dtype=float32)>, w1:<tf.Variable 'Variable:0' shape=(2, 1) dtype=float32, numpy=\n",
      "array([[-14.999612],\n",
      "       [ 15.515793]], dtype=float32)>\n",
      "cost : 0.0005390143487602472, w0 : <tf.Variable 'Variable:0' shape=(2, 2) dtype=float32, numpy=\n",
      "array([[ -8.720463, -12.537705],\n",
      "       [  9.263179,  12.773566]], dtype=float32)>, w1:<tf.Variable 'Variable:0' shape=(2, 1) dtype=float32, numpy=\n",
      "array([[-15.189476 ],\n",
      "       [ 15.7046385]], dtype=float32)>\n",
      "cost : 0.0004915721947327256, w0 : <tf.Variable 'Variable:0' shape=(2, 2) dtype=float32, numpy=\n",
      "array([[ -8.761713 , -12.547477 ],\n",
      "       [  9.306893 ,  12.7921095]], dtype=float32)>, w1:<tf.Variable 'Variable:0' shape=(2, 1) dtype=float32, numpy=\n",
      "array([[-15.371326],\n",
      "       [ 15.885652]], dtype=float32)>\n",
      "cost : 0.0004499168717302382, w0 : <tf.Variable 'Variable:0' shape=(2, 2) dtype=float32, numpy=\n",
      "array([[ -8.801052, -12.557129],\n",
      "       [  9.3485  ,  12.80952 ]], dtype=float32)>, w1:<tf.Variable 'Variable:0' shape=(2, 1) dtype=float32, numpy=\n",
      "array([[-15.5461645],\n",
      "       [ 16.059784 ]], dtype=float32)>\n",
      "cost : 0.00041307875653728843, w0 : <tf.Variable 'Variable:0' shape=(2, 2) dtype=float32, numpy=\n",
      "array([[ -8.838698, -12.566663],\n",
      "       [  9.388249,  12.825948]], dtype=float32)>, w1:<tf.Variable 'Variable:0' shape=(2, 1) dtype=float32, numpy=\n",
      "array([[-15.714794],\n",
      "       [ 16.22785 ]], dtype=float32)>\n",
      "cost : 0.0003803118015639484, w0 : <tf.Variable 'Variable:0' shape=(2, 2) dtype=float32, numpy=\n",
      "array([[ -8.874845 , -12.5761   ],\n",
      "       [  9.4263525,  12.841503 ]], dtype=float32)>, w1:<tf.Variable 'Variable:0' shape=(2, 1) dtype=float32, numpy=\n",
      "array([[-15.877935],\n",
      "       [ 16.390497]], dtype=float32)>\n",
      "cost : 0.000351034221239388, w0 : <tf.Variable 'Variable:0' shape=(2, 2) dtype=float32, numpy=\n",
      "array([[ -8.909647, -12.585446],\n",
      "       [  9.462981,  12.856289]], dtype=float32)>, w1:<tf.Variable 'Variable:0' shape=(2, 1) dtype=float32, numpy=\n",
      "array([[-16.036167],\n",
      "       [ 16.54831 ]], dtype=float32)>\n",
      "cost : 0.0003247687127441168, w0 : <tf.Variable 'Variable:0' shape=(2, 2) dtype=float32, numpy=\n",
      "array([[ -8.943239, -12.594707],\n",
      "       [  9.498289,  12.87039 ]], dtype=float32)>, w1:<tf.Variable 'Variable:0' shape=(2, 1) dtype=float32, numpy=\n",
      "array([[-16.18996],\n",
      "       [ 16.7018 ]], dtype=float32)>\n",
      "cost : 0.0003010081418324262, w0 : <tf.Variable 'Variable:0' shape=(2, 2) dtype=float32, numpy=\n",
      "array([[ -8.975737, -12.603903],\n",
      "       [  9.532406,  12.883869]], dtype=float32)>, w1:<tf.Variable 'Variable:0' shape=(2, 1) dtype=float32, numpy=\n",
      "array([[-16.33979 ],\n",
      "       [ 16.851372]], dtype=float32)>\n",
      "cost : 0.00027954368852078915, w0 : <tf.Variable 'Variable:0' shape=(2, 2) dtype=float32, numpy=\n",
      "array([[ -9.007244, -12.613058],\n",
      "       [  9.565439,  12.896793]], dtype=float32)>, w1:<tf.Variable 'Variable:0' shape=(2, 1) dtype=float32, numpy=\n",
      "array([[-16.486021],\n",
      "       [ 16.997385]], dtype=float32)>\n",
      "cost : 0.0002599876024760306, w0 : <tf.Variable 'Variable:0' shape=(2, 2) dtype=float32, numpy=\n",
      "array([[ -9.037839, -12.622118],\n",
      "       [  9.597487,  12.909215]], dtype=float32)>, w1:<tf.Variable 'Variable:0' shape=(2, 1) dtype=float32, numpy=\n",
      "array([[-16.628986],\n",
      "       [ 17.140173]], dtype=float32)>\n",
      "cost : 0.0002422205579932779, w0 : <tf.Variable 'Variable:0' shape=(2, 2) dtype=float32, numpy=\n",
      "array([[ -9.067608, -12.631169],\n",
      "       [  9.628635,  12.921178]], dtype=float32)>, w1:<tf.Variable 'Variable:0' shape=(2, 1) dtype=float32, numpy=\n",
      "array([[-16.768969],\n",
      "       [ 17.280016]], dtype=float32)>\n",
      "cost : 0.00022598904615733773, w0 : <tf.Variable 'Variable:0' shape=(2, 2) dtype=float32, numpy=\n",
      "array([[ -9.096619, -12.640134],\n",
      "       [  9.658957,  12.932722]], dtype=float32)>, w1:<tf.Variable 'Variable:0' shape=(2, 1) dtype=float32, numpy=\n",
      "array([[-16.906225],\n",
      "       [ 17.417164]], dtype=float32)>\n"
     ]
    }
   ],
   "source": [
    "for step in range(5000):\n",
    "    with tf.GradientTape() as tape:\n",
    "        hypothesis0 = tf.sigmoid(tf.matmul(X, w0) + b0)\n",
    "        hypothesis1 = tf.sigmoid(tf.matmul(hypothesis0, w1) + b1)\n",
    "        \n",
    "        cost = -tf.reduce_mean(y * tf.log(hypothesis1) + (1-y) * tf.log(1-hypothesis1))\n",
    "        \n",
    "        grads = tape.gradient(cost, [w0, w1, b0, b1])\n",
    "        \n",
    "        optimizer.apply_gradients(grads_and_vars=zip(grads, [w0, w1, b0, b1]))\n",
    "        \n",
    "        if step % 100 == 0:\n",
    "            print(f\"cost : {cost}, w0 : {w0}, w1:{w1}\")"
   ]
  },
  {
   "cell_type": "markdown",
   "metadata": {},
   "source": [
    "## 학습된 모델을 통한 예측 및 정확도 평가"
   ]
  },
  {
   "cell_type": "code",
   "execution_count": 35,
   "metadata": {},
   "outputs": [
    {
     "data": {
      "text/plain": [
       "<tf.Tensor: id=435587, shape=(), dtype=float32, numpy=1.0>"
      ]
     },
     "execution_count": 35,
     "metadata": {},
     "output_type": "execute_result"
    }
   ],
   "source": [
    "hypothesis0 = tf.sigmoid(tf.matmul(X, w0) + b0)\n",
    "pred = tf.sigmoid(tf.matmul(hypothesis0, w1)+b1)\n",
    "pred01 = tf.cast(pred>0.5, dtype=\"float32\")\n",
    "tf.reduce_mean(tf.cast(tf.equal(pred01, y), dtype=\"float32\"))"
   ]
  },
  {
   "cell_type": "code",
   "execution_count": null,
   "metadata": {},
   "outputs": [],
   "source": []
  }
 ],
 "metadata": {
  "kernelspec": {
   "display_name": "Python 3",
   "language": "python",
   "name": "python3"
  },
  "language_info": {
   "codemirror_mode": {
    "name": "ipython",
    "version": 3
   },
   "file_extension": ".py",
   "mimetype": "text/x-python",
   "name": "python",
   "nbconvert_exporter": "python",
   "pygments_lexer": "ipython3",
   "version": "3.7.5"
  }
 },
 "nbformat": 4,
 "nbformat_minor": 2
}
