{
  "nbformat": 4,
  "nbformat_minor": 0,
  "metadata": {
    "kernelspec": {
      "name": "python3",
      "display_name": "Python 3"
    },
    "language_info": {
      "codemirror_mode": {
        "name": "ipython",
        "version": 3
      },
      "file_extension": ".py",
      "mimetype": "text/x-python",
      "name": "python",
      "nbconvert_exporter": "python",
      "pygments_lexer": "ipython3",
      "version": "3.7.5"
    },
    "colab": {
      "name": "Untitled.ipynb",
      "provenance": []
    },
    "accelerator": "GPU"
  },
  "cells": [
    {
      "cell_type": "code",
      "metadata": {
        "id": "BrBMtkr7N72g",
        "colab_type": "code",
        "colab": {}
      },
      "source": [
        "import pandas as pd\n",
        "from sklearn import model_selection, preprocessing\n",
        "import matplotlib.pyplot as plt\n",
        "import seaborn as sns\n",
        "import numpy as np\n",
        "\n",
        "plt.style.use('ggplot')\n",
        "%matplotlib inline"
      ],
      "execution_count": 0,
      "outputs": []
    },
    {
      "cell_type": "code",
      "metadata": {
        "id": "pxqpAiQ0QM0u",
        "colab_type": "code",
        "outputId": "164ae74e-c08f-4e3d-f583-84ce0f38acd9",
        "colab": {
          "base_uri": "https://localhost:8080/",
          "height": 35
        }
      },
      "source": [
        "from google.colab import drive\n",
        "drive.mount('./MyDrive')"
      ],
      "execution_count": 2,
      "outputs": [
        {
          "output_type": "stream",
          "text": [
            "Drive already mounted at ./MyDrive; to attempt to forcibly remount, call drive.mount(\"./MyDrive\", force_remount=True).\n"
          ],
          "name": "stdout"
        }
      ]
    },
    {
      "cell_type": "code",
      "metadata": {
        "id": "zhUudLfbN72n",
        "colab_type": "code",
        "colab": {}
      },
      "source": [
        "df = pd.read_json(\"./MyDrive/My Drive/ai/workspace/data/ny_apt_train.json\")"
      ],
      "execution_count": 0,
      "outputs": []
    },
    {
      "cell_type": "code",
      "metadata": {
        "id": "jEq6zatcN72r",
        "colab_type": "code",
        "colab": {}
      },
      "source": [
        "df.loc[df[\"interest_level\"] == \"low\", \"interest_level\"] = 0\n",
        "df.loc[df[\"interest_level\"] == \"medium\", \"interest_level\"] = 1\n",
        "df.loc[df[\"interest_level\"] == \"high\", \"interest_level\"] = 2"
      ],
      "execution_count": 0,
      "outputs": []
    },
    {
      "cell_type": "code",
      "metadata": {
        "id": "4mYkHXF2N72w",
        "colab_type": "code",
        "colab": {}
      },
      "source": [
        "df['created'] = pd.to_datetime(df['created'])\n",
        "\n",
        "df['year'] = df['created'].dt.year\n",
        "\n",
        "df['month'] = df['created'].dt.month\n",
        "\n",
        "df['day'] = df['created'].dt.day\n",
        "\n",
        "df['week'] = df['created'].dt.week\n",
        "\n",
        "df['hour'] = df['created'].dt.hour\n",
        "\n",
        "df['weekday'] = df['created'].dt.weekday"
      ],
      "execution_count": 0,
      "outputs": []
    },
    {
      "cell_type": "code",
      "metadata": {
        "id": "15X26qCKN723",
        "colab_type": "code",
        "colab": {}
      },
      "source": [
        "df['num_photos'] = df['photos'].apply(len)\n",
        "\n",
        "df['num_features'] = df['features'].apply(len)"
      ],
      "execution_count": 0,
      "outputs": []
    },
    {
      "cell_type": "code",
      "metadata": {
        "id": "QpNSYJtoN728",
        "colab_type": "code",
        "outputId": "170081c5-4cd8-4915-d8d0-fb6aa01e1b06",
        "colab": {
          "base_uri": "https://localhost:8080/",
          "height": 233
        }
      },
      "source": [
        "df['building_id'].value_counts()"
      ],
      "execution_count": 7,
      "outputs": [
        {
          "output_type": "execute_result",
          "data": {
            "text/plain": [
              "0                                   8286\n",
              "96274288c84ddd7d5c5d8e425ee75027     275\n",
              "11e1dec9d14b1a9e528386a2504b3afc     215\n",
              "80a120d6bc3aba97f40fee8c2204524b     213\n",
              "bb8658a3e432fb62a440615333376345     212\n",
              "                                    ... \n",
              "96567fe846e6f5fcd396106741a0bf47       1\n",
              "8e892ce8ede5d28e1b898d8fa1ee4773       1\n",
              "8a8a007d828ee16b3bcfe0933edd8b0e       1\n",
              "0cb1cc30e694c217e9c797fd57998aaa       1\n",
              "2207347149c9d445c10bf00ac6aa4497       1\n",
              "Name: building_id, Length: 7585, dtype: int64"
            ]
          },
          "metadata": {
            "tags": []
          },
          "execution_count": 7
        }
      ]
    },
    {
      "cell_type": "code",
      "metadata": {
        "scrolled": true,
        "id": "oqy1YXPGN73E",
        "colab_type": "code",
        "outputId": "f4916b80-ac9e-4ab9-98fe-ac8826f8965e",
        "colab": {
          "base_uri": "https://localhost:8080/",
          "height": 1000
        }
      },
      "source": [
        "df"
      ],
      "execution_count": 8,
      "outputs": [
        {
          "output_type": "execute_result",
          "data": {
            "text/html": [
              "<div>\n",
              "<style scoped>\n",
              "    .dataframe tbody tr th:only-of-type {\n",
              "        vertical-align: middle;\n",
              "    }\n",
              "\n",
              "    .dataframe tbody tr th {\n",
              "        vertical-align: top;\n",
              "    }\n",
              "\n",
              "    .dataframe thead th {\n",
              "        text-align: right;\n",
              "    }\n",
              "</style>\n",
              "<table border=\"1\" class=\"dataframe\">\n",
              "  <thead>\n",
              "    <tr style=\"text-align: right;\">\n",
              "      <th></th>\n",
              "      <th>bathrooms</th>\n",
              "      <th>bedrooms</th>\n",
              "      <th>building_id</th>\n",
              "      <th>created</th>\n",
              "      <th>description</th>\n",
              "      <th>display_address</th>\n",
              "      <th>features</th>\n",
              "      <th>latitude</th>\n",
              "      <th>listing_id</th>\n",
              "      <th>longitude</th>\n",
              "      <th>manager_id</th>\n",
              "      <th>photos</th>\n",
              "      <th>price</th>\n",
              "      <th>street_address</th>\n",
              "      <th>interest_level</th>\n",
              "      <th>year</th>\n",
              "      <th>month</th>\n",
              "      <th>day</th>\n",
              "      <th>week</th>\n",
              "      <th>hour</th>\n",
              "      <th>weekday</th>\n",
              "      <th>num_photos</th>\n",
              "      <th>num_features</th>\n",
              "    </tr>\n",
              "  </thead>\n",
              "  <tbody>\n",
              "    <tr>\n",
              "      <th>4</th>\n",
              "      <td>1.0</td>\n",
              "      <td>1</td>\n",
              "      <td>8579a0b0d54db803821a35a4a615e97a</td>\n",
              "      <td>2016-06-16 05:55:27</td>\n",
              "      <td>Spacious 1 Bedroom 1 Bathroom in Williamsburg!...</td>\n",
              "      <td>145 Borinquen Place</td>\n",
              "      <td>[Dining Room, Pre-War, Laundry in Building, Di...</td>\n",
              "      <td>40.7108</td>\n",
              "      <td>7170325</td>\n",
              "      <td>-73.9539</td>\n",
              "      <td>a10db4590843d78c784171a107bdacb4</td>\n",
              "      <td>[https://photos.renthop.com/2/7170325_3bb5ac84...</td>\n",
              "      <td>2400</td>\n",
              "      <td>145 Borinquen Place</td>\n",
              "      <td>1</td>\n",
              "      <td>2016</td>\n",
              "      <td>6</td>\n",
              "      <td>16</td>\n",
              "      <td>24</td>\n",
              "      <td>5</td>\n",
              "      <td>3</td>\n",
              "      <td>12</td>\n",
              "      <td>7</td>\n",
              "    </tr>\n",
              "    <tr>\n",
              "      <th>6</th>\n",
              "      <td>1.0</td>\n",
              "      <td>2</td>\n",
              "      <td>b8e75fc949a6cd8225b455648a951712</td>\n",
              "      <td>2016-06-01 05:44:33</td>\n",
              "      <td>BRAND NEW GUT RENOVATED TRUE 2 BEDROOMFind you...</td>\n",
              "      <td>East 44th</td>\n",
              "      <td>[Doorman, Elevator, Laundry in Building, Dishw...</td>\n",
              "      <td>40.7513</td>\n",
              "      <td>7092344</td>\n",
              "      <td>-73.9722</td>\n",
              "      <td>955db33477af4f40004820b4aed804a0</td>\n",
              "      <td>[https://photos.renthop.com/2/7092344_7663c19a...</td>\n",
              "      <td>3800</td>\n",
              "      <td>230 East 44th</td>\n",
              "      <td>0</td>\n",
              "      <td>2016</td>\n",
              "      <td>6</td>\n",
              "      <td>1</td>\n",
              "      <td>22</td>\n",
              "      <td>5</td>\n",
              "      <td>2</td>\n",
              "      <td>6</td>\n",
              "      <td>6</td>\n",
              "    </tr>\n",
              "    <tr>\n",
              "      <th>9</th>\n",
              "      <td>1.0</td>\n",
              "      <td>2</td>\n",
              "      <td>cd759a988b8f23924b5a2058d5ab2b49</td>\n",
              "      <td>2016-06-14 15:19:59</td>\n",
              "      <td>**FLEX 2 BEDROOM WITH FULL PRESSURIZED WALL**L...</td>\n",
              "      <td>East 56th Street</td>\n",
              "      <td>[Doorman, Elevator, Laundry in Building, Laund...</td>\n",
              "      <td>40.7575</td>\n",
              "      <td>7158677</td>\n",
              "      <td>-73.9625</td>\n",
              "      <td>c8b10a317b766204f08e613cef4ce7a0</td>\n",
              "      <td>[https://photos.renthop.com/2/7158677_c897a134...</td>\n",
              "      <td>3495</td>\n",
              "      <td>405 East 56th Street</td>\n",
              "      <td>1</td>\n",
              "      <td>2016</td>\n",
              "      <td>6</td>\n",
              "      <td>14</td>\n",
              "      <td>24</td>\n",
              "      <td>15</td>\n",
              "      <td>1</td>\n",
              "      <td>6</td>\n",
              "      <td>6</td>\n",
              "    </tr>\n",
              "    <tr>\n",
              "      <th>10</th>\n",
              "      <td>1.5</td>\n",
              "      <td>3</td>\n",
              "      <td>53a5b119ba8f7b61d4e010512e0dfc85</td>\n",
              "      <td>2016-06-24 07:54:24</td>\n",
              "      <td>A Brand New 3 Bedroom 1.5 bath ApartmentEnjoy ...</td>\n",
              "      <td>Metropolitan Avenue</td>\n",
              "      <td>[]</td>\n",
              "      <td>40.7145</td>\n",
              "      <td>7211212</td>\n",
              "      <td>-73.9425</td>\n",
              "      <td>5ba989232d0489da1b5f2c45f6688adc</td>\n",
              "      <td>[https://photos.renthop.com/2/7211212_1ed4542e...</td>\n",
              "      <td>3000</td>\n",
              "      <td>792 Metropolitan Avenue</td>\n",
              "      <td>1</td>\n",
              "      <td>2016</td>\n",
              "      <td>6</td>\n",
              "      <td>24</td>\n",
              "      <td>25</td>\n",
              "      <td>7</td>\n",
              "      <td>4</td>\n",
              "      <td>5</td>\n",
              "      <td>0</td>\n",
              "    </tr>\n",
              "    <tr>\n",
              "      <th>15</th>\n",
              "      <td>1.0</td>\n",
              "      <td>0</td>\n",
              "      <td>bfb9405149bfff42a92980b594c28234</td>\n",
              "      <td>2016-06-28 03:50:23</td>\n",
              "      <td>Over-sized Studio w abundant closets. Availabl...</td>\n",
              "      <td>East 34th Street</td>\n",
              "      <td>[Doorman, Elevator, Fitness Center, Laundry in...</td>\n",
              "      <td>40.7439</td>\n",
              "      <td>7225292</td>\n",
              "      <td>-73.9743</td>\n",
              "      <td>2c3b41f588fbb5234d8a1e885a436cfa</td>\n",
              "      <td>[https://photos.renthop.com/2/7225292_901f1984...</td>\n",
              "      <td>2795</td>\n",
              "      <td>340 East 34th Street</td>\n",
              "      <td>0</td>\n",
              "      <td>2016</td>\n",
              "      <td>6</td>\n",
              "      <td>28</td>\n",
              "      <td>26</td>\n",
              "      <td>3</td>\n",
              "      <td>1</td>\n",
              "      <td>4</td>\n",
              "      <td>4</td>\n",
              "    </tr>\n",
              "    <tr>\n",
              "      <th>...</th>\n",
              "      <td>...</td>\n",
              "      <td>...</td>\n",
              "      <td>...</td>\n",
              "      <td>...</td>\n",
              "      <td>...</td>\n",
              "      <td>...</td>\n",
              "      <td>...</td>\n",
              "      <td>...</td>\n",
              "      <td>...</td>\n",
              "      <td>...</td>\n",
              "      <td>...</td>\n",
              "      <td>...</td>\n",
              "      <td>...</td>\n",
              "      <td>...</td>\n",
              "      <td>...</td>\n",
              "      <td>...</td>\n",
              "      <td>...</td>\n",
              "      <td>...</td>\n",
              "      <td>...</td>\n",
              "      <td>...</td>\n",
              "      <td>...</td>\n",
              "      <td>...</td>\n",
              "      <td>...</td>\n",
              "    </tr>\n",
              "    <tr>\n",
              "      <th>124000</th>\n",
              "      <td>1.0</td>\n",
              "      <td>3</td>\n",
              "      <td>92bbbf38baadfde0576fc496bd41749c</td>\n",
              "      <td>2016-04-05 03:58:33</td>\n",
              "      <td>There is 700 square feet of recently renovated...</td>\n",
              "      <td>W 171 Street</td>\n",
              "      <td>[Elevator, Dishwasher, Hardwood Floors]</td>\n",
              "      <td>40.8433</td>\n",
              "      <td>6824800</td>\n",
              "      <td>-73.9396</td>\n",
              "      <td>a61e21da3ba18c7a3d54cfdcc247e1f8</td>\n",
              "      <td>[https://photos.renthop.com/2/6824800_0682be16...</td>\n",
              "      <td>2800</td>\n",
              "      <td>620 W 171 Street</td>\n",
              "      <td>0</td>\n",
              "      <td>2016</td>\n",
              "      <td>4</td>\n",
              "      <td>5</td>\n",
              "      <td>14</td>\n",
              "      <td>3</td>\n",
              "      <td>1</td>\n",
              "      <td>5</td>\n",
              "      <td>3</td>\n",
              "    </tr>\n",
              "    <tr>\n",
              "      <th>124002</th>\n",
              "      <td>1.0</td>\n",
              "      <td>2</td>\n",
              "      <td>5565db9b7cba3603834c4aa6f2950960</td>\n",
              "      <td>2016-04-02 02:25:31</td>\n",
              "      <td>2 bedroom apartment with updated kitchen, rece...</td>\n",
              "      <td>Broadway</td>\n",
              "      <td>[Common Outdoor Space, Cats Allowed, Dogs Allo...</td>\n",
              "      <td>40.8198</td>\n",
              "      <td>6813268</td>\n",
              "      <td>-73.9578</td>\n",
              "      <td>8f90e5e10e8a2d7cf997f016d89230eb</td>\n",
              "      <td>[https://photos.renthop.com/2/6813268_1e6fcc32...</td>\n",
              "      <td>2395</td>\n",
              "      <td>3333 Broadway</td>\n",
              "      <td>1</td>\n",
              "      <td>2016</td>\n",
              "      <td>4</td>\n",
              "      <td>2</td>\n",
              "      <td>13</td>\n",
              "      <td>2</td>\n",
              "      <td>5</td>\n",
              "      <td>5</td>\n",
              "      <td>7</td>\n",
              "    </tr>\n",
              "    <tr>\n",
              "      <th>124004</th>\n",
              "      <td>1.0</td>\n",
              "      <td>1</td>\n",
              "      <td>67997a128056ee1ed7d046bbb856e3c7</td>\n",
              "      <td>2016-04-26 05:42:03</td>\n",
              "      <td>No Brokers Fee * Never Lived 1 Bedroom 1 Bathr...</td>\n",
              "      <td>210 Brighton 15th St</td>\n",
              "      <td>[Dining Room, Elevator, Pre-War, Laundry in Bu...</td>\n",
              "      <td>40.5765</td>\n",
              "      <td>6927093</td>\n",
              "      <td>-73.9554</td>\n",
              "      <td>a10db4590843d78c784171a107bdacb4</td>\n",
              "      <td>[https://photos.renthop.com/2/6927093_93a52104...</td>\n",
              "      <td>1850</td>\n",
              "      <td>210 Brighton 15th St</td>\n",
              "      <td>1</td>\n",
              "      <td>2016</td>\n",
              "      <td>4</td>\n",
              "      <td>26</td>\n",
              "      <td>17</td>\n",
              "      <td>5</td>\n",
              "      <td>1</td>\n",
              "      <td>3</td>\n",
              "      <td>11</td>\n",
              "    </tr>\n",
              "    <tr>\n",
              "      <th>124008</th>\n",
              "      <td>1.0</td>\n",
              "      <td>2</td>\n",
              "      <td>3c0574a740154806c18bdf1fddd3d966</td>\n",
              "      <td>2016-04-19 02:47:33</td>\n",
              "      <td>Wonderful Bright Chelsea 2 Bedroom apartment o...</td>\n",
              "      <td>West 21st Street</td>\n",
              "      <td>[Pre-War, Laundry in Unit, Dishwasher, No Fee,...</td>\n",
              "      <td>40.7448</td>\n",
              "      <td>6892816</td>\n",
              "      <td>-74.0017</td>\n",
              "      <td>c3cd45f4381ac371507090e9ffabea80</td>\n",
              "      <td>[https://photos.renthop.com/2/6892816_1a8d087a...</td>\n",
              "      <td>4195</td>\n",
              "      <td>350 West 21st Street</td>\n",
              "      <td>1</td>\n",
              "      <td>2016</td>\n",
              "      <td>4</td>\n",
              "      <td>19</td>\n",
              "      <td>16</td>\n",
              "      <td>2</td>\n",
              "      <td>1</td>\n",
              "      <td>5</td>\n",
              "      <td>5</td>\n",
              "    </tr>\n",
              "    <tr>\n",
              "      <th>124009</th>\n",
              "      <td>1.0</td>\n",
              "      <td>3</td>\n",
              "      <td>d89f514c3ed0abaae52cba7017ac0701</td>\n",
              "      <td>2016-04-20 05:34:00</td>\n",
              "      <td>***PRIME MIDTOWN EAST OFF PARK AVE***TRUE 3 BE...</td>\n",
              "      <td>E 54th St</td>\n",
              "      <td>[Dining Room, Elevator, Laundry in Building, D...</td>\n",
              "      <td>40.7594</td>\n",
              "      <td>6901023</td>\n",
              "      <td>-73.9712</td>\n",
              "      <td>e90f2ded843cdb2efd65ef47d9fc8029</td>\n",
              "      <td>[https://photos.renthop.com/2/6901023_02052d90...</td>\n",
              "      <td>4280</td>\n",
              "      <td>123 E 54th St</td>\n",
              "      <td>2</td>\n",
              "      <td>2016</td>\n",
              "      <td>4</td>\n",
              "      <td>20</td>\n",
              "      <td>16</td>\n",
              "      <td>5</td>\n",
              "      <td>2</td>\n",
              "      <td>8</td>\n",
              "      <td>6</td>\n",
              "    </tr>\n",
              "  </tbody>\n",
              "</table>\n",
              "<p>49352 rows × 23 columns</p>\n",
              "</div>"
            ],
            "text/plain": [
              "        bathrooms  bedrooms  ... num_photos num_features\n",
              "4             1.0         1  ...         12            7\n",
              "6             1.0         2  ...          6            6\n",
              "9             1.0         2  ...          6            6\n",
              "10            1.5         3  ...          5            0\n",
              "15            1.0         0  ...          4            4\n",
              "...           ...       ...  ...        ...          ...\n",
              "124000        1.0         3  ...          5            3\n",
              "124002        1.0         2  ...          5            7\n",
              "124004        1.0         1  ...          3           11\n",
              "124008        1.0         2  ...          5            5\n",
              "124009        1.0         3  ...          8            6\n",
              "\n",
              "[49352 rows x 23 columns]"
            ]
          },
          "metadata": {
            "tags": []
          },
          "execution_count": 8
        }
      ]
    },
    {
      "cell_type": "code",
      "metadata": {
        "scrolled": true,
        "id": "UuFVvipdN73L",
        "colab_type": "code",
        "outputId": "c5bb2360-bb12-455e-ac97-43ed156185fc",
        "colab": {
          "base_uri": "https://localhost:8080/",
          "height": 233
        }
      },
      "source": [
        "df['building_id'].value_counts()"
      ],
      "execution_count": 9,
      "outputs": [
        {
          "output_type": "execute_result",
          "data": {
            "text/plain": [
              "0                                   8286\n",
              "96274288c84ddd7d5c5d8e425ee75027     275\n",
              "11e1dec9d14b1a9e528386a2504b3afc     215\n",
              "80a120d6bc3aba97f40fee8c2204524b     213\n",
              "bb8658a3e432fb62a440615333376345     212\n",
              "                                    ... \n",
              "96567fe846e6f5fcd396106741a0bf47       1\n",
              "8e892ce8ede5d28e1b898d8fa1ee4773       1\n",
              "8a8a007d828ee16b3bcfe0933edd8b0e       1\n",
              "0cb1cc30e694c217e9c797fd57998aaa       1\n",
              "2207347149c9d445c10bf00ac6aa4497       1\n",
              "Name: building_id, Length: 7585, dtype: int64"
            ]
          },
          "metadata": {
            "tags": []
          },
          "execution_count": 9
        }
      ]
    },
    {
      "cell_type": "code",
      "metadata": {
        "id": "y0DglndcN73P",
        "colab_type": "code",
        "outputId": "c88002d6-fe18-4ef9-efec-9d266cc5c7e1",
        "colab": {
          "base_uri": "https://localhost:8080/",
          "height": 300
        }
      },
      "source": [
        "sns.countplot(x=\"interest_level\", data=df)"
      ],
      "execution_count": 10,
      "outputs": [
        {
          "output_type": "execute_result",
          "data": {
            "text/plain": [
              "<matplotlib.axes._subplots.AxesSubplot at 0x7efdfa6baa90>"
            ]
          },
          "metadata": {
            "tags": []
          },
          "execution_count": 10
        },
        {
          "output_type": "display_data",
          "data": {
            "image/png": "[encoded data removed]",
            "text/plain": [
              "<Figure size 432x288 with 1 Axes>"
            ]
          },
          "metadata": {
            "tags": []
          }
        }
      ]
    },
    {
      "cell_type": "code",
      "metadata": {
        "scrolled": true,
        "id": "i4pvNc25N73U",
        "colab_type": "code",
        "outputId": "31d403cb-a2c7-4b49-898b-b8f3d2ed66dc",
        "colab": {
          "base_uri": "https://localhost:8080/",
          "height": 173
        }
      },
      "source": [
        "df.groupby('interest_level').mean()"
      ],
      "execution_count": 11,
      "outputs": [
        {
          "output_type": "execute_result",
          "data": {
            "text/html": [
              "<div>\n",
              "<style scoped>\n",
              "    .dataframe tbody tr th:only-of-type {\n",
              "        vertical-align: middle;\n",
              "    }\n",
              "\n",
              "    .dataframe tbody tr th {\n",
              "        vertical-align: top;\n",
              "    }\n",
              "\n",
              "    .dataframe thead th {\n",
              "        text-align: right;\n",
              "    }\n",
              "</style>\n",
              "<table border=\"1\" class=\"dataframe\">\n",
              "  <thead>\n",
              "    <tr style=\"text-align: right;\">\n",
              "      <th></th>\n",
              "      <th>bathrooms</th>\n",
              "      <th>bedrooms</th>\n",
              "      <th>latitude</th>\n",
              "      <th>listing_id</th>\n",
              "      <th>longitude</th>\n",
              "      <th>price</th>\n",
              "      <th>year</th>\n",
              "      <th>month</th>\n",
              "      <th>day</th>\n",
              "      <th>week</th>\n",
              "      <th>hour</th>\n",
              "      <th>weekday</th>\n",
              "      <th>num_photos</th>\n",
              "      <th>num_features</th>\n",
              "    </tr>\n",
              "    <tr>\n",
              "      <th>interest_level</th>\n",
              "      <th></th>\n",
              "      <th></th>\n",
              "      <th></th>\n",
              "      <th></th>\n",
              "      <th></th>\n",
              "      <th></th>\n",
              "      <th></th>\n",
              "      <th></th>\n",
              "      <th></th>\n",
              "      <th></th>\n",
              "      <th></th>\n",
              "      <th></th>\n",
              "      <th></th>\n",
              "      <th></th>\n",
              "    </tr>\n",
              "  </thead>\n",
              "  <tbody>\n",
              "    <tr>\n",
              "      <th>0</th>\n",
              "      <td>1.238741</td>\n",
              "      <td>1.514759</td>\n",
              "      <td>40.739504</td>\n",
              "      <td>7.026373e+06</td>\n",
              "      <td>-73.951667</td>\n",
              "      <td>4176.599142</td>\n",
              "      <td>2016.0</td>\n",
              "      <td>5.018697</td>\n",
              "      <td>15.384465</td>\n",
              "      <td>19.623498</td>\n",
              "      <td>4.331029</td>\n",
              "      <td>2.930930</td>\n",
              "      <td>5.524647</td>\n",
              "      <td>5.307957</td>\n",
              "    </tr>\n",
              "    <tr>\n",
              "      <th>1</th>\n",
              "      <td>1.163906</td>\n",
              "      <td>1.622050</td>\n",
              "      <td>40.745567</td>\n",
              "      <td>7.019098e+06</td>\n",
              "      <td>-73.965033</td>\n",
              "      <td>3158.767388</td>\n",
              "      <td>2016.0</td>\n",
              "      <td>5.003117</td>\n",
              "      <td>14.959480</td>\n",
              "      <td>19.499866</td>\n",
              "      <td>5.514382</td>\n",
              "      <td>2.893401</td>\n",
              "      <td>5.813251</td>\n",
              "      <td>5.888681</td>\n",
              "    </tr>\n",
              "    <tr>\n",
              "      <th>2</th>\n",
              "      <td>1.116176</td>\n",
              "      <td>1.546496</td>\n",
              "      <td>40.748007</td>\n",
              "      <td>7.017844e+06</td>\n",
              "      <td>-73.964613</td>\n",
              "      <td>2700.293045</td>\n",
              "      <td>2016.0</td>\n",
              "      <td>5.014848</td>\n",
              "      <td>14.344621</td>\n",
              "      <td>19.458453</td>\n",
              "      <td>6.444647</td>\n",
              "      <td>2.927585</td>\n",
              "      <td>5.738474</td>\n",
              "      <td>5.158635</td>\n",
              "    </tr>\n",
              "  </tbody>\n",
              "</table>\n",
              "</div>"
            ],
            "text/plain": [
              "                bathrooms  bedrooms  ...  num_photos  num_features\n",
              "interest_level                       ...                          \n",
              "0                1.238741  1.514759  ...    5.524647      5.307957\n",
              "1                1.163906  1.622050  ...    5.813251      5.888681\n",
              "2                1.116176  1.546496  ...    5.738474      5.158635\n",
              "\n",
              "[3 rows x 14 columns]"
            ]
          },
          "metadata": {
            "tags": []
          },
          "execution_count": 11
        }
      ]
    },
    {
      "cell_type": "code",
      "metadata": {
        "id": "iBlGZXbKN73c",
        "colab_type": "code",
        "outputId": "3d132f64-c3a2-4430-8bf6-fda17dce3c63",
        "colab": {
          "base_uri": "https://localhost:8080/",
          "height": 545
        }
      },
      "source": [
        "pd.crosstab(df['bathrooms'], df['interest_level'], normalize='index')"
      ],
      "execution_count": 12,
      "outputs": [
        {
          "output_type": "execute_result",
          "data": {
            "text/html": [
              "<div>\n",
              "<style scoped>\n",
              "    .dataframe tbody tr th:only-of-type {\n",
              "        vertical-align: middle;\n",
              "    }\n",
              "\n",
              "    .dataframe tbody tr th {\n",
              "        vertical-align: top;\n",
              "    }\n",
              "\n",
              "    .dataframe thead th {\n",
              "        text-align: right;\n",
              "    }\n",
              "</style>\n",
              "<table border=\"1\" class=\"dataframe\">\n",
              "  <thead>\n",
              "    <tr style=\"text-align: right;\">\n",
              "      <th>interest_level</th>\n",
              "      <th>0</th>\n",
              "      <th>1</th>\n",
              "      <th>2</th>\n",
              "    </tr>\n",
              "    <tr>\n",
              "      <th>bathrooms</th>\n",
              "      <th></th>\n",
              "      <th></th>\n",
              "      <th></th>\n",
              "    </tr>\n",
              "  </thead>\n",
              "  <tbody>\n",
              "    <tr>\n",
              "      <th>0.0</th>\n",
              "      <td>0.977636</td>\n",
              "      <td>0.019169</td>\n",
              "      <td>0.003195</td>\n",
              "    </tr>\n",
              "    <tr>\n",
              "      <th>1.0</th>\n",
              "      <td>0.674268</td>\n",
              "      <td>0.239156</td>\n",
              "      <td>0.086576</td>\n",
              "    </tr>\n",
              "    <tr>\n",
              "      <th>1.5</th>\n",
              "      <td>0.937984</td>\n",
              "      <td>0.062016</td>\n",
              "      <td>0.000000</td>\n",
              "    </tr>\n",
              "    <tr>\n",
              "      <th>2.0</th>\n",
              "      <td>0.726632</td>\n",
              "      <td>0.220235</td>\n",
              "      <td>0.053133</td>\n",
              "    </tr>\n",
              "    <tr>\n",
              "      <th>2.5</th>\n",
              "      <td>0.989170</td>\n",
              "      <td>0.010830</td>\n",
              "      <td>0.000000</td>\n",
              "    </tr>\n",
              "    <tr>\n",
              "      <th>3.0</th>\n",
              "      <td>0.900671</td>\n",
              "      <td>0.080537</td>\n",
              "      <td>0.018792</td>\n",
              "    </tr>\n",
              "    <tr>\n",
              "      <th>3.5</th>\n",
              "      <td>1.000000</td>\n",
              "      <td>0.000000</td>\n",
              "      <td>0.000000</td>\n",
              "    </tr>\n",
              "    <tr>\n",
              "      <th>4.0</th>\n",
              "      <td>0.943396</td>\n",
              "      <td>0.031447</td>\n",
              "      <td>0.025157</td>\n",
              "    </tr>\n",
              "    <tr>\n",
              "      <th>4.5</th>\n",
              "      <td>1.000000</td>\n",
              "      <td>0.000000</td>\n",
              "      <td>0.000000</td>\n",
              "    </tr>\n",
              "    <tr>\n",
              "      <th>5.0</th>\n",
              "      <td>1.000000</td>\n",
              "      <td>0.000000</td>\n",
              "      <td>0.000000</td>\n",
              "    </tr>\n",
              "    <tr>\n",
              "      <th>5.5</th>\n",
              "      <td>1.000000</td>\n",
              "      <td>0.000000</td>\n",
              "      <td>0.000000</td>\n",
              "    </tr>\n",
              "    <tr>\n",
              "      <th>6.0</th>\n",
              "      <td>1.000000</td>\n",
              "      <td>0.000000</td>\n",
              "      <td>0.000000</td>\n",
              "    </tr>\n",
              "    <tr>\n",
              "      <th>6.5</th>\n",
              "      <td>1.000000</td>\n",
              "      <td>0.000000</td>\n",
              "      <td>0.000000</td>\n",
              "    </tr>\n",
              "    <tr>\n",
              "      <th>7.0</th>\n",
              "      <td>1.000000</td>\n",
              "      <td>0.000000</td>\n",
              "      <td>0.000000</td>\n",
              "    </tr>\n",
              "    <tr>\n",
              "      <th>10.0</th>\n",
              "      <td>1.000000</td>\n",
              "      <td>0.000000</td>\n",
              "      <td>0.000000</td>\n",
              "    </tr>\n",
              "  </tbody>\n",
              "</table>\n",
              "</div>"
            ],
            "text/plain": [
              "interest_level         0         1         2\n",
              "bathrooms                                   \n",
              "0.0             0.977636  0.019169  0.003195\n",
              "1.0             0.674268  0.239156  0.086576\n",
              "1.5             0.937984  0.062016  0.000000\n",
              "2.0             0.726632  0.220235  0.053133\n",
              "2.5             0.989170  0.010830  0.000000\n",
              "3.0             0.900671  0.080537  0.018792\n",
              "3.5             1.000000  0.000000  0.000000\n",
              "4.0             0.943396  0.031447  0.025157\n",
              "4.5             1.000000  0.000000  0.000000\n",
              "5.0             1.000000  0.000000  0.000000\n",
              "5.5             1.000000  0.000000  0.000000\n",
              "6.0             1.000000  0.000000  0.000000\n",
              "6.5             1.000000  0.000000  0.000000\n",
              "7.0             1.000000  0.000000  0.000000\n",
              "10.0            1.000000  0.000000  0.000000"
            ]
          },
          "metadata": {
            "tags": []
          },
          "execution_count": 12
        }
      ]
    },
    {
      "cell_type": "code",
      "metadata": {
        "id": "4-8LpoTbN73h",
        "colab_type": "code",
        "outputId": "0401ac2c-0f88-48ca-9b55-2b1e9b3ef7c6",
        "colab": {
          "base_uri": "https://localhost:8080/",
          "height": 450
        }
      },
      "source": [
        "qq = pd.crosstab(df['manager_id'], df['interest_level'])\n",
        "qq['sum'] = qq[0] + qq[1]+qq[2]\n",
        "qq.sort_values(by=['sum'], ascending=False)"
      ],
      "execution_count": 13,
      "outputs": [
        {
          "output_type": "execute_result",
          "data": {
            "text/html": [
              "<div>\n",
              "<style scoped>\n",
              "    .dataframe tbody tr th:only-of-type {\n",
              "        vertical-align: middle;\n",
              "    }\n",
              "\n",
              "    .dataframe tbody tr th {\n",
              "        vertical-align: top;\n",
              "    }\n",
              "\n",
              "    .dataframe thead th {\n",
              "        text-align: right;\n",
              "    }\n",
              "</style>\n",
              "<table border=\"1\" class=\"dataframe\">\n",
              "  <thead>\n",
              "    <tr style=\"text-align: right;\">\n",
              "      <th>interest_level</th>\n",
              "      <th>0</th>\n",
              "      <th>1</th>\n",
              "      <th>2</th>\n",
              "      <th>sum</th>\n",
              "    </tr>\n",
              "    <tr>\n",
              "      <th>manager_id</th>\n",
              "      <th></th>\n",
              "      <th></th>\n",
              "      <th></th>\n",
              "      <th></th>\n",
              "    </tr>\n",
              "  </thead>\n",
              "  <tbody>\n",
              "    <tr>\n",
              "      <th>e6472c7237327dd3903b3d6f6a94515a</th>\n",
              "      <td>1739</td>\n",
              "      <td>622</td>\n",
              "      <td>172</td>\n",
              "      <td>2533</td>\n",
              "    </tr>\n",
              "    <tr>\n",
              "      <th>6e5c10246156ae5bdcd9b487ca99d96a</th>\n",
              "      <td>644</td>\n",
              "      <td>63</td>\n",
              "      <td>4</td>\n",
              "      <td>711</td>\n",
              "    </tr>\n",
              "    <tr>\n",
              "      <th>8f5a9c893f6d602f4953fcc0b8e6e9b4</th>\n",
              "      <td>405</td>\n",
              "      <td>4</td>\n",
              "      <td>1</td>\n",
              "      <td>410</td>\n",
              "    </tr>\n",
              "    <tr>\n",
              "      <th>62b685cc0d876c3a1a51d63a0d6a8082</th>\n",
              "      <td>402</td>\n",
              "      <td>0</td>\n",
              "      <td>0</td>\n",
              "      <td>402</td>\n",
              "    </tr>\n",
              "    <tr>\n",
              "      <th>cb87dadbca78fad02b388dc9e8f25a5b</th>\n",
              "      <td>135</td>\n",
              "      <td>183</td>\n",
              "      <td>55</td>\n",
              "      <td>373</td>\n",
              "    </tr>\n",
              "    <tr>\n",
              "      <th>...</th>\n",
              "      <td>...</td>\n",
              "      <td>...</td>\n",
              "      <td>...</td>\n",
              "      <td>...</td>\n",
              "    </tr>\n",
              "    <tr>\n",
              "      <th>918acb34f159aeefe0b829a53ed6179c</th>\n",
              "      <td>1</td>\n",
              "      <td>0</td>\n",
              "      <td>0</td>\n",
              "      <td>1</td>\n",
              "    </tr>\n",
              "    <tr>\n",
              "      <th>916668a9ae4b9a3eeb2356c0c15d0384</th>\n",
              "      <td>1</td>\n",
              "      <td>0</td>\n",
              "      <td>0</td>\n",
              "      <td>1</td>\n",
              "    </tr>\n",
              "    <tr>\n",
              "      <th>9109b784e9f37346d6ac176e02e340da</th>\n",
              "      <td>1</td>\n",
              "      <td>0</td>\n",
              "      <td>0</td>\n",
              "      <td>1</td>\n",
              "    </tr>\n",
              "    <tr>\n",
              "      <th>90b05c24580e446ad6620d4565ccbe92</th>\n",
              "      <td>0</td>\n",
              "      <td>1</td>\n",
              "      <td>0</td>\n",
              "      <td>1</td>\n",
              "    </tr>\n",
              "    <tr>\n",
              "      <th>8e75480baef379386edc3880bba576fd</th>\n",
              "      <td>1</td>\n",
              "      <td>0</td>\n",
              "      <td>0</td>\n",
              "      <td>1</td>\n",
              "    </tr>\n",
              "  </tbody>\n",
              "</table>\n",
              "<p>3481 rows × 4 columns</p>\n",
              "</div>"
            ],
            "text/plain": [
              "interest_level                       0    1    2   sum\n",
              "manager_id                                            \n",
              "e6472c7237327dd3903b3d6f6a94515a  1739  622  172  2533\n",
              "6e5c10246156ae5bdcd9b487ca99d96a   644   63    4   711\n",
              "8f5a9c893f6d602f4953fcc0b8e6e9b4   405    4    1   410\n",
              "62b685cc0d876c3a1a51d63a0d6a8082   402    0    0   402\n",
              "cb87dadbca78fad02b388dc9e8f25a5b   135  183   55   373\n",
              "...                                ...  ...  ...   ...\n",
              "918acb34f159aeefe0b829a53ed6179c     1    0    0     1\n",
              "916668a9ae4b9a3eeb2356c0c15d0384     1    0    0     1\n",
              "9109b784e9f37346d6ac176e02e340da     1    0    0     1\n",
              "90b05c24580e446ad6620d4565ccbe92     0    1    0     1\n",
              "8e75480baef379386edc3880bba576fd     1    0    0     1\n",
              "\n",
              "[3481 rows x 4 columns]"
            ]
          },
          "metadata": {
            "tags": []
          },
          "execution_count": 13
        }
      ]
    },
    {
      "cell_type": "code",
      "metadata": {
        "id": "LAW3WwJTN73m",
        "colab_type": "code",
        "outputId": "7fdd6e2a-be58-49b8-e550-fb0ff31db3fc",
        "colab": {
          "base_uri": "https://localhost:8080/",
          "height": 1000
        }
      },
      "source": [
        "pd.crosstab(df['num_features'], df['interest_level'], normalize='index')"
      ],
      "execution_count": 14,
      "outputs": [
        {
          "output_type": "execute_result",
          "data": {
            "text/html": [
              "<div>\n",
              "<style scoped>\n",
              "    .dataframe tbody tr th:only-of-type {\n",
              "        vertical-align: middle;\n",
              "    }\n",
              "\n",
              "    .dataframe tbody tr th {\n",
              "        vertical-align: top;\n",
              "    }\n",
              "\n",
              "    .dataframe thead th {\n",
              "        text-align: right;\n",
              "    }\n",
              "</style>\n",
              "<table border=\"1\" class=\"dataframe\">\n",
              "  <thead>\n",
              "    <tr style=\"text-align: right;\">\n",
              "      <th>interest_level</th>\n",
              "      <th>0</th>\n",
              "      <th>1</th>\n",
              "      <th>2</th>\n",
              "    </tr>\n",
              "    <tr>\n",
              "      <th>num_features</th>\n",
              "      <th></th>\n",
              "      <th></th>\n",
              "      <th></th>\n",
              "    </tr>\n",
              "  </thead>\n",
              "  <tbody>\n",
              "    <tr>\n",
              "      <th>0</th>\n",
              "      <td>0.651958</td>\n",
              "      <td>0.227470</td>\n",
              "      <td>0.120572</td>\n",
              "    </tr>\n",
              "    <tr>\n",
              "      <th>1</th>\n",
              "      <td>0.712903</td>\n",
              "      <td>0.202535</td>\n",
              "      <td>0.084562</td>\n",
              "    </tr>\n",
              "    <tr>\n",
              "      <th>2</th>\n",
              "      <td>0.698663</td>\n",
              "      <td>0.210207</td>\n",
              "      <td>0.091130</td>\n",
              "    </tr>\n",
              "    <tr>\n",
              "      <th>3</th>\n",
              "      <td>0.736435</td>\n",
              "      <td>0.189019</td>\n",
              "      <td>0.074545</td>\n",
              "    </tr>\n",
              "    <tr>\n",
              "      <th>4</th>\n",
              "      <td>0.730170</td>\n",
              "      <td>0.198571</td>\n",
              "      <td>0.071258</td>\n",
              "    </tr>\n",
              "    <tr>\n",
              "      <th>5</th>\n",
              "      <td>0.726413</td>\n",
              "      <td>0.206950</td>\n",
              "      <td>0.066637</td>\n",
              "    </tr>\n",
              "    <tr>\n",
              "      <th>6</th>\n",
              "      <td>0.691525</td>\n",
              "      <td>0.234159</td>\n",
              "      <td>0.074316</td>\n",
              "    </tr>\n",
              "    <tr>\n",
              "      <th>7</th>\n",
              "      <td>0.691464</td>\n",
              "      <td>0.247481</td>\n",
              "      <td>0.061055</td>\n",
              "    </tr>\n",
              "    <tr>\n",
              "      <th>8</th>\n",
              "      <td>0.668310</td>\n",
              "      <td>0.264789</td>\n",
              "      <td>0.066901</td>\n",
              "    </tr>\n",
              "    <tr>\n",
              "      <th>9</th>\n",
              "      <td>0.684060</td>\n",
              "      <td>0.247860</td>\n",
              "      <td>0.068080</td>\n",
              "    </tr>\n",
              "    <tr>\n",
              "      <th>10</th>\n",
              "      <td>0.665765</td>\n",
              "      <td>0.275147</td>\n",
              "      <td>0.059089</td>\n",
              "    </tr>\n",
              "    <tr>\n",
              "      <th>11</th>\n",
              "      <td>0.644854</td>\n",
              "      <td>0.280785</td>\n",
              "      <td>0.074360</td>\n",
              "    </tr>\n",
              "    <tr>\n",
              "      <th>12</th>\n",
              "      <td>0.645606</td>\n",
              "      <td>0.277415</td>\n",
              "      <td>0.076979</td>\n",
              "    </tr>\n",
              "    <tr>\n",
              "      <th>13</th>\n",
              "      <td>0.622398</td>\n",
              "      <td>0.294351</td>\n",
              "      <td>0.083251</td>\n",
              "    </tr>\n",
              "    <tr>\n",
              "      <th>14</th>\n",
              "      <td>0.618725</td>\n",
              "      <td>0.282225</td>\n",
              "      <td>0.099050</td>\n",
              "    </tr>\n",
              "    <tr>\n",
              "      <th>15</th>\n",
              "      <td>0.563596</td>\n",
              "      <td>0.313596</td>\n",
              "      <td>0.122807</td>\n",
              "    </tr>\n",
              "    <tr>\n",
              "      <th>16</th>\n",
              "      <td>0.667845</td>\n",
              "      <td>0.243816</td>\n",
              "      <td>0.088339</td>\n",
              "    </tr>\n",
              "    <tr>\n",
              "      <th>17</th>\n",
              "      <td>0.608696</td>\n",
              "      <td>0.304348</td>\n",
              "      <td>0.086957</td>\n",
              "    </tr>\n",
              "    <tr>\n",
              "      <th>18</th>\n",
              "      <td>0.629213</td>\n",
              "      <td>0.280899</td>\n",
              "      <td>0.089888</td>\n",
              "    </tr>\n",
              "    <tr>\n",
              "      <th>19</th>\n",
              "      <td>0.666667</td>\n",
              "      <td>0.266667</td>\n",
              "      <td>0.066667</td>\n",
              "    </tr>\n",
              "    <tr>\n",
              "      <th>20</th>\n",
              "      <td>0.583333</td>\n",
              "      <td>0.416667</td>\n",
              "      <td>0.000000</td>\n",
              "    </tr>\n",
              "    <tr>\n",
              "      <th>21</th>\n",
              "      <td>0.642857</td>\n",
              "      <td>0.285714</td>\n",
              "      <td>0.071429</td>\n",
              "    </tr>\n",
              "    <tr>\n",
              "      <th>22</th>\n",
              "      <td>0.846154</td>\n",
              "      <td>0.153846</td>\n",
              "      <td>0.000000</td>\n",
              "    </tr>\n",
              "    <tr>\n",
              "      <th>23</th>\n",
              "      <td>0.500000</td>\n",
              "      <td>0.333333</td>\n",
              "      <td>0.166667</td>\n",
              "    </tr>\n",
              "    <tr>\n",
              "      <th>24</th>\n",
              "      <td>0.800000</td>\n",
              "      <td>0.000000</td>\n",
              "      <td>0.200000</td>\n",
              "    </tr>\n",
              "    <tr>\n",
              "      <th>25</th>\n",
              "      <td>1.000000</td>\n",
              "      <td>0.000000</td>\n",
              "      <td>0.000000</td>\n",
              "    </tr>\n",
              "    <tr>\n",
              "      <th>26</th>\n",
              "      <td>0.750000</td>\n",
              "      <td>0.000000</td>\n",
              "      <td>0.250000</td>\n",
              "    </tr>\n",
              "    <tr>\n",
              "      <th>27</th>\n",
              "      <td>0.666667</td>\n",
              "      <td>0.333333</td>\n",
              "      <td>0.000000</td>\n",
              "    </tr>\n",
              "    <tr>\n",
              "      <th>28</th>\n",
              "      <td>1.000000</td>\n",
              "      <td>0.000000</td>\n",
              "      <td>0.000000</td>\n",
              "    </tr>\n",
              "    <tr>\n",
              "      <th>31</th>\n",
              "      <td>1.000000</td>\n",
              "      <td>0.000000</td>\n",
              "      <td>0.000000</td>\n",
              "    </tr>\n",
              "    <tr>\n",
              "      <th>32</th>\n",
              "      <td>0.000000</td>\n",
              "      <td>0.000000</td>\n",
              "      <td>1.000000</td>\n",
              "    </tr>\n",
              "    <tr>\n",
              "      <th>36</th>\n",
              "      <td>0.000000</td>\n",
              "      <td>1.000000</td>\n",
              "      <td>0.000000</td>\n",
              "    </tr>\n",
              "    <tr>\n",
              "      <th>39</th>\n",
              "      <td>0.000000</td>\n",
              "      <td>1.000000</td>\n",
              "      <td>0.000000</td>\n",
              "    </tr>\n",
              "  </tbody>\n",
              "</table>\n",
              "</div>"
            ],
            "text/plain": [
              "interest_level         0         1         2\n",
              "num_features                                \n",
              "0               0.651958  0.227470  0.120572\n",
              "1               0.712903  0.202535  0.084562\n",
              "2               0.698663  0.210207  0.091130\n",
              "3               0.736435  0.189019  0.074545\n",
              "4               0.730170  0.198571  0.071258\n",
              "5               0.726413  0.206950  0.066637\n",
              "6               0.691525  0.234159  0.074316\n",
              "7               0.691464  0.247481  0.061055\n",
              "8               0.668310  0.264789  0.066901\n",
              "9               0.684060  0.247860  0.068080\n",
              "10              0.665765  0.275147  0.059089\n",
              "11              0.644854  0.280785  0.074360\n",
              "12              0.645606  0.277415  0.076979\n",
              "13              0.622398  0.294351  0.083251\n",
              "14              0.618725  0.282225  0.099050\n",
              "15              0.563596  0.313596  0.122807\n",
              "16              0.667845  0.243816  0.088339\n",
              "17              0.608696  0.304348  0.086957\n",
              "18              0.629213  0.280899  0.089888\n",
              "19              0.666667  0.266667  0.066667\n",
              "20              0.583333  0.416667  0.000000\n",
              "21              0.642857  0.285714  0.071429\n",
              "22              0.846154  0.153846  0.000000\n",
              "23              0.500000  0.333333  0.166667\n",
              "24              0.800000  0.000000  0.200000\n",
              "25              1.000000  0.000000  0.000000\n",
              "26              0.750000  0.000000  0.250000\n",
              "27              0.666667  0.333333  0.000000\n",
              "28              1.000000  0.000000  0.000000\n",
              "31              1.000000  0.000000  0.000000\n",
              "32              0.000000  0.000000  1.000000\n",
              "36              0.000000  1.000000  0.000000\n",
              "39              0.000000  1.000000  0.000000"
            ]
          },
          "metadata": {
            "tags": []
          },
          "execution_count": 14
        }
      ]
    },
    {
      "cell_type": "markdown",
      "metadata": {
        "id": "5NGH063gN73s",
        "colab_type": "text"
      },
      "source": [
        "## 방당 가격 추가\n",
        "## 별로 의미는 없는 듯함\n",
        "## 로그를 취할 경우 price를 포함한 3개의 히스토그램이 같은 모양"
      ]
    },
    {
      "cell_type": "code",
      "metadata": {
        "scrolled": false,
        "id": "4Ihif8Y7N73u",
        "colab_type": "code",
        "outputId": "a8a904e1-81e4-4f74-edba-09c0834e0aad",
        "colab": {
          "base_uri": "https://localhost:8080/",
          "height": 233
        }
      },
      "source": [
        "df['each_price'] = df['price'] / (df['bedrooms'] + df['bathrooms'] + 1)\n",
        "df['each_price']"
      ],
      "execution_count": 15,
      "outputs": [
        {
          "output_type": "execute_result",
          "data": {
            "text/plain": [
              "4          800.000000\n",
              "6          950.000000\n",
              "9          873.750000\n",
              "10         545.454545\n",
              "15        1397.500000\n",
              "             ...     \n",
              "124000     560.000000\n",
              "124002     598.750000\n",
              "124004     616.666667\n",
              "124008    1048.750000\n",
              "124009     856.000000\n",
              "Name: each_price, Length: 49352, dtype: float64"
            ]
          },
          "metadata": {
            "tags": []
          },
          "execution_count": 15
        }
      ]
    },
    {
      "cell_type": "markdown",
      "metadata": {
        "id": "Gt24ksDhN73y",
        "colab_type": "text"
      },
      "source": [
        "## 화장실 개수 + 침실 개수"
      ]
    },
    {
      "cell_type": "code",
      "metadata": {
        "scrolled": true,
        "id": "mK_I9wwFN730",
        "colab_type": "code",
        "outputId": "881499eb-daeb-42f6-ddfb-2348acc5493f",
        "colab": {
          "base_uri": "https://localhost:8080/",
          "height": 233
        }
      },
      "source": [
        "df['room_num'] = np.log(df['bedrooms'] + df['bathrooms'] + 1)\n",
        "df['room_num']"
      ],
      "execution_count": 16,
      "outputs": [
        {
          "output_type": "execute_result",
          "data": {
            "text/plain": [
              "4         1.098612\n",
              "6         1.386294\n",
              "9         1.386294\n",
              "10        1.704748\n",
              "15        0.693147\n",
              "            ...   \n",
              "124000    1.609438\n",
              "124002    1.386294\n",
              "124004    1.098612\n",
              "124008    1.386294\n",
              "124009    1.609438\n",
              "Name: room_num, Length: 49352, dtype: float64"
            ]
          },
          "metadata": {
            "tags": []
          },
          "execution_count": 16
        }
      ]
    },
    {
      "cell_type": "code",
      "metadata": {
        "id": "-UskMY5HN737",
        "colab_type": "code",
        "outputId": "20106833-8143-41dd-c404-3211a125035a",
        "colab": {
          "base_uri": "https://localhost:8080/",
          "height": 373
        }
      },
      "source": [
        "plt.hist(df['room_num'])"
      ],
      "execution_count": 17,
      "outputs": [
        {
          "output_type": "execute_result",
          "data": {
            "text/plain": [
              "(array([1.5700e+02, 0.0000e+00, 9.3520e+03, 9.0000e+00, 1.5543e+04,\n",
              "        1.1310e+04, 1.0642e+04, 2.0280e+03, 2.9900e+02, 1.2000e+01]),\n",
              " array([0.        , 0.26741486, 0.53482973, 0.80224459, 1.06965946,\n",
              "        1.33707432, 1.60448919, 1.87190405, 2.13931892, 2.40673378,\n",
              "        2.67414865]),\n",
              " <a list of 10 Patch objects>)"
            ]
          },
          "metadata": {
            "tags": []
          },
          "execution_count": 17
        },
        {
          "output_type": "display_data",
          "data": {
            "image/png": "[encoded data removed]",
            "text/plain": [
              "<Figure size 432x288 with 1 Axes>"
            ]
          },
          "metadata": {
            "tags": []
          }
        }
      ]
    },
    {
      "cell_type": "markdown",
      "metadata": {
        "id": "dWzzsfYuN73_",
        "colab_type": "text"
      },
      "source": [
        "## X와 Y 나누기"
      ]
    },
    {
      "cell_type": "code",
      "metadata": {
        "scrolled": true,
        "id": "E3uDtoJ6N74B",
        "colab_type": "code",
        "outputId": "6422b2e5-fb40-476b-fdaf-c3450835cd6d",
        "colab": {
          "base_uri": "https://localhost:8080/",
          "height": 1000
        }
      },
      "source": [
        "y = df['interest_level']\n",
        "df = df.drop(['interest_level'], axis=1)\n",
        "df"
      ],
      "execution_count": 18,
      "outputs": [
        {
          "output_type": "execute_result",
          "data": {
            "text/html": [
              "<div>\n",
              "<style scoped>\n",
              "    .dataframe tbody tr th:only-of-type {\n",
              "        vertical-align: middle;\n",
              "    }\n",
              "\n",
              "    .dataframe tbody tr th {\n",
              "        vertical-align: top;\n",
              "    }\n",
              "\n",
              "    .dataframe thead th {\n",
              "        text-align: right;\n",
              "    }\n",
              "</style>\n",
              "<table border=\"1\" class=\"dataframe\">\n",
              "  <thead>\n",
              "    <tr style=\"text-align: right;\">\n",
              "      <th></th>\n",
              "      <th>bathrooms</th>\n",
              "      <th>bedrooms</th>\n",
              "      <th>building_id</th>\n",
              "      <th>created</th>\n",
              "      <th>description</th>\n",
              "      <th>display_address</th>\n",
              "      <th>features</th>\n",
              "      <th>latitude</th>\n",
              "      <th>listing_id</th>\n",
              "      <th>longitude</th>\n",
              "      <th>manager_id</th>\n",
              "      <th>photos</th>\n",
              "      <th>price</th>\n",
              "      <th>street_address</th>\n",
              "      <th>year</th>\n",
              "      <th>month</th>\n",
              "      <th>day</th>\n",
              "      <th>week</th>\n",
              "      <th>hour</th>\n",
              "      <th>weekday</th>\n",
              "      <th>num_photos</th>\n",
              "      <th>num_features</th>\n",
              "      <th>each_price</th>\n",
              "      <th>room_num</th>\n",
              "    </tr>\n",
              "  </thead>\n",
              "  <tbody>\n",
              "    <tr>\n",
              "      <th>4</th>\n",
              "      <td>1.0</td>\n",
              "      <td>1</td>\n",
              "      <td>8579a0b0d54db803821a35a4a615e97a</td>\n",
              "      <td>2016-06-16 05:55:27</td>\n",
              "      <td>Spacious 1 Bedroom 1 Bathroom in Williamsburg!...</td>\n",
              "      <td>145 Borinquen Place</td>\n",
              "      <td>[Dining Room, Pre-War, Laundry in Building, Di...</td>\n",
              "      <td>40.7108</td>\n",
              "      <td>7170325</td>\n",
              "      <td>-73.9539</td>\n",
              "      <td>a10db4590843d78c784171a107bdacb4</td>\n",
              "      <td>[https://photos.renthop.com/2/7170325_3bb5ac84...</td>\n",
              "      <td>2400</td>\n",
              "      <td>145 Borinquen Place</td>\n",
              "      <td>2016</td>\n",
              "      <td>6</td>\n",
              "      <td>16</td>\n",
              "      <td>24</td>\n",
              "      <td>5</td>\n",
              "      <td>3</td>\n",
              "      <td>12</td>\n",
              "      <td>7</td>\n",
              "      <td>800.000000</td>\n",
              "      <td>1.098612</td>\n",
              "    </tr>\n",
              "    <tr>\n",
              "      <th>6</th>\n",
              "      <td>1.0</td>\n",
              "      <td>2</td>\n",
              "      <td>b8e75fc949a6cd8225b455648a951712</td>\n",
              "      <td>2016-06-01 05:44:33</td>\n",
              "      <td>BRAND NEW GUT RENOVATED TRUE 2 BEDROOMFind you...</td>\n",
              "      <td>East 44th</td>\n",
              "      <td>[Doorman, Elevator, Laundry in Building, Dishw...</td>\n",
              "      <td>40.7513</td>\n",
              "      <td>7092344</td>\n",
              "      <td>-73.9722</td>\n",
              "      <td>955db33477af4f40004820b4aed804a0</td>\n",
              "      <td>[https://photos.renthop.com/2/7092344_7663c19a...</td>\n",
              "      <td>3800</td>\n",
              "      <td>230 East 44th</td>\n",
              "      <td>2016</td>\n",
              "      <td>6</td>\n",
              "      <td>1</td>\n",
              "      <td>22</td>\n",
              "      <td>5</td>\n",
              "      <td>2</td>\n",
              "      <td>6</td>\n",
              "      <td>6</td>\n",
              "      <td>950.000000</td>\n",
              "      <td>1.386294</td>\n",
              "    </tr>\n",
              "    <tr>\n",
              "      <th>9</th>\n",
              "      <td>1.0</td>\n",
              "      <td>2</td>\n",
              "      <td>cd759a988b8f23924b5a2058d5ab2b49</td>\n",
              "      <td>2016-06-14 15:19:59</td>\n",
              "      <td>**FLEX 2 BEDROOM WITH FULL PRESSURIZED WALL**L...</td>\n",
              "      <td>East 56th Street</td>\n",
              "      <td>[Doorman, Elevator, Laundry in Building, Laund...</td>\n",
              "      <td>40.7575</td>\n",
              "      <td>7158677</td>\n",
              "      <td>-73.9625</td>\n",
              "      <td>c8b10a317b766204f08e613cef4ce7a0</td>\n",
              "      <td>[https://photos.renthop.com/2/7158677_c897a134...</td>\n",
              "      <td>3495</td>\n",
              "      <td>405 East 56th Street</td>\n",
              "      <td>2016</td>\n",
              "      <td>6</td>\n",
              "      <td>14</td>\n",
              "      <td>24</td>\n",
              "      <td>15</td>\n",
              "      <td>1</td>\n",
              "      <td>6</td>\n",
              "      <td>6</td>\n",
              "      <td>873.750000</td>\n",
              "      <td>1.386294</td>\n",
              "    </tr>\n",
              "    <tr>\n",
              "      <th>10</th>\n",
              "      <td>1.5</td>\n",
              "      <td>3</td>\n",
              "      <td>53a5b119ba8f7b61d4e010512e0dfc85</td>\n",
              "      <td>2016-06-24 07:54:24</td>\n",
              "      <td>A Brand New 3 Bedroom 1.5 bath ApartmentEnjoy ...</td>\n",
              "      <td>Metropolitan Avenue</td>\n",
              "      <td>[]</td>\n",
              "      <td>40.7145</td>\n",
              "      <td>7211212</td>\n",
              "      <td>-73.9425</td>\n",
              "      <td>5ba989232d0489da1b5f2c45f6688adc</td>\n",
              "      <td>[https://photos.renthop.com/2/7211212_1ed4542e...</td>\n",
              "      <td>3000</td>\n",
              "      <td>792 Metropolitan Avenue</td>\n",
              "      <td>2016</td>\n",
              "      <td>6</td>\n",
              "      <td>24</td>\n",
              "      <td>25</td>\n",
              "      <td>7</td>\n",
              "      <td>4</td>\n",
              "      <td>5</td>\n",
              "      <td>0</td>\n",
              "      <td>545.454545</td>\n",
              "      <td>1.704748</td>\n",
              "    </tr>\n",
              "    <tr>\n",
              "      <th>15</th>\n",
              "      <td>1.0</td>\n",
              "      <td>0</td>\n",
              "      <td>bfb9405149bfff42a92980b594c28234</td>\n",
              "      <td>2016-06-28 03:50:23</td>\n",
              "      <td>Over-sized Studio w abundant closets. Availabl...</td>\n",
              "      <td>East 34th Street</td>\n",
              "      <td>[Doorman, Elevator, Fitness Center, Laundry in...</td>\n",
              "      <td>40.7439</td>\n",
              "      <td>7225292</td>\n",
              "      <td>-73.9743</td>\n",
              "      <td>2c3b41f588fbb5234d8a1e885a436cfa</td>\n",
              "      <td>[https://photos.renthop.com/2/7225292_901f1984...</td>\n",
              "      <td>2795</td>\n",
              "      <td>340 East 34th Street</td>\n",
              "      <td>2016</td>\n",
              "      <td>6</td>\n",
              "      <td>28</td>\n",
              "      <td>26</td>\n",
              "      <td>3</td>\n",
              "      <td>1</td>\n",
              "      <td>4</td>\n",
              "      <td>4</td>\n",
              "      <td>1397.500000</td>\n",
              "      <td>0.693147</td>\n",
              "    </tr>\n",
              "    <tr>\n",
              "      <th>...</th>\n",
              "      <td>...</td>\n",
              "      <td>...</td>\n",
              "      <td>...</td>\n",
              "      <td>...</td>\n",
              "      <td>...</td>\n",
              "      <td>...</td>\n",
              "      <td>...</td>\n",
              "      <td>...</td>\n",
              "      <td>...</td>\n",
              "      <td>...</td>\n",
              "      <td>...</td>\n",
              "      <td>...</td>\n",
              "      <td>...</td>\n",
              "      <td>...</td>\n",
              "      <td>...</td>\n",
              "      <td>...</td>\n",
              "      <td>...</td>\n",
              "      <td>...</td>\n",
              "      <td>...</td>\n",
              "      <td>...</td>\n",
              "      <td>...</td>\n",
              "      <td>...</td>\n",
              "      <td>...</td>\n",
              "      <td>...</td>\n",
              "    </tr>\n",
              "    <tr>\n",
              "      <th>124000</th>\n",
              "      <td>1.0</td>\n",
              "      <td>3</td>\n",
              "      <td>92bbbf38baadfde0576fc496bd41749c</td>\n",
              "      <td>2016-04-05 03:58:33</td>\n",
              "      <td>There is 700 square feet of recently renovated...</td>\n",
              "      <td>W 171 Street</td>\n",
              "      <td>[Elevator, Dishwasher, Hardwood Floors]</td>\n",
              "      <td>40.8433</td>\n",
              "      <td>6824800</td>\n",
              "      <td>-73.9396</td>\n",
              "      <td>a61e21da3ba18c7a3d54cfdcc247e1f8</td>\n",
              "      <td>[https://photos.renthop.com/2/6824800_0682be16...</td>\n",
              "      <td>2800</td>\n",
              "      <td>620 W 171 Street</td>\n",
              "      <td>2016</td>\n",
              "      <td>4</td>\n",
              "      <td>5</td>\n",
              "      <td>14</td>\n",
              "      <td>3</td>\n",
              "      <td>1</td>\n",
              "      <td>5</td>\n",
              "      <td>3</td>\n",
              "      <td>560.000000</td>\n",
              "      <td>1.609438</td>\n",
              "    </tr>\n",
              "    <tr>\n",
              "      <th>124002</th>\n",
              "      <td>1.0</td>\n",
              "      <td>2</td>\n",
              "      <td>5565db9b7cba3603834c4aa6f2950960</td>\n",
              "      <td>2016-04-02 02:25:31</td>\n",
              "      <td>2 bedroom apartment with updated kitchen, rece...</td>\n",
              "      <td>Broadway</td>\n",
              "      <td>[Common Outdoor Space, Cats Allowed, Dogs Allo...</td>\n",
              "      <td>40.8198</td>\n",
              "      <td>6813268</td>\n",
              "      <td>-73.9578</td>\n",
              "      <td>8f90e5e10e8a2d7cf997f016d89230eb</td>\n",
              "      <td>[https://photos.renthop.com/2/6813268_1e6fcc32...</td>\n",
              "      <td>2395</td>\n",
              "      <td>3333 Broadway</td>\n",
              "      <td>2016</td>\n",
              "      <td>4</td>\n",
              "      <td>2</td>\n",
              "      <td>13</td>\n",
              "      <td>2</td>\n",
              "      <td>5</td>\n",
              "      <td>5</td>\n",
              "      <td>7</td>\n",
              "      <td>598.750000</td>\n",
              "      <td>1.386294</td>\n",
              "    </tr>\n",
              "    <tr>\n",
              "      <th>124004</th>\n",
              "      <td>1.0</td>\n",
              "      <td>1</td>\n",
              "      <td>67997a128056ee1ed7d046bbb856e3c7</td>\n",
              "      <td>2016-04-26 05:42:03</td>\n",
              "      <td>No Brokers Fee * Never Lived 1 Bedroom 1 Bathr...</td>\n",
              "      <td>210 Brighton 15th St</td>\n",
              "      <td>[Dining Room, Elevator, Pre-War, Laundry in Bu...</td>\n",
              "      <td>40.5765</td>\n",
              "      <td>6927093</td>\n",
              "      <td>-73.9554</td>\n",
              "      <td>a10db4590843d78c784171a107bdacb4</td>\n",
              "      <td>[https://photos.renthop.com/2/6927093_93a52104...</td>\n",
              "      <td>1850</td>\n",
              "      <td>210 Brighton 15th St</td>\n",
              "      <td>2016</td>\n",
              "      <td>4</td>\n",
              "      <td>26</td>\n",
              "      <td>17</td>\n",
              "      <td>5</td>\n",
              "      <td>1</td>\n",
              "      <td>3</td>\n",
              "      <td>11</td>\n",
              "      <td>616.666667</td>\n",
              "      <td>1.098612</td>\n",
              "    </tr>\n",
              "    <tr>\n",
              "      <th>124008</th>\n",
              "      <td>1.0</td>\n",
              "      <td>2</td>\n",
              "      <td>3c0574a740154806c18bdf1fddd3d966</td>\n",
              "      <td>2016-04-19 02:47:33</td>\n",
              "      <td>Wonderful Bright Chelsea 2 Bedroom apartment o...</td>\n",
              "      <td>West 21st Street</td>\n",
              "      <td>[Pre-War, Laundry in Unit, Dishwasher, No Fee,...</td>\n",
              "      <td>40.7448</td>\n",
              "      <td>6892816</td>\n",
              "      <td>-74.0017</td>\n",
              "      <td>c3cd45f4381ac371507090e9ffabea80</td>\n",
              "      <td>[https://photos.renthop.com/2/6892816_1a8d087a...</td>\n",
              "      <td>4195</td>\n",
              "      <td>350 West 21st Street</td>\n",
              "      <td>2016</td>\n",
              "      <td>4</td>\n",
              "      <td>19</td>\n",
              "      <td>16</td>\n",
              "      <td>2</td>\n",
              "      <td>1</td>\n",
              "      <td>5</td>\n",
              "      <td>5</td>\n",
              "      <td>1048.750000</td>\n",
              "      <td>1.386294</td>\n",
              "    </tr>\n",
              "    <tr>\n",
              "      <th>124009</th>\n",
              "      <td>1.0</td>\n",
              "      <td>3</td>\n",
              "      <td>d89f514c3ed0abaae52cba7017ac0701</td>\n",
              "      <td>2016-04-20 05:34:00</td>\n",
              "      <td>***PRIME MIDTOWN EAST OFF PARK AVE***TRUE 3 BE...</td>\n",
              "      <td>E 54th St</td>\n",
              "      <td>[Dining Room, Elevator, Laundry in Building, D...</td>\n",
              "      <td>40.7594</td>\n",
              "      <td>6901023</td>\n",
              "      <td>-73.9712</td>\n",
              "      <td>e90f2ded843cdb2efd65ef47d9fc8029</td>\n",
              "      <td>[https://photos.renthop.com/2/6901023_02052d90...</td>\n",
              "      <td>4280</td>\n",
              "      <td>123 E 54th St</td>\n",
              "      <td>2016</td>\n",
              "      <td>4</td>\n",
              "      <td>20</td>\n",
              "      <td>16</td>\n",
              "      <td>5</td>\n",
              "      <td>2</td>\n",
              "      <td>8</td>\n",
              "      <td>6</td>\n",
              "      <td>856.000000</td>\n",
              "      <td>1.609438</td>\n",
              "    </tr>\n",
              "  </tbody>\n",
              "</table>\n",
              "<p>49352 rows × 24 columns</p>\n",
              "</div>"
            ],
            "text/plain": [
              "        bathrooms  bedrooms  ...   each_price  room_num\n",
              "4             1.0         1  ...   800.000000  1.098612\n",
              "6             1.0         2  ...   950.000000  1.386294\n",
              "9             1.0         2  ...   873.750000  1.386294\n",
              "10            1.5         3  ...   545.454545  1.704748\n",
              "15            1.0         0  ...  1397.500000  0.693147\n",
              "...           ...       ...  ...          ...       ...\n",
              "124000        1.0         3  ...   560.000000  1.609438\n",
              "124002        1.0         2  ...   598.750000  1.386294\n",
              "124004        1.0         1  ...   616.666667  1.098612\n",
              "124008        1.0         2  ...  1048.750000  1.386294\n",
              "124009        1.0         3  ...   856.000000  1.609438\n",
              "\n",
              "[49352 rows x 24 columns]"
            ]
          },
          "metadata": {
            "tags": []
          },
          "execution_count": 18
        }
      ]
    },
    {
      "cell_type": "markdown",
      "metadata": {
        "id": "nQ2N7NB9N74G",
        "colab_type": "text"
      },
      "source": [
        "## 테스트와 트레인 나누기"
      ]
    },
    {
      "cell_type": "code",
      "metadata": {
        "id": "3BBi2O6wN74I",
        "colab_type": "code",
        "outputId": "2253340e-2d2b-48f3-e972-bad59ae3c7ca",
        "colab": {
          "base_uri": "https://localhost:8080/",
          "height": 35
        }
      },
      "source": [
        "from sklearn.model_selection import train_test_split\n",
        "X_train, X_test, y_train, y_test = train_test_split(df, y, test_size=0.2, random_state = 1234)\n",
        "y_train=np.array (y_train, dtype=\"float32\")\n",
        "y_train"
      ],
      "execution_count": 19,
      "outputs": [
        {
          "output_type": "execute_result",
          "data": {
            "text/plain": [
              "array([0., 0., 2., ..., 0., 0., 0.], dtype=float32)"
            ]
          },
          "metadata": {
            "tags": []
          },
          "execution_count": 19
        }
      ]
    },
    {
      "cell_type": "markdown",
      "metadata": {
        "id": "5kIgPqwAN74M",
        "colab_type": "text"
      },
      "source": [
        "## 주소 빈도수에 따른 처리"
      ]
    },
    {
      "cell_type": "code",
      "metadata": {
        "scrolled": false,
        "id": "Cx7PL0PIN74O",
        "colab_type": "code",
        "outputId": "ff6a74cf-69b2-4ded-a72d-657532263a5d",
        "colab": {
          "base_uri": "https://localhost:8080/",
          "height": 233
        }
      },
      "source": [
        "X_train['display_address']"
      ],
      "execution_count": 20,
      "outputs": [
        {
          "output_type": "execute_result",
          "data": {
            "text/plain": [
              "100814             W 12 Street\n",
              "1886               E 78 Street\n",
              "4013      Ft Washington Avenue\n",
              "111847                West st \n",
              "105665        West 53rd Street\n",
              "                  ...         \n",
              "81421              E 73 Street\n",
              "42948          EAST 8TH STREET\n",
              "60140         West 45th Street\n",
              "85578               E 94th St.\n",
              "69052              W 16 Street\n",
              "Name: display_address, Length: 39481, dtype: object"
            ]
          },
          "metadata": {
            "tags": []
          },
          "execution_count": 20
        }
      ]
    },
    {
      "cell_type": "code",
      "metadata": {
        "id": "ratCVs4YN74U",
        "colab_type": "code",
        "outputId": "b65b57d4-b64f-4a78-8f67-fd75fbea0ea3",
        "colab": {
          "base_uri": "https://localhost:8080/",
          "height": 233
        }
      },
      "source": [
        "keys = X_train['display_address'].value_counts()\n",
        "keys"
      ],
      "execution_count": 21,
      "outputs": [
        {
          "output_type": "execute_result",
          "data": {
            "text/plain": [
              "Broadway                 338\n",
              "Second Avenue            291\n",
              "Wall Street              281\n",
              "East 34th Street         276\n",
              "West 37th Street         234\n",
              "                        ... \n",
              "west 152nd street          1\n",
              "48 STUYVESANT STREET       1\n",
              "W Houston St,              1\n",
              "301 East 110th Street      1\n",
              "W 84th St                  1\n",
              "Name: display_address, Length: 7691, dtype: int64"
            ]
          },
          "metadata": {
            "tags": []
          },
          "execution_count": 21
        }
      ]
    },
    {
      "cell_type": "code",
      "metadata": {
        "scrolled": true,
        "id": "lQ78MfATN74b",
        "colab_type": "code",
        "outputId": "a42e71d5-b966-4dc4-996e-7686e6d9af99",
        "colab": {
          "base_uri": "https://localhost:8080/",
          "height": 233
        }
      },
      "source": [
        "keys = X_train['display_address'].value_counts().sort_values(ascending=False)\n",
        "keys[(keys >= keys.quantile(0.90))]"
      ],
      "execution_count": 22,
      "outputs": [
        {
          "output_type": "execute_result",
          "data": {
            "text/plain": [
              "Broadway            338\n",
              "Second Avenue       291\n",
              "Wall Street         281\n",
              "East 34th Street    276\n",
              "West 37th Street    234\n",
              "                   ... \n",
              "Lorimer Street        9\n",
              "Keap Street           9\n",
              "Ave. B                9\n",
              "East 64th Street      9\n",
              "Sherman Ave           9\n",
              "Name: display_address, Length: 835, dtype: int64"
            ]
          },
          "metadata": {
            "tags": []
          },
          "execution_count": 22
        }
      ]
    },
    {
      "cell_type": "code",
      "metadata": {
        "id": "db1SleY9N74h",
        "colab_type": "code",
        "outputId": "38df440c-b768-4a87-ee55-5ce8a8b33e7c",
        "colab": {
          "base_uri": "https://localhost:8080/",
          "height": 35
        }
      },
      "source": [
        "rate = 0.85\n",
        "keys.quantile(rate)"
      ],
      "execution_count": 23,
      "outputs": [
        {
          "output_type": "execute_result",
          "data": {
            "text/plain": [
              "6.0"
            ]
          },
          "metadata": {
            "tags": []
          },
          "execution_count": 23
        }
      ]
    },
    {
      "cell_type": "code",
      "metadata": {
        "scrolled": true,
        "id": "x0qXQMmHN74m",
        "colab_type": "code",
        "outputId": "a016ff73-0d9c-4753-b042-25cf3d135f2a",
        "colab": {
          "base_uri": "https://localhost:8080/",
          "height": 233
        }
      },
      "source": [
        "keys = X_train['display_address'].value_counts()\n",
        "keys"
      ],
      "execution_count": 24,
      "outputs": [
        {
          "output_type": "execute_result",
          "data": {
            "text/plain": [
              "Broadway                 338\n",
              "Second Avenue            291\n",
              "Wall Street              281\n",
              "East 34th Street         276\n",
              "West 37th Street         234\n",
              "                        ... \n",
              "west 152nd street          1\n",
              "48 STUYVESANT STREET       1\n",
              "W Houston St,              1\n",
              "301 East 110th Street      1\n",
              "W 84th St                  1\n",
              "Name: display_address, Length: 7691, dtype: int64"
            ]
          },
          "metadata": {
            "tags": []
          },
          "execution_count": 24
        }
      ]
    },
    {
      "cell_type": "code",
      "metadata": {
        "id": "9iRhgwq2N74s",
        "colab_type": "code",
        "outputId": "e762da8e-0be4-4875-fa16-b24e087c1cc7",
        "colab": {
          "base_uri": "https://localhost:8080/",
          "height": 233
        }
      },
      "source": [
        "keys = X_train['display_address'].value_counts()\n",
        "sz = len(np.where(np.array(keys, dtype=\"float32\")>=keys.quantile(rate))[0]) + 2\n",
        "X_train['kkk']= np.zeros(len(X_train), dtype=\"float32\") +  sz\n",
        "for idx, k in enumerate(keys.keys()):\n",
        "    if keys.loc[k] <= keys.quantile(rate):\n",
        "        break\n",
        "    else:\n",
        "        X_train.loc[ X_train['display_address'] == k , 'kkk'] =  idx+1"
      ],
      "execution_count": 25,
      "outputs": [
        {
          "output_type": "stream",
          "text": [
            "/usr/local/lib/python3.6/dist-packages/ipykernel_launcher.py:3: SettingWithCopyWarning: \n",
            "A value is trying to be set on a copy of a slice from a DataFrame.\n",
            "Try using .loc[row_indexer,col_indexer] = value instead\n",
            "\n",
            "See the caveats in the documentation: http://pandas.pydata.org/pandas-docs/stable/user_guide/indexing.html#returning-a-view-versus-a-copy\n",
            "  This is separate from the ipykernel package so we can avoid doing imports until\n",
            "/usr/local/lib/python3.6/dist-packages/pandas/core/indexing.py:494: SettingWithCopyWarning: \n",
            "A value is trying to be set on a copy of a slice from a DataFrame.\n",
            "Try using .loc[row_indexer,col_indexer] = value instead\n",
            "\n",
            "See the caveats in the documentation: http://pandas.pydata.org/pandas-docs/stable/user_guide/indexing.html#returning-a-view-versus-a-copy\n",
            "  self.obj[item] = s\n"
          ],
          "name": "stderr"
        }
      ]
    },
    {
      "cell_type": "code",
      "metadata": {
        "id": "v9o9WU2kN74y",
        "colab_type": "code",
        "outputId": "ac89139d-23f5-45ef-c5fb-9acce87608ab",
        "colab": {
          "base_uri": "https://localhost:8080/",
          "height": 125
        }
      },
      "source": [
        "X_train['kkk'] = np.log(X_train['kkk'])"
      ],
      "execution_count": 26,
      "outputs": [
        {
          "output_type": "stream",
          "text": [
            "/usr/local/lib/python3.6/dist-packages/ipykernel_launcher.py:1: SettingWithCopyWarning: \n",
            "A value is trying to be set on a copy of a slice from a DataFrame.\n",
            "Try using .loc[row_indexer,col_indexer] = value instead\n",
            "\n",
            "See the caveats in the documentation: http://pandas.pydata.org/pandas-docs/stable/user_guide/indexing.html#returning-a-view-versus-a-copy\n",
            "  \"\"\"Entry point for launching an IPython kernel.\n"
          ],
          "name": "stderr"
        }
      ]
    },
    {
      "cell_type": "code",
      "metadata": {
        "scrolled": true,
        "id": "HgfvfE-vN741",
        "colab_type": "code",
        "outputId": "dbbbed6e-758e-4e5b-dde2-b34335356eff",
        "colab": {
          "base_uri": "https://localhost:8080/",
          "height": 373
        }
      },
      "source": [
        "plt.hist(X_train['kkk'])"
      ],
      "execution_count": 27,
      "outputs": [
        {
          "output_type": "execute_result",
          "data": {
            "text/plain": [
              "(array([  629.,   557.,   836.,  1346.,  2373.,  3222.,  4512.,  5548.,\n",
              "         5805., 14653.]),\n",
              " array([0.        , 0.70553124, 1.4110625 , 2.1165938 , 2.822125  ,\n",
              "        3.5276563 , 4.2331877 , 4.938719  , 5.64425   , 6.3497815 ,\n",
              "        7.0553126 ], dtype=float32),\n",
              " <a list of 10 Patch objects>)"
            ]
          },
          "metadata": {
            "tags": []
          },
          "execution_count": 27
        },
        {
          "output_type": "display_data",
          "data": {
            "image/png": "[encoded data removed]",
            "text/plain": [
              "<Figure size 432x288 with 1 Axes>"
            ]
          },
          "metadata": {
            "tags": []
          }
        }
      ]
    },
    {
      "cell_type": "code",
      "metadata": {
        "scrolled": true,
        "id": "6DMpXqX-N744",
        "colab_type": "code",
        "outputId": "22753554-b73a-4a3e-95e7-25f89e1d79de",
        "colab": {
          "base_uri": "https://localhost:8080/",
          "height": 143
        }
      },
      "source": [
        "y_train = y_train.reshape(-1, 1)\n",
        "y_train\n",
        "\n",
        "enc = preprocessing.OneHotEncoder()\n",
        "enc.fit(y_train)\n",
        "y_train = enc.transform(y_train).toarray()\n",
        "y_train"
      ],
      "execution_count": 28,
      "outputs": [
        {
          "output_type": "execute_result",
          "data": {
            "text/plain": [
              "array([[1., 0., 0.],\n",
              "       [1., 0., 0.],\n",
              "       [0., 0., 1.],\n",
              "       ...,\n",
              "       [1., 0., 0.],\n",
              "       [1., 0., 0.],\n",
              "       [1., 0., 0.]])"
            ]
          },
          "metadata": {
            "tags": []
          },
          "execution_count": 28
        }
      ]
    },
    {
      "cell_type": "markdown",
      "metadata": {
        "id": "l80fuOpNN748",
        "colab_type": "text"
      },
      "source": [
        "## price 로그 취하기"
      ]
    },
    {
      "cell_type": "code",
      "metadata": {
        "id": "RxSjjzW0N748",
        "colab_type": "code",
        "outputId": "d308b94f-95f1-4f68-f926-0413b6097e19",
        "colab": {
          "base_uri": "https://localhost:8080/",
          "height": 125
        }
      },
      "source": [
        "X_train.loc[:, ['price', 'each_price']] = np.log(X_train.loc[:, ['price', 'each_price']])"
      ],
      "execution_count": 29,
      "outputs": [
        {
          "output_type": "stream",
          "text": [
            "/usr/local/lib/python3.6/dist-packages/pandas/core/indexing.py:494: SettingWithCopyWarning: \n",
            "A value is trying to be set on a copy of a slice from a DataFrame.\n",
            "Try using .loc[row_indexer,col_indexer] = value instead\n",
            "\n",
            "See the caveats in the documentation: http://pandas.pydata.org/pandas-docs/stable/user_guide/indexing.html#returning-a-view-versus-a-copy\n",
            "  self.obj[item] = s\n"
          ],
          "name": "stderr"
        }
      ]
    },
    {
      "cell_type": "markdown",
      "metadata": {
        "id": "obLiEOJEN75B",
        "colab_type": "text"
      },
      "source": [
        "## 데이터 표준화"
      ]
    },
    {
      "cell_type": "code",
      "metadata": {
        "scrolled": true,
        "id": "K2UH0xm1N75D",
        "colab_type": "code",
        "outputId": "8398cd36-59f4-4878-a7f9-5bf22a441064",
        "colab": {
          "base_uri": "https://localhost:8080/",
          "height": 251
        }
      },
      "source": [
        "features_to_use = ['bathrooms',\t'bedrooms', 'latitude', 'longitude',\n",
        "                   'price','day', 'week', 'hour', 'weekday', 'num_photos', 'num_features', 'kkk', 'each_price']\n",
        "features_to_use\n",
        "\n",
        "X_train = X_train[features_to_use]\n",
        "X_train = np.array(X_train[features_to_use], dtype=\"float32\")\n",
        "X_train"
      ],
      "execution_count": 30,
      "outputs": [
        {
          "output_type": "execute_result",
          "data": {
            "text/plain": [
              "array([[ 2.       ,  2.       , 40.7373   , ...,  6.       ,  6.7499313,\n",
              "         7.002156 ],\n",
              "       [ 1.       ,  2.       , 40.77     , ...,  2.       ,  4.9416423,\n",
              "         6.523929 ],\n",
              "       [ 1.       ,  1.       , 40.8573   , ...,  5.       ,  7.0553126,\n",
              "         6.4769726],\n",
              "       ...,\n",
              "       [ 1.       ,  0.       , 40.7601   , ...,  3.       ,  3.3322046,\n",
              "         6.9077554],\n",
              "       [ 1.       ,  2.       , 40.7826   , ...,  9.       ,  6.8480053,\n",
              "         6.6184053],\n",
              "       [ 1.       ,  1.       , 40.7391   , ...,  2.       ,  6.1800165,\n",
              "         6.838405 ]], dtype=float32)"
            ]
          },
          "metadata": {
            "tags": []
          },
          "execution_count": 30
        }
      ]
    },
    {
      "cell_type": "code",
      "metadata": {
        "id": "yJXNNO2_N75I",
        "colab_type": "code",
        "outputId": "4bbe442b-4e49-4a8b-bdb2-dc2aea89fc56",
        "colab": {
          "base_uri": "https://localhost:8080/",
          "height": 35
        }
      },
      "source": [
        "from sklearn.preprocessing import StandardScaler\n",
        "scaler = StandardScaler()\n",
        "scaler.fit(X_train)"
      ],
      "execution_count": 31,
      "outputs": [
        {
          "output_type": "execute_result",
          "data": {
            "text/plain": [
              "StandardScaler(copy=True, with_mean=True, with_std=True)"
            ]
          },
          "metadata": {
            "tags": []
          },
          "execution_count": 31
        }
      ]
    },
    {
      "cell_type": "code",
      "metadata": {
        "id": "xUTYmnIxN75L",
        "colab_type": "code",
        "colab": {}
      },
      "source": [
        "X_train = scaler.transform(X_train)"
      ],
      "execution_count": 0,
      "outputs": []
    },
    {
      "cell_type": "code",
      "metadata": {
        "id": "Oc200j_iV1I5",
        "colab_type": "code",
        "outputId": "d16ac155-fe86-4273-cd85-feb4c8be982d",
        "colab": {
          "base_uri": "https://localhost:8080/",
          "height": 337
        }
      },
      "source": [
        "xx = np.argmax(y_train, 1)\n",
        "plt.hist(xx)"
      ],
      "execution_count": 33,
      "outputs": [
        {
          "output_type": "execute_result",
          "data": {
            "text/plain": [
              "(array([27443.,     0.,     0.,     0.,     0.,  8974.,     0.,     0.,\n",
              "            0.,  3064.]),\n",
              " array([0. , 0.2, 0.4, 0.6, 0.8, 1. , 1.2, 1.4, 1.6, 1.8, 2. ]),\n",
              " <a list of 10 Patch objects>)"
            ]
          },
          "metadata": {
            "tags": []
          },
          "execution_count": 33
        },
        {
          "output_type": "display_data",
          "data": {
            "image/png": "[encoded data removed]",
            "text/plain": [
              "<Figure size 432x288 with 1 Axes>"
            ]
          },
          "metadata": {
            "tags": []
          }
        }
      ]
    },
    {
      "cell_type": "code",
      "metadata": {
        "id": "SPDF7FVW-jYr",
        "colab_type": "code",
        "colab": {
          "base_uri": "https://localhost:8080/",
          "height": 35
        },
        "outputId": "c5fae4cb-23d4-459d-a26e-dc0255a16a0c"
      },
      "source": [
        "zz = len(xx)/np.sum(xx==0)\n",
        "zz"
      ],
      "execution_count": 34,
      "outputs": [
        {
          "output_type": "execute_result",
          "data": {
            "text/plain": [
              "1.4386546660350545"
            ]
          },
          "metadata": {
            "tags": []
          },
          "execution_count": 34
        }
      ]
    },
    {
      "cell_type": "code",
      "metadata": {
        "id": "rMdkKSs1WSo4",
        "colab_type": "code",
        "outputId": "2e49c4cb-13f8-4b77-8374-3add7965c1ab",
        "colab": {
          "base_uri": "https://localhost:8080/",
          "height": 35
        }
      },
      "source": [
        "(len(xx)/np.sum(xx==1))/zz"
      ],
      "execution_count": 35,
      "outputs": [
        {
          "output_type": "execute_result",
          "data": {
            "text/plain": [
              "3.0580566079786045"
            ]
          },
          "metadata": {
            "tags": []
          },
          "execution_count": 35
        }
      ]
    },
    {
      "cell_type": "code",
      "metadata": {
        "id": "NJ3_qNlNa85S",
        "colab_type": "code",
        "outputId": "3ccb00ba-4ab6-4b26-a572-3dba8b1f979a",
        "colab": {
          "base_uri": "https://localhost:8080/",
          "height": 35
        }
      },
      "source": [
        "(len(xx)/np.sum(xx==2))/zz"
      ],
      "execution_count": 36,
      "outputs": [
        {
          "output_type": "execute_result",
          "data": {
            "text/plain": [
              "8.95659268929504"
            ]
          },
          "metadata": {
            "tags": []
          },
          "execution_count": 36
        }
      ]
    },
    {
      "cell_type": "code",
      "metadata": {
        "id": "KEZXzxvXabKR",
        "colab_type": "code",
        "colab": {}
      },
      "source": [
        "# from keras import backend as K\n",
        "def my_func(a):\n",
        "    return np.array([a[0], a[1] * 3., a[2] * 9 ], dtype=\"float32\")\n",
        "y_train = np.apply_along_axis(my_func, 1, y_train)\n"
      ],
      "execution_count": 0,
      "outputs": []
    },
    {
      "cell_type": "code",
      "metadata": {
        "id": "D6-HPc8vXZt-",
        "colab_type": "code",
        "colab": {}
      },
      "source": [
        "#  def custom_loss(y_true, y_pred):\n",
        "#     cost = -K.sum(K.sum(y_true * K.log(np.apply_along_axis(my_func, 1, y_train)))) / y_true.shape[0]\n",
        "\n",
        "#     return cost"
      ],
      "execution_count": 0,
      "outputs": []
    },
    {
      "cell_type": "markdown",
      "metadata": {
        "id": "6_Uu534LN75P",
        "colab_type": "text"
      },
      "source": [
        "## 필요한 데이터만 가져오기"
      ]
    },
    {
      "cell_type": "markdown",
      "metadata": {
        "id": "4AtfvS9JN75Q",
        "colab_type": "text"
      },
      "source": [
        "## 오버샘플링"
      ]
    },
    {
      "cell_type": "code",
      "metadata": {
        "scrolled": true,
        "id": "Orgc3jR9N75R",
        "colab_type": "code",
        "colab": {}
      },
      "source": [
        "# # BorderlineSMOTE\n",
        "# from imblearn.over_sampling import BorderlineSMOTE\n",
        "\n",
        "# X_train, y_train = BorderlineSMOTE().fit_resample(X_train, y_train)\n",
        "# # print(sorted(Counter(y_resampled).items()))\n",
        "\n",
        "# importing ADASYN\n",
        "# from imblearn.over_sampling import ADASYN\n",
        "\n",
        "# # applying ADASYN\n",
        "# X_train, y_train = ADASYN().fit_resample(X_train, y_train)\n",
        "\n",
        "# from imblearn.over_sampling import SMOTENC\n",
        "\n",
        "# # applying SMOTE to our data and checking the class counts\n",
        "# X_train, y_train = SMOTENC(categorical_features=[0, 1, 2], random_state=1234).fit_resample(X_train, y_train)"
      ],
      "execution_count": 0,
      "outputs": []
    },
    {
      "cell_type": "markdown",
      "metadata": {
        "id": "yxQvprdaN75Y",
        "colab_type": "text"
      },
      "source": [
        "## 딥러닝 학습"
      ]
    },
    {
      "cell_type": "code",
      "metadata": {
        "id": "yuhRkhAjN75b",
        "colab_type": "code",
        "outputId": "a46d3d04-edb6-46fc-a351-bd02261fd364",
        "colab": {
          "base_uri": "https://localhost:8080/",
          "height": 82
        }
      },
      "source": [
        "from keras.models import Sequential\n",
        "from keras.layers import Dense\n",
        "from keras.optimizers import Adam"
      ],
      "execution_count": 40,
      "outputs": [
        {
          "output_type": "stream",
          "text": [
            "Using TensorFlow backend.\n"
          ],
          "name": "stderr"
        },
        {
          "output_type": "display_data",
          "data": {
            "text/html": [
              "<p style=\"color: red;\">\n",
              "The default version of TensorFlow in Colab will soon switch to TensorFlow 2.x.<br>\n",
              "We recommend you <a href=\"https://www.tensorflow.org/guide/migrate\" target=\"_blank\">upgrade</a> now \n",
              "or ensure your notebook will continue to use TensorFlow 1.x via the <code>%tensorflow_version 1.x</code> magic:\n",
              "<a href=\"https://colab.research.google.com/notebooks/tensorflow_version.ipynb\" target=\"_blank\">more info</a>.</p>\n"
            ],
            "text/plain": [
              "<IPython.core.display.HTML object>"
            ]
          },
          "metadata": {
            "tags": []
          }
        }
      ]
    },
    {
      "cell_type": "code",
      "metadata": {
        "id": "KnK1MaTnN75e",
        "colab_type": "code",
        "outputId": "b52c26fb-8b23-4a42-e385-c5c9497826f4",
        "colab": {
          "base_uri": "https://localhost:8080/",
          "height": 125
        }
      },
      "source": [
        "model = Sequential()\n",
        "\n",
        "model.add(Dense(200, input_dim=X_train.shape[1] , activation=\"relu\"))\n",
        "\n",
        "model.add(Dense(100,  activation=\"relu\"))\n",
        "\n",
        "model.add(Dense(3,  activation=\"softmax\"))"
      ],
      "execution_count": 41,
      "outputs": [
        {
          "output_type": "stream",
          "text": [
            "WARNING:tensorflow:From /usr/local/lib/python3.6/dist-packages/keras/backend/tensorflow_backend.py:66: The name tf.get_default_graph is deprecated. Please use tf.compat.v1.get_default_graph instead.\n",
            "\n",
            "WARNING:tensorflow:From /usr/local/lib/python3.6/dist-packages/keras/backend/tensorflow_backend.py:541: The name tf.placeholder is deprecated. Please use tf.compat.v1.placeholder instead.\n",
            "\n",
            "WARNING:tensorflow:From /usr/local/lib/python3.6/dist-packages/keras/backend/tensorflow_backend.py:4432: The name tf.random_uniform is deprecated. Please use tf.random.uniform instead.\n",
            "\n"
          ],
          "name": "stdout"
        }
      ]
    },
    {
      "cell_type": "code",
      "metadata": {
        "id": "ApsQ6xsAN75i",
        "colab_type": "code",
        "outputId": "41be80fb-ae7b-49e9-ca0e-48f92a94c13c",
        "colab": {
          "base_uri": "https://localhost:8080/",
          "height": 269
        }
      },
      "source": [
        "model.summary()"
      ],
      "execution_count": 42,
      "outputs": [
        {
          "output_type": "stream",
          "text": [
            "Model: \"sequential_1\"\n",
            "_________________________________________________________________\n",
            "Layer (type)                 Output Shape              Param #   \n",
            "=================================================================\n",
            "dense_1 (Dense)              (None, 200)               2800      \n",
            "_________________________________________________________________\n",
            "dense_2 (Dense)              (None, 100)               20100     \n",
            "_________________________________________________________________\n",
            "dense_3 (Dense)              (None, 3)                 303       \n",
            "=================================================================\n",
            "Total params: 23,203\n",
            "Trainable params: 23,203\n",
            "Non-trainable params: 0\n",
            "_________________________________________________________________\n"
          ],
          "name": "stdout"
        }
      ]
    },
    {
      "cell_type": "code",
      "metadata": {
        "scrolled": true,
        "id": "ivVj8je8N75m",
        "colab_type": "code",
        "outputId": "3a004e57-8d0e-4288-ceba-c2c5eb51e3de",
        "colab": {
          "base_uri": "https://localhost:8080/",
          "height": 1000
        }
      },
      "source": [
        "model.compile(loss=\"categorical_crossentropy\", optimizer=Adam(lr=0.001), metrics=['acc'])\n",
        "# model.compile(loss=custom_loss, optimizer=Adam(lr=0.001), metrics=['acc'])\n",
        "\n",
        "model.fit(X_train, y_train, batch_size=100, epochs=500)"
      ],
      "execution_count": 43,
      "outputs": [
        {
          "output_type": "stream",
          "text": [
            "WARNING:tensorflow:From /usr/local/lib/python3.6/dist-packages/keras/optimizers.py:793: The name tf.train.Optimizer is deprecated. Please use tf.compat.v1.train.Optimizer instead.\n",
            "\n",
            "WARNING:tensorflow:From /usr/local/lib/python3.6/dist-packages/keras/backend/tensorflow_backend.py:3576: The name tf.log is deprecated. Please use tf.math.log instead.\n",
            "\n",
            "WARNING:tensorflow:From /usr/local/lib/python3.6/dist-packages/tensorflow_core/python/ops/math_grad.py:1424: where (from tensorflow.python.ops.array_ops) is deprecated and will be removed in a future version.\n",
            "Instructions for updating:\n",
            "Use tf.where in 2.0, which has the same broadcast rule as np.where\n",
            "WARNING:tensorflow:From /usr/local/lib/python3.6/dist-packages/keras/backend/tensorflow_backend.py:1033: The name tf.assign_add is deprecated. Please use tf.compat.v1.assign_add instead.\n",
            "\n",
            "WARNING:tensorflow:From /usr/local/lib/python3.6/dist-packages/keras/backend/tensorflow_backend.py:1020: The name tf.assign is deprecated. Please use tf.compat.v1.assign instead.\n",
            "\n",
            "WARNING:tensorflow:From /usr/local/lib/python3.6/dist-packages/keras/backend/tensorflow_backend.py:3005: The name tf.Session is deprecated. Please use tf.compat.v1.Session instead.\n",
            "\n",
            "Epoch 1/500\n",
            "WARNING:tensorflow:From /usr/local/lib/python3.6/dist-packages/keras/backend/tensorflow_backend.py:190: The name tf.get_default_session is deprecated. Please use tf.compat.v1.get_default_session instead.\n",
            "\n",
            "WARNING:tensorflow:From /usr/local/lib/python3.6/dist-packages/keras/backend/tensorflow_backend.py:197: The name tf.ConfigProto is deprecated. Please use tf.compat.v1.ConfigProto instead.\n",
            "\n",
            "WARNING:tensorflow:From /usr/local/lib/python3.6/dist-packages/keras/backend/tensorflow_backend.py:207: The name tf.global_variables is deprecated. Please use tf.compat.v1.global_variables instead.\n",
            "\n",
            "WARNING:tensorflow:From /usr/local/lib/python3.6/dist-packages/keras/backend/tensorflow_backend.py:216: The name tf.is_variable_initialized is deprecated. Please use tf.compat.v1.is_variable_initialized instead.\n",
            "\n",
            "WARNING:tensorflow:From /usr/local/lib/python3.6/dist-packages/keras/backend/tensorflow_backend.py:223: The name tf.variables_initializer is deprecated. Please use tf.compat.v1.variables_initializer instead.\n",
            "\n",
            "39481/39481 [==============================] - 2s 59us/step - loss: 1.9386 - acc: 0.5635\n",
            "Epoch 2/500\n",
            "39481/39481 [==============================] - 2s 38us/step - loss: 1.8732 - acc: 0.5691\n",
            "Epoch 3/500\n",
            "39481/39481 [==============================] - 1s 33us/step - loss: 1.8504 - acc: 0.5783\n",
            "Epoch 4/500\n",
            "39481/39481 [==============================] - 1s 32us/step - loss: 1.8359 - acc: 0.5790\n",
            "Epoch 5/500\n",
            "39481/39481 [==============================] - 1s 35us/step - loss: 1.8210 - acc: 0.5890\n",
            "Epoch 6/500\n",
            "39481/39481 [==============================] - 1s 35us/step - loss: 1.8108 - acc: 0.5895\n",
            "Epoch 7/500\n",
            "39481/39481 [==============================] - 1s 33us/step - loss: 1.7985 - acc: 0.5912\n",
            "Epoch 8/500\n",
            "39481/39481 [==============================] - 1s 35us/step - loss: 1.7902 - acc: 0.5984\n",
            "Epoch 9/500\n",
            "39481/39481 [==============================] - 1s 36us/step - loss: 1.7795 - acc: 0.5976\n",
            "Epoch 10/500\n",
            "39481/39481 [==============================] - 1s 33us/step - loss: 1.7646 - acc: 0.6034\n",
            "Epoch 11/500\n",
            "39481/39481 [==============================] - 1s 31us/step - loss: 1.7581 - acc: 0.6019\n",
            "Epoch 12/500\n",
            "39481/39481 [==============================] - 1s 32us/step - loss: 1.7457 - acc: 0.6095\n",
            "Epoch 13/500\n",
            "39481/39481 [==============================] - 1s 31us/step - loss: 1.7356 - acc: 0.6100\n",
            "Epoch 14/500\n",
            "39481/39481 [==============================] - 1s 33us/step - loss: 1.7279 - acc: 0.6136\n",
            "Epoch 15/500\n",
            "39481/39481 [==============================] - 1s 32us/step - loss: 1.7161 - acc: 0.6145\n",
            "Epoch 16/500\n",
            "39481/39481 [==============================] - 1s 33us/step - loss: 1.7033 - acc: 0.6183\n",
            "Epoch 17/500\n",
            "39481/39481 [==============================] - 1s 32us/step - loss: 1.6930 - acc: 0.6213\n",
            "Epoch 18/500\n",
            "39481/39481 [==============================] - 1s 32us/step - loss: 1.6853 - acc: 0.6220\n",
            "Epoch 19/500\n",
            "39481/39481 [==============================] - 1s 33us/step - loss: 1.6747 - acc: 0.6233\n",
            "Epoch 20/500\n",
            "39481/39481 [==============================] - 2s 39us/step - loss: 1.6627 - acc: 0.6280\n",
            "Epoch 21/500\n",
            "39481/39481 [==============================] - 1s 31us/step - loss: 1.6522 - acc: 0.6283\n",
            "Epoch 22/500\n",
            "39481/39481 [==============================] - 1s 32us/step - loss: 1.6365 - acc: 0.6333\n",
            "Epoch 23/500\n",
            "39481/39481 [==============================] - 1s 33us/step - loss: 1.6241 - acc: 0.6360\n",
            "Epoch 24/500\n",
            "39481/39481 [==============================] - 1s 33us/step - loss: 1.6178 - acc: 0.6379\n",
            "Epoch 25/500\n",
            "39481/39481 [==============================] - 1s 31us/step - loss: 1.6074 - acc: 0.6406\n",
            "Epoch 26/500\n",
            "39481/39481 [==============================] - 1s 32us/step - loss: 1.5941 - acc: 0.6425\n",
            "Epoch 27/500\n",
            "39481/39481 [==============================] - 1s 31us/step - loss: 1.5827 - acc: 0.6439\n",
            "Epoch 28/500\n",
            "39481/39481 [==============================] - 1s 33us/step - loss: 1.5792 - acc: 0.6453\n",
            "Epoch 29/500\n",
            "39481/39481 [==============================] - 1s 34us/step - loss: 1.5639 - acc: 0.6483\n",
            "Epoch 30/500\n",
            "39481/39481 [==============================] - 1s 32us/step - loss: 1.5542 - acc: 0.6522\n",
            "Epoch 31/500\n",
            "39481/39481 [==============================] - 1s 32us/step - loss: 1.5474 - acc: 0.6505\n",
            "Epoch 32/500\n",
            "39481/39481 [==============================] - 1s 32us/step - loss: 1.5330 - acc: 0.6557\n",
            "Epoch 33/500\n",
            "39481/39481 [==============================] - 1s 32us/step - loss: 1.5264 - acc: 0.6563\n",
            "Epoch 34/500\n",
            "39481/39481 [==============================] - 1s 32us/step - loss: 1.5170 - acc: 0.6557\n",
            "Epoch 35/500\n",
            "39481/39481 [==============================] - 1s 31us/step - loss: 1.5053 - acc: 0.6592\n",
            "Epoch 36/500\n",
            "39481/39481 [==============================] - 1s 32us/step - loss: 1.5001 - acc: 0.6615\n",
            "Epoch 37/500\n",
            "39481/39481 [==============================] - 2s 39us/step - loss: 1.4902 - acc: 0.6646\n",
            "Epoch 38/500\n",
            "39481/39481 [==============================] - 1s 32us/step - loss: 1.4828 - acc: 0.6619\n",
            "Epoch 39/500\n",
            "39481/39481 [==============================] - 1s 33us/step - loss: 1.4753 - acc: 0.6660\n",
            "Epoch 40/500\n",
            "39481/39481 [==============================] - 1s 33us/step - loss: 1.4646 - acc: 0.6677\n",
            "Epoch 41/500\n",
            "39481/39481 [==============================] - 1s 32us/step - loss: 1.4545 - acc: 0.6684\n",
            "Epoch 42/500\n",
            "39481/39481 [==============================] - 1s 33us/step - loss: 1.4459 - acc: 0.6693\n",
            "Epoch 43/500\n",
            "39481/39481 [==============================] - 1s 31us/step - loss: 1.4319 - acc: 0.6733\n",
            "Epoch 44/500\n",
            "39481/39481 [==============================] - 1s 32us/step - loss: 1.4317 - acc: 0.6707\n",
            "Epoch 45/500\n",
            "39481/39481 [==============================] - 1s 34us/step - loss: 1.4204 - acc: 0.6741\n",
            "Epoch 46/500\n",
            "39481/39481 [==============================] - 1s 34us/step - loss: 1.4121 - acc: 0.6743\n",
            "Epoch 47/500\n",
            "39481/39481 [==============================] - 1s 34us/step - loss: 1.4108 - acc: 0.6757\n",
            "Epoch 48/500\n",
            "39481/39481 [==============================] - 2s 43us/step - loss: 1.3978 - acc: 0.6792\n",
            "Epoch 49/500\n",
            "39481/39481 [==============================] - 1s 31us/step - loss: 1.3886 - acc: 0.6814\n",
            "Epoch 50/500\n",
            "39481/39481 [==============================] - 1s 33us/step - loss: 1.3793 - acc: 0.6828\n",
            "Epoch 51/500\n",
            "39481/39481 [==============================] - 1s 32us/step - loss: 1.3699 - acc: 0.6846\n",
            "Epoch 52/500\n",
            "39481/39481 [==============================] - 1s 33us/step - loss: 1.3651 - acc: 0.6831\n",
            "Epoch 53/500\n",
            "39481/39481 [==============================] - 1s 32us/step - loss: 1.3587 - acc: 0.6846\n",
            "Epoch 54/500\n",
            "39481/39481 [==============================] - 1s 32us/step - loss: 1.3530 - acc: 0.6858\n",
            "Epoch 55/500\n",
            "39481/39481 [==============================] - 1s 38us/step - loss: 1.3429 - acc: 0.6875\n",
            "Epoch 56/500\n",
            "39481/39481 [==============================] - 1s 31us/step - loss: 1.3447 - acc: 0.6866\n",
            "Epoch 57/500\n",
            "39481/39481 [==============================] - 1s 33us/step - loss: 1.3363 - acc: 0.6895\n",
            "Epoch 58/500\n",
            "39481/39481 [==============================] - 1s 33us/step - loss: 1.3202 - acc: 0.6924\n",
            "Epoch 59/500\n",
            "39481/39481 [==============================] - 1s 31us/step - loss: 1.3103 - acc: 0.6923\n",
            "Epoch 60/500\n",
            "39481/39481 [==============================] - 1s 33us/step - loss: 1.3089 - acc: 0.6941\n",
            "Epoch 61/500\n",
            "39481/39481 [==============================] - 1s 33us/step - loss: 1.2969 - acc: 0.6959\n",
            "Epoch 62/500\n",
            "39481/39481 [==============================] - 1s 32us/step - loss: 1.2928 - acc: 0.6946\n",
            "Epoch 63/500\n",
            "39481/39481 [==============================] - 1s 32us/step - loss: 1.2899 - acc: 0.6952\n",
            "Epoch 64/500\n",
            "39481/39481 [==============================] - 1s 31us/step - loss: 1.2814 - acc: 0.6965\n",
            "Epoch 65/500\n",
            "39481/39481 [==============================] - 1s 33us/step - loss: 1.2700 - acc: 0.6992\n",
            "Epoch 66/500\n",
            "39481/39481 [==============================] - 2s 38us/step - loss: 1.2561 - acc: 0.7011\n",
            "Epoch 67/500\n",
            "39481/39481 [==============================] - 1s 37us/step - loss: 1.2644 - acc: 0.7001\n",
            "Epoch 68/500\n",
            "39481/39481 [==============================] - 1s 35us/step - loss: 1.2520 - acc: 0.7019\n",
            "Epoch 69/500\n",
            "39481/39481 [==============================] - 1s 37us/step - loss: 1.2482 - acc: 0.7017\n",
            "Epoch 70/500\n",
            "39481/39481 [==============================] - 1s 34us/step - loss: 1.2403 - acc: 0.7031\n",
            "Epoch 71/500\n",
            "39481/39481 [==============================] - 1s 34us/step - loss: 1.2265 - acc: 0.7045\n",
            "Epoch 72/500\n",
            "39481/39481 [==============================] - 1s 33us/step - loss: 1.2248 - acc: 0.7055\n",
            "Epoch 73/500\n",
            "39481/39481 [==============================] - 1s 34us/step - loss: 1.2204 - acc: 0.7063\n",
            "Epoch 74/500\n",
            "39481/39481 [==============================] - 1s 32us/step - loss: 1.2146 - acc: 0.7079\n",
            "Epoch 75/500\n",
            "39481/39481 [==============================] - 1s 33us/step - loss: 1.2063 - acc: 0.7082\n",
            "Epoch 76/500\n",
            "39481/39481 [==============================] - 1s 32us/step - loss: 1.1986 - acc: 0.7095\n",
            "Epoch 77/500\n",
            "39481/39481 [==============================] - 1s 32us/step - loss: 1.1979 - acc: 0.7096\n",
            "Epoch 78/500\n",
            "39481/39481 [==============================] - 1s 32us/step - loss: 1.1906 - acc: 0.7115\n",
            "Epoch 79/500\n",
            "39481/39481 [==============================] - 1s 32us/step - loss: 1.1798 - acc: 0.7133\n",
            "Epoch 80/500\n",
            "39481/39481 [==============================] - 1s 31us/step - loss: 1.1689 - acc: 0.7162\n",
            "Epoch 81/500\n",
            "39481/39481 [==============================] - 1s 31us/step - loss: 1.1628 - acc: 0.7132\n",
            "Epoch 82/500\n",
            "39481/39481 [==============================] - 1s 32us/step - loss: 1.1654 - acc: 0.7158\n",
            "Epoch 83/500\n",
            "39481/39481 [==============================] - 2s 40us/step - loss: 1.1515 - acc: 0.7154\n",
            "Epoch 84/500\n",
            "39481/39481 [==============================] - 1s 32us/step - loss: 1.1495 - acc: 0.7163\n",
            "Epoch 85/500\n",
            "39481/39481 [==============================] - 1s 33us/step - loss: 1.1516 - acc: 0.7153\n",
            "Epoch 86/500\n",
            "39481/39481 [==============================] - 1s 31us/step - loss: 1.1428 - acc: 0.7178\n",
            "Epoch 87/500\n",
            "39481/39481 [==============================] - 1s 33us/step - loss: 1.1326 - acc: 0.7200\n",
            "Epoch 88/500\n",
            "39481/39481 [==============================] - 1s 34us/step - loss: 1.1273 - acc: 0.7209\n",
            "Epoch 89/500\n",
            "39481/39481 [==============================] - 1s 32us/step - loss: 1.1227 - acc: 0.7220\n",
            "Epoch 90/500\n",
            "39481/39481 [==============================] - 1s 32us/step - loss: 1.1179 - acc: 0.7193\n",
            "Epoch 91/500\n",
            "39481/39481 [==============================] - 1s 32us/step - loss: 1.1238 - acc: 0.7218\n",
            "Epoch 92/500\n",
            "39481/39481 [==============================] - 1s 33us/step - loss: 1.1155 - acc: 0.7225\n",
            "Epoch 93/500\n",
            "39481/39481 [==============================] - 1s 34us/step - loss: 1.1095 - acc: 0.7236\n",
            "Epoch 94/500\n",
            "39481/39481 [==============================] - 1s 37us/step - loss: 1.1019 - acc: 0.7246\n",
            "Epoch 95/500\n",
            "39481/39481 [==============================] - 1s 31us/step - loss: 1.1009 - acc: 0.7242\n",
            "Epoch 96/500\n",
            "39481/39481 [==============================] - 1s 32us/step - loss: 1.0987 - acc: 0.7244\n",
            "Epoch 97/500\n",
            "39481/39481 [==============================] - 1s 34us/step - loss: 1.0875 - acc: 0.7238\n",
            "Epoch 98/500\n",
            "39481/39481 [==============================] - 1s 33us/step - loss: 1.0854 - acc: 0.7269\n",
            "Epoch 99/500\n",
            "39481/39481 [==============================] - 1s 33us/step - loss: 1.0809 - acc: 0.7277\n",
            "Epoch 100/500\n",
            "39481/39481 [==============================] - 1s 34us/step - loss: 1.0695 - acc: 0.7289\n",
            "Epoch 101/500\n",
            "39481/39481 [==============================] - 1s 35us/step - loss: 1.0592 - acc: 0.7291\n",
            "Epoch 102/500\n",
            "39481/39481 [==============================] - 1s 32us/step - loss: 1.0649 - acc: 0.7269\n",
            "Epoch 103/500\n",
            "39481/39481 [==============================] - 1s 31us/step - loss: 1.0639 - acc: 0.7320\n",
            "Epoch 104/500\n",
            "39481/39481 [==============================] - 1s 33us/step - loss: 1.0450 - acc: 0.7316\n",
            "Epoch 105/500\n",
            "39481/39481 [==============================] - 1s 32us/step - loss: 1.0481 - acc: 0.7313\n",
            "Epoch 106/500\n",
            "39481/39481 [==============================] - 1s 34us/step - loss: 1.0395 - acc: 0.7318\n",
            "Epoch 107/500\n",
            "39481/39481 [==============================] - 1s 32us/step - loss: 1.0405 - acc: 0.7325\n",
            "Epoch 108/500\n",
            "39481/39481 [==============================] - 1s 33us/step - loss: 1.0347 - acc: 0.7337\n",
            "Epoch 109/500\n",
            "39481/39481 [==============================] - 1s 32us/step - loss: 1.0319 - acc: 0.7335\n",
            "Epoch 110/500\n",
            "39481/39481 [==============================] - 1s 32us/step - loss: 1.0215 - acc: 0.7365\n",
            "Epoch 111/500\n",
            "39481/39481 [==============================] - 1s 32us/step - loss: 1.0286 - acc: 0.7365\n",
            "Epoch 112/500\n",
            "39481/39481 [==============================] - 1s 38us/step - loss: 1.0135 - acc: 0.7374\n",
            "Epoch 113/500\n",
            "39481/39481 [==============================] - 1s 31us/step - loss: 1.0115 - acc: 0.7387\n",
            "Epoch 114/500\n",
            "39481/39481 [==============================] - 1s 34us/step - loss: 1.0176 - acc: 0.7382\n",
            "Epoch 115/500\n",
            "39481/39481 [==============================] - 1s 32us/step - loss: 1.0078 - acc: 0.7386\n",
            "Epoch 116/500\n",
            "39481/39481 [==============================] - 1s 32us/step - loss: 1.0069 - acc: 0.7382\n",
            "Epoch 117/500\n",
            "39481/39481 [==============================] - 1s 32us/step - loss: 1.0068 - acc: 0.7386\n",
            "Epoch 118/500\n",
            "39481/39481 [==============================] - 1s 32us/step - loss: 0.9998 - acc: 0.7387\n",
            "Epoch 119/500\n",
            "39481/39481 [==============================] - 1s 31us/step - loss: 0.9879 - acc: 0.7422\n",
            "Epoch 120/500\n",
            "39481/39481 [==============================] - 1s 33us/step - loss: 0.9874 - acc: 0.7433\n",
            "Epoch 121/500\n",
            "39481/39481 [==============================] - 1s 32us/step - loss: 0.9965 - acc: 0.7389\n",
            "Epoch 122/500\n",
            "39481/39481 [==============================] - 1s 31us/step - loss: 0.9901 - acc: 0.7427\n",
            "Epoch 123/500\n",
            "39481/39481 [==============================] - 1s 31us/step - loss: 0.9722 - acc: 0.7436\n",
            "Epoch 124/500\n",
            "39481/39481 [==============================] - 1s 32us/step - loss: 0.9791 - acc: 0.7424\n",
            "Epoch 125/500\n",
            "39481/39481 [==============================] - 1s 31us/step - loss: 0.9693 - acc: 0.7440\n",
            "Epoch 126/500\n",
            "39481/39481 [==============================] - 1s 30us/step - loss: 0.9619 - acc: 0.7452\n",
            "Epoch 127/500\n",
            "39481/39481 [==============================] - 1s 31us/step - loss: 0.9598 - acc: 0.7477\n",
            "Epoch 128/500\n",
            "39481/39481 [==============================] - 1s 32us/step - loss: 0.9610 - acc: 0.7453\n",
            "Epoch 129/500\n",
            "39481/39481 [==============================] - 1s 36us/step - loss: 0.9607 - acc: 0.7450\n",
            "Epoch 130/500\n",
            "39481/39481 [==============================] - 1s 36us/step - loss: 0.9761 - acc: 0.7439\n",
            "Epoch 131/500\n",
            "39481/39481 [==============================] - 1s 35us/step - loss: 0.9463 - acc: 0.7489\n",
            "Epoch 132/500\n",
            "39481/39481 [==============================] - 1s 34us/step - loss: 0.9543 - acc: 0.7473\n",
            "Epoch 133/500\n",
            "39481/39481 [==============================] - 1s 33us/step - loss: 0.9550 - acc: 0.7470\n",
            "Epoch 134/500\n",
            "39481/39481 [==============================] - 1s 33us/step - loss: 0.9307 - acc: 0.7502\n",
            "Epoch 135/500\n",
            "39481/39481 [==============================] - 1s 32us/step - loss: 0.9399 - acc: 0.7507\n",
            "Epoch 136/500\n",
            "39481/39481 [==============================] - 1s 32us/step - loss: 0.9472 - acc: 0.7488\n",
            "Epoch 137/500\n",
            "39481/39481 [==============================] - 1s 32us/step - loss: 0.9402 - acc: 0.7482\n",
            "Epoch 138/500\n",
            "39481/39481 [==============================] - 1s 31us/step - loss: 0.9398 - acc: 0.7498\n",
            "Epoch 139/500\n",
            "39481/39481 [==============================] - 1s 32us/step - loss: 0.9331 - acc: 0.7515\n",
            "Epoch 140/500\n",
            "39481/39481 [==============================] - 1s 37us/step - loss: 0.9215 - acc: 0.7535\n",
            "Epoch 141/500\n",
            "39481/39481 [==============================] - 1s 32us/step - loss: 0.9243 - acc: 0.7500\n",
            "Epoch 142/500\n",
            "39481/39481 [==============================] - 1s 32us/step - loss: 0.9263 - acc: 0.7521\n",
            "Epoch 143/500\n",
            "39481/39481 [==============================] - 1s 33us/step - loss: 0.9273 - acc: 0.7522\n",
            "Epoch 144/500\n",
            "39481/39481 [==============================] - 1s 33us/step - loss: 0.9134 - acc: 0.7556\n",
            "Epoch 145/500\n",
            "39481/39481 [==============================] - 1s 32us/step - loss: 0.9087 - acc: 0.7552\n",
            "Epoch 146/500\n",
            "39481/39481 [==============================] - 1s 32us/step - loss: 0.9165 - acc: 0.7533\n",
            "Epoch 147/500\n",
            "39481/39481 [==============================] - 2s 39us/step - loss: 0.9199 - acc: 0.7549\n",
            "Epoch 148/500\n",
            "39481/39481 [==============================] - 1s 30us/step - loss: 0.9109 - acc: 0.7535\n",
            "Epoch 149/500\n",
            "39481/39481 [==============================] - 1s 32us/step - loss: 0.9054 - acc: 0.7554\n",
            "Epoch 150/500\n",
            "39481/39481 [==============================] - 1s 31us/step - loss: 0.8958 - acc: 0.7568\n",
            "Epoch 151/500\n",
            "39481/39481 [==============================] - 1s 32us/step - loss: 0.8988 - acc: 0.7579\n",
            "Epoch 152/500\n",
            "39481/39481 [==============================] - 1s 32us/step - loss: 0.8978 - acc: 0.7563\n",
            "Epoch 153/500\n",
            "39481/39481 [==============================] - 1s 32us/step - loss: 0.8931 - acc: 0.7577\n",
            "Epoch 154/500\n",
            "39481/39481 [==============================] - 1s 33us/step - loss: 0.8929 - acc: 0.7579\n",
            "Epoch 155/500\n",
            "39481/39481 [==============================] - 1s 33us/step - loss: 0.8793 - acc: 0.7587\n",
            "Epoch 156/500\n",
            "39481/39481 [==============================] - 1s 33us/step - loss: 0.8861 - acc: 0.7595\n",
            "Epoch 157/500\n",
            "39481/39481 [==============================] - 1s 31us/step - loss: 0.8878 - acc: 0.7580\n",
            "Epoch 158/500\n",
            "39481/39481 [==============================] - 1s 33us/step - loss: 0.8839 - acc: 0.7599\n",
            "Epoch 159/500\n",
            "39481/39481 [==============================] - 2s 38us/step - loss: 0.8849 - acc: 0.7621\n",
            "Epoch 160/500\n",
            "39481/39481 [==============================] - 1s 32us/step - loss: 0.8886 - acc: 0.7594\n",
            "Epoch 161/500\n",
            "39481/39481 [==============================] - 1s 34us/step - loss: 0.8642 - acc: 0.7640\n",
            "Epoch 162/500\n",
            "39481/39481 [==============================] - 1s 33us/step - loss: 0.8616 - acc: 0.7649\n",
            "Epoch 163/500\n",
            "39481/39481 [==============================] - 1s 31us/step - loss: 0.8709 - acc: 0.7623\n",
            "Epoch 164/500\n",
            "39481/39481 [==============================] - 1s 33us/step - loss: 0.8772 - acc: 0.7619\n",
            "Epoch 165/500\n",
            "39481/39481 [==============================] - 1s 33us/step - loss: 0.8703 - acc: 0.7613\n",
            "Epoch 166/500\n",
            "39481/39481 [==============================] - 1s 33us/step - loss: 0.8646 - acc: 0.7643\n",
            "Epoch 167/500\n",
            "39481/39481 [==============================] - 1s 32us/step - loss: 0.8615 - acc: 0.7636\n",
            "Epoch 168/500\n",
            "39481/39481 [==============================] - 1s 32us/step - loss: 0.8614 - acc: 0.7642\n",
            "Epoch 169/500\n",
            "39481/39481 [==============================] - 1s 32us/step - loss: 0.8553 - acc: 0.7638\n",
            "Epoch 170/500\n",
            "39481/39481 [==============================] - 1s 32us/step - loss: 0.8468 - acc: 0.7670\n",
            "Epoch 171/500\n",
            "39481/39481 [==============================] - 1s 31us/step - loss: 0.8597 - acc: 0.7641\n",
            "Epoch 172/500\n",
            "39481/39481 [==============================] - 1s 32us/step - loss: 0.8684 - acc: 0.7637\n",
            "Epoch 173/500\n",
            "39481/39481 [==============================] - 1s 32us/step - loss: 0.8525 - acc: 0.7647\n",
            "Epoch 174/500\n",
            "39481/39481 [==============================] - 1s 32us/step - loss: 0.8298 - acc: 0.7699\n",
            "Epoch 175/500\n",
            "39481/39481 [==============================] - 1s 33us/step - loss: 0.8546 - acc: 0.7661\n",
            "Epoch 176/500\n",
            "39481/39481 [==============================] - 2s 39us/step - loss: 0.8422 - acc: 0.7683\n",
            "Epoch 177/500\n",
            "39481/39481 [==============================] - 1s 33us/step - loss: 0.8384 - acc: 0.7674\n",
            "Epoch 178/500\n",
            "39481/39481 [==============================] - 1s 34us/step - loss: 0.8320 - acc: 0.7684\n",
            "Epoch 179/500\n",
            "39481/39481 [==============================] - 1s 33us/step - loss: 0.8459 - acc: 0.7672\n",
            "Epoch 180/500\n",
            "39481/39481 [==============================] - 1s 32us/step - loss: 0.8429 - acc: 0.7673\n",
            "Epoch 181/500\n",
            "39481/39481 [==============================] - 1s 33us/step - loss: 0.8619 - acc: 0.7648\n",
            "Epoch 182/500\n",
            "39481/39481 [==============================] - 1s 31us/step - loss: 0.8350 - acc: 0.7690\n",
            "Epoch 183/500\n",
            "39481/39481 [==============================] - 1s 33us/step - loss: 0.8459 - acc: 0.7674\n",
            "Epoch 184/500\n",
            "39481/39481 [==============================] - 1s 34us/step - loss: 0.8184 - acc: 0.7716\n",
            "Epoch 185/500\n",
            "39481/39481 [==============================] - 1s 33us/step - loss: 0.8279 - acc: 0.7694\n",
            "Epoch 186/500\n",
            "39481/39481 [==============================] - 1s 38us/step - loss: 0.8346 - acc: 0.7681\n",
            "Epoch 187/500\n",
            "39481/39481 [==============================] - 1s 34us/step - loss: 0.8266 - acc: 0.7706\n",
            "Epoch 188/500\n",
            "39481/39481 [==============================] - 1s 32us/step - loss: 0.8323 - acc: 0.7706\n",
            "Epoch 189/500\n",
            "39481/39481 [==============================] - 1s 34us/step - loss: 0.8301 - acc: 0.7698\n",
            "Epoch 190/500\n",
            "39481/39481 [==============================] - 1s 33us/step - loss: 0.8097 - acc: 0.7740\n",
            "Epoch 191/500\n",
            "39481/39481 [==============================] - 1s 33us/step - loss: 0.8193 - acc: 0.7737\n",
            "Epoch 192/500\n",
            "39481/39481 [==============================] - 1s 33us/step - loss: 0.8423 - acc: 0.7681\n",
            "Epoch 193/500\n",
            "39481/39481 [==============================] - 2s 39us/step - loss: 0.8136 - acc: 0.7723\n",
            "Epoch 194/500\n",
            "39481/39481 [==============================] - 1s 32us/step - loss: 0.8049 - acc: 0.7730\n",
            "Epoch 195/500\n",
            "39481/39481 [==============================] - 1s 33us/step - loss: 0.8131 - acc: 0.7721\n",
            "Epoch 196/500\n",
            "39481/39481 [==============================] - 1s 33us/step - loss: 0.8198 - acc: 0.7720\n",
            "Epoch 197/500\n",
            "39481/39481 [==============================] - 1s 31us/step - loss: 0.8088 - acc: 0.7718\n",
            "Epoch 198/500\n",
            "39481/39481 [==============================] - 1s 32us/step - loss: 0.8034 - acc: 0.7749\n",
            "Epoch 199/500\n",
            "39481/39481 [==============================] - 1s 31us/step - loss: 0.8018 - acc: 0.7739\n",
            "Epoch 200/500\n",
            "39481/39481 [==============================] - 1s 35us/step - loss: 0.7969 - acc: 0.7746\n",
            "Epoch 201/500\n",
            "39481/39481 [==============================] - 1s 35us/step - loss: 0.8139 - acc: 0.7733\n",
            "Epoch 202/500\n",
            "39481/39481 [==============================] - 1s 35us/step - loss: 0.8416 - acc: 0.7707\n",
            "Epoch 203/500\n",
            "39481/39481 [==============================] - 1s 36us/step - loss: 0.7905 - acc: 0.7775\n",
            "Epoch 204/500\n",
            "39481/39481 [==============================] - 2s 42us/step - loss: 0.7823 - acc: 0.7771\n",
            "Epoch 205/500\n",
            "39481/39481 [==============================] - 1s 36us/step - loss: 0.8118 - acc: 0.7733\n",
            "Epoch 206/500\n",
            "39481/39481 [==============================] - 1s 35us/step - loss: 0.8175 - acc: 0.7732\n",
            "Epoch 207/500\n",
            "39481/39481 [==============================] - 1s 37us/step - loss: 0.7970 - acc: 0.7772\n",
            "Epoch 208/500\n",
            "39481/39481 [==============================] - 1s 32us/step - loss: 0.8101 - acc: 0.7742\n",
            "Epoch 209/500\n",
            "39481/39481 [==============================] - 1s 32us/step - loss: 0.7887 - acc: 0.7786\n",
            "Epoch 210/500\n",
            "39481/39481 [==============================] - 1s 34us/step - loss: 0.7792 - acc: 0.7793\n",
            "Epoch 211/500\n",
            "39481/39481 [==============================] - 1s 32us/step - loss: 0.7854 - acc: 0.7776\n",
            "Epoch 212/500\n",
            "39481/39481 [==============================] - 1s 31us/step - loss: 0.8022 - acc: 0.7758\n",
            "Epoch 213/500\n",
            "39481/39481 [==============================] - 1s 34us/step - loss: 0.7902 - acc: 0.7793\n",
            "Epoch 214/500\n",
            "39481/39481 [==============================] - 1s 33us/step - loss: 0.7955 - acc: 0.7777\n",
            "Epoch 215/500\n",
            "39481/39481 [==============================] - 1s 32us/step - loss: 0.7861 - acc: 0.7792\n",
            "Epoch 216/500\n",
            "39481/39481 [==============================] - 1s 32us/step - loss: 0.7782 - acc: 0.7810\n",
            "Epoch 217/500\n",
            "39481/39481 [==============================] - 1s 31us/step - loss: 0.7972 - acc: 0.7786\n",
            "Epoch 218/500\n",
            "39481/39481 [==============================] - 1s 32us/step - loss: 0.7914 - acc: 0.7786\n",
            "Epoch 219/500\n",
            "39481/39481 [==============================] - 1s 32us/step - loss: 0.7843 - acc: 0.7789\n",
            "Epoch 220/500\n",
            "39481/39481 [==============================] - 1s 31us/step - loss: 0.7657 - acc: 0.7816\n",
            "Epoch 221/500\n",
            "39481/39481 [==============================] - 2s 39us/step - loss: 0.7827 - acc: 0.7806\n",
            "Epoch 222/500\n",
            "39481/39481 [==============================] - 1s 32us/step - loss: 0.7832 - acc: 0.7793\n",
            "Epoch 223/500\n",
            "39481/39481 [==============================] - 1s 34us/step - loss: 0.7783 - acc: 0.7791\n",
            "Epoch 224/500\n",
            "39481/39481 [==============================] - 1s 32us/step - loss: 0.7863 - acc: 0.7804\n",
            "Epoch 225/500\n",
            "39481/39481 [==============================] - 1s 34us/step - loss: 0.7747 - acc: 0.7804\n",
            "Epoch 226/500\n",
            "39481/39481 [==============================] - 1s 36us/step - loss: 0.7853 - acc: 0.7808\n",
            "Epoch 227/500\n",
            "39481/39481 [==============================] - 1s 32us/step - loss: 0.7733 - acc: 0.7817\n",
            "Epoch 228/500\n",
            "39481/39481 [==============================] - 1s 33us/step - loss: 0.7506 - acc: 0.7837\n",
            "Epoch 229/500\n",
            "39481/39481 [==============================] - 1s 32us/step - loss: 0.7819 - acc: 0.7813\n",
            "Epoch 230/500\n",
            "39481/39481 [==============================] - 1s 34us/step - loss: 0.7764 - acc: 0.7806\n",
            "Epoch 231/500\n",
            "39481/39481 [==============================] - 1s 36us/step - loss: 0.7651 - acc: 0.7822\n",
            "Epoch 232/500\n",
            "39481/39481 [==============================] - 1s 33us/step - loss: 0.7620 - acc: 0.7837\n",
            "Epoch 233/500\n",
            "39481/39481 [==============================] - 1s 32us/step - loss: 0.7550 - acc: 0.7844\n",
            "Epoch 234/500\n",
            "39481/39481 [==============================] - 1s 33us/step - loss: 0.7647 - acc: 0.7838\n",
            "Epoch 235/500\n",
            "39481/39481 [==============================] - 1s 31us/step - loss: 0.7804 - acc: 0.7807\n",
            "Epoch 236/500\n",
            "39481/39481 [==============================] - 1s 32us/step - loss: 0.7503 - acc: 0.7852\n",
            "Epoch 237/500\n",
            "39481/39481 [==============================] - 1s 32us/step - loss: 0.7420 - acc: 0.7870\n",
            "Epoch 238/500\n",
            "39481/39481 [==============================] - 1s 35us/step - loss: 0.7507 - acc: 0.7873\n",
            "Epoch 239/500\n",
            "39481/39481 [==============================] - 1s 34us/step - loss: 0.8077 - acc: 0.7791\n",
            "Epoch 240/500\n",
            "39481/39481 [==============================] - 1s 31us/step - loss: 0.7567 - acc: 0.7845\n",
            "Epoch 241/500\n",
            "39481/39481 [==============================] - 1s 33us/step - loss: 0.7480 - acc: 0.7860\n",
            "Epoch 242/500\n",
            "39481/39481 [==============================] - 1s 32us/step - loss: 0.7729 - acc: 0.7828\n",
            "Epoch 243/500\n",
            "39481/39481 [==============================] - 1s 32us/step - loss: 0.7558 - acc: 0.7847\n",
            "Epoch 244/500\n",
            "39481/39481 [==============================] - 1s 32us/step - loss: 0.7535 - acc: 0.7875\n",
            "Epoch 245/500\n",
            "39481/39481 [==============================] - 1s 32us/step - loss: 0.7438 - acc: 0.7857\n",
            "Epoch 246/500\n",
            "39481/39481 [==============================] - 1s 32us/step - loss: 0.7378 - acc: 0.7866\n",
            "Epoch 247/500\n",
            "39481/39481 [==============================] - 1s 31us/step - loss: 0.7563 - acc: 0.7869\n",
            "Epoch 248/500\n",
            "39481/39481 [==============================] - 1s 32us/step - loss: 0.7530 - acc: 0.7867\n",
            "Epoch 249/500\n",
            "39481/39481 [==============================] - 1s 32us/step - loss: 0.7539 - acc: 0.7852\n",
            "Epoch 250/500\n",
            "39481/39481 [==============================] - 2s 38us/step - loss: 0.7391 - acc: 0.7884\n",
            "Epoch 251/500\n",
            "39481/39481 [==============================] - 1s 33us/step - loss: 0.7350 - acc: 0.7906\n",
            "Epoch 252/500\n",
            "39481/39481 [==============================] - 1s 34us/step - loss: 0.7839 - acc: 0.7846\n",
            "Epoch 253/500\n",
            "39481/39481 [==============================] - 1s 35us/step - loss: 0.7250 - acc: 0.7887\n",
            "Epoch 254/500\n",
            "39481/39481 [==============================] - 1s 33us/step - loss: 0.7469 - acc: 0.7866\n",
            "Epoch 255/500\n",
            "39481/39481 [==============================] - 1s 34us/step - loss: 0.7271 - acc: 0.7894\n",
            "Epoch 256/500\n",
            "39481/39481 [==============================] - 1s 34us/step - loss: 0.7379 - acc: 0.7885\n",
            "Epoch 257/500\n",
            "39481/39481 [==============================] - 1s 33us/step - loss: 0.7267 - acc: 0.7896\n",
            "Epoch 258/500\n",
            "39481/39481 [==============================] - 1s 32us/step - loss: 0.7425 - acc: 0.7868\n",
            "Epoch 259/500\n",
            "39481/39481 [==============================] - 1s 33us/step - loss: 0.7384 - acc: 0.7886\n",
            "Epoch 260/500\n",
            "39481/39481 [==============================] - 1s 33us/step - loss: 0.7328 - acc: 0.7911\n",
            "Epoch 261/500\n",
            "39481/39481 [==============================] - 1s 31us/step - loss: 0.7926 - acc: 0.7828\n",
            "Epoch 262/500\n",
            "39481/39481 [==============================] - 1s 32us/step - loss: 0.7210 - acc: 0.7918\n",
            "Epoch 263/500\n",
            "39481/39481 [==============================] - 1s 32us/step - loss: 0.7238 - acc: 0.7919\n",
            "Epoch 264/500\n",
            "39481/39481 [==============================] - 1s 32us/step - loss: 0.7293 - acc: 0.7907\n",
            "Epoch 265/500\n",
            "39481/39481 [==============================] - 1s 32us/step - loss: 0.7478 - acc: 0.7869\n",
            "Epoch 266/500\n",
            "39481/39481 [==============================] - 1s 31us/step - loss: 0.7395 - acc: 0.7893\n",
            "Epoch 267/500\n",
            "39481/39481 [==============================] - 2s 38us/step - loss: 0.7283 - acc: 0.7891\n",
            "Epoch 268/500\n",
            "39481/39481 [==============================] - 1s 33us/step - loss: 0.7149 - acc: 0.7940\n",
            "Epoch 269/500\n",
            "39481/39481 [==============================] - 1s 33us/step - loss: 0.7186 - acc: 0.7924\n",
            "Epoch 270/500\n",
            "39481/39481 [==============================] - 1s 33us/step - loss: 0.7240 - acc: 0.7914\n",
            "Epoch 271/500\n",
            "39481/39481 [==============================] - 1s 33us/step - loss: 0.7325 - acc: 0.7913\n",
            "Epoch 272/500\n",
            "39481/39481 [==============================] - 1s 33us/step - loss: 0.7299 - acc: 0.7911\n",
            "Epoch 273/500\n",
            "39481/39481 [==============================] - 1s 32us/step - loss: 0.7373 - acc: 0.7889\n",
            "Epoch 274/500\n",
            "39481/39481 [==============================] - 1s 31us/step - loss: 0.7554 - acc: 0.7879\n",
            "Epoch 275/500\n",
            "39481/39481 [==============================] - 1s 33us/step - loss: 0.7200 - acc: 0.7921\n",
            "Epoch 276/500\n",
            "39481/39481 [==============================] - 1s 32us/step - loss: 0.6997 - acc: 0.7948\n",
            "Epoch 277/500\n",
            "39481/39481 [==============================] - 1s 34us/step - loss: 0.7018 - acc: 0.7955\n",
            "Epoch 278/500\n",
            "39481/39481 [==============================] - 1s 37us/step - loss: 0.7382 - acc: 0.7896\n",
            "Epoch 279/500\n",
            "39481/39481 [==============================] - 1s 34us/step - loss: 0.7372 - acc: 0.7891\n",
            "Epoch 280/500\n",
            "39481/39481 [==============================] - 1s 35us/step - loss: 0.6915 - acc: 0.7964\n",
            "Epoch 281/500\n",
            "39481/39481 [==============================] - 1s 34us/step - loss: 0.7267 - acc: 0.7937\n",
            "Epoch 282/500\n",
            "39481/39481 [==============================] - 1s 36us/step - loss: 0.7035 - acc: 0.7959\n",
            "Epoch 283/500\n",
            "39481/39481 [==============================] - 1s 33us/step - loss: 0.7184 - acc: 0.7920\n",
            "Epoch 284/500\n",
            "39481/39481 [==============================] - 1s 37us/step - loss: 0.7861 - acc: 0.7859\n",
            "Epoch 285/500\n",
            "39481/39481 [==============================] - 1s 32us/step - loss: 0.7008 - acc: 0.7952\n",
            "Epoch 286/500\n",
            "39481/39481 [==============================] - 1s 31us/step - loss: 0.7008 - acc: 0.7956\n",
            "Epoch 287/500\n",
            "39481/39481 [==============================] - 1s 32us/step - loss: 0.7237 - acc: 0.7942\n",
            "Epoch 288/500\n",
            "39481/39481 [==============================] - 1s 32us/step - loss: 0.7147 - acc: 0.7953\n",
            "Epoch 289/500\n",
            "39481/39481 [==============================] - 1s 32us/step - loss: 0.6767 - acc: 0.8022\n",
            "Epoch 290/500\n",
            "39481/39481 [==============================] - 1s 31us/step - loss: 0.7063 - acc: 0.7962\n",
            "Epoch 291/500\n",
            "39481/39481 [==============================] - 1s 32us/step - loss: 0.6948 - acc: 0.7975\n",
            "Epoch 292/500\n",
            "39481/39481 [==============================] - 1s 33us/step - loss: 0.7381 - acc: 0.7910\n",
            "Epoch 293/500\n",
            "39481/39481 [==============================] - 1s 33us/step - loss: 0.7388 - acc: 0.7911\n",
            "Epoch 294/500\n",
            "39481/39481 [==============================] - 1s 31us/step - loss: 0.7073 - acc: 0.7957\n",
            "Epoch 295/500\n",
            "39481/39481 [==============================] - 1s 32us/step - loss: 0.6924 - acc: 0.7997\n",
            "Epoch 296/500\n",
            "39481/39481 [==============================] - 2s 39us/step - loss: 0.6843 - acc: 0.7997\n",
            "Epoch 297/500\n",
            "39481/39481 [==============================] - 1s 32us/step - loss: 0.7015 - acc: 0.7964\n",
            "Epoch 298/500\n",
            "39481/39481 [==============================] - 1s 32us/step - loss: 0.7496 - acc: 0.7927\n",
            "Epoch 299/500\n",
            "39481/39481 [==============================] - 1s 34us/step - loss: 0.7545 - acc: 0.7886\n",
            "Epoch 300/500\n",
            "39481/39481 [==============================] - 1s 31us/step - loss: 0.6912 - acc: 0.7993\n",
            "Epoch 301/500\n",
            "39481/39481 [==============================] - 1s 34us/step - loss: 0.6778 - acc: 0.8011\n",
            "Epoch 302/500\n",
            "39481/39481 [==============================] - 1s 34us/step - loss: 0.6896 - acc: 0.7982\n",
            "Epoch 303/500\n",
            "39481/39481 [==============================] - 1s 32us/step - loss: 0.7232 - acc: 0.7933\n",
            "Epoch 304/500\n",
            "39481/39481 [==============================] - 1s 32us/step - loss: 0.7029 - acc: 0.7980\n",
            "Epoch 305/500\n",
            "39481/39481 [==============================] - 1s 32us/step - loss: 0.6720 - acc: 0.8013\n",
            "Epoch 306/500\n",
            "39481/39481 [==============================] - 1s 33us/step - loss: 0.7137 - acc: 0.7975\n",
            "Epoch 307/500\n",
            "39481/39481 [==============================] - 1s 32us/step - loss: 0.7087 - acc: 0.7970\n",
            "Epoch 308/500\n",
            "39481/39481 [==============================] - 1s 31us/step - loss: 0.7321 - acc: 0.7951\n",
            "Epoch 309/500\n",
            "39481/39481 [==============================] - 1s 31us/step - loss: 0.7165 - acc: 0.7942\n",
            "Epoch 310/500\n",
            "39481/39481 [==============================] - 1s 32us/step - loss: 0.6644 - acc: 0.8023\n",
            "Epoch 311/500\n",
            "39481/39481 [==============================] - 1s 32us/step - loss: 0.6840 - acc: 0.8003\n",
            "Epoch 312/500\n",
            "39481/39481 [==============================] - 1s 33us/step - loss: 0.7001 - acc: 0.7989\n",
            "Epoch 313/500\n",
            "39481/39481 [==============================] - 2s 39us/step - loss: 0.7076 - acc: 0.7982\n",
            "Epoch 314/500\n",
            "39481/39481 [==============================] - 1s 34us/step - loss: 0.6661 - acc: 0.8034\n",
            "Epoch 315/500\n",
            "39481/39481 [==============================] - 1s 34us/step - loss: 0.7065 - acc: 0.7980\n",
            "Epoch 316/500\n",
            "39481/39481 [==============================] - 1s 34us/step - loss: 0.7130 - acc: 0.7969\n",
            "Epoch 317/500\n",
            "39481/39481 [==============================] - 1s 33us/step - loss: 0.6596 - acc: 0.8046\n",
            "Epoch 318/500\n",
            "39481/39481 [==============================] - 1s 34us/step - loss: 0.7149 - acc: 0.7984\n",
            "Epoch 319/500\n",
            "39481/39481 [==============================] - 1s 35us/step - loss: 0.6940 - acc: 0.7989\n",
            "Epoch 320/500\n",
            "39481/39481 [==============================] - 1s 33us/step - loss: 0.7436 - acc: 0.7932\n",
            "Epoch 321/500\n",
            "39481/39481 [==============================] - 1s 32us/step - loss: 0.6701 - acc: 0.8048\n",
            "Epoch 322/500\n",
            "39481/39481 [==============================] - 1s 33us/step - loss: 0.6716 - acc: 0.8062\n",
            "Epoch 323/500\n",
            "39481/39481 [==============================] - 1s 38us/step - loss: 0.6742 - acc: 0.8031\n",
            "Epoch 324/500\n",
            "39481/39481 [==============================] - 1s 34us/step - loss: 0.6887 - acc: 0.7994\n",
            "Epoch 325/500\n",
            "39481/39481 [==============================] - 1s 32us/step - loss: 0.7076 - acc: 0.7988\n",
            "Epoch 326/500\n",
            "39481/39481 [==============================] - 1s 33us/step - loss: 0.7079 - acc: 0.7993\n",
            "Epoch 327/500\n",
            "39481/39481 [==============================] - 1s 33us/step - loss: 0.6739 - acc: 0.8017\n",
            "Epoch 328/500\n",
            "39481/39481 [==============================] - 1s 35us/step - loss: 0.6875 - acc: 0.8001\n",
            "Epoch 329/500\n",
            "39481/39481 [==============================] - 1s 31us/step - loss: 0.6803 - acc: 0.8018\n",
            "Epoch 330/500\n",
            "39481/39481 [==============================] - 2s 40us/step - loss: 0.7046 - acc: 0.8017\n",
            "Epoch 331/500\n",
            "39481/39481 [==============================] - 1s 31us/step - loss: 0.7235 - acc: 0.7969\n",
            "Epoch 332/500\n",
            "39481/39481 [==============================] - 1s 32us/step - loss: 0.6600 - acc: 0.8060\n",
            "Epoch 333/500\n",
            "39481/39481 [==============================] - 1s 32us/step - loss: 0.6616 - acc: 0.8059\n",
            "Epoch 334/500\n",
            "39481/39481 [==============================] - 1s 31us/step - loss: 0.6637 - acc: 0.8057\n",
            "Epoch 335/500\n",
            "39481/39481 [==============================] - 1s 33us/step - loss: 0.6956 - acc: 0.8022\n",
            "Epoch 336/500\n",
            "39481/39481 [==============================] - 1s 32us/step - loss: 0.7258 - acc: 0.7978\n",
            "Epoch 337/500\n",
            "39481/39481 [==============================] - 1s 33us/step - loss: 0.6780 - acc: 0.8032\n",
            "Epoch 338/500\n",
            "39481/39481 [==============================] - 1s 33us/step - loss: 0.6549 - acc: 0.8072\n",
            "Epoch 339/500\n",
            "39481/39481 [==============================] - 1s 32us/step - loss: 0.6979 - acc: 0.8034\n",
            "Epoch 340/500\n",
            "39481/39481 [==============================] - 1s 31us/step - loss: 0.6976 - acc: 0.8019\n",
            "Epoch 341/500\n",
            "39481/39481 [==============================] - 1s 33us/step - loss: 0.6781 - acc: 0.8041\n",
            "Epoch 342/500\n",
            "39481/39481 [==============================] - 2s 38us/step - loss: 0.6740 - acc: 0.8039\n",
            "Epoch 343/500\n",
            "39481/39481 [==============================] - 1s 32us/step - loss: 0.6749 - acc: 0.8021\n",
            "Epoch 344/500\n",
            "39481/39481 [==============================] - 1s 33us/step - loss: 0.6543 - acc: 0.8073\n",
            "Epoch 345/500\n",
            "39481/39481 [==============================] - 1s 35us/step - loss: 0.6793 - acc: 0.8045\n",
            "Epoch 346/500\n",
            "39481/39481 [==============================] - 1s 32us/step - loss: 0.7146 - acc: 0.7993\n",
            "Epoch 347/500\n",
            "39481/39481 [==============================] - 1s 33us/step - loss: 0.7167 - acc: 0.8009\n",
            "Epoch 348/500\n",
            "39481/39481 [==============================] - 1s 33us/step - loss: 0.6637 - acc: 0.8049\n",
            "Epoch 349/500\n",
            "39481/39481 [==============================] - 1s 33us/step - loss: 0.6632 - acc: 0.8074\n",
            "Epoch 350/500\n",
            "39481/39481 [==============================] - 1s 32us/step - loss: 0.6661 - acc: 0.8054\n",
            "Epoch 351/500\n",
            "39481/39481 [==============================] - 1s 32us/step - loss: 0.6620 - acc: 0.8068\n",
            "Epoch 352/500\n",
            "39481/39481 [==============================] - 1s 33us/step - loss: 0.6830 - acc: 0.8045\n",
            "Epoch 353/500\n",
            "39481/39481 [==============================] - 1s 32us/step - loss: 0.6927 - acc: 0.8035\n",
            "Epoch 354/500\n",
            "39481/39481 [==============================] - 1s 32us/step - loss: 0.7195 - acc: 0.7998\n",
            "Epoch 355/500\n",
            "39481/39481 [==============================] - 1s 31us/step - loss: 0.6568 - acc: 0.8083\n",
            "Epoch 356/500\n",
            "39481/39481 [==============================] - 1s 33us/step - loss: 0.6468 - acc: 0.8089\n",
            "Epoch 357/500\n",
            "39481/39481 [==============================] - 1s 32us/step - loss: 0.6314 - acc: 0.8116\n",
            "Epoch 358/500\n",
            "39481/39481 [==============================] - 1s 32us/step - loss: 0.6854 - acc: 0.8034\n",
            "Epoch 359/500\n",
            "39481/39481 [==============================] - 1s 38us/step - loss: 0.6993 - acc: 0.8027\n",
            "Epoch 360/500\n",
            "39481/39481 [==============================] - 1s 34us/step - loss: 0.6419 - acc: 0.8105\n",
            "Epoch 361/500\n",
            "39481/39481 [==============================] - 1s 34us/step - loss: 0.6807 - acc: 0.8052\n",
            "Epoch 362/500\n",
            "39481/39481 [==============================] - 1s 33us/step - loss: 0.6687 - acc: 0.8056\n",
            "Epoch 363/500\n",
            "39481/39481 [==============================] - 1s 32us/step - loss: 0.7144 - acc: 0.8046\n",
            "Epoch 364/500\n",
            "39481/39481 [==============================] - 1s 33us/step - loss: 0.6667 - acc: 0.8079\n",
            "Epoch 365/500\n",
            "39481/39481 [==============================] - 1s 32us/step - loss: 0.6465 - acc: 0.8084\n",
            "Epoch 366/500\n",
            "39481/39481 [==============================] - 1s 33us/step - loss: 0.6556 - acc: 0.8097\n",
            "Epoch 367/500\n",
            "39481/39481 [==============================] - 1s 32us/step - loss: 0.7007 - acc: 0.8032\n",
            "Epoch 368/500\n",
            "39481/39481 [==============================] - 1s 34us/step - loss: 0.6507 - acc: 0.8087\n",
            "Epoch 369/500\n",
            "39481/39481 [==============================] - 2s 39us/step - loss: 0.6597 - acc: 0.8104\n",
            "Epoch 370/500\n",
            "39481/39481 [==============================] - 1s 33us/step - loss: 0.6999 - acc: 0.8028\n",
            "Epoch 371/500\n",
            "39481/39481 [==============================] - 1s 31us/step - loss: 0.6887 - acc: 0.8036\n",
            "Epoch 372/500\n",
            "39481/39481 [==============================] - 1s 32us/step - loss: 0.6329 - acc: 0.8128\n",
            "Epoch 373/500\n",
            "39481/39481 [==============================] - 1s 33us/step - loss: 0.6111 - acc: 0.8161\n",
            "Epoch 374/500\n",
            "39481/39481 [==============================] - 1s 33us/step - loss: 0.6565 - acc: 0.8085\n",
            "Epoch 375/500\n",
            "39481/39481 [==============================] - 1s 33us/step - loss: 0.7394 - acc: 0.7996\n",
            "Epoch 376/500\n",
            "39481/39481 [==============================] - 2s 40us/step - loss: 0.6627 - acc: 0.8095\n",
            "Epoch 377/500\n",
            "39481/39481 [==============================] - 1s 32us/step - loss: 0.6488 - acc: 0.8107\n",
            "Epoch 378/500\n",
            "39481/39481 [==============================] - 1s 33us/step - loss: 0.6290 - acc: 0.8143\n",
            "Epoch 379/500\n",
            "39481/39481 [==============================] - 1s 33us/step - loss: 0.6468 - acc: 0.8114\n",
            "Epoch 380/500\n",
            "39481/39481 [==============================] - 1s 32us/step - loss: 0.6693 - acc: 0.8072\n",
            "Epoch 381/500\n",
            "39481/39481 [==============================] - 1s 32us/step - loss: 0.6301 - acc: 0.8134\n",
            "Epoch 382/500\n",
            "39481/39481 [==============================] - 1s 32us/step - loss: 0.6602 - acc: 0.8088\n",
            "Epoch 383/500\n",
            "39481/39481 [==============================] - 1s 34us/step - loss: 0.6538 - acc: 0.8092\n",
            "Epoch 384/500\n",
            "39481/39481 [==============================] - 1s 33us/step - loss: 0.6793 - acc: 0.8066\n",
            "Epoch 385/500\n",
            "39481/39481 [==============================] - 1s 31us/step - loss: 0.6425 - acc: 0.8129\n",
            "Epoch 386/500\n",
            "39481/39481 [==============================] - 1s 32us/step - loss: 0.6614 - acc: 0.8103\n",
            "Epoch 387/500\n",
            "39481/39481 [==============================] - 1s 35us/step - loss: 0.6594 - acc: 0.8118\n",
            "Epoch 388/500\n",
            "39481/39481 [==============================] - 1s 36us/step - loss: 0.6626 - acc: 0.8094\n",
            "Epoch 389/500\n",
            "39481/39481 [==============================] - 1s 33us/step - loss: 0.6477 - acc: 0.8140\n",
            "Epoch 390/500\n",
            "39481/39481 [==============================] - 1s 32us/step - loss: 0.6527 - acc: 0.8106\n",
            "Epoch 391/500\n",
            "39481/39481 [==============================] - 1s 34us/step - loss: 0.6274 - acc: 0.8149\n",
            "Epoch 392/500\n",
            "39481/39481 [==============================] - 1s 33us/step - loss: 0.6872 - acc: 0.8081\n",
            "Epoch 393/500\n",
            "39481/39481 [==============================] - 1s 33us/step - loss: 0.6827 - acc: 0.8078\n",
            "Epoch 394/500\n",
            "39481/39481 [==============================] - 1s 31us/step - loss: 0.6516 - acc: 0.8107\n",
            "Epoch 395/500\n",
            "39481/39481 [==============================] - 1s 34us/step - loss: 0.6376 - acc: 0.8145\n",
            "Epoch 396/500\n",
            "39481/39481 [==============================] - 1s 32us/step - loss: 0.6756 - acc: 0.8078\n",
            "Epoch 397/500\n",
            "39481/39481 [==============================] - 1s 32us/step - loss: 0.6492 - acc: 0.8107\n",
            "Epoch 398/500\n",
            "39481/39481 [==============================] - 1s 33us/step - loss: 0.6224 - acc: 0.8175\n",
            "Epoch 399/500\n",
            "39481/39481 [==============================] - 1s 32us/step - loss: 0.6480 - acc: 0.8115\n",
            "Epoch 400/500\n",
            "39481/39481 [==============================] - 1s 33us/step - loss: 0.6440 - acc: 0.8116\n",
            "Epoch 401/500\n",
            "39481/39481 [==============================] - 1s 32us/step - loss: 0.6541 - acc: 0.8136\n",
            "Epoch 402/500\n",
            "39481/39481 [==============================] - 1s 32us/step - loss: 0.6578 - acc: 0.8098\n",
            "Epoch 403/500\n",
            "39481/39481 [==============================] - 1s 32us/step - loss: 0.6533 - acc: 0.8123\n",
            "Epoch 404/500\n",
            "39481/39481 [==============================] - 1s 37us/step - loss: 0.6678 - acc: 0.8086\n",
            "Epoch 405/500\n",
            "39481/39481 [==============================] - 1s 35us/step - loss: 0.6322 - acc: 0.8141\n",
            "Epoch 406/500\n",
            "39481/39481 [==============================] - 1s 34us/step - loss: 0.6760 - acc: 0.8104\n",
            "Epoch 407/500\n",
            "39481/39481 [==============================] - 1s 33us/step - loss: 0.6529 - acc: 0.8129\n",
            "Epoch 408/500\n",
            "39481/39481 [==============================] - 1s 34us/step - loss: 0.6231 - acc: 0.8145\n",
            "Epoch 409/500\n",
            "39481/39481 [==============================] - 1s 34us/step - loss: 0.6265 - acc: 0.8184\n",
            "Epoch 410/500\n",
            "39481/39481 [==============================] - 1s 33us/step - loss: 0.6451 - acc: 0.8118\n",
            "Epoch 411/500\n",
            "39481/39481 [==============================] - 1s 32us/step - loss: 0.7208 - acc: 0.8047\n",
            "Epoch 412/500\n",
            "39481/39481 [==============================] - 1s 34us/step - loss: 0.6331 - acc: 0.8150\n",
            "Epoch 413/500\n",
            "39481/39481 [==============================] - 1s 32us/step - loss: 0.5978 - acc: 0.8214\n",
            "Epoch 414/500\n",
            "39481/39481 [==============================] - 1s 33us/step - loss: 0.6006 - acc: 0.8195\n",
            "Epoch 415/500\n",
            "39481/39481 [==============================] - 1s 38us/step - loss: 0.6405 - acc: 0.8149\n",
            "Epoch 416/500\n",
            "39481/39481 [==============================] - 1s 33us/step - loss: 0.7437 - acc: 0.8025\n",
            "Epoch 417/500\n",
            "39481/39481 [==============================] - 1s 31us/step - loss: 0.6465 - acc: 0.8129\n",
            "Epoch 418/500\n",
            "39481/39481 [==============================] - 1s 33us/step - loss: 0.5950 - acc: 0.8213\n",
            "Epoch 419/500\n",
            "39481/39481 [==============================] - 1s 34us/step - loss: 0.6099 - acc: 0.8191\n",
            "Epoch 420/500\n",
            "39481/39481 [==============================] - 1s 34us/step - loss: 0.6999 - acc: 0.8080\n",
            "Epoch 421/500\n",
            "39481/39481 [==============================] - 1s 32us/step - loss: 0.6783 - acc: 0.8126\n",
            "Epoch 422/500\n",
            "39481/39481 [==============================] - 1s 38us/step - loss: 0.6147 - acc: 0.8180\n",
            "Epoch 423/500\n",
            "39481/39481 [==============================] - 1s 31us/step - loss: 0.6046 - acc: 0.8208\n",
            "Epoch 424/500\n",
            "39481/39481 [==============================] - 1s 32us/step - loss: 0.6416 - acc: 0.8146\n",
            "Epoch 425/500\n",
            "39481/39481 [==============================] - 1s 31us/step - loss: 0.6653 - acc: 0.8112\n",
            "Epoch 426/500\n",
            "39481/39481 [==============================] - 1s 32us/step - loss: 0.6672 - acc: 0.8130\n",
            "Epoch 427/500\n",
            "39481/39481 [==============================] - 1s 33us/step - loss: 0.6079 - acc: 0.8205\n",
            "Epoch 428/500\n",
            "39481/39481 [==============================] - 1s 31us/step - loss: 0.6004 - acc: 0.8226\n",
            "Epoch 429/500\n",
            "39481/39481 [==============================] - 1s 34us/step - loss: 0.6677 - acc: 0.8107\n",
            "Epoch 430/500\n",
            "39481/39481 [==============================] - 1s 33us/step - loss: 0.7141 - acc: 0.8063\n",
            "Epoch 431/500\n",
            "39481/39481 [==============================] - 1s 32us/step - loss: 0.6161 - acc: 0.8194\n",
            "Epoch 432/500\n",
            "39481/39481 [==============================] - 1s 33us/step - loss: 0.6156 - acc: 0.8181\n",
            "Epoch 433/500\n",
            "39481/39481 [==============================] - 1s 36us/step - loss: 0.6089 - acc: 0.8213\n",
            "Epoch 434/500\n",
            "39481/39481 [==============================] - 1s 33us/step - loss: 0.6019 - acc: 0.8203\n",
            "Epoch 435/500\n",
            "39481/39481 [==============================] - 1s 34us/step - loss: 0.6221 - acc: 0.8193\n",
            "Epoch 436/500\n",
            "39481/39481 [==============================] - 1s 33us/step - loss: 0.6799 - acc: 0.8127\n",
            "Epoch 437/500\n",
            "39481/39481 [==============================] - 1s 34us/step - loss: 0.6269 - acc: 0.8168\n",
            "Epoch 438/500\n",
            "39481/39481 [==============================] - 1s 36us/step - loss: 0.6245 - acc: 0.8181\n",
            "Epoch 439/500\n",
            "39481/39481 [==============================] - 1s 37us/step - loss: 0.5837 - acc: 0.8236\n",
            "Epoch 440/500\n",
            "39481/39481 [==============================] - 1s 37us/step - loss: 0.6446 - acc: 0.8183\n",
            "Epoch 441/500\n",
            "39481/39481 [==============================] - 1s 35us/step - loss: 0.7345 - acc: 0.8044\n",
            "Epoch 442/500\n",
            "39481/39481 [==============================] - 1s 36us/step - loss: 0.6201 - acc: 0.8203\n",
            "Epoch 443/500\n",
            "39481/39481 [==============================] - 1s 36us/step - loss: 0.5771 - acc: 0.8246\n",
            "Epoch 444/500\n",
            "39481/39481 [==============================] - 1s 33us/step - loss: 0.6600 - acc: 0.8142\n",
            "Epoch 445/500\n",
            "39481/39481 [==============================] - 1s 34us/step - loss: 0.6710 - acc: 0.8116\n",
            "Epoch 446/500\n",
            "39481/39481 [==============================] - 1s 32us/step - loss: 0.6569 - acc: 0.8124\n",
            "Epoch 447/500\n",
            "39481/39481 [==============================] - 1s 31us/step - loss: 0.6511 - acc: 0.8148\n",
            "Epoch 448/500\n",
            "39481/39481 [==============================] - 1s 32us/step - loss: 0.6185 - acc: 0.8204\n",
            "Epoch 449/500\n",
            "39481/39481 [==============================] - 1s 34us/step - loss: 0.5883 - acc: 0.8269\n",
            "Epoch 450/500\n",
            "39481/39481 [==============================] - 1s 37us/step - loss: 0.5965 - acc: 0.8228\n",
            "Epoch 451/500\n",
            "39481/39481 [==============================] - 1s 32us/step - loss: 0.6857 - acc: 0.8127\n",
            "Epoch 452/500\n",
            "39481/39481 [==============================] - 1s 34us/step - loss: 0.6390 - acc: 0.8162\n",
            "Epoch 453/500\n",
            "39481/39481 [==============================] - 1s 34us/step - loss: 0.5887 - acc: 0.8253\n",
            "Epoch 454/500\n",
            "39481/39481 [==============================] - 1s 32us/step - loss: 0.6262 - acc: 0.8173\n",
            "Epoch 455/500\n",
            "39481/39481 [==============================] - 1s 35us/step - loss: 0.6472 - acc: 0.8184\n",
            "Epoch 456/500\n",
            "39481/39481 [==============================] - 1s 34us/step - loss: 0.6349 - acc: 0.8195\n",
            "Epoch 457/500\n",
            "39481/39481 [==============================] - 1s 32us/step - loss: 0.6044 - acc: 0.8228\n",
            "Epoch 458/500\n",
            "39481/39481 [==============================] - 1s 32us/step - loss: 0.6210 - acc: 0.8212\n",
            "Epoch 459/500\n",
            "39481/39481 [==============================] - 1s 32us/step - loss: 0.6764 - acc: 0.8110\n",
            "Epoch 460/500\n",
            "39481/39481 [==============================] - 2s 39us/step - loss: 0.6348 - acc: 0.8185\n",
            "Epoch 461/500\n",
            "39481/39481 [==============================] - 1s 33us/step - loss: 0.6401 - acc: 0.8200\n",
            "Epoch 462/500\n",
            "39481/39481 [==============================] - 1s 32us/step - loss: 0.5766 - acc: 0.8279\n",
            "Epoch 463/500\n",
            "39481/39481 [==============================] - 1s 32us/step - loss: 0.5813 - acc: 0.8270\n",
            "Epoch 464/500\n",
            "39481/39481 [==============================] - 1s 33us/step - loss: 0.6218 - acc: 0.8214\n",
            "Epoch 465/500\n",
            "39481/39481 [==============================] - 1s 34us/step - loss: 0.6590 - acc: 0.8163\n",
            "Epoch 466/500\n",
            "39481/39481 [==============================] - 1s 31us/step - loss: 0.7042 - acc: 0.8109\n",
            "Epoch 467/500\n",
            "39481/39481 [==============================] - 2s 40us/step - loss: 0.5883 - acc: 0.8252\n",
            "Epoch 468/500\n",
            "39481/39481 [==============================] - 1s 31us/step - loss: 0.5782 - acc: 0.8256\n",
            "Epoch 469/500\n",
            "39481/39481 [==============================] - 1s 32us/step - loss: 0.5977 - acc: 0.8267\n",
            "Epoch 470/500\n",
            "39481/39481 [==============================] - 1s 33us/step - loss: 0.6383 - acc: 0.8179\n",
            "Epoch 471/500\n",
            "39481/39481 [==============================] - 1s 32us/step - loss: 0.6451 - acc: 0.8176\n",
            "Epoch 472/500\n",
            "39481/39481 [==============================] - 1s 33us/step - loss: 0.6539 - acc: 0.8185\n",
            "Epoch 473/500\n",
            "39481/39481 [==============================] - 1s 33us/step - loss: 0.6253 - acc: 0.8219\n",
            "Epoch 474/500\n",
            "39481/39481 [==============================] - 1s 33us/step - loss: 0.6025 - acc: 0.8232\n",
            "Epoch 475/500\n",
            "39481/39481 [==============================] - 1s 32us/step - loss: 0.5717 - acc: 0.8281\n",
            "Epoch 476/500\n",
            "39481/39481 [==============================] - 1s 32us/step - loss: 0.6437 - acc: 0.8191\n",
            "Epoch 477/500\n",
            "39481/39481 [==============================] - 1s 32us/step - loss: 0.6342 - acc: 0.8180\n",
            "Epoch 478/500\n",
            "39481/39481 [==============================] - 1s 34us/step - loss: 0.6387 - acc: 0.8197\n",
            "Epoch 479/500\n",
            "39481/39481 [==============================] - 1s 37us/step - loss: 0.6099 - acc: 0.8233\n",
            "Epoch 480/500\n",
            "39481/39481 [==============================] - 1s 34us/step - loss: 0.6330 - acc: 0.8206\n",
            "Epoch 481/500\n",
            "39481/39481 [==============================] - 1s 33us/step - loss: 0.5837 - acc: 0.8285\n",
            "Epoch 482/500\n",
            "39481/39481 [==============================] - 1s 34us/step - loss: 0.5715 - acc: 0.8298\n",
            "Epoch 483/500\n",
            "39481/39481 [==============================] - 1s 34us/step - loss: 0.7188 - acc: 0.8116\n",
            "Epoch 484/500\n",
            "39481/39481 [==============================] - 1s 32us/step - loss: 0.6081 - acc: 0.8252\n",
            "Epoch 485/500\n",
            "39481/39481 [==============================] - 1s 33us/step - loss: 0.6083 - acc: 0.8251\n",
            "Epoch 486/500\n",
            "39481/39481 [==============================] - 1s 33us/step - loss: 0.6231 - acc: 0.8205\n",
            "Epoch 487/500\n",
            "39481/39481 [==============================] - 1s 33us/step - loss: 0.6308 - acc: 0.8216\n",
            "Epoch 488/500\n",
            "39481/39481 [==============================] - 1s 32us/step - loss: 0.6074 - acc: 0.8240\n",
            "Epoch 489/500\n",
            "39481/39481 [==============================] - 1s 33us/step - loss: 0.5644 - acc: 0.8326\n",
            "Epoch 490/500\n",
            "39481/39481 [==============================] - 1s 32us/step - loss: 0.5895 - acc: 0.8262\n",
            "Epoch 491/500\n",
            "39481/39481 [==============================] - 1s 32us/step - loss: 0.6582 - acc: 0.8188\n",
            "Epoch 492/500\n",
            "39481/39481 [==============================] - 1s 32us/step - loss: 0.6658 - acc: 0.8174\n",
            "Epoch 493/500\n",
            "39481/39481 [==============================] - 1s 32us/step - loss: 0.6069 - acc: 0.8260\n",
            "Epoch 494/500\n",
            "39481/39481 [==============================] - 1s 32us/step - loss: 0.5710 - acc: 0.8304\n",
            "Epoch 495/500\n",
            "39481/39481 [==============================] - 1s 37us/step - loss: 0.5579 - acc: 0.8322\n",
            "Epoch 496/500\n",
            "39481/39481 [==============================] - 1s 35us/step - loss: 0.6154 - acc: 0.8239\n",
            "Epoch 497/500\n",
            "39481/39481 [==============================] - 1s 35us/step - loss: 0.6709 - acc: 0.8158\n",
            "Epoch 498/500\n",
            "39481/39481 [==============================] - 1s 35us/step - loss: 0.6250 - acc: 0.8214\n",
            "Epoch 499/500\n",
            "39481/39481 [==============================] - 1s 33us/step - loss: 0.6008 - acc: 0.8225\n",
            "Epoch 500/500\n",
            "39481/39481 [==============================] - 1s 33us/step - loss: 0.5838 - acc: 0.8280\n"
          ],
          "name": "stdout"
        },
        {
          "output_type": "execute_result",
          "data": {
            "text/plain": [
              "<keras.callbacks.History at 0x7efdf8733470>"
            ]
          },
          "metadata": {
            "tags": []
          },
          "execution_count": 43
        }
      ]
    },
    {
      "cell_type": "code",
      "metadata": {
        "id": "GS_jTDj-VThv",
        "colab_type": "code",
        "colab": {}
      },
      "source": [
        ""
      ],
      "execution_count": 0,
      "outputs": []
    },
    {
      "cell_type": "markdown",
      "metadata": {
        "id": "0jXsE0sAN75p",
        "colab_type": "text"
      },
      "source": [
        "## 테스트셋 확인"
      ]
    },
    {
      "cell_type": "code",
      "metadata": {
        "id": "3sad2w2IN75q",
        "colab_type": "code",
        "outputId": "4c73c29c-41dd-4abc-c611-06b1df052a08",
        "colab": {
          "base_uri": "https://localhost:8080/",
          "height": 244
        }
      },
      "source": [
        "X_test['kkk']= np.zeros(len(X_test), dtype=\"float32\") +  sz\n",
        "for idx, k in enumerate(keys.keys()):\n",
        "    if keys.loc[k] <= keys.quantile(rate):\n",
        "        break\n",
        "    else:\n",
        "        X_test.loc[ X_test['display_address'] == k , 'kkk'] =  idx+1\n"
      ],
      "execution_count": 53,
      "outputs": [
        {
          "output_type": "error",
          "ename": "IndexError",
          "evalue": "ignored",
          "traceback": [
            "\u001b[0;31m---------------------------------------------------------------------------\u001b[0m",
            "\u001b[0;31mIndexError\u001b[0m                                Traceback (most recent call last)",
            "\u001b[0;32m<ipython-input-53-39ab9c01485c>\u001b[0m in \u001b[0;36m<module>\u001b[0;34m()\u001b[0m\n\u001b[0;32m----> 1\u001b[0;31m \u001b[0mX_test\u001b[0m\u001b[0;34m[\u001b[0m\u001b[0;34m'kkk'\u001b[0m\u001b[0;34m]\u001b[0m\u001b[0;34m=\u001b[0m \u001b[0mnp\u001b[0m\u001b[0;34m.\u001b[0m\u001b[0mzeros\u001b[0m\u001b[0;34m(\u001b[0m\u001b[0mlen\u001b[0m\u001b[0;34m(\u001b[0m\u001b[0mX_test\u001b[0m\u001b[0;34m)\u001b[0m\u001b[0;34m,\u001b[0m \u001b[0mdtype\u001b[0m\u001b[0;34m=\u001b[0m\u001b[0;34m\"float32\"\u001b[0m\u001b[0;34m)\u001b[0m \u001b[0;34m+\u001b[0m  \u001b[0msz\u001b[0m\u001b[0;34m\u001b[0m\u001b[0;34m\u001b[0m\u001b[0m\n\u001b[0m\u001b[1;32m      2\u001b[0m \u001b[0;32mfor\u001b[0m \u001b[0midx\u001b[0m\u001b[0;34m,\u001b[0m \u001b[0mk\u001b[0m \u001b[0;32min\u001b[0m \u001b[0menumerate\u001b[0m\u001b[0;34m(\u001b[0m\u001b[0mkeys\u001b[0m\u001b[0;34m.\u001b[0m\u001b[0mkeys\u001b[0m\u001b[0;34m(\u001b[0m\u001b[0;34m)\u001b[0m\u001b[0;34m)\u001b[0m\u001b[0;34m:\u001b[0m\u001b[0;34m\u001b[0m\u001b[0;34m\u001b[0m\u001b[0m\n\u001b[1;32m      3\u001b[0m     \u001b[0;32mif\u001b[0m \u001b[0mkeys\u001b[0m\u001b[0;34m.\u001b[0m\u001b[0mloc\u001b[0m\u001b[0;34m[\u001b[0m\u001b[0mk\u001b[0m\u001b[0;34m]\u001b[0m \u001b[0;34m<=\u001b[0m \u001b[0mkeys\u001b[0m\u001b[0;34m.\u001b[0m\u001b[0mquantile\u001b[0m\u001b[0;34m(\u001b[0m\u001b[0mrate\u001b[0m\u001b[0;34m)\u001b[0m\u001b[0;34m:\u001b[0m\u001b[0;34m\u001b[0m\u001b[0;34m\u001b[0m\u001b[0m\n\u001b[1;32m      4\u001b[0m         \u001b[0;32mbreak\u001b[0m\u001b[0;34m\u001b[0m\u001b[0;34m\u001b[0m\u001b[0m\n\u001b[1;32m      5\u001b[0m     \u001b[0;32melse\u001b[0m\u001b[0;34m:\u001b[0m\u001b[0;34m\u001b[0m\u001b[0;34m\u001b[0m\u001b[0m\n",
            "\u001b[0;31mIndexError\u001b[0m: only integers, slices (`:`), ellipsis (`...`), numpy.newaxis (`None`) and integer or boolean arrays are valid indices"
          ]
        }
      ]
    },
    {
      "cell_type": "code",
      "metadata": {
        "id": "zzcNYf-rN75t",
        "colab_type": "code",
        "outputId": "a515dc9f-79c5-4719-dd09-8c28a0c5032d",
        "colab": {
          "base_uri": "https://localhost:8080/",
          "height": 125
        }
      },
      "source": [
        "X_test['kkk'] = np.log(X_test['kkk'])"
      ],
      "execution_count": 45,
      "outputs": [
        {
          "output_type": "stream",
          "text": [
            "/usr/local/lib/python3.6/dist-packages/ipykernel_launcher.py:1: SettingWithCopyWarning: \n",
            "A value is trying to be set on a copy of a slice from a DataFrame.\n",
            "Try using .loc[row_indexer,col_indexer] = value instead\n",
            "\n",
            "See the caveats in the documentation: http://pandas.pydata.org/pandas-docs/stable/user_guide/indexing.html#returning-a-view-versus-a-copy\n",
            "  \"\"\"Entry point for launching an IPython kernel.\n"
          ],
          "name": "stderr"
        }
      ]
    },
    {
      "cell_type": "code",
      "metadata": {
        "scrolled": true,
        "id": "6Umi38plN75x",
        "colab_type": "code",
        "outputId": "6a0b658b-12c0-495d-d12c-4cc04b35a947",
        "colab": {
          "base_uri": "https://localhost:8080/",
          "height": 143
        }
      },
      "source": [
        "y_test = np.array(y_test, dtype=\"float32\")\n",
        "y_test = y_test.reshape(-1, 1)\n",
        "y_test_onehot = enc.transform(y_test).toarray()\n",
        "y_test_onehot"
      ],
      "execution_count": 46,
      "outputs": [
        {
          "output_type": "execute_result",
          "data": {
            "text/plain": [
              "array([[0., 1., 0.],\n",
              "       [1., 0., 0.],\n",
              "       [1., 0., 0.],\n",
              "       ...,\n",
              "       [0., 0., 1.],\n",
              "       [0., 1., 0.],\n",
              "       [1., 0., 0.]])"
            ]
          },
          "metadata": {
            "tags": []
          },
          "execution_count": 46
        }
      ]
    },
    {
      "cell_type": "code",
      "metadata": {
        "id": "TtRQBv5RN751",
        "colab_type": "code",
        "outputId": "7152c8db-ee9b-41a9-9546-6b2d05c94810",
        "colab": {
          "base_uri": "https://localhost:8080/",
          "height": 233
        }
      },
      "source": [
        "X_test['price'] = np.log(X_test['price'])\n",
        "X_test['each_price'] = np.log(X_test['each_price'])"
      ],
      "execution_count": 47,
      "outputs": [
        {
          "output_type": "stream",
          "text": [
            "/usr/local/lib/python3.6/dist-packages/ipykernel_launcher.py:1: SettingWithCopyWarning: \n",
            "A value is trying to be set on a copy of a slice from a DataFrame.\n",
            "Try using .loc[row_indexer,col_indexer] = value instead\n",
            "\n",
            "See the caveats in the documentation: http://pandas.pydata.org/pandas-docs/stable/user_guide/indexing.html#returning-a-view-versus-a-copy\n",
            "  \"\"\"Entry point for launching an IPython kernel.\n",
            "/usr/local/lib/python3.6/dist-packages/ipykernel_launcher.py:2: SettingWithCopyWarning: \n",
            "A value is trying to be set on a copy of a slice from a DataFrame.\n",
            "Try using .loc[row_indexer,col_indexer] = value instead\n",
            "\n",
            "See the caveats in the documentation: http://pandas.pydata.org/pandas-docs/stable/user_guide/indexing.html#returning-a-view-versus-a-copy\n",
            "  \n"
          ],
          "name": "stderr"
        }
      ]
    },
    {
      "cell_type": "code",
      "metadata": {
        "scrolled": true,
        "id": "5iqjg4w5N755",
        "colab_type": "code",
        "outputId": "f9a0a105-fdc2-47f3-b00d-ae362a149b78",
        "colab": {
          "base_uri": "https://localhost:8080/",
          "height": 251
        }
      },
      "source": [
        "features_to_use = ['bathrooms',\t'bedrooms', 'latitude', 'longitude',\n",
        "                   'price','day', 'week', 'hour', 'weekday', 'num_photos', 'num_features', 'kkk', 'each_price']\n",
        "features_to_use\n",
        "\n",
        "X_test = X_test[features_to_use]\n",
        "X_test = np.array(X_test[features_to_use], dtype=\"float32\")\n",
        "X_test"
      ],
      "execution_count": 48,
      "outputs": [
        {
          "output_type": "execute_result",
          "data": {
            "text/plain": [
              "array([[ 1.       ,  2.       , 40.7928   , ..., 10.       ,  6.025866 ,\n",
              "         6.7001157],\n",
              "       [ 2.5      ,  2.       , 40.7634   , ..., 10.       ,  5.379897 ,\n",
              "         7.5848656],\n",
              "       [ 1.       ,  2.       , 40.8644   , ...,  7.       ,  7.0553126,\n",
              "         6.263398 ],\n",
              "       ...,\n",
              "       [ 1.       ,  0.       , 40.7225   , ...,  4.       ,  7.0553126,\n",
              "         6.9077554],\n",
              "       [ 1.       ,  0.       , 40.7239   , ...,  7.       ,  6.6656837,\n",
              "         7.109062 ],\n",
              "       [ 1.       ,  3.       , 40.7255   , ...,  3.       ,  6.9186954,\n",
              "         6.897705 ]], dtype=float32)"
            ]
          },
          "metadata": {
            "tags": []
          },
          "execution_count": 48
        }
      ]
    },
    {
      "cell_type": "code",
      "metadata": {
        "id": "wooYgJEUN759",
        "colab_type": "code",
        "colab": {}
      },
      "source": [
        "X_test = scaler.transform(X_test)"
      ],
      "execution_count": 0,
      "outputs": []
    },
    {
      "cell_type": "code",
      "metadata": {
        "scrolled": true,
        "id": "PPsfjzwDN76A",
        "colab_type": "code",
        "outputId": "2f1f46d0-5dbc-48cd-ff79-c8259227fbf6",
        "colab": {
          "base_uri": "https://localhost:8080/",
          "height": 35
        }
      },
      "source": [
        "predict = model.predict(X_test)\n",
        "predict01 = np.argmax(predict, 1)\n",
        "target = np.argmax(y_test_onehot, 1)\n",
        "predict02 = (predict01 == target)\n",
        "acc = np.sum(predict02)/ len(predict02)\n",
        "acc"
      ],
      "execution_count": 50,
      "outputs": [
        {
          "output_type": "execute_result",
          "data": {
            "text/plain": [
              "0.6320534900212744"
            ]
          },
          "metadata": {
            "tags": []
          },
          "execution_count": 50
        }
      ]
    },
    {
      "cell_type": "code",
      "metadata": {
        "id": "mIQhnWMKN76E",
        "colab_type": "code",
        "outputId": "e5f69e34-def2-4e0f-aa17-78ea35f8926d",
        "colab": {
          "base_uri": "https://localhost:8080/",
          "height": 339
        }
      },
      "source": [
        "plt.hist(predict01)"
      ],
      "execution_count": 51,
      "outputs": [
        {
          "output_type": "execute_result",
          "data": {
            "text/plain": [
              "(array([5778.,    0.,    0.,    0.,    0., 3132.,    0.,    0.,    0.,\n",
              "         961.]),\n",
              " array([0. , 0.2, 0.4, 0.6, 0.8, 1. , 1.2, 1.4, 1.6, 1.8, 2. ]),\n",
              " <a list of 10 Patch objects>)"
            ]
          },
          "metadata": {
            "tags": []
          },
          "execution_count": 51
        },
        {
          "output_type": "display_data",
          "data": {
            "image/png": "[encoded data removed]",
            "text/plain": [
              "<Figure size 432x288 with 1 Axes>"
            ]
          },
          "metadata": {
            "tags": []
          }
        }
      ]
    },
    {
      "cell_type": "code",
      "metadata": {
        "id": "8tFiTEkXN76I",
        "colab_type": "code",
        "outputId": "2e2f505a-2e8d-405a-c623-e50388e06f33",
        "colab": {
          "base_uri": "https://localhost:8080/",
          "height": 337
        }
      },
      "source": [
        "plt.hist(target)"
      ],
      "execution_count": 52,
      "outputs": [
        {
          "output_type": "execute_result",
          "data": {
            "text/plain": [
              "(array([6841.,    0.,    0.,    0.,    0., 2255.,    0.,    0.,    0.,\n",
              "         775.]),\n",
              " array([0. , 0.2, 0.4, 0.6, 0.8, 1. , 1.2, 1.4, 1.6, 1.8, 2. ]),\n",
              " <a list of 10 Patch objects>)"
            ]
          },
          "metadata": {
            "tags": []
          },
          "execution_count": 52
        },
        {
          "output_type": "display_data",
          "data": {
            "image/png": "[encoded data removed]",
            "text/plain": [
              "<Figure size 432x288 with 1 Axes>"
            ]
          },
          "metadata": {
            "tags": []
          }
        }
      ]
    },
    {
      "cell_type": "code",
      "metadata": {
        "id": "Mk4viTp0N76M",
        "colab_type": "code",
        "colab": {}
      },
      "source": [
        ""
      ],
      "execution_count": 0,
      "outputs": []
    }
  ]
}