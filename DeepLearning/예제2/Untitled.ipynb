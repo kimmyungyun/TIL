{
 "cells": [
  {
   "cell_type": "code",
   "execution_count": 1,
   "metadata": {},
   "outputs": [],
   "source": [
    "import os\n",
    "import sys\n",
    "import requests"
   ]
  },
  {
   "cell_type": "code",
   "execution_count": 2,
   "metadata": {},
   "outputs": [
    {
     "name": "stdout",
     "output_type": "stream",
     "text": [
      "{\"info\":{\"size\":{\"width\":600,\"height\":481},\"faceCount\":6},\"faces\":[{\"roi\":{\"x\":488,\"y\":70,\"width\":37,\"height\":37},\"landmark\":{\"leftEye\":{\"x\":497,\"y\":80},\"rightEye\":{\"x\":513,\"y\":80},\"nose\":{\"x\":506,\"y\":89},\"leftMouth\":{\"x\":499,\"y\":98},\"rightMouth\":{\"x\":515,\"y\":97}},\"gender\":{\"value\":\"male\",\"confidence\":0.999867},\"age\":{\"value\":\"58~62\",\"confidence\":0.211359},\"emotion\":{\"value\":\"neutral\",\"confidence\":0.530073},\"pose\":{\"value\":\"frontal_face\",\"confidence\":0.998453}},{\"roi\":{\"x\":310,\"y\":67,\"width\":38,\"height\":38},\"landmark\":{\"leftEye\":{\"x\":319,\"y\":76},\"rightEye\":{\"x\":338,\"y\":76},\"nose\":{\"x\":328,\"y\":84},\"leftMouth\":{\"x\":322,\"y\":94},\"rightMouth\":{\"x\":335,\"y\":94}},\"gender\":{\"value\":\"male\",\"confidence\":0.90301},\"age\":{\"value\":\"21~25\",\"confidence\":0.771635},\"emotion\":{\"value\":\"neutral\",\"confidence\":0.91709},\"pose\":{\"value\":\"frontal_face\",\"confidence\":0.999716}},{\"roi\":{\"x\":62,\"y\":89,\"width\":33,\"height\":33},\"landmark\":{\"leftEye\":{\"x\":69,\"y\":98},\"rightEye\":{\"x\":85,\"y\":99},\"nose\":{\"x\":76,\"y\":107},\"leftMouth\":{\"x\":70,\"y\":112},\"rightMouth\":{\"x\":83,\"y\":113}},\"gender\":{\"value\":\"female\",\"confidence\":0.999853},\"age\":{\"value\":\"19~23\",\"confidence\":0.363138},\"emotion\":{\"value\":\"smile\",\"confidence\":0.778337},\"pose\":{\"value\":\"frontal_face\",\"confidence\":0.998939}},{\"roi\":{\"x\":236,\"y\":88,\"width\":37,\"height\":37},\"landmark\":{\"leftEye\":{\"x\":245,\"y\":98},\"rightEye\":{\"x\":262,\"y\":96},\"nose\":{\"x\":254,\"y\":107},\"leftMouth\":{\"x\":249,\"y\":116},\"rightMouth\":{\"x\":260,\"y\":115}},\"gender\":{\"value\":\"female\",\"confidence\":0.999234},\"age\":{\"value\":\"19~23\",\"confidence\":1.0},\"emotion\":{\"value\":\"neutral\",\"confidence\":0.999985},\"pose\":{\"value\":\"frontal_face\",\"confidence\":0.98746}},{\"roi\":{\"x\":407,\"y\":92,\"width\":33,\"height\":33},\"landmark\":{\"leftEye\":{\"x\":418,\"y\":101},\"rightEye\":{\"x\":431,\"y\":101},\"nose\":{\"x\":426,\"y\":109},\"leftMouth\":{\"x\":418,\"y\":116},\"rightMouth\":{\"x\":430,\"y\":116}},\"gender\":{\"value\":\"female\",\"confidence\":0.999946},\"age\":{\"value\":\"28~32\",\"confidence\":0.0979885},\"emotion\":{\"value\":\"smile\",\"confidence\":0.982084},\"pose\":{\"value\":\"frontal_face\",\"confidence\":0.997456}},{\"roi\":{\"x\":150,\"y\":50,\"width\":33,\"height\":33},\"landmark\":{\"leftEye\":{\"x\":159,\"y\":59},\"rightEye\":{\"x\":174,\"y\":59},\"nose\":{\"x\":166,\"y\":67},\"leftMouth\":{\"x\":160,\"y\":75},\"rightMouth\":{\"x\":174,\"y\":74}},\"gender\":{\"value\":\"male\",\"confidence\":0.97113},\"age\":{\"value\":\"25~29\",\"confidence\":0.857886},\"emotion\":{\"value\":\"smile\",\"confidence\":0.856291},\"pose\":{\"value\":\"frontal_face\",\"confidence\":0.998736}}]}\n"
     ]
    }
   ],
   "source": [
    "client_id = \"dklt2p44qb\"\n",
    "client_secret = \"AGILNI5PwWgSfJeNotBl0P4AfMSZxnuPpgJqLDlh\"\n",
    "url = \"https://naveropenapi.apigw.ntruss.com/vision/v1/face\" # 얼굴감지\n",
    "files = {'image': open('iu.jpg', 'rb')}\n",
    "headers = {'X-NCP-APIGW-API-KEY-ID': client_id, 'X-NCP-APIGW-API-KEY': client_secret }\n",
    "response = requests.post(url,  files=files, headers=headers)\n",
    "rescode = response.status_code\n",
    "if(rescode==200):\n",
    "    print (response.text)\n",
    "else:\n",
    "    print(\"Error Code:\" + rescode)"
   ]
  },
  {
   "cell_type": "code",
   "execution_count": 3,
   "metadata": {},
   "outputs": [],
   "source": [
    "import cv2"
   ]
  },
  {
   "cell_type": "code",
   "execution_count": 8,
   "metadata": {},
   "outputs": [
    {
     "data": {
      "text/plain": [
       "{'info': {'size': {'width': 600, 'height': 481}, 'faceCount': 6},\n",
       " 'faces': [{'roi': {'x': 488, 'y': 70, 'width': 37, 'height': 37},\n",
       "   'landmark': {'leftEye': {'x': 497, 'y': 80},\n",
       "    'rightEye': {'x': 513, 'y': 80},\n",
       "    'nose': {'x': 506, 'y': 89},\n",
       "    'leftMouth': {'x': 499, 'y': 98},\n",
       "    'rightMouth': {'x': 515, 'y': 97}},\n",
       "   'gender': {'value': 'male', 'confidence': 0.999867},\n",
       "   'age': {'value': '58~62', 'confidence': 0.211359},\n",
       "   'emotion': {'value': 'neutral', 'confidence': 0.530073},\n",
       "   'pose': {'value': 'frontal_face', 'confidence': 0.998453}},\n",
       "  {'roi': {'x': 310, 'y': 67, 'width': 38, 'height': 38},\n",
       "   'landmark': {'leftEye': {'x': 319, 'y': 76},\n",
       "    'rightEye': {'x': 338, 'y': 76},\n",
       "    'nose': {'x': 328, 'y': 84},\n",
       "    'leftMouth': {'x': 322, 'y': 94},\n",
       "    'rightMouth': {'x': 335, 'y': 94}},\n",
       "   'gender': {'value': 'male', 'confidence': 0.90301},\n",
       "   'age': {'value': '21~25', 'confidence': 0.771635},\n",
       "   'emotion': {'value': 'neutral', 'confidence': 0.91709},\n",
       "   'pose': {'value': 'frontal_face', 'confidence': 0.999716}},\n",
       "  {'roi': {'x': 62, 'y': 89, 'width': 33, 'height': 33},\n",
       "   'landmark': {'leftEye': {'x': 69, 'y': 98},\n",
       "    'rightEye': {'x': 85, 'y': 99},\n",
       "    'nose': {'x': 76, 'y': 107},\n",
       "    'leftMouth': {'x': 70, 'y': 112},\n",
       "    'rightMouth': {'x': 83, 'y': 113}},\n",
       "   'gender': {'value': 'female', 'confidence': 0.999853},\n",
       "   'age': {'value': '19~23', 'confidence': 0.363138},\n",
       "   'emotion': {'value': 'smile', 'confidence': 0.778337},\n",
       "   'pose': {'value': 'frontal_face', 'confidence': 0.998939}},\n",
       "  {'roi': {'x': 236, 'y': 88, 'width': 37, 'height': 37},\n",
       "   'landmark': {'leftEye': {'x': 245, 'y': 98},\n",
       "    'rightEye': {'x': 262, 'y': 96},\n",
       "    'nose': {'x': 254, 'y': 107},\n",
       "    'leftMouth': {'x': 249, 'y': 116},\n",
       "    'rightMouth': {'x': 260, 'y': 115}},\n",
       "   'gender': {'value': 'female', 'confidence': 0.999234},\n",
       "   'age': {'value': '19~23', 'confidence': 1.0},\n",
       "   'emotion': {'value': 'neutral', 'confidence': 0.999985},\n",
       "   'pose': {'value': 'frontal_face', 'confidence': 0.98746}},\n",
       "  {'roi': {'x': 407, 'y': 92, 'width': 33, 'height': 33},\n",
       "   'landmark': {'leftEye': {'x': 418, 'y': 101},\n",
       "    'rightEye': {'x': 431, 'y': 101},\n",
       "    'nose': {'x': 426, 'y': 109},\n",
       "    'leftMouth': {'x': 418, 'y': 116},\n",
       "    'rightMouth': {'x': 430, 'y': 116}},\n",
       "   'gender': {'value': 'female', 'confidence': 0.999946},\n",
       "   'age': {'value': '28~32', 'confidence': 0.0979885},\n",
       "   'emotion': {'value': 'smile', 'confidence': 0.982084},\n",
       "   'pose': {'value': 'frontal_face', 'confidence': 0.997456}},\n",
       "  {'roi': {'x': 150, 'y': 50, 'width': 33, 'height': 33},\n",
       "   'landmark': {'leftEye': {'x': 159, 'y': 59},\n",
       "    'rightEye': {'x': 174, 'y': 59},\n",
       "    'nose': {'x': 166, 'y': 67},\n",
       "    'leftMouth': {'x': 160, 'y': 75},\n",
       "    'rightMouth': {'x': 174, 'y': 74}},\n",
       "   'gender': {'value': 'male', 'confidence': 0.97113},\n",
       "   'age': {'value': '25~29', 'confidence': 0.857886},\n",
       "   'emotion': {'value': 'smile', 'confidence': 0.856291},\n",
       "   'pose': {'value': 'frontal_face', 'confidence': 0.998736}}]}"
      ]
     },
     "execution_count": 8,
     "metadata": {},
     "output_type": "execute_result"
    }
   ],
   "source": [
    "res = response.json()\n",
    "res"
   ]
  },
  {
   "cell_type": "code",
   "execution_count": 17,
   "metadata": {},
   "outputs": [
    {
     "data": {
      "text/plain": [
       "array([[[85, 70, 68],\n",
       "        [88, 73, 71],\n",
       "        [92, 74, 73],\n",
       "        ...,\n",
       "        [78, 76, 68],\n",
       "        [79, 71, 58],\n",
       "        [75, 65, 48]],\n",
       "\n",
       "       [[88, 73, 71],\n",
       "        [91, 76, 74],\n",
       "        [94, 76, 75],\n",
       "        ...,\n",
       "        [79, 77, 69],\n",
       "        [80, 72, 59],\n",
       "        [77, 67, 50]],\n",
       "\n",
       "       [[88, 73, 71],\n",
       "        [91, 76, 74],\n",
       "        [95, 77, 76],\n",
       "        ...,\n",
       "        [80, 78, 70],\n",
       "        [81, 73, 60],\n",
       "        [78, 68, 51]],\n",
       "\n",
       "       ...,\n",
       "\n",
       "       [[32, 24, 31],\n",
       "        [40, 32, 39],\n",
       "        [38, 31, 38],\n",
       "        ...,\n",
       "        [36, 11, 15],\n",
       "        [37,  7, 12],\n",
       "        [38,  6, 11]],\n",
       "\n",
       "       [[41, 33, 40],\n",
       "        [29, 22, 29],\n",
       "        [44, 40, 46],\n",
       "        ...,\n",
       "        [37, 12, 16],\n",
       "        [38,  8, 13],\n",
       "        [37,  7, 12]],\n",
       "\n",
       "       [[36, 28, 38],\n",
       "        [37, 32, 41],\n",
       "        [69, 68, 77],\n",
       "        ...,\n",
       "        [37, 12, 16],\n",
       "        [38, 11, 15],\n",
       "        [34,  7, 11]]], dtype=uint8)"
      ]
     },
     "execution_count": 17,
     "metadata": {},
     "output_type": "execute_result"
    }
   ],
   "source": [
    "img = cv2.imread(\"iu.jpg\")"
   ]
  },
  {
   "cell_type": "code",
   "execution_count": 23,
   "metadata": {},
   "outputs": [
    {
     "ename": "SystemError",
     "evalue": "<built-in function putText> returned NULL without setting an error",
     "output_type": "error",
     "traceback": [
      "\u001b[1;31m---------------------------------------------------------------------------\u001b[0m",
      "\u001b[1;31mSystemError\u001b[0m                               Traceback (most recent call last)",
      "\u001b[1;32m<ipython-input-23-3b76b2f8ddd2>\u001b[0m in \u001b[0;36m<module>\u001b[1;34m\u001b[0m\n\u001b[0;32m      5\u001b[0m                    face['roi']['y'] + face['roi']['height']),\n\u001b[0;32m      6\u001b[0m                  (0, 0, 255), 3)\n\u001b[1;32m----> 7\u001b[1;33m     \u001b[0mcv2\u001b[0m\u001b[1;33m.\u001b[0m\u001b[0mputText\u001b[0m\u001b[1;33m(\u001b[0m\u001b[0mimg\u001b[0m\u001b[1;33m,\u001b[0m \u001b[0mc\u001b[0m\u001b[1;33m,\u001b[0m \u001b[1;33m(\u001b[0m\u001b[0mface\u001b[0m\u001b[1;33m[\u001b[0m\u001b[1;34m'roi'\u001b[0m\u001b[1;33m]\u001b[0m\u001b[1;33m[\u001b[0m\u001b[1;34m'x'\u001b[0m\u001b[1;33m]\u001b[0m\u001b[1;33m,\u001b[0m \u001b[0mface\u001b[0m\u001b[1;33m[\u001b[0m\u001b[1;34m'roi'\u001b[0m\u001b[1;33m]\u001b[0m\u001b[1;33m[\u001b[0m\u001b[1;34m'y'\u001b[0m\u001b[1;33m]\u001b[0m\u001b[1;33m)\u001b[0m\u001b[1;33m,\u001b[0m \u001b[0mcv2\u001b[0m\u001b[1;33m.\u001b[0m\u001b[0mFONT_HERSHEY_SIMPLEX\u001b[0m \u001b[1;33m,\u001b[0m \u001b[1;36m1\u001b[0m\u001b[1;33m,\u001b[0m \u001b[1;33m(\u001b[0m\u001b[1;36m0\u001b[0m\u001b[1;33m,\u001b[0m \u001b[1;36m255\u001b[0m\u001b[1;33m,\u001b[0m \u001b[1;36m0\u001b[0m\u001b[1;33m)\u001b[0m\u001b[1;33m)\u001b[0m\u001b[1;33m\u001b[0m\u001b[1;33m\u001b[0m\u001b[0m\n\u001b[0m",
      "\u001b[1;31mSystemError\u001b[0m: <built-in function putText> returned NULL without setting an error"
     ]
    }
   ],
   "source": [
    "for c in range(res[\"info\"][\"faceCount\"]):\n",
    "    face = res[\"faces\"][c]\n",
    "    cv2.rectangle(img, (face['roi']['x'], face['roi']['y']), \\\n",
    "                  (face['roi']['x'] + face['roi']['width'], \n",
    "                   face['roi']['y'] + face['roi']['height']),\n",
    "                 (0, 0, 255), 3)"
   ]
  },
  {
   "cell_type": "code",
   "execution_count": 21,
   "metadata": {},
   "outputs": [
    {
     "data": {
      "text/plain": [
       "True"
      ]
     },
     "execution_count": 21,
     "metadata": {},
     "output_type": "execute_result"
    }
   ],
   "source": [
    "cv2.imwrite(\"hh.jpg\", img)"
   ]
  },
  {
   "cell_type": "code",
   "execution_count": null,
   "metadata": {},
   "outputs": [],
   "source": [
    "!pip inst"
   ]
  }
 ],
 "metadata": {
  "kernelspec": {
   "display_name": "Python 3",
   "language": "python",
   "name": "python3"
  },
  "language_info": {
   "codemirror_mode": {
    "name": "ipython",
    "version": 3
   },
   "file_extension": ".py",
   "mimetype": "text/x-python",
   "name": "python",
   "nbconvert_exporter": "python",
   "pygments_lexer": "ipython3",
   "version": "3.7.5"
  }
 },
 "nbformat": 4,
 "nbformat_minor": 2
}
