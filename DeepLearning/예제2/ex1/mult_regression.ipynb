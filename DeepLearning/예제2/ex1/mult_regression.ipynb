{
 "cells": [
  {
   "cell_type": "markdown",
   "metadata": {},
   "source": [
    "# 다중선형 회귀 분석\n",
    "두 개 이상의 독립변수들과 하나의 종속변수의 관계를 분석하는 방법\n",
    "\n",
    "- 종속변수\n",
    "\n",
    "    - 독립변수의 특정한 값에 따른 그의 값을 예측하고자 하는 변수\n",
    "\n",
    "- 독립변수\n",
    "\n",
    "    - 종속 변수에 영향을 주고 그 변수의 값을 예측하려는 변수\n",
    "    \n",
    "- 식\n",
    "  $$\n",
    "      \\hat{y}_i = a + b_{1}x_{1i} + b_{2}x_{2i} + \\cdots{} + b_{k}x_{ki}\n",
    "  $$\n",
    "  \n",
    "독립변수인 a와 b들을 구하는 것이 다중 선형 회귀 분석\n",
    "\n",
    "## 추정의 표준오차\n",
    "$$\n",
    "    S_e = \\sqrt{ \\frac{\\sum{e_t^2}}{ n - (k+1)} }\n",
    "$$\n",
    "\n",
    "k는 독립 변수의 개수로 단순 선형 회귀였을 때 2로 나누어진 이유는 k가 1이기 때문 "
   ]
  },
  {
   "cell_type": "markdown",
   "metadata": {},
   "source": [
    "## 예제\n",
    "\n",
    "$$\n",
    "    \\bar{x}_1 = 18.5 \\\\\n",
    "    \\bar{x}_2 - 10.33 \\\\\n",
    "    \\bar{y} = 27.67 \\\\\n",
    "    x_{1i}^{*} = x_1 - \\bar{x}_1 \\\\\n",
    "    x_{2i}^{*} = x_2 - \\bar{x}_2 \\\\\n",
    "    y_{i}^{*} = y - \\bar{y} \\\\\n",
    "    \\text{일 때, b와 a를 구하는 공식} \\\\\n",
    "    %%b_i = frac{ a  }{ \\sum{x_{1i}^{*^2}}\\sum{x_{2i}^{*^2}} -    }\n",
    "$$"
   ]
  },
  {
   "cell_type": "code",
   "execution_count": 1,
   "metadata": {},
   "outputs": [
    {
     "name": "stderr",
     "output_type": "stream",
     "text": [
      "c:\\library\\python\\lib\\importlib\\_bootstrap.py:219: RuntimeWarning: numpy.ufunc size changed, may indicate binary incompatibility. Expected 192 from C header, got 216 from PyObject\n",
      "  return f(*args, **kwds)\n",
      "c:\\library\\python\\lib\\importlib\\_bootstrap.py:219: RuntimeWarning: numpy.ufunc size changed, may indicate binary incompatibility. Expected 192 from C header, got 216 from PyObject\n",
      "  return f(*args, **kwds)\n"
     ]
    }
   ],
   "source": [
    "from sklearn import linear_model\n",
    "import numpy as np\n",
    "import pandas as pd\n",
    "import matplotlib\n",
    "import matplotlib.pyplot as plt\n",
    "%matplotlib inline\n",
    "matplotlib.style.use('ggplot')"
   ]
  },
  {
   "cell_type": "code",
   "execution_count": 2,
   "metadata": {},
   "outputs": [
    {
     "data": {
      "text/html": [
       "<div>\n",
       "<style scoped>\n",
       "    .dataframe tbody tr th:only-of-type {\n",
       "        vertical-align: middle;\n",
       "    }\n",
       "\n",
       "    .dataframe tbody tr th {\n",
       "        vertical-align: top;\n",
       "    }\n",
       "\n",
       "    .dataframe thead th {\n",
       "        text-align: right;\n",
       "    }\n",
       "</style>\n",
       "<table border=\"1\" class=\"dataframe\">\n",
       "  <thead>\n",
       "    <tr style=\"text-align: right;\">\n",
       "      <th></th>\n",
       "      <th>x1</th>\n",
       "      <th>x2</th>\n",
       "      <th>y</th>\n",
       "    </tr>\n",
       "  </thead>\n",
       "  <tbody>\n",
       "    <tr>\n",
       "      <th>0</th>\n",
       "      <td>13</td>\n",
       "      <td>9</td>\n",
       "      <td>20</td>\n",
       "    </tr>\n",
       "    <tr>\n",
       "      <th>1</th>\n",
       "      <td>18</td>\n",
       "      <td>7</td>\n",
       "      <td>22</td>\n",
       "    </tr>\n",
       "    <tr>\n",
       "      <th>2</th>\n",
       "      <td>17</td>\n",
       "      <td>17</td>\n",
       "      <td>30</td>\n",
       "    </tr>\n",
       "    <tr>\n",
       "      <th>3</th>\n",
       "      <td>20</td>\n",
       "      <td>11</td>\n",
       "      <td>27</td>\n",
       "    </tr>\n",
       "    <tr>\n",
       "      <th>4</th>\n",
       "      <td>22</td>\n",
       "      <td>8</td>\n",
       "      <td>35</td>\n",
       "    </tr>\n",
       "    <tr>\n",
       "      <th>5</th>\n",
       "      <td>21</td>\n",
       "      <td>10</td>\n",
       "      <td>32</td>\n",
       "    </tr>\n",
       "  </tbody>\n",
       "</table>\n",
       "</div>"
      ],
      "text/plain": [
       "   x1  x2   y\n",
       "0  13   9  20\n",
       "1  18   7  22\n",
       "2  17  17  30\n",
       "3  20  11  27\n",
       "4  22   8  35\n",
       "5  21  10  32"
      ]
     },
     "execution_count": 2,
     "metadata": {},
     "output_type": "execute_result"
    }
   ],
   "source": [
    "data = {'x1':[13, 18, 17, 20, 22, 21], \n",
    "        'x2':[9, 7, 17, 11, 8, 10], \n",
    "        'y':[20, 22, 30, 27, 35, 32]}\n",
    "data = pd.DataFrame(data)\n",
    "data"
   ]
  },
  {
   "cell_type": "code",
   "execution_count": 3,
   "metadata": {},
   "outputs": [],
   "source": [
    "X = data[['x1', 'x2']]\n",
    "y = data['y']"
   ]
  },
  {
   "cell_type": "code",
   "execution_count": 7,
   "metadata": {
    "scrolled": true
   },
   "outputs": [
    {
     "data": {
      "text/plain": [
       "array([18.33980044, 24.81208426, 29.51496674, 30.39966741, 31.61419069,\n",
       "       31.31929047])"
      ]
     },
     "execution_count": 7,
     "metadata": {},
     "output_type": "execute_result"
    }
   ],
   "source": [
    "linear_regression = linear_model.LinearRegression()\n",
    "linear_regression.fit(X = pd.DataFrame(X), y = y)\n",
    "prediction = linear_regression.predict(X = pd.DataFrame(X))\n",
    "prediction"
   ]
  },
  {
   "cell_type": "code",
   "execution_count": 18,
   "metadata": {
    "scrolled": true
   },
   "outputs": [
    {
     "data": {
      "text/plain": [
       "array([40.62028825])"
      ]
     },
     "execution_count": 18,
     "metadata": {},
     "output_type": "execute_result"
    }
   ],
   "source": [
    "linear_regression.predict(X = pd.DataFrame({'x1': [25], 'x2':[15]}))"
   ]
  },
  {
   "cell_type": "code",
   "execution_count": 14,
   "metadata": {},
   "outputs": [
    {
     "data": {
      "text/plain": [
       "40.62028824833703"
      ]
     },
     "execution_count": 14,
     "metadata": {},
     "output_type": "execute_result"
    }
   ],
   "source": [
    "np.dot(linear_regression.coef_, np.array([25, 15])) + linear_regression.intercept_"
   ]
  },
  {
   "cell_type": "code",
   "execution_count": 5,
   "metadata": {},
   "outputs": [
    {
     "name": "stdout",
     "output_type": "stream",
     "text": [
      "a value =  -7.359201773835938\n"
     ]
    }
   ],
   "source": [
    "print(\"a value = \", linear_regression.intercept_)"
   ]
  },
  {
   "cell_type": "code",
   "execution_count": 6,
   "metadata": {},
   "outputs": [
    {
     "name": "stdout",
     "output_type": "stream",
     "text": [
      "b value =  [1.5443459  0.62472284]\n"
     ]
    }
   ],
   "source": [
    "print(\"b value = \", linear_regression.coef_)"
   ]
  },
  {
   "cell_type": "code",
   "execution_count": 8,
   "metadata": {},
   "outputs": [
    {
     "data": {
      "text/plain": [
       "34.38414634146345"
      ]
     },
     "execution_count": 8,
     "metadata": {},
     "output_type": "execute_result"
    }
   ],
   "source": [
    "SSE = ((y-prediction) ** 2).sum()\n",
    "SSE"
   ]
  },
  {
   "cell_type": "code",
   "execution_count": 9,
   "metadata": {},
   "outputs": [
    {
     "data": {
      "text/plain": [
       "169.33333333333331"
      ]
     },
     "execution_count": 9,
     "metadata": {},
     "output_type": "execute_result"
    }
   ],
   "source": [
    "SST = ((y-y.mean()) ** 2).sum()\n",
    "SST"
   ]
  },
  {
   "cell_type": "code",
   "execution_count": 10,
   "metadata": {},
   "outputs": [
    {
     "data": {
      "text/plain": [
       "0.796944017668523"
      ]
     },
     "execution_count": 10,
     "metadata": {},
     "output_type": "execute_result"
    }
   ],
   "source": [
    "R_squared = 1 - (SSE/SST)\n",
    "R_squared"
   ]
  },
  {
   "cell_type": "code",
   "execution_count": 21,
   "metadata": {},
   "outputs": [],
   "source": [
    "x_2i = (data['x2']-data['x2'].mean())\n",
    "x_1i = (data['x1'] - data['x1'].mean())\n",
    "y_i = (data['y'] - data['y'].mean())"
   ]
  },
  {
   "cell_type": "code",
   "execution_count": 23,
   "metadata": {},
   "outputs": [
    {
     "data": {
      "text/plain": [
       "1.5443458980044347"
      ]
     },
     "execution_count": 23,
     "metadata": {},
     "output_type": "execute_result"
    }
   ],
   "source": [
    "b1 = ((x_2i**2).sum() * (x_1i *y_i).sum() - (x_1i * x_2i).sum() * (y_i * x_2i).sum() )\\\n",
    "/ ((x_1i**2).sum() * (x_2i**2).sum() - (x_1i*x_2i).sum()**2)\n",
    "b1"
   ]
  },
  {
   "cell_type": "code",
   "execution_count": 24,
   "metadata": {},
   "outputs": [
    {
     "data": {
      "text/plain": [
       "0.6247228381374723"
      ]
     },
     "execution_count": 24,
     "metadata": {},
     "output_type": "execute_result"
    }
   ],
   "source": [
    "b2 = ((x_1i**2).sum() * (x_2i *y_i).sum() - (x_1i * x_2i).sum() * (y_i * x_1i).sum() )\\\n",
    "/ ((x_1i**2).sum() * (x_2i**2).sum() - (x_1i*x_2i).sum()**2)\n",
    "b2"
   ]
  },
  {
   "cell_type": "code",
   "execution_count": 25,
   "metadata": {},
   "outputs": [
    {
     "data": {
      "text/plain": [
       "-7.3592017738359194"
      ]
     },
     "execution_count": 25,
     "metadata": {},
     "output_type": "execute_result"
    }
   ],
   "source": [
    "a = data['y'].mean() - b1 * data['x1'].mean() - b2 * data['x2'].mean()\n",
    "a"
   ]
  },
  {
   "cell_type": "code",
   "execution_count": 26,
   "metadata": {},
   "outputs": [
    {
     "name": "stdout",
     "output_type": "stream",
     "text": [
      "a value =  -7.359201773835938\n",
      "b value =  [1.5443459  0.62472284]\n",
      "a value =  -7.3592017738359194\n",
      "b value =  1.5443458980044347     0.6247228381374723\n"
     ]
    }
   ],
   "source": [
    "print(\"a value = \", linear_regression.intercept_)\n",
    "print(\"b value = \", linear_regression.coef_)\n",
    "\n",
    "print(\"a value = \", a)\n",
    "print(\"b value = \", b1,\"   \", b2)"
   ]
  },
  {
   "cell_type": "code",
   "execution_count": 28,
   "metadata": {},
   "outputs": [
    {
     "data": {
      "text/plain": [
       "3.385466306702985"
      ]
     },
     "execution_count": 28,
     "metadata": {},
     "output_type": "execute_result"
    }
   ],
   "source": [
    "Se = ( ((data['y']-prediction)**2).sum() / (len(data)-(2 + 1)) ) **0.5\n",
    "Se"
   ]
  },
  {
   "cell_type": "code",
   "execution_count": 30,
   "metadata": {},
   "outputs": [
    {
     "data": {
      "text/plain": [
       "0.796944017668524"
      ]
     },
     "execution_count": 30,
     "metadata": {},
     "output_type": "execute_result"
    }
   ],
   "source": [
    "r_square2 = ((prediction - data['y'].mean())**2).sum() /\\\n",
    "    ((data['y'] - data['y'].mean())**2).sum()\n",
    "\n",
    "r_square2"
   ]
  },
  {
   "cell_type": "markdown",
   "metadata": {},
   "source": [
    "데이터가 많고 독립변수 수가 적을 수록 좋다\n",
    "\n",
    "\n",
    "## 결정계수\n",
    "\n",
    "### 조정 결정 계수\n",
    "\n",
    "$$\n",
    "    \\mathbf{R}^2_a = 1 - (1 - \\mathbf{R}^2)\n",
    "$$\n",
    "\n",
    "#### 예제\n",
    "\n",
    "$$\n",
    "    \\mathbf{r}^2 = 0.7967 \\\\\n",
    "    k = 2, n = 6 \\text{일 경우,}\\\\\n",
    "    1 - ( (1-r^2) (\\frac{6-1}{6-2-1})) = 0.6612  \\\\\n",
    "    k= 3, n = 6 \\text{일 경우,}\\\\\n",
    "    1 - ( (1-r^2) (\\frac{6-1}{6 - 3 - 1})) = 0.475\n",
    "$$\n",
    "\n",
    "위의 식으로 봤을 때 k(독립변수)가 적을 수록 조정 결정 계수가 크고, k가 클수록 조정 결정 계수가 작아진다"
   ]
  }
 ],
 "metadata": {
  "kernelspec": {
   "display_name": "Python 3",
   "language": "python",
   "name": "python3"
  },
  "language_info": {
   "codemirror_mode": {
    "name": "ipython",
    "version": 3
   },
   "file_extension": ".py",
   "mimetype": "text/x-python",
   "name": "python",
   "nbconvert_exporter": "python",
   "pygments_lexer": "ipython3",
   "version": "3.7.5"
  }
 },
 "nbformat": 4,
 "nbformat_minor": 2
}
