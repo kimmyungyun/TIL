{
  "nbformat": 4,
  "nbformat_minor": 0,
  "metadata": {
    "colab": {
      "name": "improved_cartpole-Q.ipynb",
      "provenance": [],
      "private_outputs": true,
      "collapsed_sections": []
    },
    "kernelspec": {
      "name": "python3",
      "display_name": "Python 3"
    }
  },
  "cells": [
    {
      "cell_type": "code",
      "metadata": {
        "id": "KvQfcJsAs18y",
        "colab_type": "code",
        "colab": {}
      },
      "source": [
        "import gym\n",
        "import numpy as np\n",
        "from gym.envs.registration import register"
      ],
      "execution_count": 0,
      "outputs": []
    },
    {
      "cell_type": "markdown",
      "metadata": {
        "id": "OBnqUkZT0ilt",
        "colab_type": "text"
      },
      "source": [
        "## 카트폴 게임"
      ]
    },
    {
      "cell_type": "code",
      "metadata": {
        "id": "6OLSfxVh5u2A",
        "colab_type": "code",
        "colab": {}
      },
      "source": [
        "#installing dependencies\n",
        "!apt-get -qq -y install libnvtoolsext1 > /dev/null\n",
        "!ln -snf /usr/lib/x86_64-linux-gnu/libnvrtc-builtins.so.8.0 /usr/lib/x86_64-linux-gnu/libnvrtc-builtins.so\n",
        "!apt-get -qq -y install xvfb freeglut3-dev ffmpeg> /dev/null\n",
        "!pip -q install gym\n",
        "!pip -q install pyglet\n",
        "!pip -q install pyopengl\n",
        "!pip -q install pyvirtualdisplay"
      ],
      "execution_count": 0,
      "outputs": []
    },
    {
      "cell_type": "code",
      "metadata": {
        "id": "YX2NCPpr3sDK",
        "colab_type": "code",
        "colab": {}
      },
      "source": [
        "import gym\n",
        "env = gym.make(\"CartPole-v0\")"
      ],
      "execution_count": 0,
      "outputs": []
    },
    {
      "cell_type": "code",
      "metadata": {
        "id": "_Vci-kN65tj7",
        "colab_type": "code",
        "colab": {}
      },
      "source": [
        "obs = env.reset()\n",
        "print(f\"initial observation\", obs)"
      ],
      "execution_count": 0,
      "outputs": []
    },
    {
      "cell_type": "code",
      "metadata": {
        "id": "cLOdZ6B47Sb2",
        "colab_type": "code",
        "colab": {}
      },
      "source": [
        "from pyvirtualdisplay import Display\n",
        "display = Display(visible=0, size=(1024, 768))\n",
        "display.start()"
      ],
      "execution_count": 0,
      "outputs": []
    },
    {
      "cell_type": "code",
      "metadata": {
        "id": "Vim7I4-y3-AA",
        "colab_type": "code",
        "colab": {}
      },
      "source": [
        "np.set_printoptions(threshold=np.inf)"
      ],
      "execution_count": 0,
      "outputs": []
    },
    {
      "cell_type": "markdown",
      "metadata": {
        "id": "-B549rYC5PzL",
        "colab_type": "text"
      },
      "source": [
        "- 3, 3, 5, 5, 2로 나눴는데 각각 의미하는 바는 X, seta, dx/dt, d seta / dt 이고, 마지막 2는 Action을 의미"
      ]
    },
    {
      "cell_type": "code",
      "metadata": {
        "id": "RDP7P4hB5HvM",
        "colab_type": "code",
        "colab": {}
      },
      "source": [
        "Q = np.zeros((3, 3, 5, 5, 2))"
      ],
      "execution_count": 0,
      "outputs": []
    },
    {
      "cell_type": "code",
      "metadata": {
        "id": "kZ2ua78G6ws5",
        "colab_type": "code",
        "colab": {}
      },
      "source": [
        "LOW_BOUNDS = [-1.0, -0.2, -0.2, -0.5]"
      ],
      "execution_count": 0,
      "outputs": []
    },
    {
      "cell_type": "code",
      "metadata": {
        "id": "kdEPTeweCGYZ",
        "colab_type": "code",
        "colab": {}
      },
      "source": [
        "HIGH_BOUNDS = [1.0, 0.2, 0.2, 0.5]"
      ],
      "execution_count": 0,
      "outputs": []
    },
    {
      "cell_type": "code",
      "metadata": {
        "id": "KpG65YRHGTpp",
        "colab_type": "code",
        "colab": {}
      },
      "source": [
        "def state_to_bucket(state, debug):\n",
        "    state = observation\n",
        "    bucket_indice = []\n",
        "    for i in range(4):\n",
        "        if debug:\n",
        "            print(\"=\"* 100)\n",
        "            print(\"i = \", i)\n",
        "            print(f\"state[{i}] = {state[i]}\")\n",
        "            print(f\"LOW_BOUNDS[{i}] = {LOW_BOUNDS[i]}\")\n",
        "            print(f\"HIGH_BOUNDS[{i}] = {HIGH_BOUNDS[i]}\")\n",
        "            print(f\"Q.shape[{i}] = {Q.shape[i]}\")\n",
        "        if state[i] <= LOW_BOUNDS[i]:\n",
        "            bucket_index = 0\n",
        "        elif state[i] >= HIGH_BOUNDS[i]:\n",
        "            bucket_index = Q.shape[i] - 1\n",
        "        else:\n",
        "            scale = (HIGH_BOUNDS[i] - LOW_BOUNDS[i]) / Q.shape[i]\n",
        "            bucket_index = int((state[i] - LOW_BOUNDS[i]) / scale)\n",
        "            if debug:\n",
        "                print(f\"scale : {scale}\")\n",
        "                print(f\"bucket_index = {bucket_index}\")\n",
        "        bucket_indice.append(bucket_index)\n",
        "    if debug:\n",
        "        print(f\"bucket_indice = {bucket_indice}\")\n",
        "    return tuple(bucket_indice)"
      ],
      "execution_count": 0,
      "outputs": []
    },
    {
      "cell_type": "markdown",
      "metadata": {
        "id": "DnYA3ewYPf1a",
        "colab_type": "text"
      },
      "source": [
        "## 개선된 방식으로 학습하기\n",
        "- 기존의 행동으로 학습된 내용이 있어도 다시 한번 수행해서 학습하도록 수정"
      ]
    },
    {
      "cell_type": "code",
      "metadata": {
        "id": "aRR_5rLGPmDH",
        "colab_type": "code",
        "colab": {}
      },
      "source": [
        "import random as pr\n",
        "\n",
        "dis = 1   # cartpole은 길면 길 수록 좋은 것이기 때문에 reward를 계속 증가시켜주는 것\n",
        "Q = np.zeros((3, 3, 5, 5, 2))\n",
        "for episode in range(1000):\n",
        "    observation = env.reset()\n",
        "    total_frame = 0\n",
        "    for frame in range(200):\n",
        "        state_0 = state_to_bucket(observation, False)\n",
        "\n",
        "        e = 1.0/((episode // 100)+1)\n",
        "        if np.random.rand(1) < e:\n",
        "            action = pr.choice([0, 1])\n",
        "        else:\n",
        "            action = np.argmax(Q[state_0])\n",
        "\n",
        "        observation, reward, done, info = env.step(action)\n",
        "        # print(f\"observation : {observation}, reward : {reward}, done:{done}, info : {info}\")\n",
        "        if done == True:\n",
        "            break\n",
        "\n",
        "        state = state_to_bucket(observation, False)\n",
        "\n",
        "        best_q = np.amax(Q[state])\n",
        "\n",
        "        Q[state_0 + (action, )] = reward + dis * best_q\n",
        "\n",
        "        state_0 = state\n",
        "        total_frame = frame\n",
        "    print(total_frame)"
      ],
      "execution_count": 0,
      "outputs": []
    },
    {
      "cell_type": "code",
      "metadata": {
        "id": "h2HJGrWwpwOf",
        "colab_type": "code",
        "colab": {}
      },
      "source": [
        "Q"
      ],
      "execution_count": 0,
      "outputs": []
    },
    {
      "cell_type": "code",
      "metadata": {
        "id": "nHSkM0H38Zk0",
        "colab_type": "code",
        "colab": {}
      },
      "source": [
        "observation = env.reset()\n",
        "animationFrame = []\n",
        "for frame in range(200):\n",
        "    animationFrame.append(\n",
        "        env.render(mode = 'rgb_array')\n",
        "    )\n",
        "    state_0 = state_to_bucket(observation, False)\n",
        "\n",
        "    m = np.amax(Q[state_0])\n",
        "\n",
        "    if m == 0:\n",
        "        action = pr.choice([0, 1])\n",
        "    else:\n",
        "        action = np.argmax(Q[state_0])\n",
        "\n",
        "    \n",
        "    observation, reward, done, info = env.step(action)\n",
        "\n",
        "    if done == True:\n",
        "        break\n"
      ],
      "execution_count": 0,
      "outputs": []
    },
    {
      "cell_type": "code",
      "metadata": {
        "id": "6WIhiC-9CheY",
        "colab_type": "code",
        "colab": {}
      },
      "source": [
        "import matplotlib.pyplot as plt\n",
        "import matplotlib.animation\n",
        "import numpy as np\n",
        "from IPython.display import HTML"
      ],
      "execution_count": 0,
      "outputs": []
    },
    {
      "cell_type": "markdown",
      "metadata": {
        "id": "qAkY7GfRh-O0",
        "colab_type": "text"
      },
      "source": [
        "## 카트폴 게임 이미지를 저장하고, 보여주기"
      ]
    },
    {
      "cell_type": "code",
      "metadata": {
        "id": "1gG8dAZzCtWw",
        "colab_type": "code",
        "colab": {}
      },
      "source": [
        "def animate(index):\n",
        "    patch.set_data(animationFrame[index])"
      ],
      "execution_count": 0,
      "outputs": []
    },
    {
      "cell_type": "code",
      "metadata": {
        "id": "Tj7lxJHnquhm",
        "colab_type": "code",
        "colab": {}
      },
      "source": [
        "len(animationFrame)"
      ],
      "execution_count": 0,
      "outputs": []
    },
    {
      "cell_type": "code",
      "metadata": {
        "id": "MTfIZ3rKDezQ",
        "colab_type": "code",
        "colab": {}
      },
      "source": [
        "plt.figure(figsize=(8, 5))\n",
        "patch = plt.imshow(animationFrame[0])\n",
        "ani = matplotlib.animation.FuncAnimation(plt.gcf(), \n",
        "                                         animate, \n",
        "                                         frames=len(animationFrame),\n",
        "                                         interval = 50)\n",
        "\n",
        "HTML(ani.to_jshtml())"
      ],
      "execution_count": 0,
      "outputs": []
    },
    {
      "cell_type": "code",
      "metadata": {
        "id": "G1mWrsZID7pS",
        "colab_type": "code",
        "colab": {}
      },
      "source": [
        ""
      ],
      "execution_count": 0,
      "outputs": []
    }
  ]
}