{
  "nbformat": 4,
  "nbformat_minor": 0,
  "metadata": {
    "colab": {
      "name": "tensorflow_cartpole-Q.ipynb",
      "provenance": [],
      "private_outputs": true,
      "collapsed_sections": []
    },
    "kernelspec": {
      "name": "python3",
      "display_name": "Python 3"
    }
  },
  "cells": [
    {
      "cell_type": "code",
      "metadata": {
        "id": "KvQfcJsAs18y",
        "colab_type": "code",
        "colab": {}
      },
      "source": [
        "import gym\n",
        "import numpy as np\n",
        "from gym.envs.registration import register\n",
        "import math\n",
        "import tensorflow as tf"
      ],
      "execution_count": 0,
      "outputs": []
    },
    {
      "cell_type": "code",
      "metadata": {
        "id": "6pkHGZo1Bzqg",
        "colab_type": "code",
        "colab": {}
      },
      "source": [
        "tf.enable_eager_execution()"
      ],
      "execution_count": 0,
      "outputs": []
    },
    {
      "cell_type": "markdown",
      "metadata": {
        "id": "OBnqUkZT0ilt",
        "colab_type": "text"
      },
      "source": [
        "## 카트폴 게임"
      ]
    },
    {
      "cell_type": "code",
      "metadata": {
        "id": "6OLSfxVh5u2A",
        "colab_type": "code",
        "colab": {}
      },
      "source": [
        "#installing dependencies\n",
        "!apt-get -qq -y install libnvtoolsext1 > /dev/null\n",
        "!ln -snf /usr/lib/x86_64-linux-gnu/libnvrtc-builtins.so.8.0 /usr/lib/x86_64-linux-gnu/libnvrtc-builtins.so\n",
        "!apt-get -qq -y install xvfb freeglut3-dev ffmpeg> /dev/null\n",
        "!pip -q install gym\n",
        "!pip -q install pyglet\n",
        "!pip -q install pyopengl\n",
        "!pip -q install pyvirtualdisplay"
      ],
      "execution_count": 0,
      "outputs": []
    },
    {
      "cell_type": "code",
      "metadata": {
        "id": "YX2NCPpr3sDK",
        "colab_type": "code",
        "colab": {}
      },
      "source": [
        "import gym\n",
        "env = gym.make(\"CartPole-v0\")"
      ],
      "execution_count": 0,
      "outputs": []
    },
    {
      "cell_type": "code",
      "metadata": {
        "id": "cLOdZ6B47Sb2",
        "colab_type": "code",
        "colab": {}
      },
      "source": [
        "from pyvirtualdisplay import Display\n",
        "display = Display(visible=0, size=(1024, 768))\n",
        "display.start()"
      ],
      "execution_count": 0,
      "outputs": []
    },
    {
      "cell_type": "code",
      "metadata": {
        "id": "Vim7I4-y3-AA",
        "colab_type": "code",
        "colab": {}
      },
      "source": [
        "np.set_printoptions(threshold=np.inf)"
      ],
      "execution_count": 0,
      "outputs": []
    },
    {
      "cell_type": "markdown",
      "metadata": {
        "id": "2wHeBmlJB9tn",
        "colab_type": "text"
      },
      "source": [
        "## weight 모델 생성"
      ]
    },
    {
      "cell_type": "code",
      "metadata": {
        "id": "yf4jRLdkCAkm",
        "colab_type": "code",
        "colab": {}
      },
      "source": [
        "w1 = tf.Variable(tf.random_uniform([4, 64], 0, 0.1))\n",
        "w1"
      ],
      "execution_count": 0,
      "outputs": []
    },
    {
      "cell_type": "code",
      "metadata": {
        "id": "rV0573CJCHVF",
        "colab_type": "code",
        "colab": {}
      },
      "source": [
        "w2 = tf.Variable(tf.random_uniform([64, 32], 0, 0.1))\n",
        "w2"
      ],
      "execution_count": 0,
      "outputs": []
    },
    {
      "cell_type": "code",
      "metadata": {
        "id": "QE02uXmKCMNN",
        "colab_type": "code",
        "colab": {}
      },
      "source": [
        "w3 = tf.Variable(tf.random_uniform([32, 2], 0, 0.1))\n",
        "w3"
      ],
      "execution_count": 0,
      "outputs": []
    },
    {
      "cell_type": "markdown",
      "metadata": {
        "id": "DnYA3ewYPf1a",
        "colab_type": "text"
      },
      "source": [
        "## NN을 활용한 카트폴 게임 학습\n"
      ]
    },
    {
      "cell_type": "code",
      "metadata": {
        "id": "aRR_5rLGPmDH",
        "colab_type": "code",
        "colab": {}
      },
      "source": [
        "dis = 1   # cartpole은 길면 길 수록 좋은 것이기 때문에 reward를 계속 증가시켜주는 것\n",
        "optimizer = tf.train.AdamOptimizer(0.001)\n",
        "frameList = []\n",
        "for episode in range(5000):\n",
        "    observation = env.reset()\n",
        "    total_frame = 0\n",
        "\n",
        "    e = 1.0 / ((episode// 100) + 1)\n",
        "    for frame in range(200):\n",
        "        with tf.GradientTape() as tape:\n",
        "            observation = np.array(np.reshape(observation, [1, 4]), dtype=\"float32\")\n",
        "\n",
        "            hypo1 = tf.matmul(observation, w1)\n",
        "            hypo2 = tf.matmul(hypo1, w2)\n",
        "            predQ = tf.matmul(hypo2, w3)\n",
        "\n",
        "            if np.random.rand(1) < e:\n",
        "                action = env.action_space.sample()\n",
        "            else:\n",
        "                action = np.argmax(predQ)\n",
        "\n",
        "            next_observation, reward, done, info = env.step(action)\n",
        "\n",
        "            next_observation = np.array(np.reshape(next_observation, [1, 4]), dtype=\"float32\")\n",
        "\n",
        "            Qs = predQ.numpy()\n",
        "            if done:\n",
        "                Qs[0, action] = -100\n",
        "\n",
        "                Qs = tf.convert_to_tensor(Qs, np.float32)\n",
        "\n",
        "                frameList.append([episode, frame])\n",
        "\n",
        "            else:\n",
        "                hypo1 = tf.matmul(next_observation, w1)\n",
        "                hypo2 = tf.matmul(hypo1, w2)\n",
        "                nextQ = tf.matmul(hypo2, w3)\n",
        "\n",
        "                Qs[0, action] = reward + dis*np.max(nextQ)\n",
        "\n",
        "                Qs = tf.convert_to_tensor(Qs, np.float32)\n",
        "\n",
        "            cost = tf.reduce_sum(tf.square(Qs- predQ))\n",
        "\n",
        "            grads = tape.gradient(cost, [w1, w2, w3])\n",
        "\n",
        "            optimizer.apply_gradients(grads_and_vars = zip(grads, [w1, w2, w3]))\n",
        "\n",
        "            observation = next_observation\n",
        "        total_frame = frame\n",
        "        if done == True:\n",
        "            break\n",
        "\n",
        "    print(f\"episode : {episode}, total_frame : {total_frame}\")"
      ],
      "execution_count": 0,
      "outputs": []
    },
    {
      "cell_type": "markdown",
      "metadata": {
        "id": "h2HJGrWwpwOf",
        "colab_type": "text"
      },
      "source": [
        "## 학습이 잘 안된다 그 이유는 입력값들이 독립 변수의 형태가 아니라서 그렇다\n",
        "## 이 게임에 대해서 좋은 성능을 내기 위해서는 더 깊은 모델이 필요하다"
      ]
    },
    {
      "cell_type": "code",
      "metadata": {
        "id": "nHSkM0H38Zk0",
        "colab_type": "code",
        "colab": {}
      },
      "source": [
        "observation = env.reset()\n",
        "animationFrame = []\n",
        "for frame in range(200):\n",
        "    animationFrame.append(\n",
        "        env.render(mode = 'rgb_array')\n",
        "    )\n",
        "    \n",
        "    observation = np.array(np.reshape(observation, [1, 4]), dtype=\"float32\")\n",
        "\n",
        "    hypo1 = tf.matmul(observation, w1)\n",
        "    hypo2 = tf.matmul(hypo1, w2)\n",
        "    predQ = tf.matmul(hypo2, w3)\n",
        "\n",
        "    if np.random.rand(1) < e:\n",
        "        action = env.action_space.sample()\n",
        "    else:\n",
        "        action = np.argmax(predQ)\n",
        "\n",
        "    next_observation, reward, done, info = env.step(action)\n",
        "\n",
        "    next_observation = np.array(np.reshape(next_observation, [1, 4]), dtype=\"float32\")\n",
        "\n",
        "    observation = next_observation\n",
        "\n",
        "    if done == True:\n",
        "        break\n"
      ],
      "execution_count": 0,
      "outputs": []
    },
    {
      "cell_type": "code",
      "metadata": {
        "id": "6WIhiC-9CheY",
        "colab_type": "code",
        "colab": {}
      },
      "source": [
        "import matplotlib.pyplot as plt\n",
        "import matplotlib.animation\n",
        "import numpy as np\n",
        "from IPython.display import HTML"
      ],
      "execution_count": 0,
      "outputs": []
    },
    {
      "cell_type": "markdown",
      "metadata": {
        "id": "qAkY7GfRh-O0",
        "colab_type": "text"
      },
      "source": [
        "## 카트폴 게임 이미지를 저장하고, 보여주기"
      ]
    },
    {
      "cell_type": "code",
      "metadata": {
        "id": "1gG8dAZzCtWw",
        "colab_type": "code",
        "colab": {}
      },
      "source": [
        "def animate(index):\n",
        "    patch.set_data(animationFrame[index])"
      ],
      "execution_count": 0,
      "outputs": []
    },
    {
      "cell_type": "code",
      "metadata": {
        "id": "Tj7lxJHnquhm",
        "colab_type": "code",
        "colab": {}
      },
      "source": [
        "len(animationFrame)"
      ],
      "execution_count": 0,
      "outputs": []
    },
    {
      "cell_type": "code",
      "metadata": {
        "id": "MTfIZ3rKDezQ",
        "colab_type": "code",
        "colab": {}
      },
      "source": [
        "plt.figure(figsize=(8, 5))\n",
        "patch = plt.imshow(animationFrame[0])\n",
        "ani = matplotlib.animation.FuncAnimation(plt.gcf(), \n",
        "                                         animate, \n",
        "                                         frames=len(animationFrame),\n",
        "                                         interval = 50)\n",
        "\n",
        "HTML(ani.to_jshtml())"
      ],
      "execution_count": 0,
      "outputs": []
    },
    {
      "cell_type": "code",
      "metadata": {
        "id": "G1mWrsZID7pS",
        "colab_type": "code",
        "colab": {}
      },
      "source": [
        ""
      ],
      "execution_count": 0,
      "outputs": []
    }
  ]
}