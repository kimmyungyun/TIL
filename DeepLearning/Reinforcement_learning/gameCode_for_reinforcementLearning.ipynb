{
  "nbformat": 4,
  "nbformat_minor": 0,
  "metadata": {
    "colab": {
      "name": "gameCode_for_reinforcementLearning.ipynb",
      "provenance": [],
      "private_outputs": true
    },
    "kernelspec": {
      "name": "python3",
      "display_name": "Python 3"
    }
  },
  "cells": [
    {
      "cell_type": "code",
      "metadata": {
        "id": "KvQfcJsAs18y",
        "colab_type": "code",
        "colab": {}
      },
      "source": [
        "import gym\n",
        "from gym.envs.registration import register"
      ],
      "execution_count": 0,
      "outputs": []
    },
    {
      "cell_type": "markdown",
      "metadata": {
        "id": "BL8eT3kp3nKv",
        "colab_type": "text"
      },
      "source": [
        "## 프로즌레이크 게임"
      ]
    },
    {
      "cell_type": "code",
      "metadata": {
        "id": "kO87FcU4tXKZ",
        "colab_type": "code",
        "colab": {}
      },
      "source": [
        "register(\n",
        "    id=\"FrozenLake-v1\",\n",
        "    entry_point=\"gym.envs.toy_text:FrozenLakeEnv\",\n",
        "    kwargs={\n",
        "        \"map_name\":\"4x4\",\n",
        "        \"is_slippery\":False\n",
        "    }\n",
        ")"
      ],
      "execution_count": 0,
      "outputs": []
    },
    {
      "cell_type": "code",
      "metadata": {
        "id": "AJMX3PZyxgR7",
        "colab_type": "code",
        "colab": {}
      },
      "source": [
        "env = gym.make(\"FrozenLake-v1\")\n",
        "env.render()"
      ],
      "execution_count": 0,
      "outputs": []
    },
    {
      "cell_type": "code",
      "metadata": {
        "id": "1W8tAyPL0Cxu",
        "colab_type": "code",
        "colab": {}
      },
      "source": [
        "position= env.reset()\n",
        "done=False"
      ],
      "execution_count": 0,
      "outputs": []
    },
    {
      "cell_type": "code",
      "metadata": {
        "id": "OUzvQiNG0LUd",
        "colab_type": "code",
        "colab": {}
      },
      "source": [
        "while done == False:\n",
        "    env.render()\n",
        "    print(\"Left:0, Down:1, Right:2, Up:3 :\")\n",
        "    str_action=input()\n",
        "    action=int(str_action)\n",
        "\n",
        "    position, reward, done, info=env.step(action)\n",
        "\n",
        "    print(f\"position:{position}, reward:{reward}, done:{done}, info:{info}\")"
      ],
      "execution_count": 0,
      "outputs": []
    },
    {
      "cell_type": "markdown",
      "metadata": {
        "id": "OBnqUkZT0ilt",
        "colab_type": "text"
      },
      "source": [
        "## 카트폴 게임"
      ]
    },
    {
      "cell_type": "code",
      "metadata": {
        "id": "6OLSfxVh5u2A",
        "colab_type": "code",
        "colab": {}
      },
      "source": [
        "#installing dependencies\n",
        "!apt-get -qq -y install libnvtoolsext1 > /dev/null\n",
        "!ln -snf /usr/lib/x86_64-linux-gnu/libnvrtc-builtins.so.8.0 /usr/lib/x86_64-linux-gnu/libnvrtc-builtins.so\n",
        "!apt-get -qq -y install xvfb freeglut3-dev ffmpeg> /dev/null\n",
        "!pip -q install gym\n",
        "!pip -q install pyglet\n",
        "!pip -q install pyopengl\n",
        "!pip -q install pyvirtualdisplay"
      ],
      "execution_count": 0,
      "outputs": []
    },
    {
      "cell_type": "code",
      "metadata": {
        "id": "YX2NCPpr3sDK",
        "colab_type": "code",
        "colab": {}
      },
      "source": [
        "import gym\n",
        "env = gym.make(\"CartPole-v0\")"
      ],
      "execution_count": 0,
      "outputs": []
    },
    {
      "cell_type": "code",
      "metadata": {
        "id": "_Vci-kN65tj7",
        "colab_type": "code",
        "colab": {}
      },
      "source": [
        "obs = env.reset()\n",
        "print(f\"initial observation\", obs)"
      ],
      "execution_count": 0,
      "outputs": []
    },
    {
      "cell_type": "code",
      "metadata": {
        "id": "cLOdZ6B47Sb2",
        "colab_type": "code",
        "colab": {}
      },
      "source": [
        "from pyvirtualdisplay import Display\n",
        "display = Display(visible=0, size=(1024, 768))\n",
        "display.start()"
      ],
      "execution_count": 0,
      "outputs": []
    },
    {
      "cell_type": "code",
      "metadata": {
        "id": "ASeno0GQ8WhM",
        "colab_type": "code",
        "colab": {}
      },
      "source": [
        "env.render(mode=\"rgb_array\")"
      ],
      "execution_count": 0,
      "outputs": []
    },
    {
      "cell_type": "code",
      "metadata": {
        "id": "nHSkM0H38Zk0",
        "colab_type": "code",
        "colab": {}
      },
      "source": [
        "animationFrame = []\n",
        "for index in range(200):\n",
        "    animationFrame.append(\n",
        "        env.render(mode = 'rgb_array')\n",
        "    )\n",
        "    observation, reward, done, info = env.step(1)"
      ],
      "execution_count": 0,
      "outputs": []
    },
    {
      "cell_type": "code",
      "metadata": {
        "id": "6WIhiC-9CheY",
        "colab_type": "code",
        "colab": {}
      },
      "source": [
        "import matplotlib.pyplot as plt\n",
        "import matplotlib.animation\n",
        "import numpy as np\n",
        "from IPython.display import HTML"
      ],
      "execution_count": 0,
      "outputs": []
    },
    {
      "cell_type": "code",
      "metadata": {
        "id": "EN8JsXntCsXM",
        "colab_type": "code",
        "colab": {}
      },
      "source": [
        "animationFrame[0]"
      ],
      "execution_count": 0,
      "outputs": []
    },
    {
      "cell_type": "markdown",
      "metadata": {
        "id": "qAkY7GfRh-O0",
        "colab_type": "text"
      },
      "source": [
        "## 카트폴 게임 이미지를 저장하고, 보여주기"
      ]
    },
    {
      "cell_type": "code",
      "metadata": {
        "id": "1gG8dAZzCtWw",
        "colab_type": "code",
        "colab": {}
      },
      "source": [
        "def animate(index):\n",
        "    patch.set_data(animationFrame[index])"
      ],
      "execution_count": 0,
      "outputs": []
    },
    {
      "cell_type": "code",
      "metadata": {
        "id": "MTfIZ3rKDezQ",
        "colab_type": "code",
        "colab": {}
      },
      "source": [
        "plt.figure(figsize=(8, 5))\n",
        "patch = plt.imshow(animationFrame[0])\n",
        "ani = matplotlib.animation.FuncAnimation(plt.gcf(), \n",
        "                                         animate, \n",
        "                                         frames=len(animationFrame),\n",
        "                                         interval = 50)\n",
        "\n",
        "HTML(ani.to_jshtml())"
      ],
      "execution_count": 0,
      "outputs": []
    },
    {
      "cell_type": "code",
      "metadata": {
        "id": "G1mWrsZID7pS",
        "colab_type": "code",
        "colab": {}
      },
      "source": [
        ""
      ],
      "execution_count": 0,
      "outputs": []
    }
  ]
}