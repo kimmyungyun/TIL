{
 "cells": [
  {
   "cell_type": "markdown",
   "metadata": {},
   "source": [
    "[빅데이터 분석을 위한 통계 이론]\n",
    "앞면이 나올 확률이 0.4인 동전이 있다. \n",
    "이 동전을 5번 던져서, 앞면이 2회 이하 나올 확률은 얼마인가?\n",
    "- 단, 답 계산 과정을 제출하라."
   ]
  },
  {
   "cell_type": "code",
   "execution_count": 16,
   "metadata": {},
   "outputs": [],
   "source": [
    "import numpy as np\n",
    "\n",
    "binary_d = np.zeros((7, 7)) +1"
   ]
  },
  {
   "cell_type": "markdown",
   "metadata": {},
   "source": [
    "이항 정리 값 만들기"
   ]
  },
  {
   "cell_type": "code",
   "execution_count": 6,
   "metadata": {},
   "outputs": [],
   "source": [
    "for i in range(2, 6):\n",
    "    for j in range(1, i):\n",
    "        binary_d[i, j] = binary_d[i-1, j-1] + binary_d[i-1, j]"
   ]
  },
  {
   "cell_type": "code",
   "execution_count": 9,
   "metadata": {},
   "outputs": [
    {
     "data": {
      "text/plain": [
       "array([[ 1.,  1.,  1.,  1.,  1.,  1.,  1.],\n",
       "       [ 1.,  1.,  1.,  1.,  1.,  1.,  1.],\n",
       "       [ 1.,  2.,  1.,  1.,  1.,  1.,  1.],\n",
       "       [ 1.,  3.,  3.,  1.,  1.,  1.,  1.],\n",
       "       [ 1.,  4.,  6.,  4.,  1.,  1.,  1.],\n",
       "       [ 1.,  5., 10., 10.,  5.,  1.,  1.],\n",
       "       [ 1.,  1.,  1.,  1.,  1.,  1.,  1.]])"
      ]
     },
     "execution_count": 9,
     "metadata": {},
     "output_type": "execute_result"
    }
   ],
   "source": [
    "binary_d"
   ]
  },
  {
   "cell_type": "markdown",
   "metadata": {},
   "source": [
    "앞면이 2회 이하가 나올 확률은 5번 던져서 앞면이 0회, 1회, 2회 나올 경우를 포함한다\n",
    "\n",
    "이항 정리의 경우 (a+b)^n 으로 계산이 되는데 a를 뒷면이 나올 경우로 가정을 하고 계산을 한다\n",
    "\n",
    "0회 나올 경우의 수는 5C0 * (a^n * b^0) 이고,\n",
    "\n",
    "1회 나올 경우의 수는 5C1 * a^(n-1) * b^1 이고,\n",
    "\n",
    "2회 나올 경우의 수는 5C2 * a^(n-2) * b^2 이다.\n",
    "\n",
    "위의 3가지를 모두 더하면 정답이 나온다\n",
    "\n",
    "이때, a는 뒷면이 나올 확률로 계산하기 때문에 0.6으로 놓고, b를 0.4로 놓는다\n",
    "\n",
    "binary_d의 5행의 0, 1, 2열의 경우의 수를 활용하여 계산해주면 된다"
   ]
  },
  {
   "cell_type": "code",
   "execution_count": 14,
   "metadata": {},
   "outputs": [],
   "source": [
    "prop = 0\n",
    "a = 0.6\n",
    "b = 0.4\n",
    "for i in range(0, 3):\n",
    "    prop += binary_d[5, i] * ((b)**i) * ((a)**(5-i))"
   ]
  },
  {
   "cell_type": "code",
   "execution_count": 15,
   "metadata": {},
   "outputs": [
    {
     "data": {
      "text/plain": [
       "68.256"
      ]
     },
     "execution_count": 15,
     "metadata": {},
     "output_type": "execute_result"
    }
   ],
   "source": [
    "prop = prop * 100\n",
    "prop"
   ]
  }
 ],
 "metadata": {
  "kernelspec": {
   "display_name": "Python 3",
   "language": "python",
   "name": "python3"
  },
  "language_info": {
   "codemirror_mode": {
    "name": "ipython",
    "version": 3
   },
   "file_extension": ".py",
   "mimetype": "text/x-python",
   "name": "python",
   "nbconvert_exporter": "python",
   "pygments_lexer": "ipython3",
   "version": "3.7.5"
  }
 },
 "nbformat": 4,
 "nbformat_minor": 2
}
