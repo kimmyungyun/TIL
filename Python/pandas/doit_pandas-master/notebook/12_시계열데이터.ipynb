{
 "cells": [
  {
   "cell_type": "markdown",
   "metadata": {},
   "source": [
    "# 12장. 시계열 데이터\n",
    "## 12.1 datetime 오브젝트\n",
    "datetime 라이브러리는 날짜와 시간을 처리하는 등의 다양한 기능을 제공하는 파이썬 라이브러리입니다. datetime 라이브러리에는 \n",
    "1. 날짜를 처리하는 date 오브젝트, \n",
    "2. 시간을 처 리하는 time 오브젝트, \n",
    "3. 날짜와 시간을 모두 처리하는 datetime 오브젝트가 포함되어 있습니다. \n",
    "\n",
    "앞으로 3개의 오브젝트를 명확히 구분하기 위해 영문을 그대로 살려 date, time, datetime 오브젝트라고 부르겠습니다.\n",
    "\n",
    "### 12.1.1 datetime 객체 사용하기(238쪽)"
   ]
  },
  {
   "cell_type": "code",
   "execution_count": 2,
   "metadata": {},
   "outputs": [],
   "source": [
    "from datetime import datetime"
   ]
  },
  {
   "cell_type": "code",
   "execution_count": 2,
   "metadata": {},
   "outputs": [
    {
     "name": "stdout",
     "output_type": "stream",
     "text": [
      "2020-01-03 16:06:07.598746\n"
     ]
    }
   ],
   "source": [
    "now1 = datetime.now() \n",
    "print(now1)"
   ]
  },
  {
   "cell_type": "code",
   "execution_count": 3,
   "metadata": {},
   "outputs": [
    {
     "name": "stdout",
     "output_type": "stream",
     "text": [
      "2020-01-03 16:06:20.397870\n"
     ]
    }
   ],
   "source": [
    "now2 = datetime.today()\n",
    "print(now2) "
   ]
  },
  {
   "cell_type": "code",
   "execution_count": 4,
   "metadata": {},
   "outputs": [
    {
     "name": "stdout",
     "output_type": "stream",
     "text": [
      "2020-01-03 16:07:57.739955\n",
      "1970-01-01 00:00:00\n",
      "1970-12-12 13:24:34\n"
     ]
    }
   ],
   "source": [
    "t1 = datetime.now() \n",
    "t2 = datetime(1970, 1, 1)\n",
    "t3 = datetime(1970, 12, 12, 13, 24, 34)\n",
    "\n",
    "print(t1)\n",
    "print(t2)\n",
    "print(t3)"
   ]
  },
  {
   "cell_type": "markdown",
   "metadata": {},
   "source": [
    "datetime 오브젝트를 사용하는 이유 중 하나는 시간 계산을 할 수 있다는 점입니다. 다 음은 두 datetime 오브젝트의 차이를 구한 것입니다.\n",
    "\n",
    "python 표준 라이브러리에는 datetime, time을 위한 자료형과 calendar 기능을 제공하고 있다.\n",
    "\n",
    "| 자료형 | 설명 |\n",
    "|---|---|\n",
    "|date|그레고리언 달력을 사용하여 날짜(년, 월, 일)을 저장한다.|\n",
    "|time|하루 중 시간을 (시, 분, 초, 마이크로초) 단위로 저장한다.|\n",
    "|datetime|날짜와 시간을 같이 저장한다.|\n",
    "|timedelta|두 datetime 값 간의 차이를 (day, time)으로 표현한다.<br>timedelta(days=0, seconds=0, microseconds=0, milliseconds=0, minutes=0, hours=0, weeks=0)|\n",
    "|timestamp|UTC 1970년1월1일 자정을 기준으로 나노초단위로 표현된 int값|\n",
    "\n",
    "- 다른 시간 객체들은 기준점이 없으나, timestamp는 UTC라는 기준점이 있다.\n",
    "- [그레고리언 달력](https://ko.wikipedia.org/wiki/%EA%B7%B8%EB%A0%88%EA%B3%A0%EB%A6%AC%EB%A0%A5)은 현재 세계적으로 통용되는 양력이다.\n",
    "- [UTC(프랑스어: Temps Universel Coordonné, 영어: Coordinated Universal Time; 협정세계시)](https://ko.wikipedia.org/wiki/%ED%98%91%EC%A0%95_%EC%84%B8%EA%B3%84%EC%8B%9C)는 1972년 1월 1일부터 시행된 국제 표준시로서 그리니치 표준시(GMT)에 기반하므로, GMT라고도 한다."
   ]
  },
  {
   "cell_type": "code",
   "execution_count": 5,
   "metadata": {},
   "outputs": [
    {
     "name": "stdout",
     "output_type": "stream",
     "text": [
      "18264 days, 16:07:57.739955\n",
      "<class 'datetime.timedelta'>\n"
     ]
    }
   ],
   "source": [
    "diff1 = t1 - t2\n",
    "\n",
    "print(diff1)\n",
    "print(type(diff1))"
   ]
  },
  {
   "cell_type": "code",
   "execution_count": 6,
   "metadata": {},
   "outputs": [
    {
     "name": "stdout",
     "output_type": "stream",
     "text": [
      "-18265 days, 7:52:02.260045\n",
      "<class 'datetime.timedelta'>\n"
     ]
    }
   ],
   "source": [
    "diff2 = t2 - t1\n",
    "\n",
    "print(diff2)\n",
    "print(type(diff2))"
   ]
  },
  {
   "cell_type": "markdown",
   "metadata": {},
   "source": [
    "### 12.1.2 datetime 객체 변환\n",
    "#### 1) 문자열을 datetime 객체로 변환하기(240쪽)"
   ]
  },
  {
   "cell_type": "code",
   "execution_count": 3,
   "metadata": {},
   "outputs": [],
   "source": [
    "import pandas as pd \n",
    "import os\n",
    "ebola = pd.read_csv('../data/country_timeseries.csv')"
   ]
  },
  {
   "cell_type": "code",
   "execution_count": 4,
   "metadata": {},
   "outputs": [
    {
     "name": "stdout",
     "output_type": "stream",
     "text": [
      "<class 'pandas.core.frame.DataFrame'>\n",
      "RangeIndex: 122 entries, 0 to 121\n",
      "Data columns (total 18 columns):\n",
      "Date                   122 non-null object\n",
      "Day                    122 non-null int64\n",
      "Cases_Guinea           93 non-null float64\n",
      "Cases_Liberia          83 non-null float64\n",
      "Cases_SierraLeone      87 non-null float64\n",
      "Cases_Nigeria          38 non-null float64\n",
      "Cases_Senegal          25 non-null float64\n",
      "Cases_UnitedStates     18 non-null float64\n",
      "Cases_Spain            16 non-null float64\n",
      "Cases_Mali             12 non-null float64\n",
      "Deaths_Guinea          92 non-null float64\n",
      "Deaths_Liberia         81 non-null float64\n",
      "Deaths_SierraLeone     87 non-null float64\n",
      "Deaths_Nigeria         38 non-null float64\n",
      "Deaths_Senegal         22 non-null float64\n",
      "Deaths_UnitedStates    18 non-null float64\n",
      "Deaths_Spain           16 non-null float64\n",
      "Deaths_Mali            12 non-null float64\n",
      "dtypes: float64(16), int64(1), object(1)\n",
      "memory usage: 17.3+ KB\n",
      "None\n"
     ]
    }
   ],
   "source": [
    "print(ebola.info())"
   ]
  },
  {
   "cell_type": "code",
   "execution_count": 9,
   "metadata": {},
   "outputs": [
    {
     "data": {
      "text/html": [
       "<div>\n",
       "<style scoped>\n",
       "    .dataframe tbody tr th:only-of-type {\n",
       "        vertical-align: middle;\n",
       "    }\n",
       "\n",
       "    .dataframe tbody tr th {\n",
       "        vertical-align: top;\n",
       "    }\n",
       "\n",
       "    .dataframe thead th {\n",
       "        text-align: right;\n",
       "    }\n",
       "</style>\n",
       "<table border=\"1\" class=\"dataframe\">\n",
       "  <thead>\n",
       "    <tr style=\"text-align: right;\">\n",
       "      <th></th>\n",
       "      <th>Date</th>\n",
       "      <th>Day</th>\n",
       "      <th>Cases_Guinea</th>\n",
       "      <th>Cases_Liberia</th>\n",
       "      <th>Cases_SierraLeone</th>\n",
       "      <th>Cases_Nigeria</th>\n",
       "      <th>Cases_Senegal</th>\n",
       "      <th>Cases_UnitedStates</th>\n",
       "      <th>Cases_Spain</th>\n",
       "      <th>Cases_Mali</th>\n",
       "      <th>Deaths_Guinea</th>\n",
       "      <th>Deaths_Liberia</th>\n",
       "      <th>Deaths_SierraLeone</th>\n",
       "      <th>Deaths_Nigeria</th>\n",
       "      <th>Deaths_Senegal</th>\n",
       "      <th>Deaths_UnitedStates</th>\n",
       "      <th>Deaths_Spain</th>\n",
       "      <th>Deaths_Mali</th>\n",
       "    </tr>\n",
       "  </thead>\n",
       "  <tbody>\n",
       "    <tr>\n",
       "      <th>0</th>\n",
       "      <td>1/5/2015</td>\n",
       "      <td>289</td>\n",
       "      <td>2776.0</td>\n",
       "      <td>NaN</td>\n",
       "      <td>10030.0</td>\n",
       "      <td>NaN</td>\n",
       "      <td>NaN</td>\n",
       "      <td>NaN</td>\n",
       "      <td>NaN</td>\n",
       "      <td>NaN</td>\n",
       "      <td>1786.0</td>\n",
       "      <td>NaN</td>\n",
       "      <td>2977.0</td>\n",
       "      <td>NaN</td>\n",
       "      <td>NaN</td>\n",
       "      <td>NaN</td>\n",
       "      <td>NaN</td>\n",
       "      <td>NaN</td>\n",
       "    </tr>\n",
       "    <tr>\n",
       "      <th>1</th>\n",
       "      <td>1/4/2015</td>\n",
       "      <td>288</td>\n",
       "      <td>2775.0</td>\n",
       "      <td>NaN</td>\n",
       "      <td>9780.0</td>\n",
       "      <td>NaN</td>\n",
       "      <td>NaN</td>\n",
       "      <td>NaN</td>\n",
       "      <td>NaN</td>\n",
       "      <td>NaN</td>\n",
       "      <td>1781.0</td>\n",
       "      <td>NaN</td>\n",
       "      <td>2943.0</td>\n",
       "      <td>NaN</td>\n",
       "      <td>NaN</td>\n",
       "      <td>NaN</td>\n",
       "      <td>NaN</td>\n",
       "      <td>NaN</td>\n",
       "    </tr>\n",
       "    <tr>\n",
       "      <th>2</th>\n",
       "      <td>1/3/2015</td>\n",
       "      <td>287</td>\n",
       "      <td>2769.0</td>\n",
       "      <td>8166.0</td>\n",
       "      <td>9722.0</td>\n",
       "      <td>NaN</td>\n",
       "      <td>NaN</td>\n",
       "      <td>NaN</td>\n",
       "      <td>NaN</td>\n",
       "      <td>NaN</td>\n",
       "      <td>1767.0</td>\n",
       "      <td>3496.0</td>\n",
       "      <td>2915.0</td>\n",
       "      <td>NaN</td>\n",
       "      <td>NaN</td>\n",
       "      <td>NaN</td>\n",
       "      <td>NaN</td>\n",
       "      <td>NaN</td>\n",
       "    </tr>\n",
       "    <tr>\n",
       "      <th>3</th>\n",
       "      <td>1/2/2015</td>\n",
       "      <td>286</td>\n",
       "      <td>NaN</td>\n",
       "      <td>8157.0</td>\n",
       "      <td>NaN</td>\n",
       "      <td>NaN</td>\n",
       "      <td>NaN</td>\n",
       "      <td>NaN</td>\n",
       "      <td>NaN</td>\n",
       "      <td>NaN</td>\n",
       "      <td>NaN</td>\n",
       "      <td>3496.0</td>\n",
       "      <td>NaN</td>\n",
       "      <td>NaN</td>\n",
       "      <td>NaN</td>\n",
       "      <td>NaN</td>\n",
       "      <td>NaN</td>\n",
       "      <td>NaN</td>\n",
       "    </tr>\n",
       "    <tr>\n",
       "      <th>4</th>\n",
       "      <td>12/31/2014</td>\n",
       "      <td>284</td>\n",
       "      <td>2730.0</td>\n",
       "      <td>8115.0</td>\n",
       "      <td>9633.0</td>\n",
       "      <td>NaN</td>\n",
       "      <td>NaN</td>\n",
       "      <td>NaN</td>\n",
       "      <td>NaN</td>\n",
       "      <td>NaN</td>\n",
       "      <td>1739.0</td>\n",
       "      <td>3471.0</td>\n",
       "      <td>2827.0</td>\n",
       "      <td>NaN</td>\n",
       "      <td>NaN</td>\n",
       "      <td>NaN</td>\n",
       "      <td>NaN</td>\n",
       "      <td>NaN</td>\n",
       "    </tr>\n",
       "  </tbody>\n",
       "</table>\n",
       "</div>"
      ],
      "text/plain": [
       "         Date  Day  Cases_Guinea  Cases_Liberia  Cases_SierraLeone  \\\n",
       "0    1/5/2015  289        2776.0            NaN            10030.0   \n",
       "1    1/4/2015  288        2775.0            NaN             9780.0   \n",
       "2    1/3/2015  287        2769.0         8166.0             9722.0   \n",
       "3    1/2/2015  286           NaN         8157.0                NaN   \n",
       "4  12/31/2014  284        2730.0         8115.0             9633.0   \n",
       "\n",
       "   Cases_Nigeria  Cases_Senegal  Cases_UnitedStates  Cases_Spain  Cases_Mali  \\\n",
       "0            NaN            NaN                 NaN          NaN         NaN   \n",
       "1            NaN            NaN                 NaN          NaN         NaN   \n",
       "2            NaN            NaN                 NaN          NaN         NaN   \n",
       "3            NaN            NaN                 NaN          NaN         NaN   \n",
       "4            NaN            NaN                 NaN          NaN         NaN   \n",
       "\n",
       "   Deaths_Guinea  Deaths_Liberia  Deaths_SierraLeone  Deaths_Nigeria  \\\n",
       "0         1786.0             NaN              2977.0             NaN   \n",
       "1         1781.0             NaN              2943.0             NaN   \n",
       "2         1767.0          3496.0              2915.0             NaN   \n",
       "3            NaN          3496.0                 NaN             NaN   \n",
       "4         1739.0          3471.0              2827.0             NaN   \n",
       "\n",
       "   Deaths_Senegal  Deaths_UnitedStates  Deaths_Spain  Deaths_Mali  \n",
       "0             NaN                  NaN           NaN          NaN  \n",
       "1             NaN                  NaN           NaN          NaN  \n",
       "2             NaN                  NaN           NaN          NaN  \n",
       "3             NaN                  NaN           NaN          NaN  \n",
       "4             NaN                  NaN           NaN          NaN  "
      ]
     },
     "execution_count": 9,
     "metadata": {},
     "output_type": "execute_result"
    }
   ],
   "source": [
    "ebola.head()"
   ]
  },
  {
   "cell_type": "markdown",
   "metadata": {},
   "source": [
    "pd.to_datetime 함수를 이용하여 datetime 객체로 변환할 수 있다."
   ]
  },
  {
   "cell_type": "code",
   "execution_count": 10,
   "metadata": {},
   "outputs": [
    {
     "name": "stdout",
     "output_type": "stream",
     "text": [
      "<class 'pandas.core.frame.DataFrame'>\n",
      "RangeIndex: 122 entries, 0 to 121\n",
      "Data columns (total 19 columns):\n",
      "Date                   122 non-null object\n",
      "Day                    122 non-null int64\n",
      "Cases_Guinea           93 non-null float64\n",
      "Cases_Liberia          83 non-null float64\n",
      "Cases_SierraLeone      87 non-null float64\n",
      "Cases_Nigeria          38 non-null float64\n",
      "Cases_Senegal          25 non-null float64\n",
      "Cases_UnitedStates     18 non-null float64\n",
      "Cases_Spain            16 non-null float64\n",
      "Cases_Mali             12 non-null float64\n",
      "Deaths_Guinea          92 non-null float64\n",
      "Deaths_Liberia         81 non-null float64\n",
      "Deaths_SierraLeone     87 non-null float64\n",
      "Deaths_Nigeria         38 non-null float64\n",
      "Deaths_Senegal         22 non-null float64\n",
      "Deaths_UnitedStates    18 non-null float64\n",
      "Deaths_Spain           16 non-null float64\n",
      "Deaths_Mali            12 non-null float64\n",
      "date_dt                122 non-null datetime64[ns]\n",
      "dtypes: datetime64[ns](1), float64(16), int64(1), object(1)\n",
      "memory usage: 18.2+ KB\n",
      "None\n"
     ]
    }
   ],
   "source": [
    "ebola['date_dt'] = pd.to_datetime(ebola['Date'])\n",
    "print(ebola.info())"
   ]
  },
  {
   "cell_type": "code",
   "execution_count": 11,
   "metadata": {},
   "outputs": [
    {
     "data": {
      "text/html": [
       "<div>\n",
       "<style scoped>\n",
       "    .dataframe tbody tr th:only-of-type {\n",
       "        vertical-align: middle;\n",
       "    }\n",
       "\n",
       "    .dataframe tbody tr th {\n",
       "        vertical-align: top;\n",
       "    }\n",
       "\n",
       "    .dataframe thead th {\n",
       "        text-align: right;\n",
       "    }\n",
       "</style>\n",
       "<table border=\"1\" class=\"dataframe\">\n",
       "  <thead>\n",
       "    <tr style=\"text-align: right;\">\n",
       "      <th></th>\n",
       "      <th>Date</th>\n",
       "      <th>Day</th>\n",
       "      <th>Cases_Guinea</th>\n",
       "      <th>Cases_Liberia</th>\n",
       "      <th>Cases_SierraLeone</th>\n",
       "      <th>Cases_Nigeria</th>\n",
       "      <th>Cases_Senegal</th>\n",
       "      <th>Cases_UnitedStates</th>\n",
       "      <th>Cases_Spain</th>\n",
       "      <th>Cases_Mali</th>\n",
       "      <th>Deaths_Guinea</th>\n",
       "      <th>Deaths_Liberia</th>\n",
       "      <th>Deaths_SierraLeone</th>\n",
       "      <th>Deaths_Nigeria</th>\n",
       "      <th>Deaths_Senegal</th>\n",
       "      <th>Deaths_UnitedStates</th>\n",
       "      <th>Deaths_Spain</th>\n",
       "      <th>Deaths_Mali</th>\n",
       "      <th>date_dt</th>\n",
       "    </tr>\n",
       "  </thead>\n",
       "  <tbody>\n",
       "    <tr>\n",
       "      <th>0</th>\n",
       "      <td>1/5/2015</td>\n",
       "      <td>289</td>\n",
       "      <td>2776.0</td>\n",
       "      <td>NaN</td>\n",
       "      <td>10030.0</td>\n",
       "      <td>NaN</td>\n",
       "      <td>NaN</td>\n",
       "      <td>NaN</td>\n",
       "      <td>NaN</td>\n",
       "      <td>NaN</td>\n",
       "      <td>1786.0</td>\n",
       "      <td>NaN</td>\n",
       "      <td>2977.0</td>\n",
       "      <td>NaN</td>\n",
       "      <td>NaN</td>\n",
       "      <td>NaN</td>\n",
       "      <td>NaN</td>\n",
       "      <td>NaN</td>\n",
       "      <td>2015-01-05</td>\n",
       "    </tr>\n",
       "    <tr>\n",
       "      <th>1</th>\n",
       "      <td>1/4/2015</td>\n",
       "      <td>288</td>\n",
       "      <td>2775.0</td>\n",
       "      <td>NaN</td>\n",
       "      <td>9780.0</td>\n",
       "      <td>NaN</td>\n",
       "      <td>NaN</td>\n",
       "      <td>NaN</td>\n",
       "      <td>NaN</td>\n",
       "      <td>NaN</td>\n",
       "      <td>1781.0</td>\n",
       "      <td>NaN</td>\n",
       "      <td>2943.0</td>\n",
       "      <td>NaN</td>\n",
       "      <td>NaN</td>\n",
       "      <td>NaN</td>\n",
       "      <td>NaN</td>\n",
       "      <td>NaN</td>\n",
       "      <td>2015-01-04</td>\n",
       "    </tr>\n",
       "    <tr>\n",
       "      <th>2</th>\n",
       "      <td>1/3/2015</td>\n",
       "      <td>287</td>\n",
       "      <td>2769.0</td>\n",
       "      <td>8166.0</td>\n",
       "      <td>9722.0</td>\n",
       "      <td>NaN</td>\n",
       "      <td>NaN</td>\n",
       "      <td>NaN</td>\n",
       "      <td>NaN</td>\n",
       "      <td>NaN</td>\n",
       "      <td>1767.0</td>\n",
       "      <td>3496.0</td>\n",
       "      <td>2915.0</td>\n",
       "      <td>NaN</td>\n",
       "      <td>NaN</td>\n",
       "      <td>NaN</td>\n",
       "      <td>NaN</td>\n",
       "      <td>NaN</td>\n",
       "      <td>2015-01-03</td>\n",
       "    </tr>\n",
       "    <tr>\n",
       "      <th>3</th>\n",
       "      <td>1/2/2015</td>\n",
       "      <td>286</td>\n",
       "      <td>NaN</td>\n",
       "      <td>8157.0</td>\n",
       "      <td>NaN</td>\n",
       "      <td>NaN</td>\n",
       "      <td>NaN</td>\n",
       "      <td>NaN</td>\n",
       "      <td>NaN</td>\n",
       "      <td>NaN</td>\n",
       "      <td>NaN</td>\n",
       "      <td>3496.0</td>\n",
       "      <td>NaN</td>\n",
       "      <td>NaN</td>\n",
       "      <td>NaN</td>\n",
       "      <td>NaN</td>\n",
       "      <td>NaN</td>\n",
       "      <td>NaN</td>\n",
       "      <td>2015-01-02</td>\n",
       "    </tr>\n",
       "    <tr>\n",
       "      <th>4</th>\n",
       "      <td>12/31/2014</td>\n",
       "      <td>284</td>\n",
       "      <td>2730.0</td>\n",
       "      <td>8115.0</td>\n",
       "      <td>9633.0</td>\n",
       "      <td>NaN</td>\n",
       "      <td>NaN</td>\n",
       "      <td>NaN</td>\n",
       "      <td>NaN</td>\n",
       "      <td>NaN</td>\n",
       "      <td>1739.0</td>\n",
       "      <td>3471.0</td>\n",
       "      <td>2827.0</td>\n",
       "      <td>NaN</td>\n",
       "      <td>NaN</td>\n",
       "      <td>NaN</td>\n",
       "      <td>NaN</td>\n",
       "      <td>NaN</td>\n",
       "      <td>2014-12-31</td>\n",
       "    </tr>\n",
       "  </tbody>\n",
       "</table>\n",
       "</div>"
      ],
      "text/plain": [
       "         Date  Day  Cases_Guinea  Cases_Liberia  Cases_SierraLeone  \\\n",
       "0    1/5/2015  289        2776.0            NaN            10030.0   \n",
       "1    1/4/2015  288        2775.0            NaN             9780.0   \n",
       "2    1/3/2015  287        2769.0         8166.0             9722.0   \n",
       "3    1/2/2015  286           NaN         8157.0                NaN   \n",
       "4  12/31/2014  284        2730.0         8115.0             9633.0   \n",
       "\n",
       "   Cases_Nigeria  Cases_Senegal  Cases_UnitedStates  Cases_Spain  Cases_Mali  \\\n",
       "0            NaN            NaN                 NaN          NaN         NaN   \n",
       "1            NaN            NaN                 NaN          NaN         NaN   \n",
       "2            NaN            NaN                 NaN          NaN         NaN   \n",
       "3            NaN            NaN                 NaN          NaN         NaN   \n",
       "4            NaN            NaN                 NaN          NaN         NaN   \n",
       "\n",
       "   Deaths_Guinea  Deaths_Liberia  Deaths_SierraLeone  Deaths_Nigeria  \\\n",
       "0         1786.0             NaN              2977.0             NaN   \n",
       "1         1781.0             NaN              2943.0             NaN   \n",
       "2         1767.0          3496.0              2915.0             NaN   \n",
       "3            NaN          3496.0                 NaN             NaN   \n",
       "4         1739.0          3471.0              2827.0             NaN   \n",
       "\n",
       "   Deaths_Senegal  Deaths_UnitedStates  Deaths_Spain  Deaths_Mali    date_dt  \n",
       "0             NaN                  NaN           NaN          NaN 2015-01-05  \n",
       "1             NaN                  NaN           NaN          NaN 2015-01-04  \n",
       "2             NaN                  NaN           NaN          NaN 2015-01-03  \n",
       "3             NaN                  NaN           NaN          NaN 2015-01-02  \n",
       "4             NaN                  NaN           NaN          NaN 2014-12-31  "
      ]
     },
     "execution_count": 11,
     "metadata": {},
     "output_type": "execute_result"
    }
   ],
   "source": [
    "ebola.head()"
   ]
  },
  {
   "cell_type": "markdown",
   "metadata": {},
   "source": [
    "#### 2) pd.to_datetime 메소드의 용법\n",
    "다양한 format을 적용하여 다양한 datetime 데이터를 얻을 수 있다."
   ]
  },
  {
   "cell_type": "code",
   "execution_count": 12,
   "metadata": {},
   "outputs": [
    {
     "name": "stdout",
     "output_type": "stream",
     "text": [
      "  order_day   date_dt1   date_dt2   date_dt3\n",
      "0  01/01/15 2015-01-01 2015-01-01 2001-01-15\n",
      "1  02/01/15 2015-01-02 2015-02-01 2002-01-15\n",
      "2  03/01/15 2015-01-03 2015-03-01 2003-01-15\n"
     ]
    }
   ],
   "source": [
    "test_df1 = pd.DataFrame({'order_day':['01/01/15', '02/01/15', '03/01/15']})\n",
    "\n",
    "test_df1['date_dt1'] = pd.to_datetime(test_df1['order_day'], format='%d/%m/%y')\n",
    "test_df1['date_dt2'] = pd.to_datetime(test_df1['order_day'], format='%m/%d/%y')\n",
    "test_df1['date_dt3'] = pd.to_datetime(test_df1['order_day'], format='%y/%m/%d')\n",
    "\n",
    "print(test_df1)"
   ]
  },
  {
   "cell_type": "code",
   "execution_count": 13,
   "metadata": {},
   "outputs": [
    {
     "name": "stdout",
     "output_type": "stream",
     "text": [
      "  order_day    date_dt\n",
      "0  01-01-15 2015-01-01\n",
      "1  02-01-15 2015-01-02\n",
      "2  03-01-15 2015-01-03\n"
     ]
    }
   ],
   "source": [
    "test_df2 = pd.DataFrame({'order_day':['01-01-15', '02-01-15', '03-01-15']})\n",
    "test_df2['date_dt'] = pd.to_datetime(test_df2['order_day'], format='%d-%m-%y')\n",
    "\n",
    "print(test_df2)"
   ]
  },
  {
   "cell_type": "markdown",
   "metadata": {},
   "source": [
    "#### 3) 시간형식 지정자\n",
    "\n",
    "datetime 포맷 규칙(ISO C89 호환): 년월일은 소문자, 시분초는 대문자로 포맷\n",
    "<table align=\"left\">\n",
    "  <tr>\n",
    "    <th>[ 지시자 ]</th>\n",
    "    <th>[ 내용 ]</th>\n",
    "  </tr>\n",
    "  <tr>\n",
    "    <td>%y</td>\n",
    "    <td>연도를 2자리로 축약하여 표시</td>\n",
    "  </tr>\n",
    "  <tr>\n",
    "    <td>%Y</td>\n",
    "    <td>연도를 4자리로 표시</td>\n",
    "  </tr>\n",
    "  <tr>\n",
    "    <td>%b</td>\n",
    "    <td>축약된 월 이름</td>\n",
    "  </tr>\n",
    "  <tr>\n",
    "    <td>%B</td>\n",
    "    <td>축약되지 않은 월 이름</td>\n",
    "  </tr>\n",
    "  <tr>\n",
    "    <td>%m</td>\n",
    "    <td>숫자로 표현한 월(01~12)</td>\n",
    "  </tr>\n",
    "  <tr>\n",
    "    <td>%d</td>\n",
    "    <td>일(01~31)</td>\n",
    "  </tr>\n",
    "  <tr>\n",
    "    <td>%H</td>\n",
    "    <td>24시를 기준으로 한 시(00~23)</td>\n",
    "  </tr>\n",
    "  <tr>\n",
    "    <td>%I</td>\n",
    "    <td>12시를 기준으로 한 시(01~12)</td>\n",
    "  </tr>\n",
    "  <tr>\n",
    "    <td>%M</td>\n",
    "    <td>분(00~59)</td>\n",
    "  </tr>\n",
    "  <tr>\n",
    "    <td>%S</td>\n",
    "    <td>초(00~59)</td>\n",
    "  </tr>\n",
    "  <tr>\n",
    "    <td>%p</td>\n",
    "    <td>locale 기준 오전(AM) / 오후(PM)을 표시</td>\n",
    "  </tr>\n",
    "  <tr>\n",
    "    <td>%a</td>\n",
    "    <td>축약된 요일 이름</td>\n",
    "  </tr>\n",
    "  <tr>\n",
    "    <td>%A</td>\n",
    "    <td>축약되지 않은 요일 이름</td>\n",
    "  </tr>\n",
    "  <tr>\n",
    "    <td>%w</td>\n",
    "    <td>요일을 숫자로 표시(예: 일요일(0))</td>\n",
    "  </tr>\n",
    "  <tr>\n",
    "    <td>%j</td>\n",
    "    <td>정수로 표현한 연중 일 수(일차) [001,366].</td>\n",
    "  </tr>\n",
    "</table>"
   ]
  },
  {
   "cell_type": "markdown",
   "metadata": {},
   "source": [
    "#### 4) 시계열 데이터를 구분해서 추출하고 싶어요(243쪽)\n",
    "now 메서드로 얻은 현재 시간의 시계열 데이터는 아주 정밀한 단위까지시간을 표현합니다. 하지만 원 하는 시계열 데이터의 시간 요소가 연도, 월, 일뿐이라면 now 메서드로 얻은 시계열 데이터를 잘라내야 합니다. \n",
    "\n",
    "다음은 strftime 메서드와 시간 형식 지정자를 이용하여 시계열 데이터를 잘라낸 것입니다."
   ]
  },
  {
   "cell_type": "code",
   "execution_count": 14,
   "metadata": {},
   "outputs": [
    {
     "name": "stdout",
     "output_type": "stream",
     "text": [
      "2020-01-03 16:26:51.454638\n"
     ]
    }
   ],
   "source": [
    "now = datetime.now()\n",
    "print(now)"
   ]
  },
  {
   "cell_type": "code",
   "execution_count": 24,
   "metadata": {
    "scrolled": true
   },
   "outputs": [
    {
     "data": {
      "text/plain": [
       "'2020-01-03 16:26:51.454638'"
      ]
     },
     "execution_count": 24,
     "metadata": {},
     "output_type": "execute_result"
    }
   ],
   "source": [
    "str(now)"
   ]
  },
  {
   "cell_type": "code",
   "execution_count": 25,
   "metadata": {},
   "outputs": [
    {
     "name": "stdout",
     "output_type": "stream",
     "text": [
      "2020-01-03\n"
     ]
    }
   ],
   "source": [
    "nowDate = now.strftime('%Y-%m-%d')\n",
    "print(nowDate)"
   ]
  },
  {
   "cell_type": "code",
   "execution_count": 26,
   "metadata": {},
   "outputs": [
    {
     "name": "stdout",
     "output_type": "stream",
     "text": [
      "16:26:51\n"
     ]
    }
   ],
   "source": [
    "nowTime = now.strftime('%H:%M:%S')\n",
    "print(nowTime) "
   ]
  },
  {
   "cell_type": "code",
   "execution_count": 27,
   "metadata": {},
   "outputs": [
    {
     "name": "stdout",
     "output_type": "stream",
     "text": [
      "2020-01-03 16:26:51\n"
     ]
    }
   ],
   "source": [
    "nowDatetime = now.strftime('%Y-%m-%d %H:%M:%S')\n",
    "print(nowDatetime) "
   ]
  },
  {
   "cell_type": "markdown",
   "metadata": {},
   "source": [
    "### 12.1.3 datetime 객체 변환 - read_csv\n",
    "앞에서는 to_datetime 메서드를 사용하여 문자열로 저장되어 있는 Date 열을 datetime 오브젝트로 변환했습니다. 하지만 datetime 오브젝트로 변환하려는 열을 지정하여 데이 터 집합을 불러오는 것이 더 간단합니다. \n",
    "\n",
    "다음 실습을 통해 알아보겠습니다.\n",
    "#### 1) datetime 객체로 변환하려는 열을 지정하여 데이터 집합 불러오기(244쪽)"
   ]
  },
  {
   "cell_type": "code",
   "execution_count": 28,
   "metadata": {},
   "outputs": [
    {
     "name": "stdout",
     "output_type": "stream",
     "text": [
      "<class 'pandas.core.frame.DataFrame'>\n",
      "RangeIndex: 122 entries, 0 to 121\n",
      "Data columns (total 18 columns):\n",
      "Date                   122 non-null datetime64[ns]\n",
      "Day                    122 non-null int64\n",
      "Cases_Guinea           93 non-null float64\n",
      "Cases_Liberia          83 non-null float64\n",
      "Cases_SierraLeone      87 non-null float64\n",
      "Cases_Nigeria          38 non-null float64\n",
      "Cases_Senegal          25 non-null float64\n",
      "Cases_UnitedStates     18 non-null float64\n",
      "Cases_Spain            16 non-null float64\n",
      "Cases_Mali             12 non-null float64\n",
      "Deaths_Guinea          92 non-null float64\n",
      "Deaths_Liberia         81 non-null float64\n",
      "Deaths_SierraLeone     87 non-null float64\n",
      "Deaths_Nigeria         38 non-null float64\n",
      "Deaths_Senegal         22 non-null float64\n",
      "Deaths_UnitedStates    18 non-null float64\n",
      "Deaths_Spain           16 non-null float64\n",
      "Deaths_Mali            12 non-null float64\n",
      "dtypes: datetime64[ns](1), float64(16), int64(1)\n",
      "memory usage: 17.2 KB\n",
      "None\n"
     ]
    }
   ],
   "source": [
    "ebola1 = pd.read_csv('../data/country_timeseries.csv', \n",
    "                     parse_dates=['Date']) \n",
    "print(ebola1.info())"
   ]
  },
  {
   "cell_type": "markdown",
   "metadata": {},
   "source": [
    "#### 2) datetime 객체에서 날짜 정보 추출하기(244쪽)\n",
    "다음은 문자열로 저장된 날짜를 시리즈에 담아 datetime 오브젝트로 변환한 것입니다"
   ]
  },
  {
   "cell_type": "code",
   "execution_count": 29,
   "metadata": {},
   "outputs": [
    {
     "name": "stdout",
     "output_type": "stream",
     "text": [
      "0   2018-05-16\n",
      "1   2018-05-17\n",
      "2   2018-05-18\n",
      "dtype: datetime64[ns]\n"
     ]
    }
   ],
   "source": [
    "date_series = pd.Series(['2018-05-16', '2018-05-17', '2018-05-18'])\n",
    "d1 = pd.to_datetime(date_series) \n",
    "print(d1)"
   ]
  },
  {
   "cell_type": "code",
   "execution_count": 30,
   "metadata": {},
   "outputs": [
    {
     "name": "stdout",
     "output_type": "stream",
     "text": [
      "2018\n"
     ]
    }
   ],
   "source": [
    "print(d1[0].year)"
   ]
  },
  {
   "cell_type": "code",
   "execution_count": 31,
   "metadata": {},
   "outputs": [
    {
     "name": "stdout",
     "output_type": "stream",
     "text": [
      "5\n"
     ]
    }
   ],
   "source": [
    "print(d1[0].month)"
   ]
  },
  {
   "cell_type": "code",
   "execution_count": 32,
   "metadata": {},
   "outputs": [
    {
     "name": "stdout",
     "output_type": "stream",
     "text": [
      "16\n"
     ]
    }
   ],
   "source": [
    "print(d1[0].day)"
   ]
  },
  {
   "cell_type": "markdown",
   "metadata": {},
   "source": [
    "<font color='red'>[Quiz] </font> 요일 정보는 어떻게 출력할까요?"
   ]
  },
  {
   "cell_type": "code",
   "execution_count": 69,
   "metadata": {},
   "outputs": [
    {
     "data": {
      "text/plain": [
       "Timestamp('2018-05-16 00:00:00')"
      ]
     },
     "execution_count": 69,
     "metadata": {},
     "output_type": "execute_result"
    }
   ],
   "source": [
    "dt1 = d1[0]\n",
    "dt1"
   ]
  },
  {
   "cell_type": "code",
   "execution_count": 70,
   "metadata": {},
   "outputs": [
    {
     "data": {
      "text/plain": [
       "20"
      ]
     },
     "execution_count": 70,
     "metadata": {},
     "output_type": "execute_result"
    }
   ],
   "source": [
    "dt1.week"
   ]
  },
  {
   "cell_type": "code",
   "execution_count": 71,
   "metadata": {},
   "outputs": [
    {
     "data": {
      "text/plain": [
       "20"
      ]
     },
     "execution_count": 71,
     "metadata": {},
     "output_type": "execute_result"
    }
   ],
   "source": [
    "dt1.weekofyear"
   ]
  },
  {
   "cell_type": "code",
   "execution_count": 72,
   "metadata": {},
   "outputs": [
    {
     "data": {
      "text/plain": [
       "2"
      ]
     },
     "execution_count": 72,
     "metadata": {},
     "output_type": "execute_result"
    }
   ],
   "source": [
    "# Monday == 0 ... Sunday == 6\n",
    "dt1.weekday()"
   ]
  },
  {
   "cell_type": "code",
   "execution_count": 73,
   "metadata": {},
   "outputs": [
    {
     "name": "stderr",
     "output_type": "stream",
     "text": [
      "C:\\ai\\python\\anaconda3\\lib\\site-packages\\ipykernel_launcher.py:1: FutureWarning: `weekday_name` is deprecated and will be removed in a future version. Use `day_name` instead\n",
      "  \"\"\"Entry point for launching an IPython kernel.\n"
     ]
    },
    {
     "data": {
      "text/plain": [
       "'Wednesday'"
      ]
     },
     "execution_count": 73,
     "metadata": {},
     "output_type": "execute_result"
    }
   ],
   "source": [
    "dt1.weekday_name"
   ]
  },
  {
   "cell_type": "code",
   "execution_count": 74,
   "metadata": {},
   "outputs": [
    {
     "data": {
      "text/plain": [
       "'Wednesday'"
      ]
     },
     "execution_count": 74,
     "metadata": {},
     "output_type": "execute_result"
    }
   ],
   "source": [
    "dt1.day_name()"
   ]
  },
  {
   "cell_type": "code",
   "execution_count": 75,
   "metadata": {},
   "outputs": [
    {
     "data": {
      "text/plain": [
       "2"
      ]
     },
     "execution_count": 75,
     "metadata": {},
     "output_type": "execute_result"
    }
   ],
   "source": [
    "dt1.dayofweek"
   ]
  },
  {
   "cell_type": "markdown",
   "metadata": {},
   "source": [
    "### 12.1.4 dt 접근자 사용하기\n",
    "문자열을 처리하려면 str 접근자를 사용한 다음 문자열 속성이나 메서드를 사용할 수 있었습니다. \n",
    "\n",
    "datetime 오브젝트도 마찬가지로 dt 접근자를 사용하면 datetime 속성이나 메서 를 사용하여 시계열 데이터를 처리할 수 있습니다.\n",
    "\n",
    "#### 1) dt 접근자로 시계열 데이터 정리하기(245쪽)"
   ]
  },
  {
   "cell_type": "code",
   "execution_count": 76,
   "metadata": {},
   "outputs": [],
   "source": [
    "ebola = pd.read_csv('../data/country_timeseries.csv')\n",
    "ebola['date_dt'] = pd.to_datetime(ebola['Date'])"
   ]
  },
  {
   "cell_type": "code",
   "execution_count": 77,
   "metadata": {},
   "outputs": [
    {
     "name": "stdout",
     "output_type": "stream",
     "text": [
      "         Date    date_dt\n",
      "0    1/5/2015 2015-01-05\n",
      "1    1/4/2015 2015-01-04\n",
      "2    1/3/2015 2015-01-03\n",
      "3    1/2/2015 2015-01-02\n",
      "4  12/31/2014 2014-12-31\n"
     ]
    }
   ],
   "source": [
    "print(ebola[['Date', 'date_dt']].head())"
   ]
  },
  {
   "cell_type": "markdown",
   "metadata": {},
   "source": [
    "dt 접근자를 사용하지 않고, index가 3인 데이터의 년,월,일 정보를 추출하는 예이다."
   ]
  },
  {
   "cell_type": "code",
   "execution_count": 78,
   "metadata": {},
   "outputs": [
    {
     "name": "stdout",
     "output_type": "stream",
     "text": [
      "2015\n"
     ]
    }
   ],
   "source": [
    "print(ebola['date_dt'][3].year)"
   ]
  },
  {
   "cell_type": "code",
   "execution_count": 79,
   "metadata": {},
   "outputs": [
    {
     "name": "stdout",
     "output_type": "stream",
     "text": [
      "1\n"
     ]
    }
   ],
   "source": [
    "print(ebola['date_dt'][3].month)"
   ]
  },
  {
   "cell_type": "code",
   "execution_count": 80,
   "metadata": {},
   "outputs": [
    {
     "name": "stdout",
     "output_type": "stream",
     "text": [
      "2\n"
     ]
    }
   ],
   "source": [
    "print(ebola['date_dt'][3].day)"
   ]
  },
  {
   "cell_type": "markdown",
   "metadata": {},
   "source": [
    "dt 접근자를 이용하며, 쉽게 datetimne 멤버변수인 year, month, day를 이용할 수 있습니다."
   ]
  },
  {
   "cell_type": "code",
   "execution_count": 84,
   "metadata": {},
   "outputs": [
    {
     "name": "stdout",
     "output_type": "stream",
     "text": [
      "         Date    date_dt  year\n",
      "0    1/5/2015 2015-01-05  2015\n",
      "1    1/4/2015 2015-01-04  2015\n",
      "2    1/3/2015 2015-01-03  2015\n",
      "3    1/2/2015 2015-01-02  2015\n",
      "4  12/31/2014 2014-12-31  2014\n"
     ]
    }
   ],
   "source": [
    "ebola['year'] = ebola['date_dt'].dt.year\n",
    "print(ebola[['Date', 'date_dt', 'year']].head())"
   ]
  },
  {
   "cell_type": "code",
   "execution_count": 85,
   "metadata": {},
   "outputs": [
    {
     "name": "stdout",
     "output_type": "stream",
     "text": [
      "         Date    date_dt  year  month  day\n",
      "0    1/5/2015 2015-01-05  2015      1    5\n",
      "1    1/4/2015 2015-01-04  2015      1    4\n",
      "2    1/3/2015 2015-01-03  2015      1    3\n",
      "3    1/2/2015 2015-01-02  2015      1    2\n",
      "4  12/31/2014 2014-12-31  2014     12   31\n"
     ]
    }
   ],
   "source": [
    "ebola['month'], ebola['day'] = (ebola['date_dt'].dt.month, ebola['date_dt'].dt.day)\n",
    "\n",
    "print(ebola[['Date', 'date_dt', 'year', 'month', 'day']].head())"
   ]
  },
  {
   "cell_type": "code",
   "execution_count": 86,
   "metadata": {},
   "outputs": [
    {
     "name": "stdout",
     "output_type": "stream",
     "text": [
      "<class 'pandas.core.frame.DataFrame'>\n",
      "RangeIndex: 122 entries, 0 to 121\n",
      "Data columns (total 22 columns):\n",
      "Date                   122 non-null object\n",
      "Day                    122 non-null int64\n",
      "Cases_Guinea           93 non-null float64\n",
      "Cases_Liberia          83 non-null float64\n",
      "Cases_SierraLeone      87 non-null float64\n",
      "Cases_Nigeria          38 non-null float64\n",
      "Cases_Senegal          25 non-null float64\n",
      "Cases_UnitedStates     18 non-null float64\n",
      "Cases_Spain            16 non-null float64\n",
      "Cases_Mali             12 non-null float64\n",
      "Deaths_Guinea          92 non-null float64\n",
      "Deaths_Liberia         81 non-null float64\n",
      "Deaths_SierraLeone     87 non-null float64\n",
      "Deaths_Nigeria         38 non-null float64\n",
      "Deaths_Senegal         22 non-null float64\n",
      "Deaths_UnitedStates    18 non-null float64\n",
      "Deaths_Spain           16 non-null float64\n",
      "Deaths_Mali            12 non-null float64\n",
      "date_dt                122 non-null datetime64[ns]\n",
      "year                   122 non-null int64\n",
      "month                  122 non-null int64\n",
      "day                    122 non-null int64\n",
      "dtypes: datetime64[ns](1), float64(16), int64(4), object(1)\n",
      "memory usage: 21.0+ KB\n",
      "None\n"
     ]
    }
   ],
   "source": [
    "print(ebola.info())"
   ]
  },
  {
   "cell_type": "markdown",
   "metadata": {},
   "source": [
    "## 12.2 시계열 데이터 계산하기\n",
    "### 12.2.1 에볼라 최초 발병일 계산하기(248쪽)\n",
    "ebola 데이터는 시간 역순으로 정렬되어 있다."
   ]
  },
  {
   "cell_type": "code",
   "execution_count": 29,
   "metadata": {},
   "outputs": [
    {
     "name": "stdout",
     "output_type": "stream",
     "text": [
      "          Date  Day  Cases_Guinea  Cases_Liberia  Cases_SierraLeone\n",
      "117  3/27/2014    5         103.0            8.0                6.0\n",
      "118  3/26/2014    4          86.0            NaN                NaN\n",
      "119  3/25/2014    3          86.0            NaN                NaN\n",
      "120  3/24/2014    2          86.0            NaN                NaN\n",
      "121  3/22/2014    0          49.0            NaN                NaN\n"
     ]
    }
   ],
   "source": [
    "print(ebola.iloc[-5:, :5])"
   ]
  },
  {
   "cell_type": "markdown",
   "metadata": {},
   "source": [
    "ebola 최조 발병일을 알아보고, 최초 발병일로두터의 누적 일자를 계산해보자."
   ]
  },
  {
   "cell_type": "code",
   "execution_count": 87,
   "metadata": {},
   "outputs": [
    {
     "name": "stdout",
     "output_type": "stream",
     "text": [
      "2014-03-22 00:00:00\n",
      "<class 'pandas._libs.tslibs.timestamps.Timestamp'>\n"
     ]
    }
   ],
   "source": [
    "print(ebola['date_dt'].min())\n",
    "print(type(ebola['date_dt'].min()))"
   ]
  },
  {
   "cell_type": "code",
   "execution_count": 88,
   "metadata": {},
   "outputs": [
    {
     "name": "stdout",
     "output_type": "stream",
     "text": [
      "         Date  Day outbreak_d\n",
      "0    1/5/2015  289   289 days\n",
      "1    1/4/2015  288   288 days\n",
      "2    1/3/2015  287   287 days\n",
      "3    1/2/2015  286   286 days\n",
      "4  12/31/2014  284   284 days\n"
     ]
    }
   ],
   "source": [
    "ebola['outbreak_d'] = ebola['date_dt'] - ebola['date_dt'].min()\n",
    "\n",
    "print(ebola[['Date', 'Day', 'outbreak_d']].head())"
   ]
  },
  {
   "cell_type": "markdown",
   "metadata": {},
   "source": [
    "### 12.2.2 파산한 은행의 개수 계산하기(249쪽)"
   ]
  },
  {
   "cell_type": "code",
   "execution_count": 89,
   "metadata": {},
   "outputs": [
    {
     "name": "stdout",
     "output_type": "stream",
     "text": [
      "                                           Bank Name         City  ST   CERT  \\\n",
      "0                Washington Federal Bank for Savings      Chicago  IL  30570   \n",
      "1    The Farmers and Merchants State Bank of Argonia      Argonia  KS  17719   \n",
      "2                                Fayette County Bank   Saint Elmo  IL   1802   \n",
      "3  Guaranty Bank, (d/b/a BestBank in Georgia & Mi...    Milwaukee  WI  30003   \n",
      "4                                     First NBC Bank  New Orleans  LA  58302   \n",
      "\n",
      "                 Acquiring Institution Closing Date Updated Date  \n",
      "0                   Royal Savings Bank    15-Dec-17    20-Dec-17  \n",
      "1                          Conway Bank    13-Oct-17    20-Oct-17  \n",
      "2            United Fidelity Bank, fsb    26-May-17    26-Jul-17  \n",
      "3  First-Citizens Bank & Trust Company     5-May-17    26-Jul-17  \n",
      "4                         Whitney Bank    28-Apr-17     5-Dec-17  \n"
     ]
    }
   ],
   "source": [
    "banks = pd.read_csv('../data/banklist.csv') \n",
    "print(banks.head())"
   ]
  },
  {
   "cell_type": "code",
   "execution_count": 90,
   "metadata": {},
   "outputs": [
    {
     "name": "stdout",
     "output_type": "stream",
     "text": [
      "<class 'pandas.core.frame.DataFrame'>\n",
      "RangeIndex: 555 entries, 0 to 554\n",
      "Data columns (total 7 columns):\n",
      "Bank Name                555 non-null object\n",
      "City                     555 non-null object\n",
      "ST                       555 non-null object\n",
      "CERT                     555 non-null int64\n",
      "Acquiring Institution    555 non-null object\n",
      "Closing Date             555 non-null object\n",
      "Updated Date             555 non-null object\n",
      "dtypes: int64(1), object(6)\n",
      "memory usage: 30.4+ KB\n",
      "None\n"
     ]
    }
   ],
   "source": [
    "banks_no_dates = pd.read_csv('../data/banklist.csv')\n",
    "print(banks_no_dates.info())"
   ]
  },
  {
   "cell_type": "markdown",
   "metadata": {},
   "source": [
    "열의 5,6 인덱스가 datetime 포맷임을 알고 있으므로, 이를 parse_dates 옵션에 전달한다."
   ]
  },
  {
   "cell_type": "code",
   "execution_count": 91,
   "metadata": {},
   "outputs": [
    {
     "name": "stdout",
     "output_type": "stream",
     "text": [
      "<class 'pandas.core.frame.DataFrame'>\n",
      "RangeIndex: 555 entries, 0 to 554\n",
      "Data columns (total 7 columns):\n",
      "Bank Name                555 non-null object\n",
      "City                     555 non-null object\n",
      "ST                       555 non-null object\n",
      "CERT                     555 non-null int64\n",
      "Acquiring Institution    555 non-null object\n",
      "Closing Date             555 non-null datetime64[ns]\n",
      "Updated Date             555 non-null datetime64[ns]\n",
      "dtypes: datetime64[ns](2), int64(1), object(4)\n",
      "memory usage: 30.4+ KB\n",
      "None\n"
     ]
    }
   ],
   "source": [
    "banks = pd.read_csv('../data/banklist.csv', parse_dates=[5, 6]) \n",
    "print(banks.info())"
   ]
  },
  {
   "cell_type": "markdown",
   "metadata": {},
   "source": [
    "dt 접근자와 quarter 속성을 이용하면 은행이 파산한 분기를 알 수 있습니다. \n",
    "\n",
    "다음은 dt 접근자와 year, quarter 속성을 이용하여 은행이 파산한 연도, 분기를 새로운 열로 추가한 것입니다."
   ]
  },
  {
   "cell_type": "code",
   "execution_count": 92,
   "metadata": {},
   "outputs": [
    {
     "name": "stdout",
     "output_type": "stream",
     "text": [
      "                                           Bank Name         City  ST   CERT  \\\n",
      "0                Washington Federal Bank for Savings      Chicago  IL  30570   \n",
      "1    The Farmers and Merchants State Bank of Argonia      Argonia  KS  17719   \n",
      "2                                Fayette County Bank   Saint Elmo  IL   1802   \n",
      "3  Guaranty Bank, (d/b/a BestBank in Georgia & Mi...    Milwaukee  WI  30003   \n",
      "4                                     First NBC Bank  New Orleans  LA  58302   \n",
      "\n",
      "                 Acquiring Institution Closing Date Updated Date  \\\n",
      "0                   Royal Savings Bank   2017-12-15   2017-12-20   \n",
      "1                          Conway Bank   2017-10-13   2017-10-20   \n",
      "2            United Fidelity Bank, fsb   2017-05-26   2017-07-26   \n",
      "3  First-Citizens Bank & Trust Company   2017-05-05   2017-07-26   \n",
      "4                         Whitney Bank   2017-04-28   2017-12-05   \n",
      "\n",
      "   closing_quarter  closing_year  \n",
      "0                4          2017  \n",
      "1                4          2017  \n",
      "2                2          2017  \n",
      "3                2          2017  \n",
      "4                2          2017  \n"
     ]
    }
   ],
   "source": [
    "banks['closing_quarter'], banks['closing_year'] = (banks['Closing Date'].dt.quarter, banks['Closing Date'].dt.year)\n",
    "\n",
    "print(banks.head())"
   ]
  },
  {
   "cell_type": "markdown",
   "metadata": {},
   "source": [
    "이제 연도별로 파산한 은행이 얼마나 되는지 알아볼까요? grouby 메서드를 사용하면 연도별로 파산한 은행의 개수를 구할 수 있습니다"
   ]
  },
  {
   "cell_type": "code",
   "execution_count": 93,
   "metadata": {},
   "outputs": [
    {
     "name": "stdout",
     "output_type": "stream",
     "text": [
      "closing_year\n",
      "2000      2\n",
      "2001      4\n",
      "2002     11\n",
      "2003      3\n",
      "2004      4\n",
      "2007      3\n",
      "2008     25\n",
      "2009    140\n",
      "2010    157\n",
      "2011     92\n",
      "2012     51\n",
      "2013     24\n",
      "2014     18\n",
      "2015      8\n",
      "2016      5\n",
      "2017      8\n",
      "dtype: int64\n"
     ]
    }
   ],
   "source": [
    "closing_year = banks.groupby(['closing_year']).size()\n",
    "\n",
    "print(closing_year)"
   ]
  },
  {
   "cell_type": "markdown",
   "metadata": {},
   "source": [
    "각 연도별, 분기별로 파산한 은행의 개수도 알아보겠습니다. 다음은 banks 데이터프레임을 연도별로 그룹화한 다음 다시 분기별로 그룹화하여 출력한 것입니다."
   ]
  },
  {
   "cell_type": "code",
   "execution_count": 94,
   "metadata": {
    "scrolled": true
   },
   "outputs": [
    {
     "name": "stdout",
     "output_type": "stream",
     "text": [
      "closing_year  closing_quarter\n",
      "2000          4                   2\n",
      "2001          1                   1\n",
      "              2                   1\n",
      "              3                   2\n",
      "2002          1                   6\n",
      "              2                   2\n",
      "              3                   1\n",
      "              4                   2\n",
      "2003          1                   1\n",
      "              2                   1\n",
      "              4                   1\n",
      "2004          1                   3\n",
      "              2                   1\n",
      "2007          1                   1\n",
      "              3                   1\n",
      "              4                   1\n",
      "2008          1                   2\n",
      "              2                   2\n",
      "              3                   9\n",
      "              4                  12\n",
      "2009          1                  21\n",
      "              2                  24\n",
      "              3                  50\n",
      "              4                  45\n",
      "2010          1                  41\n",
      "              2                  45\n",
      "              3                  41\n",
      "              4                  30\n",
      "2011          1                  26\n",
      "              2                  22\n",
      "              3                  26\n",
      "              4                  18\n",
      "2012          1                  16\n",
      "              2                  15\n",
      "              3                  12\n",
      "              4                   8\n",
      "2013          1                   4\n",
      "              2                  12\n",
      "              3                   6\n",
      "              4                   2\n",
      "2014          1                   5\n",
      "              2                   7\n",
      "              3                   2\n",
      "              4                   4\n",
      "2015          1                   4\n",
      "              2                   1\n",
      "              3                   1\n",
      "              4                   2\n",
      "2016          1                   1\n",
      "              2                   2\n",
      "              3                   2\n",
      "2017          1                   3\n",
      "              2                   3\n",
      "              4                   2\n",
      "dtype: int64\n"
     ]
    }
   ],
   "source": [
    "closing_year_q = banks.groupby(['closing_year', 'closing_quarter']).size()\n",
    "\n",
    "print(closing_year_q)"
   ]
  },
  {
   "cell_type": "code",
   "execution_count": 97,
   "metadata": {},
   "outputs": [
    {
     "data": {
      "image/png": "[encoded data removed]",
      "text/plain": [
       "<Figure size 432x288 with 1 Axes>"
      ]
     },
     "metadata": {
      "needs_background": "light"
     },
     "output_type": "display_data"
    },
    {
     "data": {
      "image/png": "[encoded data removed]",
      "text/plain": [
       "<Figure size 432x288 with 1 Axes>"
      ]
     },
     "metadata": {
      "needs_background": "light"
     },
     "output_type": "display_data"
    }
   ],
   "source": [
    "import matplotlib.pyplot as plt\n",
    "%matplotlib inline\n",
    "\n",
    "fig, ax = plt.subplots()\n",
    "\n",
    "ax = closing_year.plot() \n",
    "plt.show()\n",
    "\n",
    "fig, ax = plt.subplots() \n",
    "ax = closing_year_q.plot() \n",
    "plt.show()"
   ]
  },
  {
   "cell_type": "markdown",
   "metadata": {},
   "source": [
    "### 12.2.3 테슬라 주식 데이터로 시간 계산하기(253쪽)\n",
    "이번에는 pandas-datareader 라이브러리를 이용하여 주식 데이터를 불러오겠습니다. 이 라이브러리는 지금까지 설치한 적이 없는 라이브러리입니다. 다음을 아나콘다 프롬프트에 입력하여 pandas-datareader 라이브러리를 설치하세요."
   ]
  },
  {
   "cell_type": "code",
   "execution_count": 39,
   "metadata": {},
   "outputs": [],
   "source": [
    "# !pip install pandas-datareader"
   ]
  },
  {
   "cell_type": "code",
   "execution_count": 40,
   "metadata": {},
   "outputs": [
    {
     "data": {
      "text/plain": [
       "'0.24.2'"
      ]
     },
     "execution_count": 40,
     "metadata": {},
     "output_type": "execute_result"
    }
   ],
   "source": [
    "# pd.__version__"
   ]
  },
  {
   "cell_type": "markdown",
   "metadata": {},
   "source": [
    "아래 명령을 2 번 실행한 후, Kernel을 restart한 이후, 여기까지 재 실행한다."
   ]
  },
  {
   "cell_type": "code",
   "execution_count": 41,
   "metadata": {},
   "outputs": [],
   "source": [
    "# !pip install \"pandas<0.25.0\""
   ]
  },
  {
   "cell_type": "markdown",
   "metadata": {},
   "source": [
    "다음은 get_data_quanal 메서드에 TSLA라는 문자열을 전달하여 테슬라의 주식 데이 터를 내려받은 다음 to_csv 메서드를 사용하여 data 폴더 안에 ‘tesla_stock_quandl.csv’ 라는 이름으로 저장한 것입니다."
   ]
  },
  {
   "cell_type": "code",
   "execution_count": 43,
   "metadata": {},
   "outputs": [],
   "source": [
    "# pd.core.common.is_list_like = pd.api.types.is_list_like\n",
    "# import pandas_datareader as pdr\n",
    "\n",
    "# # tesla에는 데이터프레임이 저장됩니다.\n",
    "# tesla = pdr.get_data_quandl('TSLA')\n",
    "\n",
    "# # tesla에 저장된 데이터프레임을 파일로 저장합니다.\n",
    "# tesla.to_csv('../data/tesla_stock_quandl.csv')"
   ]
  },
  {
   "cell_type": "code",
   "execution_count": 45,
   "metadata": {
    "scrolled": true
   },
   "outputs": [],
   "source": [
    "# print(tesla.head())"
   ]
  },
  {
   "cell_type": "code",
   "execution_count": 99,
   "metadata": {},
   "outputs": [
    {
     "name": "stdout",
     "output_type": "stream",
     "text": [
      "<class 'pandas.core.frame.DataFrame'>\n",
      "RangeIndex: 1949 entries, 0 to 1948\n",
      "Data columns (total 13 columns):\n",
      "Date          1949 non-null datetime64[ns]\n",
      "Open          1949 non-null float64\n",
      "High          1949 non-null float64\n",
      "Low           1949 non-null float64\n",
      "Close         1949 non-null float64\n",
      "Volume        1949 non-null float64\n",
      "ExDividend    1949 non-null float64\n",
      "SplitRatio    1949 non-null float64\n",
      "AdjOpen       1949 non-null float64\n",
      "AdjHigh       1949 non-null float64\n",
      "AdjLow        1949 non-null float64\n",
      "AdjClose      1949 non-null float64\n",
      "AdjVolume     1949 non-null float64\n",
      "dtypes: datetime64[ns](1), float64(12)\n",
      "memory usage: 198.0 KB\n",
      "None\n"
     ]
    }
   ],
   "source": [
    "tesla = pd.read_csv('../data/tesla_stock_quandl.csv', parse_dates=[0])\n",
    "print(tesla.info())"
   ]
  },
  {
   "cell_type": "markdown",
   "metadata": {},
   "source": [
    "Date 열의 자료형이 datetime 오브젝트로 변환되었습니다. 이제 dt 접근자를 사용할 수 있습니다. 다음은 불린 추출로 2010년 6월의 데이터만 추출한 것입니다."
   ]
  },
  {
   "cell_type": "code",
   "execution_count": 100,
   "metadata": {},
   "outputs": [
    {
     "name": "stdout",
     "output_type": "stream",
     "text": [
      "           Date   Open     High    Low  Close      Volume  ExDividend  \\\n",
      "1947 2010-06-30  25.79  30.4192  23.30  23.83  17187100.0         0.0   \n",
      "1948 2010-06-29  19.00  25.0000  17.54  23.89  18766300.0         0.0   \n",
      "\n",
      "      SplitRatio  AdjOpen  AdjHigh  AdjLow  AdjClose   AdjVolume  \n",
      "1947         1.0    25.79  30.4192   23.30     23.83  17187100.0  \n",
      "1948         1.0    19.00  25.0000   17.54     23.89  18766300.0  \n"
     ]
    }
   ],
   "source": [
    "print(tesla.loc[(tesla.Date.dt.year == 2010) & (tesla.Date.dt.month == 6)])"
   ]
  },
  {
   "cell_type": "markdown",
   "metadata": {},
   "source": [
    "### 12.2.4 datetime 오브젝트와 인덱스 - DatetimeIndex(255쪽)\n",
    "지금까지의 실습은 대부분 데이터프레임의 행 번호를 인덱스로 사용했지만 datetime 오 브젝트를 데이터프레임의 인덱스로 설정하면 원하는 시간의 데이터를 바로 추출할 수 있어 편리합니다. \n",
    "\n",
    "이번에는 datetime 오브젝트를 인덱스로 지정하는 방법에 대해 알아보겠 습니다."
   ]
  },
  {
   "cell_type": "code",
   "execution_count": 106,
   "metadata": {},
   "outputs": [
    {
     "name": "stdout",
     "output_type": "stream",
     "text": [
      "DatetimeIndex(['2018-03-27', '2018-03-26', '2018-03-23', '2018-03-22',\n",
      "               '2018-03-21', '2018-03-20', '2018-03-19', '2018-03-16',\n",
      "               '2018-03-15', '2018-03-14',\n",
      "               ...\n",
      "               '2010-07-13', '2010-07-12', '2010-07-09', '2010-07-08',\n",
      "               '2010-07-07', '2010-07-06', '2010-07-02', '2010-07-01',\n",
      "               '2010-06-30', '2010-06-29'],\n",
      "              dtype='datetime64[ns]', name='Date', length=1949, freq=None)\n"
     ]
    }
   ],
   "source": [
    "tesla.index = tesla['Date'] \n",
    "print(tesla.index)"
   ]
  },
  {
   "cell_type": "code",
   "execution_count": 102,
   "metadata": {},
   "outputs": [
    {
     "name": "stdout",
     "output_type": "stream",
     "text": [
      "                 Date    Open     High       Low   Close\n",
      "Date                                                    \n",
      "2015-12-31 2015-12-31  238.51  243.450  238.3700  240.01\n",
      "2015-12-30 2015-12-30  236.60  243.634  235.6707  238.09\n",
      "2015-12-29 2015-12-29  230.06  237.720  229.5470  237.19\n",
      "2015-12-28 2015-12-28  231.49  231.980  225.5400  228.95\n",
      "2015-12-24 2015-12-24  230.56  231.880  228.2800  230.57\n"
     ]
    }
   ],
   "source": [
    "print(tesla['2015'].iloc[:5, :5])"
   ]
  },
  {
   "cell_type": "code",
   "execution_count": 114,
   "metadata": {},
   "outputs": [
    {
     "data": {
      "text/html": [
       "<div>\n",
       "<style scoped>\n",
       "    .dataframe tbody tr th:only-of-type {\n",
       "        vertical-align: middle;\n",
       "    }\n",
       "\n",
       "    .dataframe tbody tr th {\n",
       "        vertical-align: top;\n",
       "    }\n",
       "\n",
       "    .dataframe thead th {\n",
       "        text-align: right;\n",
       "    }\n",
       "</style>\n",
       "<table border=\"1\" class=\"dataframe\">\n",
       "  <thead>\n",
       "    <tr style=\"text-align: right;\">\n",
       "      <th></th>\n",
       "      <th>Date</th>\n",
       "      <th>Open</th>\n",
       "      <th>High</th>\n",
       "      <th>Low</th>\n",
       "      <th>Close</th>\n",
       "      <th>Volume</th>\n",
       "      <th>ExDividend</th>\n",
       "      <th>SplitRatio</th>\n",
       "      <th>AdjOpen</th>\n",
       "      <th>AdjHigh</th>\n",
       "      <th>AdjLow</th>\n",
       "      <th>AdjClose</th>\n",
       "      <th>AdjVolume</th>\n",
       "      <th>ref_date</th>\n",
       "    </tr>\n",
       "    <tr>\n",
       "      <th>Date</th>\n",
       "      <th></th>\n",
       "      <th></th>\n",
       "      <th></th>\n",
       "      <th></th>\n",
       "      <th></th>\n",
       "      <th></th>\n",
       "      <th></th>\n",
       "      <th></th>\n",
       "      <th></th>\n",
       "      <th></th>\n",
       "      <th></th>\n",
       "      <th></th>\n",
       "      <th></th>\n",
       "      <th></th>\n",
       "    </tr>\n",
       "  </thead>\n",
       "  <tbody>\n",
       "    <tr>\n",
       "      <th>2010-06-29</th>\n",
       "      <td>2010-06-29</td>\n",
       "      <td>19.0000</td>\n",
       "      <td>25.0000</td>\n",
       "      <td>17.5400</td>\n",
       "      <td>23.890</td>\n",
       "      <td>18766300.0</td>\n",
       "      <td>0.0</td>\n",
       "      <td>1.0</td>\n",
       "      <td>19.0000</td>\n",
       "      <td>25.0000</td>\n",
       "      <td>17.5400</td>\n",
       "      <td>23.890</td>\n",
       "      <td>18766300.0</td>\n",
       "      <td>0 days</td>\n",
       "    </tr>\n",
       "    <tr>\n",
       "      <th>2010-06-30</th>\n",
       "      <td>2010-06-30</td>\n",
       "      <td>25.7900</td>\n",
       "      <td>30.4192</td>\n",
       "      <td>23.3000</td>\n",
       "      <td>23.830</td>\n",
       "      <td>17187100.0</td>\n",
       "      <td>0.0</td>\n",
       "      <td>1.0</td>\n",
       "      <td>25.7900</td>\n",
       "      <td>30.4192</td>\n",
       "      <td>23.3000</td>\n",
       "      <td>23.830</td>\n",
       "      <td>17187100.0</td>\n",
       "      <td>1 days</td>\n",
       "    </tr>\n",
       "    <tr>\n",
       "      <th>2010-07-01</th>\n",
       "      <td>2010-07-01</td>\n",
       "      <td>25.0000</td>\n",
       "      <td>25.9200</td>\n",
       "      <td>20.2700</td>\n",
       "      <td>21.960</td>\n",
       "      <td>8218800.0</td>\n",
       "      <td>0.0</td>\n",
       "      <td>1.0</td>\n",
       "      <td>25.0000</td>\n",
       "      <td>25.9200</td>\n",
       "      <td>20.2700</td>\n",
       "      <td>21.960</td>\n",
       "      <td>8218800.0</td>\n",
       "      <td>2 days</td>\n",
       "    </tr>\n",
       "    <tr>\n",
       "      <th>2010-07-02</th>\n",
       "      <td>2010-07-02</td>\n",
       "      <td>23.0000</td>\n",
       "      <td>23.1000</td>\n",
       "      <td>18.7100</td>\n",
       "      <td>19.200</td>\n",
       "      <td>5139800.0</td>\n",
       "      <td>0.0</td>\n",
       "      <td>1.0</td>\n",
       "      <td>23.0000</td>\n",
       "      <td>23.1000</td>\n",
       "      <td>18.7100</td>\n",
       "      <td>19.200</td>\n",
       "      <td>5139800.0</td>\n",
       "      <td>3 days</td>\n",
       "    </tr>\n",
       "    <tr>\n",
       "      <th>2010-07-06</th>\n",
       "      <td>2010-07-06</td>\n",
       "      <td>20.0000</td>\n",
       "      <td>20.0000</td>\n",
       "      <td>15.8300</td>\n",
       "      <td>16.110</td>\n",
       "      <td>6866900.0</td>\n",
       "      <td>0.0</td>\n",
       "      <td>1.0</td>\n",
       "      <td>20.0000</td>\n",
       "      <td>20.0000</td>\n",
       "      <td>15.8300</td>\n",
       "      <td>16.110</td>\n",
       "      <td>6866900.0</td>\n",
       "      <td>7 days</td>\n",
       "    </tr>\n",
       "    <tr>\n",
       "      <th>2010-07-07</th>\n",
       "      <td>2010-07-07</td>\n",
       "      <td>16.4000</td>\n",
       "      <td>16.6300</td>\n",
       "      <td>14.9800</td>\n",
       "      <td>15.800</td>\n",
       "      <td>6921700.0</td>\n",
       "      <td>0.0</td>\n",
       "      <td>1.0</td>\n",
       "      <td>16.4000</td>\n",
       "      <td>16.6300</td>\n",
       "      <td>14.9800</td>\n",
       "      <td>15.800</td>\n",
       "      <td>6921700.0</td>\n",
       "      <td>8 days</td>\n",
       "    </tr>\n",
       "    <tr>\n",
       "      <th>2010-07-08</th>\n",
       "      <td>2010-07-08</td>\n",
       "      <td>16.1400</td>\n",
       "      <td>17.5200</td>\n",
       "      <td>15.5700</td>\n",
       "      <td>17.460</td>\n",
       "      <td>7711400.0</td>\n",
       "      <td>0.0</td>\n",
       "      <td>1.0</td>\n",
       "      <td>16.1400</td>\n",
       "      <td>17.5200</td>\n",
       "      <td>15.5700</td>\n",
       "      <td>17.460</td>\n",
       "      <td>7711400.0</td>\n",
       "      <td>9 days</td>\n",
       "    </tr>\n",
       "    <tr>\n",
       "      <th>2010-07-09</th>\n",
       "      <td>2010-07-09</td>\n",
       "      <td>17.5800</td>\n",
       "      <td>17.9000</td>\n",
       "      <td>16.5500</td>\n",
       "      <td>17.400</td>\n",
       "      <td>4050600.0</td>\n",
       "      <td>0.0</td>\n",
       "      <td>1.0</td>\n",
       "      <td>17.5800</td>\n",
       "      <td>17.9000</td>\n",
       "      <td>16.5500</td>\n",
       "      <td>17.400</td>\n",
       "      <td>4050600.0</td>\n",
       "      <td>10 days</td>\n",
       "    </tr>\n",
       "    <tr>\n",
       "      <th>2010-07-12</th>\n",
       "      <td>2010-07-12</td>\n",
       "      <td>17.9500</td>\n",
       "      <td>18.0700</td>\n",
       "      <td>17.0000</td>\n",
       "      <td>17.050</td>\n",
       "      <td>2202500.0</td>\n",
       "      <td>0.0</td>\n",
       "      <td>1.0</td>\n",
       "      <td>17.9500</td>\n",
       "      <td>18.0700</td>\n",
       "      <td>17.0000</td>\n",
       "      <td>17.050</td>\n",
       "      <td>2202500.0</td>\n",
       "      <td>13 days</td>\n",
       "    </tr>\n",
       "    <tr>\n",
       "      <th>2010-07-13</th>\n",
       "      <td>2010-07-13</td>\n",
       "      <td>17.3938</td>\n",
       "      <td>18.6400</td>\n",
       "      <td>16.9000</td>\n",
       "      <td>18.140</td>\n",
       "      <td>2680100.0</td>\n",
       "      <td>0.0</td>\n",
       "      <td>1.0</td>\n",
       "      <td>17.3938</td>\n",
       "      <td>18.6400</td>\n",
       "      <td>16.9000</td>\n",
       "      <td>18.140</td>\n",
       "      <td>2680100.0</td>\n",
       "      <td>14 days</td>\n",
       "    </tr>\n",
       "    <tr>\n",
       "      <th>2010-07-14</th>\n",
       "      <td>2010-07-14</td>\n",
       "      <td>17.9400</td>\n",
       "      <td>20.1500</td>\n",
       "      <td>17.7601</td>\n",
       "      <td>19.840</td>\n",
       "      <td>4195200.0</td>\n",
       "      <td>0.0</td>\n",
       "      <td>1.0</td>\n",
       "      <td>17.9400</td>\n",
       "      <td>20.1500</td>\n",
       "      <td>17.7601</td>\n",
       "      <td>19.840</td>\n",
       "      <td>4195200.0</td>\n",
       "      <td>15 days</td>\n",
       "    </tr>\n",
       "    <tr>\n",
       "      <th>2010-07-15</th>\n",
       "      <td>2010-07-15</td>\n",
       "      <td>19.9400</td>\n",
       "      <td>21.5000</td>\n",
       "      <td>19.0000</td>\n",
       "      <td>19.890</td>\n",
       "      <td>3739800.0</td>\n",
       "      <td>0.0</td>\n",
       "      <td>1.0</td>\n",
       "      <td>19.9400</td>\n",
       "      <td>21.5000</td>\n",
       "      <td>19.0000</td>\n",
       "      <td>19.890</td>\n",
       "      <td>3739800.0</td>\n",
       "      <td>16 days</td>\n",
       "    </tr>\n",
       "    <tr>\n",
       "      <th>2010-07-16</th>\n",
       "      <td>2010-07-16</td>\n",
       "      <td>20.7000</td>\n",
       "      <td>21.3000</td>\n",
       "      <td>20.0500</td>\n",
       "      <td>20.640</td>\n",
       "      <td>2621300.0</td>\n",
       "      <td>0.0</td>\n",
       "      <td>1.0</td>\n",
       "      <td>20.7000</td>\n",
       "      <td>21.3000</td>\n",
       "      <td>20.0500</td>\n",
       "      <td>20.640</td>\n",
       "      <td>2621300.0</td>\n",
       "      <td>17 days</td>\n",
       "    </tr>\n",
       "    <tr>\n",
       "      <th>2010-07-19</th>\n",
       "      <td>2010-07-19</td>\n",
       "      <td>21.3700</td>\n",
       "      <td>22.2500</td>\n",
       "      <td>20.9200</td>\n",
       "      <td>21.910</td>\n",
       "      <td>2486500.0</td>\n",
       "      <td>0.0</td>\n",
       "      <td>1.0</td>\n",
       "      <td>21.3700</td>\n",
       "      <td>22.2500</td>\n",
       "      <td>20.9200</td>\n",
       "      <td>21.910</td>\n",
       "      <td>2486500.0</td>\n",
       "      <td>20 days</td>\n",
       "    </tr>\n",
       "    <tr>\n",
       "      <th>2010-07-20</th>\n",
       "      <td>2010-07-20</td>\n",
       "      <td>21.8500</td>\n",
       "      <td>21.8500</td>\n",
       "      <td>20.0500</td>\n",
       "      <td>20.300</td>\n",
       "      <td>1825300.0</td>\n",
       "      <td>0.0</td>\n",
       "      <td>1.0</td>\n",
       "      <td>21.8500</td>\n",
       "      <td>21.8500</td>\n",
       "      <td>20.0500</td>\n",
       "      <td>20.300</td>\n",
       "      <td>1825300.0</td>\n",
       "      <td>21 days</td>\n",
       "    </tr>\n",
       "    <tr>\n",
       "      <th>2010-07-21</th>\n",
       "      <td>2010-07-21</td>\n",
       "      <td>20.6600</td>\n",
       "      <td>20.9000</td>\n",
       "      <td>19.5000</td>\n",
       "      <td>20.220</td>\n",
       "      <td>1252500.0</td>\n",
       "      <td>0.0</td>\n",
       "      <td>1.0</td>\n",
       "      <td>20.6600</td>\n",
       "      <td>20.9000</td>\n",
       "      <td>19.5000</td>\n",
       "      <td>20.220</td>\n",
       "      <td>1252500.0</td>\n",
       "      <td>22 days</td>\n",
       "    </tr>\n",
       "    <tr>\n",
       "      <th>2010-07-22</th>\n",
       "      <td>2010-07-22</td>\n",
       "      <td>20.5000</td>\n",
       "      <td>21.2500</td>\n",
       "      <td>20.3700</td>\n",
       "      <td>21.000</td>\n",
       "      <td>957800.0</td>\n",
       "      <td>0.0</td>\n",
       "      <td>1.0</td>\n",
       "      <td>20.5000</td>\n",
       "      <td>21.2500</td>\n",
       "      <td>20.3700</td>\n",
       "      <td>21.000</td>\n",
       "      <td>957800.0</td>\n",
       "      <td>23 days</td>\n",
       "    </tr>\n",
       "    <tr>\n",
       "      <th>2010-07-23</th>\n",
       "      <td>2010-07-23</td>\n",
       "      <td>21.1900</td>\n",
       "      <td>21.5600</td>\n",
       "      <td>21.0600</td>\n",
       "      <td>21.290</td>\n",
       "      <td>653600.0</td>\n",
       "      <td>0.0</td>\n",
       "      <td>1.0</td>\n",
       "      <td>21.1900</td>\n",
       "      <td>21.5600</td>\n",
       "      <td>21.0600</td>\n",
       "      <td>21.290</td>\n",
       "      <td>653600.0</td>\n",
       "      <td>24 days</td>\n",
       "    </tr>\n",
       "    <tr>\n",
       "      <th>2010-07-26</th>\n",
       "      <td>2010-07-26</td>\n",
       "      <td>21.5000</td>\n",
       "      <td>21.5000</td>\n",
       "      <td>20.3000</td>\n",
       "      <td>20.950</td>\n",
       "      <td>922200.0</td>\n",
       "      <td>0.0</td>\n",
       "      <td>1.0</td>\n",
       "      <td>21.5000</td>\n",
       "      <td>21.5000</td>\n",
       "      <td>20.3000</td>\n",
       "      <td>20.950</td>\n",
       "      <td>922200.0</td>\n",
       "      <td>27 days</td>\n",
       "    </tr>\n",
       "    <tr>\n",
       "      <th>2010-07-27</th>\n",
       "      <td>2010-07-27</td>\n",
       "      <td>20.9100</td>\n",
       "      <td>21.1800</td>\n",
       "      <td>20.2600</td>\n",
       "      <td>20.550</td>\n",
       "      <td>619700.0</td>\n",
       "      <td>0.0</td>\n",
       "      <td>1.0</td>\n",
       "      <td>20.9100</td>\n",
       "      <td>21.1800</td>\n",
       "      <td>20.2600</td>\n",
       "      <td>20.550</td>\n",
       "      <td>619700.0</td>\n",
       "      <td>28 days</td>\n",
       "    </tr>\n",
       "    <tr>\n",
       "      <th>2010-07-28</th>\n",
       "      <td>2010-07-28</td>\n",
       "      <td>20.5500</td>\n",
       "      <td>20.9000</td>\n",
       "      <td>20.5100</td>\n",
       "      <td>20.720</td>\n",
       "      <td>467200.0</td>\n",
       "      <td>0.0</td>\n",
       "      <td>1.0</td>\n",
       "      <td>20.5500</td>\n",
       "      <td>20.9000</td>\n",
       "      <td>20.5100</td>\n",
       "      <td>20.720</td>\n",
       "      <td>467200.0</td>\n",
       "      <td>29 days</td>\n",
       "    </tr>\n",
       "    <tr>\n",
       "      <th>2010-07-29</th>\n",
       "      <td>2010-07-29</td>\n",
       "      <td>20.7700</td>\n",
       "      <td>20.8800</td>\n",
       "      <td>20.0000</td>\n",
       "      <td>20.350</td>\n",
       "      <td>616000.0</td>\n",
       "      <td>0.0</td>\n",
       "      <td>1.0</td>\n",
       "      <td>20.7700</td>\n",
       "      <td>20.8800</td>\n",
       "      <td>20.0000</td>\n",
       "      <td>20.350</td>\n",
       "      <td>616000.0</td>\n",
       "      <td>30 days</td>\n",
       "    </tr>\n",
       "    <tr>\n",
       "      <th>2010-07-30</th>\n",
       "      <td>2010-07-30</td>\n",
       "      <td>20.2000</td>\n",
       "      <td>20.4400</td>\n",
       "      <td>19.5500</td>\n",
       "      <td>19.940</td>\n",
       "      <td>426900.0</td>\n",
       "      <td>0.0</td>\n",
       "      <td>1.0</td>\n",
       "      <td>20.2000</td>\n",
       "      <td>20.4400</td>\n",
       "      <td>19.5500</td>\n",
       "      <td>19.940</td>\n",
       "      <td>426900.0</td>\n",
       "      <td>31 days</td>\n",
       "    </tr>\n",
       "    <tr>\n",
       "      <th>2010-08-02</th>\n",
       "      <td>2010-08-02</td>\n",
       "      <td>20.5000</td>\n",
       "      <td>20.9700</td>\n",
       "      <td>20.3330</td>\n",
       "      <td>20.920</td>\n",
       "      <td>718100.0</td>\n",
       "      <td>0.0</td>\n",
       "      <td>1.0</td>\n",
       "      <td>20.5000</td>\n",
       "      <td>20.9700</td>\n",
       "      <td>20.3330</td>\n",
       "      <td>20.920</td>\n",
       "      <td>718100.0</td>\n",
       "      <td>34 days</td>\n",
       "    </tr>\n",
       "    <tr>\n",
       "      <th>2010-08-03</th>\n",
       "      <td>2010-08-03</td>\n",
       "      <td>21.0000</td>\n",
       "      <td>21.9500</td>\n",
       "      <td>20.8200</td>\n",
       "      <td>21.950</td>\n",
       "      <td>1230500.0</td>\n",
       "      <td>0.0</td>\n",
       "      <td>1.0</td>\n",
       "      <td>21.0000</td>\n",
       "      <td>21.9500</td>\n",
       "      <td>20.8200</td>\n",
       "      <td>21.950</td>\n",
       "      <td>1230500.0</td>\n",
       "      <td>35 days</td>\n",
       "    </tr>\n",
       "    <tr>\n",
       "      <th>2010-08-04</th>\n",
       "      <td>2010-08-04</td>\n",
       "      <td>21.9500</td>\n",
       "      <td>22.1800</td>\n",
       "      <td>20.8500</td>\n",
       "      <td>21.260</td>\n",
       "      <td>913000.0</td>\n",
       "      <td>0.0</td>\n",
       "      <td>1.0</td>\n",
       "      <td>21.9500</td>\n",
       "      <td>22.1800</td>\n",
       "      <td>20.8500</td>\n",
       "      <td>21.260</td>\n",
       "      <td>913000.0</td>\n",
       "      <td>36 days</td>\n",
       "    </tr>\n",
       "    <tr>\n",
       "      <th>2010-08-05</th>\n",
       "      <td>2010-08-05</td>\n",
       "      <td>21.5400</td>\n",
       "      <td>21.5500</td>\n",
       "      <td>20.0500</td>\n",
       "      <td>20.450</td>\n",
       "      <td>796200.0</td>\n",
       "      <td>0.0</td>\n",
       "      <td>1.0</td>\n",
       "      <td>21.5400</td>\n",
       "      <td>21.5500</td>\n",
       "      <td>20.0500</td>\n",
       "      <td>20.450</td>\n",
       "      <td>796200.0</td>\n",
       "      <td>37 days</td>\n",
       "    </tr>\n",
       "    <tr>\n",
       "      <th>2010-08-06</th>\n",
       "      <td>2010-08-06</td>\n",
       "      <td>20.1000</td>\n",
       "      <td>20.1601</td>\n",
       "      <td>19.5200</td>\n",
       "      <td>19.590</td>\n",
       "      <td>741900.0</td>\n",
       "      <td>0.0</td>\n",
       "      <td>1.0</td>\n",
       "      <td>20.1000</td>\n",
       "      <td>20.1601</td>\n",
       "      <td>19.5200</td>\n",
       "      <td>19.590</td>\n",
       "      <td>741900.0</td>\n",
       "      <td>38 days</td>\n",
       "    </tr>\n",
       "    <tr>\n",
       "      <th>2010-08-09</th>\n",
       "      <td>2010-08-09</td>\n",
       "      <td>19.9000</td>\n",
       "      <td>19.9800</td>\n",
       "      <td>19.4500</td>\n",
       "      <td>19.600</td>\n",
       "      <td>812700.0</td>\n",
       "      <td>0.0</td>\n",
       "      <td>1.0</td>\n",
       "      <td>19.9000</td>\n",
       "      <td>19.9800</td>\n",
       "      <td>19.4500</td>\n",
       "      <td>19.600</td>\n",
       "      <td>812700.0</td>\n",
       "      <td>41 days</td>\n",
       "    </tr>\n",
       "    <tr>\n",
       "      <th>2010-08-10</th>\n",
       "      <td>2010-08-10</td>\n",
       "      <td>19.6500</td>\n",
       "      <td>19.6500</td>\n",
       "      <td>18.8200</td>\n",
       "      <td>19.030</td>\n",
       "      <td>1281300.0</td>\n",
       "      <td>0.0</td>\n",
       "      <td>1.0</td>\n",
       "      <td>19.6500</td>\n",
       "      <td>19.6500</td>\n",
       "      <td>18.8200</td>\n",
       "      <td>19.030</td>\n",
       "      <td>1281300.0</td>\n",
       "      <td>42 days</td>\n",
       "    </tr>\n",
       "    <tr>\n",
       "      <th>...</th>\n",
       "      <td>...</td>\n",
       "      <td>...</td>\n",
       "      <td>...</td>\n",
       "      <td>...</td>\n",
       "      <td>...</td>\n",
       "      <td>...</td>\n",
       "      <td>...</td>\n",
       "      <td>...</td>\n",
       "      <td>...</td>\n",
       "      <td>...</td>\n",
       "      <td>...</td>\n",
       "      <td>...</td>\n",
       "      <td>...</td>\n",
       "      <td>...</td>\n",
       "    </tr>\n",
       "    <tr>\n",
       "      <th>2018-02-13</th>\n",
       "      <td>2018-02-13</td>\n",
       "      <td>315.0200</td>\n",
       "      <td>324.1900</td>\n",
       "      <td>312.5105</td>\n",
       "      <td>323.660</td>\n",
       "      <td>4506915.0</td>\n",
       "      <td>0.0</td>\n",
       "      <td>1.0</td>\n",
       "      <td>315.0200</td>\n",
       "      <td>324.1900</td>\n",
       "      <td>312.5105</td>\n",
       "      <td>323.660</td>\n",
       "      <td>4506915.0</td>\n",
       "      <td>2786 days</td>\n",
       "    </tr>\n",
       "    <tr>\n",
       "      <th>2018-02-14</th>\n",
       "      <td>2018-02-14</td>\n",
       "      <td>320.8400</td>\n",
       "      <td>326.1700</td>\n",
       "      <td>318.5200</td>\n",
       "      <td>322.310</td>\n",
       "      <td>3930911.0</td>\n",
       "      <td>0.0</td>\n",
       "      <td>1.0</td>\n",
       "      <td>320.8400</td>\n",
       "      <td>326.1700</td>\n",
       "      <td>318.5200</td>\n",
       "      <td>322.310</td>\n",
       "      <td>3930911.0</td>\n",
       "      <td>2787 days</td>\n",
       "    </tr>\n",
       "    <tr>\n",
       "      <th>2018-02-15</th>\n",
       "      <td>2018-02-15</td>\n",
       "      <td>324.5000</td>\n",
       "      <td>334.1200</td>\n",
       "      <td>322.4000</td>\n",
       "      <td>334.065</td>\n",
       "      <td>5892048.0</td>\n",
       "      <td>0.0</td>\n",
       "      <td>1.0</td>\n",
       "      <td>324.5000</td>\n",
       "      <td>334.1200</td>\n",
       "      <td>322.4000</td>\n",
       "      <td>334.065</td>\n",
       "      <td>5892048.0</td>\n",
       "      <td>2788 days</td>\n",
       "    </tr>\n",
       "    <tr>\n",
       "      <th>2018-02-16</th>\n",
       "      <td>2018-02-16</td>\n",
       "      <td>332.5000</td>\n",
       "      <td>343.1200</td>\n",
       "      <td>331.6400</td>\n",
       "      <td>335.490</td>\n",
       "      <td>5585810.0</td>\n",
       "      <td>0.0</td>\n",
       "      <td>1.0</td>\n",
       "      <td>332.5000</td>\n",
       "      <td>343.1200</td>\n",
       "      <td>331.6400</td>\n",
       "      <td>335.490</td>\n",
       "      <td>5585810.0</td>\n",
       "      <td>2789 days</td>\n",
       "    </tr>\n",
       "    <tr>\n",
       "      <th>2018-02-20</th>\n",
       "      <td>2018-02-20</td>\n",
       "      <td>334.4700</td>\n",
       "      <td>340.8400</td>\n",
       "      <td>331.5000</td>\n",
       "      <td>334.770</td>\n",
       "      <td>3996951.0</td>\n",
       "      <td>0.0</td>\n",
       "      <td>1.0</td>\n",
       "      <td>334.4700</td>\n",
       "      <td>340.8400</td>\n",
       "      <td>331.5000</td>\n",
       "      <td>334.770</td>\n",
       "      <td>3996951.0</td>\n",
       "      <td>2793 days</td>\n",
       "    </tr>\n",
       "    <tr>\n",
       "      <th>2018-02-21</th>\n",
       "      <td>2018-02-21</td>\n",
       "      <td>336.0300</td>\n",
       "      <td>339.6929</td>\n",
       "      <td>333.1700</td>\n",
       "      <td>333.300</td>\n",
       "      <td>3181755.0</td>\n",
       "      <td>0.0</td>\n",
       "      <td>1.0</td>\n",
       "      <td>336.0300</td>\n",
       "      <td>339.6929</td>\n",
       "      <td>333.1700</td>\n",
       "      <td>333.300</td>\n",
       "      <td>3181755.0</td>\n",
       "      <td>2794 days</td>\n",
       "    </tr>\n",
       "    <tr>\n",
       "      <th>2018-02-22</th>\n",
       "      <td>2018-02-22</td>\n",
       "      <td>335.5300</td>\n",
       "      <td>347.4400</td>\n",
       "      <td>334.7501</td>\n",
       "      <td>346.170</td>\n",
       "      <td>6940349.0</td>\n",
       "      <td>0.0</td>\n",
       "      <td>1.0</td>\n",
       "      <td>335.5300</td>\n",
       "      <td>347.4400</td>\n",
       "      <td>334.7501</td>\n",
       "      <td>346.170</td>\n",
       "      <td>6940349.0</td>\n",
       "      <td>2795 days</td>\n",
       "    </tr>\n",
       "    <tr>\n",
       "      <th>2018-02-23</th>\n",
       "      <td>2018-02-23</td>\n",
       "      <td>347.8300</td>\n",
       "      <td>354.9900</td>\n",
       "      <td>347.1000</td>\n",
       "      <td>352.050</td>\n",
       "      <td>5790795.0</td>\n",
       "      <td>0.0</td>\n",
       "      <td>1.0</td>\n",
       "      <td>347.8300</td>\n",
       "      <td>354.9900</td>\n",
       "      <td>347.1000</td>\n",
       "      <td>352.050</td>\n",
       "      <td>5790795.0</td>\n",
       "      <td>2796 days</td>\n",
       "    </tr>\n",
       "    <tr>\n",
       "      <th>2018-02-26</th>\n",
       "      <td>2018-02-26</td>\n",
       "      <td>353.5000</td>\n",
       "      <td>359.0000</td>\n",
       "      <td>352.3550</td>\n",
       "      <td>357.420</td>\n",
       "      <td>4312871.0</td>\n",
       "      <td>0.0</td>\n",
       "      <td>1.0</td>\n",
       "      <td>353.5000</td>\n",
       "      <td>359.0000</td>\n",
       "      <td>352.3550</td>\n",
       "      <td>357.420</td>\n",
       "      <td>4312871.0</td>\n",
       "      <td>2799 days</td>\n",
       "    </tr>\n",
       "    <tr>\n",
       "      <th>2018-02-27</th>\n",
       "      <td>2018-02-27</td>\n",
       "      <td>356.2500</td>\n",
       "      <td>359.9900</td>\n",
       "      <td>350.0100</td>\n",
       "      <td>350.990</td>\n",
       "      <td>4761537.0</td>\n",
       "      <td>0.0</td>\n",
       "      <td>1.0</td>\n",
       "      <td>356.2500</td>\n",
       "      <td>359.9900</td>\n",
       "      <td>350.0100</td>\n",
       "      <td>350.990</td>\n",
       "      <td>4761537.0</td>\n",
       "      <td>2800 days</td>\n",
       "    </tr>\n",
       "    <tr>\n",
       "      <th>2018-02-28</th>\n",
       "      <td>2018-02-28</td>\n",
       "      <td>352.5700</td>\n",
       "      <td>355.2400</td>\n",
       "      <td>342.2200</td>\n",
       "      <td>343.060</td>\n",
       "      <td>6042895.0</td>\n",
       "      <td>0.0</td>\n",
       "      <td>1.0</td>\n",
       "      <td>352.5700</td>\n",
       "      <td>355.2400</td>\n",
       "      <td>342.2200</td>\n",
       "      <td>343.060</td>\n",
       "      <td>6042895.0</td>\n",
       "      <td>2801 days</td>\n",
       "    </tr>\n",
       "    <tr>\n",
       "      <th>2018-03-01</th>\n",
       "      <td>2018-03-01</td>\n",
       "      <td>345.0100</td>\n",
       "      <td>348.6700</td>\n",
       "      <td>330.0700</td>\n",
       "      <td>330.930</td>\n",
       "      <td>6885601.0</td>\n",
       "      <td>0.0</td>\n",
       "      <td>1.0</td>\n",
       "      <td>345.0100</td>\n",
       "      <td>348.6700</td>\n",
       "      <td>330.0700</td>\n",
       "      <td>330.930</td>\n",
       "      <td>6885601.0</td>\n",
       "      <td>2802 days</td>\n",
       "    </tr>\n",
       "    <tr>\n",
       "      <th>2018-03-02</th>\n",
       "      <td>2018-03-02</td>\n",
       "      <td>326.9800</td>\n",
       "      <td>335.2200</td>\n",
       "      <td>322.9700</td>\n",
       "      <td>335.120</td>\n",
       "      <td>5092829.0</td>\n",
       "      <td>0.0</td>\n",
       "      <td>1.0</td>\n",
       "      <td>326.9800</td>\n",
       "      <td>335.2200</td>\n",
       "      <td>322.9700</td>\n",
       "      <td>335.120</td>\n",
       "      <td>5092829.0</td>\n",
       "      <td>2803 days</td>\n",
       "    </tr>\n",
       "    <tr>\n",
       "      <th>2018-03-05</th>\n",
       "      <td>2018-03-05</td>\n",
       "      <td>332.3900</td>\n",
       "      <td>337.7500</td>\n",
       "      <td>329.2929</td>\n",
       "      <td>333.350</td>\n",
       "      <td>3823769.0</td>\n",
       "      <td>0.0</td>\n",
       "      <td>1.0</td>\n",
       "      <td>332.3900</td>\n",
       "      <td>337.7500</td>\n",
       "      <td>329.2929</td>\n",
       "      <td>333.350</td>\n",
       "      <td>3823769.0</td>\n",
       "      <td>2806 days</td>\n",
       "    </tr>\n",
       "    <tr>\n",
       "      <th>2018-03-06</th>\n",
       "      <td>2018-03-06</td>\n",
       "      <td>333.7500</td>\n",
       "      <td>336.3700</td>\n",
       "      <td>327.0300</td>\n",
       "      <td>328.200</td>\n",
       "      <td>4285744.0</td>\n",
       "      <td>0.0</td>\n",
       "      <td>1.0</td>\n",
       "      <td>333.7500</td>\n",
       "      <td>336.3700</td>\n",
       "      <td>327.0300</td>\n",
       "      <td>328.200</td>\n",
       "      <td>4285744.0</td>\n",
       "      <td>2807 days</td>\n",
       "    </tr>\n",
       "    <tr>\n",
       "      <th>2018-03-07</th>\n",
       "      <td>2018-03-07</td>\n",
       "      <td>325.4400</td>\n",
       "      <td>332.5000</td>\n",
       "      <td>321.7400</td>\n",
       "      <td>332.300</td>\n",
       "      <td>5007297.0</td>\n",
       "      <td>0.0</td>\n",
       "      <td>1.0</td>\n",
       "      <td>325.4400</td>\n",
       "      <td>332.5000</td>\n",
       "      <td>321.7400</td>\n",
       "      <td>332.300</td>\n",
       "      <td>5007297.0</td>\n",
       "      <td>2808 days</td>\n",
       "    </tr>\n",
       "    <tr>\n",
       "      <th>2018-03-08</th>\n",
       "      <td>2018-03-08</td>\n",
       "      <td>332.8600</td>\n",
       "      <td>333.3000</td>\n",
       "      <td>326.2740</td>\n",
       "      <td>329.100</td>\n",
       "      <td>3476944.0</td>\n",
       "      <td>0.0</td>\n",
       "      <td>1.0</td>\n",
       "      <td>332.8600</td>\n",
       "      <td>333.3000</td>\n",
       "      <td>326.2740</td>\n",
       "      <td>329.100</td>\n",
       "      <td>3476944.0</td>\n",
       "      <td>2809 days</td>\n",
       "    </tr>\n",
       "    <tr>\n",
       "      <th>2018-03-09</th>\n",
       "      <td>2018-03-09</td>\n",
       "      <td>324.1000</td>\n",
       "      <td>328.4900</td>\n",
       "      <td>322.3700</td>\n",
       "      <td>327.170</td>\n",
       "      <td>5479716.0</td>\n",
       "      <td>0.0</td>\n",
       "      <td>1.0</td>\n",
       "      <td>324.1000</td>\n",
       "      <td>328.4900</td>\n",
       "      <td>322.3700</td>\n",
       "      <td>327.170</td>\n",
       "      <td>5479716.0</td>\n",
       "      <td>2810 days</td>\n",
       "    </tr>\n",
       "    <tr>\n",
       "      <th>2018-03-12</th>\n",
       "      <td>2018-03-12</td>\n",
       "      <td>328.6100</td>\n",
       "      <td>347.2100</td>\n",
       "      <td>326.5000</td>\n",
       "      <td>345.510</td>\n",
       "      <td>8212156.0</td>\n",
       "      <td>0.0</td>\n",
       "      <td>1.0</td>\n",
       "      <td>328.6100</td>\n",
       "      <td>347.2100</td>\n",
       "      <td>326.5000</td>\n",
       "      <td>345.510</td>\n",
       "      <td>8212156.0</td>\n",
       "      <td>2813 days</td>\n",
       "    </tr>\n",
       "    <tr>\n",
       "      <th>2018-03-13</th>\n",
       "      <td>2018-03-13</td>\n",
       "      <td>344.9200</td>\n",
       "      <td>345.1200</td>\n",
       "      <td>336.2635</td>\n",
       "      <td>341.840</td>\n",
       "      <td>5932110.0</td>\n",
       "      <td>0.0</td>\n",
       "      <td>1.0</td>\n",
       "      <td>344.9200</td>\n",
       "      <td>345.1200</td>\n",
       "      <td>336.2635</td>\n",
       "      <td>341.840</td>\n",
       "      <td>5932110.0</td>\n",
       "      <td>2814 days</td>\n",
       "    </tr>\n",
       "    <tr>\n",
       "      <th>2018-03-14</th>\n",
       "      <td>2018-03-14</td>\n",
       "      <td>336.7600</td>\n",
       "      <td>339.8100</td>\n",
       "      <td>323.9300</td>\n",
       "      <td>326.630</td>\n",
       "      <td>7932511.0</td>\n",
       "      <td>0.0</td>\n",
       "      <td>1.0</td>\n",
       "      <td>336.7600</td>\n",
       "      <td>339.8100</td>\n",
       "      <td>323.9300</td>\n",
       "      <td>326.630</td>\n",
       "      <td>7932511.0</td>\n",
       "      <td>2815 days</td>\n",
       "    </tr>\n",
       "    <tr>\n",
       "      <th>2018-03-15</th>\n",
       "      <td>2018-03-15</td>\n",
       "      <td>329.3800</td>\n",
       "      <td>332.8500</td>\n",
       "      <td>321.1000</td>\n",
       "      <td>325.600</td>\n",
       "      <td>6366922.0</td>\n",
       "      <td>0.0</td>\n",
       "      <td>1.0</td>\n",
       "      <td>329.3800</td>\n",
       "      <td>332.8500</td>\n",
       "      <td>321.1000</td>\n",
       "      <td>325.600</td>\n",
       "      <td>6366922.0</td>\n",
       "      <td>2816 days</td>\n",
       "    </tr>\n",
       "    <tr>\n",
       "      <th>2018-03-16</th>\n",
       "      <td>2018-03-16</td>\n",
       "      <td>325.9600</td>\n",
       "      <td>327.4000</td>\n",
       "      <td>319.0700</td>\n",
       "      <td>321.350</td>\n",
       "      <td>6058612.0</td>\n",
       "      <td>0.0</td>\n",
       "      <td>1.0</td>\n",
       "      <td>325.9600</td>\n",
       "      <td>327.4000</td>\n",
       "      <td>319.0700</td>\n",
       "      <td>321.350</td>\n",
       "      <td>6058612.0</td>\n",
       "      <td>2817 days</td>\n",
       "    </tr>\n",
       "    <tr>\n",
       "      <th>2018-03-19</th>\n",
       "      <td>2018-03-19</td>\n",
       "      <td>316.5000</td>\n",
       "      <td>320.7500</td>\n",
       "      <td>309.6700</td>\n",
       "      <td>313.560</td>\n",
       "      <td>7440766.0</td>\n",
       "      <td>0.0</td>\n",
       "      <td>1.0</td>\n",
       "      <td>316.5000</td>\n",
       "      <td>320.7500</td>\n",
       "      <td>309.6700</td>\n",
       "      <td>313.560</td>\n",
       "      <td>7440766.0</td>\n",
       "      <td>2820 days</td>\n",
       "    </tr>\n",
       "    <tr>\n",
       "      <th>2018-03-20</th>\n",
       "      <td>2018-03-20</td>\n",
       "      <td>314.8700</td>\n",
       "      <td>316.2500</td>\n",
       "      <td>308.7600</td>\n",
       "      <td>310.550</td>\n",
       "      <td>4726182.0</td>\n",
       "      <td>0.0</td>\n",
       "      <td>1.0</td>\n",
       "      <td>314.8700</td>\n",
       "      <td>316.2500</td>\n",
       "      <td>308.7600</td>\n",
       "      <td>310.550</td>\n",
       "      <td>4726182.0</td>\n",
       "      <td>2821 days</td>\n",
       "    </tr>\n",
       "    <tr>\n",
       "      <th>2018-03-21</th>\n",
       "      <td>2018-03-21</td>\n",
       "      <td>310.2500</td>\n",
       "      <td>322.4400</td>\n",
       "      <td>310.1900</td>\n",
       "      <td>316.530</td>\n",
       "      <td>5927881.0</td>\n",
       "      <td>0.0</td>\n",
       "      <td>1.0</td>\n",
       "      <td>310.2500</td>\n",
       "      <td>322.4400</td>\n",
       "      <td>310.1900</td>\n",
       "      <td>316.530</td>\n",
       "      <td>5927881.0</td>\n",
       "      <td>2822 days</td>\n",
       "    </tr>\n",
       "    <tr>\n",
       "      <th>2018-03-22</th>\n",
       "      <td>2018-03-22</td>\n",
       "      <td>313.8900</td>\n",
       "      <td>318.8200</td>\n",
       "      <td>308.1800</td>\n",
       "      <td>309.100</td>\n",
       "      <td>4914307.0</td>\n",
       "      <td>0.0</td>\n",
       "      <td>1.0</td>\n",
       "      <td>313.8900</td>\n",
       "      <td>318.8200</td>\n",
       "      <td>308.1800</td>\n",
       "      <td>309.100</td>\n",
       "      <td>4914307.0</td>\n",
       "      <td>2823 days</td>\n",
       "    </tr>\n",
       "    <tr>\n",
       "      <th>2018-03-23</th>\n",
       "      <td>2018-03-23</td>\n",
       "      <td>311.2500</td>\n",
       "      <td>311.6100</td>\n",
       "      <td>300.4500</td>\n",
       "      <td>301.540</td>\n",
       "      <td>6600538.0</td>\n",
       "      <td>0.0</td>\n",
       "      <td>1.0</td>\n",
       "      <td>311.2500</td>\n",
       "      <td>311.6100</td>\n",
       "      <td>300.4500</td>\n",
       "      <td>301.540</td>\n",
       "      <td>6600538.0</td>\n",
       "      <td>2824 days</td>\n",
       "    </tr>\n",
       "    <tr>\n",
       "      <th>2018-03-26</th>\n",
       "      <td>2018-03-26</td>\n",
       "      <td>307.3400</td>\n",
       "      <td>307.5900</td>\n",
       "      <td>291.3600</td>\n",
       "      <td>304.180</td>\n",
       "      <td>8324639.0</td>\n",
       "      <td>0.0</td>\n",
       "      <td>1.0</td>\n",
       "      <td>307.3400</td>\n",
       "      <td>307.5900</td>\n",
       "      <td>291.3600</td>\n",
       "      <td>304.180</td>\n",
       "      <td>8324639.0</td>\n",
       "      <td>2827 days</td>\n",
       "    </tr>\n",
       "    <tr>\n",
       "      <th>2018-03-27</th>\n",
       "      <td>2018-03-27</td>\n",
       "      <td>304.0000</td>\n",
       "      <td>304.2700</td>\n",
       "      <td>277.1800</td>\n",
       "      <td>279.180</td>\n",
       "      <td>13696168.0</td>\n",
       "      <td>0.0</td>\n",
       "      <td>1.0</td>\n",
       "      <td>304.0000</td>\n",
       "      <td>304.2700</td>\n",
       "      <td>277.1800</td>\n",
       "      <td>279.180</td>\n",
       "      <td>13696168.0</td>\n",
       "      <td>2828 days</td>\n",
       "    </tr>\n",
       "  </tbody>\n",
       "</table>\n",
       "<p>1949 rows × 14 columns</p>\n",
       "</div>"
      ],
      "text/plain": [
       "                 Date      Open      High       Low    Close      Volume  \\\n",
       "Date                                                                       \n",
       "2010-06-29 2010-06-29   19.0000   25.0000   17.5400   23.890  18766300.0   \n",
       "2010-06-30 2010-06-30   25.7900   30.4192   23.3000   23.830  17187100.0   \n",
       "2010-07-01 2010-07-01   25.0000   25.9200   20.2700   21.960   8218800.0   \n",
       "2010-07-02 2010-07-02   23.0000   23.1000   18.7100   19.200   5139800.0   \n",
       "2010-07-06 2010-07-06   20.0000   20.0000   15.8300   16.110   6866900.0   \n",
       "2010-07-07 2010-07-07   16.4000   16.6300   14.9800   15.800   6921700.0   \n",
       "2010-07-08 2010-07-08   16.1400   17.5200   15.5700   17.460   7711400.0   \n",
       "2010-07-09 2010-07-09   17.5800   17.9000   16.5500   17.400   4050600.0   \n",
       "2010-07-12 2010-07-12   17.9500   18.0700   17.0000   17.050   2202500.0   \n",
       "2010-07-13 2010-07-13   17.3938   18.6400   16.9000   18.140   2680100.0   \n",
       "2010-07-14 2010-07-14   17.9400   20.1500   17.7601   19.840   4195200.0   \n",
       "2010-07-15 2010-07-15   19.9400   21.5000   19.0000   19.890   3739800.0   \n",
       "2010-07-16 2010-07-16   20.7000   21.3000   20.0500   20.640   2621300.0   \n",
       "2010-07-19 2010-07-19   21.3700   22.2500   20.9200   21.910   2486500.0   \n",
       "2010-07-20 2010-07-20   21.8500   21.8500   20.0500   20.300   1825300.0   \n",
       "2010-07-21 2010-07-21   20.6600   20.9000   19.5000   20.220   1252500.0   \n",
       "2010-07-22 2010-07-22   20.5000   21.2500   20.3700   21.000    957800.0   \n",
       "2010-07-23 2010-07-23   21.1900   21.5600   21.0600   21.290    653600.0   \n",
       "2010-07-26 2010-07-26   21.5000   21.5000   20.3000   20.950    922200.0   \n",
       "2010-07-27 2010-07-27   20.9100   21.1800   20.2600   20.550    619700.0   \n",
       "2010-07-28 2010-07-28   20.5500   20.9000   20.5100   20.720    467200.0   \n",
       "2010-07-29 2010-07-29   20.7700   20.8800   20.0000   20.350    616000.0   \n",
       "2010-07-30 2010-07-30   20.2000   20.4400   19.5500   19.940    426900.0   \n",
       "2010-08-02 2010-08-02   20.5000   20.9700   20.3330   20.920    718100.0   \n",
       "2010-08-03 2010-08-03   21.0000   21.9500   20.8200   21.950   1230500.0   \n",
       "2010-08-04 2010-08-04   21.9500   22.1800   20.8500   21.260    913000.0   \n",
       "2010-08-05 2010-08-05   21.5400   21.5500   20.0500   20.450    796200.0   \n",
       "2010-08-06 2010-08-06   20.1000   20.1601   19.5200   19.590    741900.0   \n",
       "2010-08-09 2010-08-09   19.9000   19.9800   19.4500   19.600    812700.0   \n",
       "2010-08-10 2010-08-10   19.6500   19.6500   18.8200   19.030   1281300.0   \n",
       "...               ...       ...       ...       ...      ...         ...   \n",
       "2018-02-13 2018-02-13  315.0200  324.1900  312.5105  323.660   4506915.0   \n",
       "2018-02-14 2018-02-14  320.8400  326.1700  318.5200  322.310   3930911.0   \n",
       "2018-02-15 2018-02-15  324.5000  334.1200  322.4000  334.065   5892048.0   \n",
       "2018-02-16 2018-02-16  332.5000  343.1200  331.6400  335.490   5585810.0   \n",
       "2018-02-20 2018-02-20  334.4700  340.8400  331.5000  334.770   3996951.0   \n",
       "2018-02-21 2018-02-21  336.0300  339.6929  333.1700  333.300   3181755.0   \n",
       "2018-02-22 2018-02-22  335.5300  347.4400  334.7501  346.170   6940349.0   \n",
       "2018-02-23 2018-02-23  347.8300  354.9900  347.1000  352.050   5790795.0   \n",
       "2018-02-26 2018-02-26  353.5000  359.0000  352.3550  357.420   4312871.0   \n",
       "2018-02-27 2018-02-27  356.2500  359.9900  350.0100  350.990   4761537.0   \n",
       "2018-02-28 2018-02-28  352.5700  355.2400  342.2200  343.060   6042895.0   \n",
       "2018-03-01 2018-03-01  345.0100  348.6700  330.0700  330.930   6885601.0   \n",
       "2018-03-02 2018-03-02  326.9800  335.2200  322.9700  335.120   5092829.0   \n",
       "2018-03-05 2018-03-05  332.3900  337.7500  329.2929  333.350   3823769.0   \n",
       "2018-03-06 2018-03-06  333.7500  336.3700  327.0300  328.200   4285744.0   \n",
       "2018-03-07 2018-03-07  325.4400  332.5000  321.7400  332.300   5007297.0   \n",
       "2018-03-08 2018-03-08  332.8600  333.3000  326.2740  329.100   3476944.0   \n",
       "2018-03-09 2018-03-09  324.1000  328.4900  322.3700  327.170   5479716.0   \n",
       "2018-03-12 2018-03-12  328.6100  347.2100  326.5000  345.510   8212156.0   \n",
       "2018-03-13 2018-03-13  344.9200  345.1200  336.2635  341.840   5932110.0   \n",
       "2018-03-14 2018-03-14  336.7600  339.8100  323.9300  326.630   7932511.0   \n",
       "2018-03-15 2018-03-15  329.3800  332.8500  321.1000  325.600   6366922.0   \n",
       "2018-03-16 2018-03-16  325.9600  327.4000  319.0700  321.350   6058612.0   \n",
       "2018-03-19 2018-03-19  316.5000  320.7500  309.6700  313.560   7440766.0   \n",
       "2018-03-20 2018-03-20  314.8700  316.2500  308.7600  310.550   4726182.0   \n",
       "2018-03-21 2018-03-21  310.2500  322.4400  310.1900  316.530   5927881.0   \n",
       "2018-03-22 2018-03-22  313.8900  318.8200  308.1800  309.100   4914307.0   \n",
       "2018-03-23 2018-03-23  311.2500  311.6100  300.4500  301.540   6600538.0   \n",
       "2018-03-26 2018-03-26  307.3400  307.5900  291.3600  304.180   8324639.0   \n",
       "2018-03-27 2018-03-27  304.0000  304.2700  277.1800  279.180  13696168.0   \n",
       "\n",
       "            ExDividend  SplitRatio   AdjOpen   AdjHigh    AdjLow  AdjClose  \\\n",
       "Date                                                                         \n",
       "2010-06-29         0.0         1.0   19.0000   25.0000   17.5400    23.890   \n",
       "2010-06-30         0.0         1.0   25.7900   30.4192   23.3000    23.830   \n",
       "2010-07-01         0.0         1.0   25.0000   25.9200   20.2700    21.960   \n",
       "2010-07-02         0.0         1.0   23.0000   23.1000   18.7100    19.200   \n",
       "2010-07-06         0.0         1.0   20.0000   20.0000   15.8300    16.110   \n",
       "2010-07-07         0.0         1.0   16.4000   16.6300   14.9800    15.800   \n",
       "2010-07-08         0.0         1.0   16.1400   17.5200   15.5700    17.460   \n",
       "2010-07-09         0.0         1.0   17.5800   17.9000   16.5500    17.400   \n",
       "2010-07-12         0.0         1.0   17.9500   18.0700   17.0000    17.050   \n",
       "2010-07-13         0.0         1.0   17.3938   18.6400   16.9000    18.140   \n",
       "2010-07-14         0.0         1.0   17.9400   20.1500   17.7601    19.840   \n",
       "2010-07-15         0.0         1.0   19.9400   21.5000   19.0000    19.890   \n",
       "2010-07-16         0.0         1.0   20.7000   21.3000   20.0500    20.640   \n",
       "2010-07-19         0.0         1.0   21.3700   22.2500   20.9200    21.910   \n",
       "2010-07-20         0.0         1.0   21.8500   21.8500   20.0500    20.300   \n",
       "2010-07-21         0.0         1.0   20.6600   20.9000   19.5000    20.220   \n",
       "2010-07-22         0.0         1.0   20.5000   21.2500   20.3700    21.000   \n",
       "2010-07-23         0.0         1.0   21.1900   21.5600   21.0600    21.290   \n",
       "2010-07-26         0.0         1.0   21.5000   21.5000   20.3000    20.950   \n",
       "2010-07-27         0.0         1.0   20.9100   21.1800   20.2600    20.550   \n",
       "2010-07-28         0.0         1.0   20.5500   20.9000   20.5100    20.720   \n",
       "2010-07-29         0.0         1.0   20.7700   20.8800   20.0000    20.350   \n",
       "2010-07-30         0.0         1.0   20.2000   20.4400   19.5500    19.940   \n",
       "2010-08-02         0.0         1.0   20.5000   20.9700   20.3330    20.920   \n",
       "2010-08-03         0.0         1.0   21.0000   21.9500   20.8200    21.950   \n",
       "2010-08-04         0.0         1.0   21.9500   22.1800   20.8500    21.260   \n",
       "2010-08-05         0.0         1.0   21.5400   21.5500   20.0500    20.450   \n",
       "2010-08-06         0.0         1.0   20.1000   20.1601   19.5200    19.590   \n",
       "2010-08-09         0.0         1.0   19.9000   19.9800   19.4500    19.600   \n",
       "2010-08-10         0.0         1.0   19.6500   19.6500   18.8200    19.030   \n",
       "...                ...         ...       ...       ...       ...       ...   \n",
       "2018-02-13         0.0         1.0  315.0200  324.1900  312.5105   323.660   \n",
       "2018-02-14         0.0         1.0  320.8400  326.1700  318.5200   322.310   \n",
       "2018-02-15         0.0         1.0  324.5000  334.1200  322.4000   334.065   \n",
       "2018-02-16         0.0         1.0  332.5000  343.1200  331.6400   335.490   \n",
       "2018-02-20         0.0         1.0  334.4700  340.8400  331.5000   334.770   \n",
       "2018-02-21         0.0         1.0  336.0300  339.6929  333.1700   333.300   \n",
       "2018-02-22         0.0         1.0  335.5300  347.4400  334.7501   346.170   \n",
       "2018-02-23         0.0         1.0  347.8300  354.9900  347.1000   352.050   \n",
       "2018-02-26         0.0         1.0  353.5000  359.0000  352.3550   357.420   \n",
       "2018-02-27         0.0         1.0  356.2500  359.9900  350.0100   350.990   \n",
       "2018-02-28         0.0         1.0  352.5700  355.2400  342.2200   343.060   \n",
       "2018-03-01         0.0         1.0  345.0100  348.6700  330.0700   330.930   \n",
       "2018-03-02         0.0         1.0  326.9800  335.2200  322.9700   335.120   \n",
       "2018-03-05         0.0         1.0  332.3900  337.7500  329.2929   333.350   \n",
       "2018-03-06         0.0         1.0  333.7500  336.3700  327.0300   328.200   \n",
       "2018-03-07         0.0         1.0  325.4400  332.5000  321.7400   332.300   \n",
       "2018-03-08         0.0         1.0  332.8600  333.3000  326.2740   329.100   \n",
       "2018-03-09         0.0         1.0  324.1000  328.4900  322.3700   327.170   \n",
       "2018-03-12         0.0         1.0  328.6100  347.2100  326.5000   345.510   \n",
       "2018-03-13         0.0         1.0  344.9200  345.1200  336.2635   341.840   \n",
       "2018-03-14         0.0         1.0  336.7600  339.8100  323.9300   326.630   \n",
       "2018-03-15         0.0         1.0  329.3800  332.8500  321.1000   325.600   \n",
       "2018-03-16         0.0         1.0  325.9600  327.4000  319.0700   321.350   \n",
       "2018-03-19         0.0         1.0  316.5000  320.7500  309.6700   313.560   \n",
       "2018-03-20         0.0         1.0  314.8700  316.2500  308.7600   310.550   \n",
       "2018-03-21         0.0         1.0  310.2500  322.4400  310.1900   316.530   \n",
       "2018-03-22         0.0         1.0  313.8900  318.8200  308.1800   309.100   \n",
       "2018-03-23         0.0         1.0  311.2500  311.6100  300.4500   301.540   \n",
       "2018-03-26         0.0         1.0  307.3400  307.5900  291.3600   304.180   \n",
       "2018-03-27         0.0         1.0  304.0000  304.2700  277.1800   279.180   \n",
       "\n",
       "             AdjVolume  ref_date  \n",
       "Date                              \n",
       "2010-06-29  18766300.0    0 days  \n",
       "2010-06-30  17187100.0    1 days  \n",
       "2010-07-01   8218800.0    2 days  \n",
       "2010-07-02   5139800.0    3 days  \n",
       "2010-07-06   6866900.0    7 days  \n",
       "2010-07-07   6921700.0    8 days  \n",
       "2010-07-08   7711400.0    9 days  \n",
       "2010-07-09   4050600.0   10 days  \n",
       "2010-07-12   2202500.0   13 days  \n",
       "2010-07-13   2680100.0   14 days  \n",
       "2010-07-14   4195200.0   15 days  \n",
       "2010-07-15   3739800.0   16 days  \n",
       "2010-07-16   2621300.0   17 days  \n",
       "2010-07-19   2486500.0   20 days  \n",
       "2010-07-20   1825300.0   21 days  \n",
       "2010-07-21   1252500.0   22 days  \n",
       "2010-07-22    957800.0   23 days  \n",
       "2010-07-23    653600.0   24 days  \n",
       "2010-07-26    922200.0   27 days  \n",
       "2010-07-27    619700.0   28 days  \n",
       "2010-07-28    467200.0   29 days  \n",
       "2010-07-29    616000.0   30 days  \n",
       "2010-07-30    426900.0   31 days  \n",
       "2010-08-02    718100.0   34 days  \n",
       "2010-08-03   1230500.0   35 days  \n",
       "2010-08-04    913000.0   36 days  \n",
       "2010-08-05    796200.0   37 days  \n",
       "2010-08-06    741900.0   38 days  \n",
       "2010-08-09    812700.0   41 days  \n",
       "2010-08-10   1281300.0   42 days  \n",
       "...                ...       ...  \n",
       "2018-02-13   4506915.0 2786 days  \n",
       "2018-02-14   3930911.0 2787 days  \n",
       "2018-02-15   5892048.0 2788 days  \n",
       "2018-02-16   5585810.0 2789 days  \n",
       "2018-02-20   3996951.0 2793 days  \n",
       "2018-02-21   3181755.0 2794 days  \n",
       "2018-02-22   6940349.0 2795 days  \n",
       "2018-02-23   5790795.0 2796 days  \n",
       "2018-02-26   4312871.0 2799 days  \n",
       "2018-02-27   4761537.0 2800 days  \n",
       "2018-02-28   6042895.0 2801 days  \n",
       "2018-03-01   6885601.0 2802 days  \n",
       "2018-03-02   5092829.0 2803 days  \n",
       "2018-03-05   3823769.0 2806 days  \n",
       "2018-03-06   4285744.0 2807 days  \n",
       "2018-03-07   5007297.0 2808 days  \n",
       "2018-03-08   3476944.0 2809 days  \n",
       "2018-03-09   5479716.0 2810 days  \n",
       "2018-03-12   8212156.0 2813 days  \n",
       "2018-03-13   5932110.0 2814 days  \n",
       "2018-03-14   7932511.0 2815 days  \n",
       "2018-03-15   6366922.0 2816 days  \n",
       "2018-03-16   6058612.0 2817 days  \n",
       "2018-03-19   7440766.0 2820 days  \n",
       "2018-03-20   4726182.0 2821 days  \n",
       "2018-03-21   5927881.0 2822 days  \n",
       "2018-03-22   4914307.0 2823 days  \n",
       "2018-03-23   6600538.0 2824 days  \n",
       "2018-03-26   8324639.0 2827 days  \n",
       "2018-03-27  13696168.0 2828 days  \n",
       "\n",
       "[1949 rows x 14 columns]"
      ]
     },
     "execution_count": 114,
     "metadata": {},
     "output_type": "execute_result"
    }
   ],
   "source": [
    "tesla[::-1]"
   ]
  },
  {
   "cell_type": "code",
   "execution_count": 50,
   "metadata": {},
   "outputs": [
    {
     "name": "stdout",
     "output_type": "stream",
     "text": [
      "                 Date   Open     High    Low  Close\n",
      "Date                                               \n",
      "2010-06-30 2010-06-30  25.79  30.4192  23.30  23.83\n",
      "2010-06-29 2010-06-29  19.00  25.0000  17.54  23.89\n"
     ]
    }
   ],
   "source": [
    "print(tesla['2010-06'].iloc[:, :5])"
   ]
  },
  {
   "cell_type": "code",
   "execution_count": null,
   "metadata": {},
   "outputs": [],
   "source": [
    "# tesla.set_index('Date')"
   ]
  },
  {
   "cell_type": "markdown",
   "metadata": {},
   "source": [
    "### 12.2.5 시간 간격과 인덱스 - TimedeltaIndex(256쪽)\n",
    "예를 들어 주식 데이터에서 최초 5일간 수집된 데이터만 살펴보고 싶다면 어떻게 해야 할 까요? 이런 경우에는 시간 간격을 인덱스로 지정하여 데이터를 추출하면 됩니다. \n",
    "\n",
    "이번에는 datetime 오브젝트를 인덱스로 지정하는 것이 아니라 시간 간격을 인덱스로 지정하여 진 행하겠습니다."
   ]
  },
  {
   "cell_type": "code",
   "execution_count": 115,
   "metadata": {},
   "outputs": [
    {
     "name": "stdout",
     "output_type": "stream",
     "text": [
      "                 Date    Open    High     Low   Close      Volume  ExDividend  \\\n",
      "Date                                                                            \n",
      "2018-03-27 2018-03-27  304.00  304.27  277.18  279.18  13696168.0         0.0   \n",
      "2018-03-26 2018-03-26  307.34  307.59  291.36  304.18   8324639.0         0.0   \n",
      "2018-03-23 2018-03-23  311.25  311.61  300.45  301.54   6600538.0         0.0   \n",
      "2018-03-22 2018-03-22  313.89  318.82  308.18  309.10   4914307.0         0.0   \n",
      "2018-03-21 2018-03-21  310.25  322.44  310.19  316.53   5927881.0         0.0   \n",
      "\n",
      "            SplitRatio  AdjOpen  AdjHigh  AdjLow  AdjClose   AdjVolume  \\\n",
      "Date                                                                     \n",
      "2018-03-27         1.0   304.00   304.27  277.18    279.18  13696168.0   \n",
      "2018-03-26         1.0   307.34   307.59  291.36    304.18   8324639.0   \n",
      "2018-03-23         1.0   311.25   311.61  300.45    301.54   6600538.0   \n",
      "2018-03-22         1.0   313.89   318.82  308.18    309.10   4914307.0   \n",
      "2018-03-21         1.0   310.25   322.44  310.19    316.53   5927881.0   \n",
      "\n",
      "            ref_date  \n",
      "Date                  \n",
      "2018-03-27 2828 days  \n",
      "2018-03-26 2827 days  \n",
      "2018-03-23 2824 days  \n",
      "2018-03-22 2823 days  \n",
      "2018-03-21 2822 days  \n"
     ]
    }
   ],
   "source": [
    "tesla['ref_date'] = tesla['Date'] - tesla['Date'].min()\n",
    "\n",
    "print(tesla.head())"
   ]
  },
  {
   "cell_type": "code",
   "execution_count": 116,
   "metadata": {},
   "outputs": [
    {
     "name": "stdout",
     "output_type": "stream",
     "text": [
      "                Date    Open    High     Low   Close\n",
      "ref_date                                            \n",
      "2828 days 2018-03-27  304.00  304.27  277.18  279.18\n",
      "2827 days 2018-03-26  307.34  307.59  291.36  304.18\n",
      "2824 days 2018-03-23  311.25  311.61  300.45  301.54\n",
      "2823 days 2018-03-22  313.89  318.82  308.18  309.10\n",
      "2822 days 2018-03-21  310.25  322.44  310.19  316.53\n"
     ]
    }
   ],
   "source": [
    "tesla.index = tesla['ref_date']\n",
    "\n",
    "print(tesla.iloc[:5, :5])"
   ]
  },
  {
   "cell_type": "markdown",
   "metadata": {},
   "source": [
    "최초 10일 데이터를 가져오는 경우"
   ]
  },
  {
   "cell_type": "code",
   "execution_count": 105,
   "metadata": {},
   "outputs": [
    {
     "data": {
      "text/html": [
       "<div>\n",
       "<style scoped>\n",
       "    .dataframe tbody tr th:only-of-type {\n",
       "        vertical-align: middle;\n",
       "    }\n",
       "\n",
       "    .dataframe tbody tr th {\n",
       "        vertical-align: top;\n",
       "    }\n",
       "\n",
       "    .dataframe thead th {\n",
       "        text-align: right;\n",
       "    }\n",
       "</style>\n",
       "<table border=\"1\" class=\"dataframe\">\n",
       "  <thead>\n",
       "    <tr style=\"text-align: right;\">\n",
       "      <th></th>\n",
       "      <th>Date</th>\n",
       "      <th>Open</th>\n",
       "      <th>High</th>\n",
       "      <th>Low</th>\n",
       "      <th>Close</th>\n",
       "      <th>Volume</th>\n",
       "      <th>ExDividend</th>\n",
       "      <th>SplitRatio</th>\n",
       "      <th>AdjOpen</th>\n",
       "      <th>AdjHigh</th>\n",
       "      <th>AdjLow</th>\n",
       "      <th>AdjClose</th>\n",
       "      <th>AdjVolume</th>\n",
       "      <th>ref_date</th>\n",
       "    </tr>\n",
       "    <tr>\n",
       "      <th>ref_date</th>\n",
       "      <th></th>\n",
       "      <th></th>\n",
       "      <th></th>\n",
       "      <th></th>\n",
       "      <th></th>\n",
       "      <th></th>\n",
       "      <th></th>\n",
       "      <th></th>\n",
       "      <th></th>\n",
       "      <th></th>\n",
       "      <th></th>\n",
       "      <th></th>\n",
       "      <th></th>\n",
       "      <th></th>\n",
       "    </tr>\n",
       "  </thead>\n",
       "  <tbody>\n",
       "    <tr>\n",
       "      <th>10 days</th>\n",
       "      <td>2010-07-09</td>\n",
       "      <td>17.58</td>\n",
       "      <td>17.9000</td>\n",
       "      <td>16.55</td>\n",
       "      <td>17.40</td>\n",
       "      <td>4050600.0</td>\n",
       "      <td>0.0</td>\n",
       "      <td>1.0</td>\n",
       "      <td>17.58</td>\n",
       "      <td>17.9000</td>\n",
       "      <td>16.55</td>\n",
       "      <td>17.40</td>\n",
       "      <td>4050600.0</td>\n",
       "      <td>10 days</td>\n",
       "    </tr>\n",
       "    <tr>\n",
       "      <th>9 days</th>\n",
       "      <td>2010-07-08</td>\n",
       "      <td>16.14</td>\n",
       "      <td>17.5200</td>\n",
       "      <td>15.57</td>\n",
       "      <td>17.46</td>\n",
       "      <td>7711400.0</td>\n",
       "      <td>0.0</td>\n",
       "      <td>1.0</td>\n",
       "      <td>16.14</td>\n",
       "      <td>17.5200</td>\n",
       "      <td>15.57</td>\n",
       "      <td>17.46</td>\n",
       "      <td>7711400.0</td>\n",
       "      <td>9 days</td>\n",
       "    </tr>\n",
       "    <tr>\n",
       "      <th>8 days</th>\n",
       "      <td>2010-07-07</td>\n",
       "      <td>16.40</td>\n",
       "      <td>16.6300</td>\n",
       "      <td>14.98</td>\n",
       "      <td>15.80</td>\n",
       "      <td>6921700.0</td>\n",
       "      <td>0.0</td>\n",
       "      <td>1.0</td>\n",
       "      <td>16.40</td>\n",
       "      <td>16.6300</td>\n",
       "      <td>14.98</td>\n",
       "      <td>15.80</td>\n",
       "      <td>6921700.0</td>\n",
       "      <td>8 days</td>\n",
       "    </tr>\n",
       "    <tr>\n",
       "      <th>7 days</th>\n",
       "      <td>2010-07-06</td>\n",
       "      <td>20.00</td>\n",
       "      <td>20.0000</td>\n",
       "      <td>15.83</td>\n",
       "      <td>16.11</td>\n",
       "      <td>6866900.0</td>\n",
       "      <td>0.0</td>\n",
       "      <td>1.0</td>\n",
       "      <td>20.00</td>\n",
       "      <td>20.0000</td>\n",
       "      <td>15.83</td>\n",
       "      <td>16.11</td>\n",
       "      <td>6866900.0</td>\n",
       "      <td>7 days</td>\n",
       "    </tr>\n",
       "    <tr>\n",
       "      <th>3 days</th>\n",
       "      <td>2010-07-02</td>\n",
       "      <td>23.00</td>\n",
       "      <td>23.1000</td>\n",
       "      <td>18.71</td>\n",
       "      <td>19.20</td>\n",
       "      <td>5139800.0</td>\n",
       "      <td>0.0</td>\n",
       "      <td>1.0</td>\n",
       "      <td>23.00</td>\n",
       "      <td>23.1000</td>\n",
       "      <td>18.71</td>\n",
       "      <td>19.20</td>\n",
       "      <td>5139800.0</td>\n",
       "      <td>3 days</td>\n",
       "    </tr>\n",
       "    <tr>\n",
       "      <th>2 days</th>\n",
       "      <td>2010-07-01</td>\n",
       "      <td>25.00</td>\n",
       "      <td>25.9200</td>\n",
       "      <td>20.27</td>\n",
       "      <td>21.96</td>\n",
       "      <td>8218800.0</td>\n",
       "      <td>0.0</td>\n",
       "      <td>1.0</td>\n",
       "      <td>25.00</td>\n",
       "      <td>25.9200</td>\n",
       "      <td>20.27</td>\n",
       "      <td>21.96</td>\n",
       "      <td>8218800.0</td>\n",
       "      <td>2 days</td>\n",
       "    </tr>\n",
       "    <tr>\n",
       "      <th>1 days</th>\n",
       "      <td>2010-06-30</td>\n",
       "      <td>25.79</td>\n",
       "      <td>30.4192</td>\n",
       "      <td>23.30</td>\n",
       "      <td>23.83</td>\n",
       "      <td>17187100.0</td>\n",
       "      <td>0.0</td>\n",
       "      <td>1.0</td>\n",
       "      <td>25.79</td>\n",
       "      <td>30.4192</td>\n",
       "      <td>23.30</td>\n",
       "      <td>23.83</td>\n",
       "      <td>17187100.0</td>\n",
       "      <td>1 days</td>\n",
       "    </tr>\n",
       "    <tr>\n",
       "      <th>0 days</th>\n",
       "      <td>2010-06-29</td>\n",
       "      <td>19.00</td>\n",
       "      <td>25.0000</td>\n",
       "      <td>17.54</td>\n",
       "      <td>23.89</td>\n",
       "      <td>18766300.0</td>\n",
       "      <td>0.0</td>\n",
       "      <td>1.0</td>\n",
       "      <td>19.00</td>\n",
       "      <td>25.0000</td>\n",
       "      <td>17.54</td>\n",
       "      <td>23.89</td>\n",
       "      <td>18766300.0</td>\n",
       "      <td>0 days</td>\n",
       "    </tr>\n",
       "  </tbody>\n",
       "</table>\n",
       "</div>"
      ],
      "text/plain": [
       "               Date   Open     High    Low  Close      Volume  ExDividend  \\\n",
       "ref_date                                                                    \n",
       "10 days  2010-07-09  17.58  17.9000  16.55  17.40   4050600.0         0.0   \n",
       "9 days   2010-07-08  16.14  17.5200  15.57  17.46   7711400.0         0.0   \n",
       "8 days   2010-07-07  16.40  16.6300  14.98  15.80   6921700.0         0.0   \n",
       "7 days   2010-07-06  20.00  20.0000  15.83  16.11   6866900.0         0.0   \n",
       "3 days   2010-07-02  23.00  23.1000  18.71  19.20   5139800.0         0.0   \n",
       "2 days   2010-07-01  25.00  25.9200  20.27  21.96   8218800.0         0.0   \n",
       "1 days   2010-06-30  25.79  30.4192  23.30  23.83  17187100.0         0.0   \n",
       "0 days   2010-06-29  19.00  25.0000  17.54  23.89  18766300.0         0.0   \n",
       "\n",
       "          SplitRatio  AdjOpen  AdjHigh  AdjLow  AdjClose   AdjVolume ref_date  \n",
       "ref_date                                                                       \n",
       "10 days          1.0    17.58  17.9000   16.55     17.40   4050600.0  10 days  \n",
       "9 days           1.0    16.14  17.5200   15.57     17.46   7711400.0   9 days  \n",
       "8 days           1.0    16.40  16.6300   14.98     15.80   6921700.0   8 days  \n",
       "7 days           1.0    20.00  20.0000   15.83     16.11   6866900.0   7 days  \n",
       "3 days           1.0    23.00  23.1000   18.71     19.20   5139800.0   3 days  \n",
       "2 days           1.0    25.00  25.9200   20.27     21.96   8218800.0   2 days  \n",
       "1 days           1.0    25.79  30.4192   23.30     23.83  17187100.0   1 days  \n",
       "0 days           1.0    19.00  25.0000   17.54     23.89  18766300.0   0 days  "
      ]
     },
     "execution_count": 105,
     "metadata": {},
     "output_type": "execute_result"
    }
   ],
   "source": [
    "tesla['10 days':]"
   ]
  },
  {
   "cell_type": "markdown",
   "metadata": {},
   "source": [
    "### 12.2.6 시간 범위와 인덱스 (258쪽)\n",
    "앞에서 사용한 주식 데이터는 특정 일에 누락된 데이터가 없었습니다. 하지만 가끔은 데이 터를 수집하지 못한 날도 있을 수 있겠죠. 만약 특정 일에 누락된 데이터도 포함시켜 데이 터를 살펴보려면 어떻게 해야 할까요? \n",
    "\n",
    "이런 경우에는 임의로 시간 범위를 생성하여 인덱스 로 지정해야 합니다.\n",
    "\n",
    "___\n",
    "데이터를 살펴보면, 2015-01-01 및 2014-03-23일의 데이터가 누락된 것을 확인할 수 있다."
   ]
  },
  {
   "cell_type": "code",
   "execution_count": 5,
   "metadata": {},
   "outputs": [
    {
     "name": "stdout",
     "output_type": "stream",
     "text": [
      "        Date  Day  Cases_Guinea  Cases_Liberia  Cases_SierraLeone\n",
      "0 2015-01-05  289        2776.0            NaN            10030.0\n",
      "1 2015-01-04  288        2775.0            NaN             9780.0\n",
      "2 2015-01-03  287        2769.0         8166.0             9722.0\n",
      "3 2015-01-02  286           NaN         8157.0                NaN\n",
      "4 2014-12-31  284        2730.0         8115.0             9633.0\n"
     ]
    }
   ],
   "source": [
    "ebola = pd.read_csv('../data/country_timeseries.csv', parse_dates=[0]) \n",
    "print(ebola.iloc[:5, :5])"
   ]
  },
  {
   "cell_type": "code",
   "execution_count": 6,
   "metadata": {},
   "outputs": [
    {
     "name": "stdout",
     "output_type": "stream",
     "text": [
      "          Date  Day  Cases_Guinea  Cases_Liberia  Cases_SierraLeone\n",
      "117 2014-03-27    5         103.0            8.0                6.0\n",
      "118 2014-03-26    4          86.0            NaN                NaN\n",
      "119 2014-03-25    3          86.0            NaN                NaN\n",
      "120 2014-03-24    2          86.0            NaN                NaN\n",
      "121 2014-03-22    0          49.0            NaN                NaN\n"
     ]
    }
   ],
   "source": [
    "print(ebola.iloc[-5:, :5])"
   ]
  },
  {
   "cell_type": "markdown",
   "metadata": {},
   "source": [
    "다음은 date_range 메서드를 사용하여 2014년 12월 31일부터 2015년 01월 05일 사 이의 시간 인덱스(DatetimeIndex)를 생성한 것입니다."
   ]
  },
  {
   "cell_type": "code",
   "execution_count": 7,
   "metadata": {},
   "outputs": [
    {
     "name": "stdout",
     "output_type": "stream",
     "text": [
      "DatetimeIndex(['2014-12-31', '2015-01-01', '2015-01-02', '2015-01-03',\n",
      "               '2015-01-04', '2015-01-05'],\n",
      "              dtype='datetime64[ns]', freq='D')\n"
     ]
    }
   ],
   "source": [
    "head_range = pd.date_range(start='2014-12-31', end='2015-01-05') \n",
    "print(head_range)"
   ]
  },
  {
   "cell_type": "code",
   "execution_count": 8,
   "metadata": {},
   "outputs": [
    {
     "data": {
      "text/html": [
       "<div>\n",
       "<style scoped>\n",
       "    .dataframe tbody tr th:only-of-type {\n",
       "        vertical-align: middle;\n",
       "    }\n",
       "\n",
       "    .dataframe tbody tr th {\n",
       "        vertical-align: top;\n",
       "    }\n",
       "\n",
       "    .dataframe thead th {\n",
       "        text-align: right;\n",
       "    }\n",
       "</style>\n",
       "<table border=\"1\" class=\"dataframe\">\n",
       "  <thead>\n",
       "    <tr style=\"text-align: right;\">\n",
       "      <th></th>\n",
       "      <th>Date</th>\n",
       "      <th>Day</th>\n",
       "      <th>Cases_Guinea</th>\n",
       "      <th>Cases_Liberia</th>\n",
       "      <th>Cases_SierraLeone</th>\n",
       "    </tr>\n",
       "  </thead>\n",
       "  <tbody>\n",
       "    <tr>\n",
       "      <th>0</th>\n",
       "      <td>2015-01-05</td>\n",
       "      <td>289</td>\n",
       "      <td>2776.0</td>\n",
       "      <td>NaN</td>\n",
       "      <td>10030.0</td>\n",
       "    </tr>\n",
       "    <tr>\n",
       "      <th>1</th>\n",
       "      <td>2015-01-04</td>\n",
       "      <td>288</td>\n",
       "      <td>2775.0</td>\n",
       "      <td>NaN</td>\n",
       "      <td>9780.0</td>\n",
       "    </tr>\n",
       "    <tr>\n",
       "      <th>2</th>\n",
       "      <td>2015-01-03</td>\n",
       "      <td>287</td>\n",
       "      <td>2769.0</td>\n",
       "      <td>8166.0</td>\n",
       "      <td>9722.0</td>\n",
       "    </tr>\n",
       "    <tr>\n",
       "      <th>3</th>\n",
       "      <td>2015-01-02</td>\n",
       "      <td>286</td>\n",
       "      <td>NaN</td>\n",
       "      <td>8157.0</td>\n",
       "      <td>NaN</td>\n",
       "    </tr>\n",
       "    <tr>\n",
       "      <th>4</th>\n",
       "      <td>2014-12-31</td>\n",
       "      <td>284</td>\n",
       "      <td>2730.0</td>\n",
       "      <td>8115.0</td>\n",
       "      <td>9633.0</td>\n",
       "    </tr>\n",
       "  </tbody>\n",
       "</table>\n",
       "</div>"
      ],
      "text/plain": [
       "        Date  Day  Cases_Guinea  Cases_Liberia  Cases_SierraLeone\n",
       "0 2015-01-05  289        2776.0            NaN            10030.0\n",
       "1 2015-01-04  288        2775.0            NaN             9780.0\n",
       "2 2015-01-03  287        2769.0         8166.0             9722.0\n",
       "3 2015-01-02  286           NaN         8157.0                NaN\n",
       "4 2014-12-31  284        2730.0         8115.0             9633.0"
      ]
     },
     "execution_count": 8,
     "metadata": {},
     "output_type": "execute_result"
    }
   ],
   "source": [
    "ebola.iloc[:5, :5]"
   ]
  },
  {
   "cell_type": "code",
   "execution_count": 9,
   "metadata": {},
   "outputs": [
    {
     "data": {
      "text/html": [
       "<div>\n",
       "<style scoped>\n",
       "    .dataframe tbody tr th:only-of-type {\n",
       "        vertical-align: middle;\n",
       "    }\n",
       "\n",
       "    .dataframe tbody tr th {\n",
       "        vertical-align: top;\n",
       "    }\n",
       "\n",
       "    .dataframe thead th {\n",
       "        text-align: right;\n",
       "    }\n",
       "</style>\n",
       "<table border=\"1\" class=\"dataframe\">\n",
       "  <thead>\n",
       "    <tr style=\"text-align: right;\">\n",
       "      <th></th>\n",
       "      <th>Date</th>\n",
       "      <th>Day</th>\n",
       "      <th>Cases_Guinea</th>\n",
       "      <th>Cases_Liberia</th>\n",
       "      <th>Cases_SierraLeone</th>\n",
       "    </tr>\n",
       "  </thead>\n",
       "  <tbody>\n",
       "    <tr>\n",
       "      <th>2014-12-31</th>\n",
       "      <td>2014-12-31</td>\n",
       "      <td>284.0</td>\n",
       "      <td>2730.0</td>\n",
       "      <td>8115.0</td>\n",
       "      <td>9633.0</td>\n",
       "    </tr>\n",
       "    <tr>\n",
       "      <th>2015-01-01</th>\n",
       "      <td>NaT</td>\n",
       "      <td>NaN</td>\n",
       "      <td>NaN</td>\n",
       "      <td>NaN</td>\n",
       "      <td>NaN</td>\n",
       "    </tr>\n",
       "    <tr>\n",
       "      <th>2015-01-02</th>\n",
       "      <td>2015-01-02</td>\n",
       "      <td>286.0</td>\n",
       "      <td>NaN</td>\n",
       "      <td>8157.0</td>\n",
       "      <td>NaN</td>\n",
       "    </tr>\n",
       "    <tr>\n",
       "      <th>2015-01-03</th>\n",
       "      <td>2015-01-03</td>\n",
       "      <td>287.0</td>\n",
       "      <td>2769.0</td>\n",
       "      <td>8166.0</td>\n",
       "      <td>9722.0</td>\n",
       "    </tr>\n",
       "    <tr>\n",
       "      <th>2015-01-04</th>\n",
       "      <td>2015-01-04</td>\n",
       "      <td>288.0</td>\n",
       "      <td>2775.0</td>\n",
       "      <td>NaN</td>\n",
       "      <td>9780.0</td>\n",
       "    </tr>\n",
       "  </tbody>\n",
       "</table>\n",
       "</div>"
      ],
      "text/plain": [
       "                 Date    Day  Cases_Guinea  Cases_Liberia  Cases_SierraLeone\n",
       "2014-12-31 2014-12-31  284.0        2730.0         8115.0             9633.0\n",
       "2015-01-01        NaT    NaN           NaN            NaN                NaN\n",
       "2015-01-02 2015-01-02  286.0           NaN         8157.0                NaN\n",
       "2015-01-03 2015-01-03  287.0        2769.0         8166.0             9722.0\n",
       "2015-01-04 2015-01-04  288.0        2775.0            NaN             9780.0"
      ]
     },
     "execution_count": 9,
     "metadata": {},
     "output_type": "execute_result"
    }
   ],
   "source": [
    "ebola_5 = ebola.head()\n",
    "ebola_5.index = ebola_5['Date']\n",
    "ebola_5.reindex(head_range).iloc[:5, :5]"
   ]
  },
  {
   "cell_type": "code",
   "execution_count": 24,
   "metadata": {},
   "outputs": [
    {
     "name": "stdout",
     "output_type": "stream",
     "text": [
      "                 Date  Day  Cases_Guinea  Cases_Liberia  Cases_SierraLeone\n",
      "Date                                                                      \n",
      "2015-01-05 2015-01-05  289        2776.0            NaN            10030.0\n",
      "2015-01-04 2015-01-04  288        2775.0            NaN             9780.0\n",
      "2015-01-03 2015-01-03  287        2769.0         8166.0             9722.0\n",
      "2015-01-02 2015-01-02  286           NaN         8157.0                NaN\n",
      "2014-12-31 2014-12-31  284        2730.0         8115.0             9633.0\n"
     ]
    }
   ],
   "source": [
    "print(ebola_5.iloc[:5, :5])"
   ]
  },
  {
   "cell_type": "code",
   "execution_count": 25,
   "metadata": {},
   "outputs": [
    {
     "data": {
      "text/plain": [
       "DatetimeIndex(['2014-12-31', '2015-01-01', '2015-01-02', '2015-01-05'], dtype='datetime64[ns]', freq='B')"
      ]
     },
     "execution_count": 25,
     "metadata": {},
     "output_type": "execute_result"
    }
   ],
   "source": [
    "pd.date_range(start='2014-12-31', end='2015-01-05', freq='B')"
   ]
  },
  {
   "cell_type": "markdown",
   "metadata": {},
   "source": [
    "### 12.2.7 freq 속성을 이용한 시간 주기\n",
    "pandas에서 빈도는 **기본 빈도(base freq)**와 **배수**의 조합으로 구성된다:\n",
    "\n",
    "기본 빈도는 아래와 같다.\n",
    "\n",
    "| Date Offset | Frequency String | Description |\n",
    "|------------------------------------------|------------------|-------------------------------------------------------|\n",
    "| DateOffset | None | Generic offset class, defaults to 1 calendar day |\n",
    "| BDay or BusinessDay | 'B' | business day (weekday) |\n",
    "| CDay or CustomBusinessDay | 'C' | custom business day |\n",
    "| Week | 'W' | one week, optionally anchored on a day of the week |\n",
    "| WeekOfMonth | 'WOM' | the x-th day of the y-th week of each month |\n",
    "| LastWeekOfMonth | 'LWOM' | the x-th day of the last week of each month |\n",
    "| MonthEnd | 'M' | calendar month end |\n",
    "| MonthBegin | 'MS' | calendar month begin |\n",
    "| BMonthEnd or BusinessMonthEnd | 'BM' | business month end |\n",
    "| BMonthBegin or BusinessMonthBegin | 'BMS' | business month begin |\n",
    "| CBMonthEnd or CustomBusinessMonthEnd | 'CBM' | custom business month end |\n",
    "| CBMonthBegin or CustomBusinessMonthBegin | 'CBMS' | custom business month begin |\n",
    "| SemiMonthEnd | 'SM' | 15th (or other day_of_month) and calendar month end |\n",
    "| SemiMonthBegin | 'SMS' | 15th (or other day_of_month) and calendar month begin |\n",
    "| QuarterEnd | 'Q' | calendar quarter end |\n",
    "| QuarterBegin | 'QS' | calendar quarter begin |\n",
    "| BQuarterEnd | 'BQ | business quarter end |\n",
    "| BQuarterBegin | 'BQS' | business quarter begin |\n",
    "| FY5253Quarter | 'REQ' | retail (aka 52-53 week) quarter |\n",
    "| YearEnd | 'A' | calendar year end |\n",
    "| YearBegin | 'AS' or 'BYS' | calendar year begin |\n",
    "| BYearEnd | 'BA' | business year end |\n",
    "| BYearBegin | 'BAS' | business year begin |\n",
    "| FY5253 | 'RE' | retail (aka 52-53 week) year |\n",
    "| Easter | None | Easter holiday |\n",
    "| BusinessHour | 'BH' | business hour |\n",
    "| CustomBusinessHour | 'CBH' | custom business hour |\n",
    "| Day | 'D' | one absolute day |\n",
    "| Hour | 'H' | one hour |\n",
    "| Minute | 'T' or 'min' | one minute |\n",
    "| Second | 'S' | one second |\n",
    "| Milli | 'L' or 'ms' | one millisecond |\n",
    "| Micro | 'U' or 'us' | one microsecond |\n",
    "| Nano | 'N' | one nanosecond |\n",
    "\n",
    "\n",
    "각 기본 빈도(base freq)에는 날짜 offset 객체를 사용할 수 있다.\n",
    "- pandas.tseries.offsets 모듈에서 필요한 offset class를 가져와 사용할 수 있다.\n",
    "- 전체 offsets이 어떤 것이 있는 지 아래와 같이 확인할 수 있다.\n",
    "\n",
    "\n",
    "#### 1) 시간 범위의 주기 설정하기(260쪽)\n",
    "다음은 date_range 메서드의 freq 인잣값을 B로 설정하여 평일만 포함시킨 DatetimeIndex를 만든 것 입니다"
   ]
  },
  {
   "cell_type": "code",
   "execution_count": 26,
   "metadata": {},
   "outputs": [
    {
     "name": "stdout",
     "output_type": "stream",
     "text": [
      "DatetimeIndex(['2017-01-02', '2017-01-03', '2017-01-04', '2017-01-05',\n",
      "               '2017-01-06'],\n",
      "              dtype='datetime64[ns]', freq='B')\n"
     ]
    }
   ],
   "source": [
    "print(pd.date_range('2017-01-01', '2017-01-07', freq='B'))"
   ]
  },
  {
   "cell_type": "markdown",
   "metadata": {},
   "source": [
    "#### 2) 에볼라의 확산 속도 비교하기(261쪽)\n",
    "나라별로 에볼라의 확산 속도를 비교하려면 발생하기 시작한 날짜를 옮기는 것이 좋습니다. 왜 그럴까요? \n",
    "\n",
    "일단 ebola 데이터프레임으로 그래프를 그려보고 에볼라의 확산 속도를 비교하는 데 어떤 문제가 있는지 그리고 해결 방법은 무엇인지 알아보겠습니다."
   ]
  },
  {
   "cell_type": "code",
   "execution_count": 27,
   "metadata": {},
   "outputs": [
    {
     "data": {
      "image/png": "[encoded data removed]",
      "text/plain": [
       "<Figure size 864x576 with 1 Axes>"
      ]
     },
     "metadata": {
      "needs_background": "light"
     },
     "output_type": "display_data"
    }
   ],
   "source": [
    "import matplotlib.pyplot as plt\n",
    "\n",
    "ebola.index = ebola['Date']\n",
    "\n",
    "fig, ax = plt.subplots() \n",
    "ax = ebola.iloc[0:, 1:].plot(ax=ax, figsize=(12,8))\n",
    "ax.legend(fontsize=11, loc=2, borderaxespad=0.) \n",
    "plt.show()"
   ]
  },
  {
   "cell_type": "markdown",
   "metadata": {},
   "source": [
    "그런데 과정 1의 그래프는 각 나라의 에볼라 발병일이 달라 그래프가 그려지기시작한 지점도 다릅니다. \n",
    "\n",
    "달리기 속도를 비교하려면 같은 출발선에서 출발하여 시간을 측정해야 겠죠? 에볼라의 확산 속도도 같은 방법으로 측정해야 합니다. \n",
    "\n",
    "즉, 각 나라의 발병일을 가장 처음 에볼라가 발병한 Guinea와 동일한 위치로 옮겨야 나라별 에볼라의 확산 속도를 제대로 비교할 수 있습니다."
   ]
  },
  {
   "cell_type": "code",
   "execution_count": 28,
   "metadata": {},
   "outputs": [
    {
     "name": "stdout",
     "output_type": "stream",
     "text": [
      "            Day  Cases_Guinea  Cases_Liberia\n",
      "Date                                        \n",
      "2014-04-04   13         143.0           18.0\n",
      "2014-04-01   10         127.0            8.0\n",
      "2014-03-31    9         122.0            8.0\n",
      "2014-03-29    7         112.0            7.0\n",
      "2014-03-28    6         112.0            3.0\n",
      "2014-03-27    5         103.0            8.0\n",
      "2014-03-26    4          86.0            NaN\n",
      "2014-03-25    3          86.0            NaN\n",
      "2014-03-24    2          86.0            NaN\n",
      "2014-03-22    0          49.0            NaN\n"
     ]
    }
   ],
   "source": [
    "ebola_sub = ebola[['Day', 'Cases_Guinea', 'Cases_Liberia']] \n",
    "print(ebola_sub.tail(10))"
   ]
  },
  {
   "cell_type": "markdown",
   "metadata": {},
   "source": [
    "#### 3) 그래프를 그리기 위한 데이터프레임 준비하기\n",
    "다음은 Date 열의 자료형을 datetime 오브젝트로 변환하여 ebola 데이터프레임을 다시 생성한 것입니다. \n",
    "\n",
    "그런데 중간에 아예 날짜가 없는 데이터(2015년 01월 01일)도 있습니다. 이 데이터도 포함시켜야 확산 속도를 제대로 비교할 수 있습니다."
   ]
  },
  {
   "cell_type": "code",
   "execution_count": 29,
   "metadata": {},
   "outputs": [
    {
     "name": "stdout",
     "output_type": "stream",
     "text": [
      "        Date  Day  Cases_Guinea  Cases_Liberia  Cases_SierraLeone\n",
      "0 2015-01-05  289        2776.0            NaN            10030.0\n",
      "1 2015-01-04  288        2775.0            NaN             9780.0\n",
      "2 2015-01-03  287        2769.0         8166.0             9722.0\n",
      "3 2015-01-02  286           NaN         8157.0                NaN\n",
      "4 2014-12-31  284        2730.0         8115.0             9633.0\n"
     ]
    }
   ],
   "source": [
    "ebola = pd.read_csv('../data/country_timeseries.csv',  parse_dates=['Date'])\n",
    "\n",
    "print(ebola.head().iloc[:, :5])"
   ]
  },
  {
   "cell_type": "markdown",
   "metadata": {},
   "source": [
    "다음은 Date 열을 인덱스로 지정한 다음 ebola 데이터프레임의 Date 열의 최댓값과 최솟값으로 시간 범위를 생성하여 new_idx에 저장한 것입니다. \n",
    "\n",
    "이렇게 하면 날짜가 아예 없 었던 데이터의 인덱스를 생성할 수 있습니다."
   ]
  },
  {
   "cell_type": "code",
   "execution_count": 30,
   "metadata": {},
   "outputs": [],
   "source": [
    "ebola.index = ebola['Date']\n",
    "\n",
    "new_idx = pd.date_range(ebola.index.min(), ebola.index.max())"
   ]
  },
  {
   "cell_type": "code",
   "execution_count": 31,
   "metadata": {},
   "outputs": [
    {
     "name": "stdout",
     "output_type": "stream",
     "text": [
      "DatetimeIndex(['2014-03-22', '2014-03-23', '2014-03-24', '2014-03-25',\n",
      "               '2014-03-26', '2014-03-27', '2014-03-28', '2014-03-29',\n",
      "               '2014-03-30', '2014-03-31',\n",
      "               ...\n",
      "               '2014-12-27', '2014-12-28', '2014-12-29', '2014-12-30',\n",
      "               '2014-12-31', '2015-01-01', '2015-01-02', '2015-01-03',\n",
      "               '2015-01-04', '2015-01-05'],\n",
      "              dtype='datetime64[ns]', length=290, freq='D')\n"
     ]
    }
   ],
   "source": [
    "print(new_idx)"
   ]
  },
  {
   "cell_type": "markdown",
   "metadata": {},
   "source": [
    "그런데 new_idx를 살펴보면 ebola 데이터 집합에 있는 시간 순서와 반대로 생성되어, reversed 메서드를 사용하여 인덱스를 반대로 뒤집은 것입니다."
   ]
  },
  {
   "cell_type": "code",
   "execution_count": 32,
   "metadata": {},
   "outputs": [],
   "source": [
    "new_idx = reversed(new_idx)"
   ]
  },
  {
   "cell_type": "markdown",
   "metadata": {},
   "source": [
    "이제 reindex 메소드를 이용하여, 새로운 인덱스를 지정하며, 아예 데이터가 없었던 일자도, 인덱스에 포함되게 합니다."
   ]
  },
  {
   "cell_type": "code",
   "execution_count": 33,
   "metadata": {},
   "outputs": [],
   "source": [
    "ebola = ebola.reindex(new_idx)"
   ]
  },
  {
   "cell_type": "code",
   "execution_count": 34,
   "metadata": {},
   "outputs": [
    {
     "name": "stdout",
     "output_type": "stream",
     "text": [
      "                 Date    Day  Cases_Guinea  Cases_Liberia  Cases_SierraLeone\n",
      "Date                                                                        \n",
      "2015-01-05 2015-01-05  289.0        2776.0            NaN            10030.0\n",
      "2015-01-04 2015-01-04  288.0        2775.0            NaN             9780.0\n",
      "2015-01-03 2015-01-03  287.0        2769.0         8166.0             9722.0\n",
      "2015-01-02 2015-01-02  286.0           NaN         8157.0                NaN\n",
      "2015-01-01        NaT    NaN           NaN            NaN                NaN\n"
     ]
    }
   ],
   "source": [
    "print(ebola.head().iloc[:, :5])"
   ]
  },
  {
   "cell_type": "code",
   "execution_count": 35,
   "metadata": {
    "scrolled": true
   },
   "outputs": [
    {
     "name": "stdout",
     "output_type": "stream",
     "text": [
      "                 Date  Day  Cases_Guinea  Cases_Liberia  Cases_SierraLeone\n",
      "Date                                                                      \n",
      "2014-03-26 2014-03-26  4.0          86.0            NaN                NaN\n",
      "2014-03-25 2014-03-25  3.0          86.0            NaN                NaN\n",
      "2014-03-24 2014-03-24  2.0          86.0            NaN                NaN\n",
      "2014-03-23        NaT  NaN           NaN            NaN                NaN\n",
      "2014-03-22 2014-03-22  0.0          49.0            NaN                NaN\n"
     ]
    }
   ],
   "source": [
    "print(ebola.tail().iloc[:, :5])"
   ]
  },
  {
   "cell_type": "markdown",
   "metadata": {},
   "source": [
    "#### 4) 각 나라의 에볼라 발병일 옮기기\n",
    "다음은 last_valid_index, first_valid_index 메서드를 사용하여 각 나라의 에볼라 발병일을 구한 것입니다. 각각의 메서드는 유효한 값이 있는 첫 번째와 마지막 인덱스를 반환합니다. 다음을 입력하고 결과를 확인해 보세요"
   ]
  },
  {
   "cell_type": "code",
   "execution_count": 36,
   "metadata": {
    "scrolled": true
   },
   "outputs": [
    {
     "name": "stdout",
     "output_type": "stream",
     "text": [
      "Date                  2014-03-22\n",
      "Day                   2014-03-22\n",
      "Cases_Guinea          2014-03-22\n",
      "Cases_Liberia         2014-03-27\n",
      "Cases_SierraLeone     2014-03-27\n",
      "Cases_Nigeria         2014-07-23\n",
      "Cases_Senegal         2014-08-31\n",
      "Cases_UnitedStates    2014-10-01\n",
      "Cases_Spain           2014-10-08\n",
      "Cases_Mali            2014-10-22\n",
      "Deaths_Guinea         2014-03-22\n",
      "Deaths_Liberia        2014-03-27\n",
      "Deaths_SierraLeone    2014-03-27\n",
      "Deaths_Nigeria        2014-07-23\n",
      "Deaths_Senegal        2014-09-07\n",
      "Deaths_UnitedStates   2014-10-01\n",
      "Deaths_Spain          2014-10-08\n",
      "Deaths_Mali           2014-10-22\n",
      "dtype: datetime64[ns]\n"
     ]
    }
   ],
   "source": [
    "last_valid = ebola.apply(pd.Series.last_valid_index) \n",
    "print(last_valid)"
   ]
  },
  {
   "cell_type": "code",
   "execution_count": 37,
   "metadata": {},
   "outputs": [
    {
     "name": "stdout",
     "output_type": "stream",
     "text": [
      "Date                  2015-01-05\n",
      "Day                   2015-01-05\n",
      "Cases_Guinea          2015-01-05\n",
      "Cases_Liberia         2015-01-03\n",
      "Cases_SierraLeone     2015-01-05\n",
      "Cases_Nigeria         2014-12-07\n",
      "Cases_Senegal         2014-12-07\n",
      "Cases_UnitedStates    2014-12-07\n",
      "Cases_Spain           2014-12-07\n",
      "Cases_Mali            2014-12-07\n",
      "Deaths_Guinea         2015-01-05\n",
      "Deaths_Liberia        2015-01-03\n",
      "Deaths_SierraLeone    2015-01-05\n",
      "Deaths_Nigeria        2014-12-07\n",
      "Deaths_Senegal        2014-12-07\n",
      "Deaths_UnitedStates   2014-12-07\n",
      "Deaths_Spain          2014-12-07\n",
      "Deaths_Mali           2014-12-07\n",
      "dtype: datetime64[ns]\n"
     ]
    }
   ],
   "source": [
    "first_valid = ebola.apply(pd.Series.first_valid_index) \n",
    "print(first_valid)"
   ]
  },
  {
   "cell_type": "code",
   "execution_count": 38,
   "metadata": {},
   "outputs": [
    {
     "name": "stdout",
     "output_type": "stream",
     "text": [
      "2014-03-22 00:00:00\n"
     ]
    }
   ],
   "source": [
    "earliest_date = ebola.index.min() \n",
    "print(earliest_date)"
   ]
  },
  {
   "cell_type": "markdown",
   "metadata": {},
   "source": [
    "각 나라의 에볼라 발병일을 동일한 출발선으로 옮기려면 에볼라가 가장 처음 발병한 날 (earliest_date)에서 각 나라의 에볼라 발병일을 뺀 만큼(shift_values)만 옮기면 됩니다."
   ]
  },
  {
   "cell_type": "code",
   "execution_count": 39,
   "metadata": {},
   "outputs": [
    {
     "name": "stdout",
     "output_type": "stream",
     "text": [
      "Date                    0 days\n",
      "Day                     0 days\n",
      "Cases_Guinea            0 days\n",
      "Cases_Liberia           5 days\n",
      "Cases_SierraLeone       5 days\n",
      "Cases_Nigeria         123 days\n",
      "Cases_Senegal         162 days\n",
      "Cases_UnitedStates    193 days\n",
      "Cases_Spain           200 days\n",
      "Cases_Mali            214 days\n",
      "Deaths_Guinea           0 days\n",
      "Deaths_Liberia          5 days\n",
      "Deaths_SierraLeone      5 days\n",
      "Deaths_Nigeria        123 days\n",
      "Deaths_Senegal        169 days\n",
      "Deaths_UnitedStates   193 days\n",
      "Deaths_Spain          200 days\n",
      "Deaths_Mali           214 days\n",
      "dtype: timedelta64[ns]\n"
     ]
    }
   ],
   "source": [
    "shift_values = last_valid - earliest_date \n",
    "print(shift_values)"
   ]
  },
  {
   "cell_type": "markdown",
   "metadata": {},
   "source": [
    "이제 각 나라의 에볼라 발병일을 옮기면 됩니다. 다음은 shift 메서드를 사용하여 모든 열의 값을 shift_values 값만큼 옮긴 것입니다. shift 메서드는 인잣값만큼 데이터를 밀어 내는 메서드입니다"
   ]
  },
  {
   "cell_type": "code",
   "execution_count": 40,
   "metadata": {},
   "outputs": [],
   "source": [
    "import numpy as np\n",
    "ebola_dict = {} \n",
    "for idx, col in enumerate(ebola):\n",
    "    d = shift_values[idx].days \n",
    "    shifted = ebola[col].shift(d)\n",
    "    ebola_dict[col] = shifted"
   ]
  },
  {
   "cell_type": "code",
   "execution_count": 41,
   "metadata": {},
   "outputs": [],
   "source": [
    "ebola_shift = pd.DataFrame(ebola_dict)"
   ]
  },
  {
   "cell_type": "markdown",
   "metadata": {},
   "source": [
    "이제 에볼라의 최초 발병일(2014-03-22)을 기준으로 모든 열의 데이터가 옮겨졌습니다."
   ]
  },
  {
   "cell_type": "code",
   "execution_count": 42,
   "metadata": {},
   "outputs": [
    {
     "name": "stdout",
     "output_type": "stream",
     "text": [
      "                 Date  Day  Cases_Guinea  Cases_Liberia  Cases_SierraLeone  \\\n",
      "Date                                                                         \n",
      "2014-03-26 2014-03-26  4.0          86.0            8.0                2.0   \n",
      "2014-03-25 2014-03-25  3.0          86.0            NaN                NaN   \n",
      "2014-03-24 2014-03-24  2.0          86.0            7.0                NaN   \n",
      "2014-03-23        NaT  NaN           NaN            3.0                2.0   \n",
      "2014-03-22 2014-03-22  0.0          49.0            8.0                6.0   \n",
      "\n",
      "            Cases_Nigeria  Cases_Senegal  Cases_UnitedStates  Cases_Spain  \\\n",
      "Date                                                                        \n",
      "2014-03-26            1.0            NaN                 1.0          1.0   \n",
      "2014-03-25            NaN            NaN                 NaN          NaN   \n",
      "2014-03-24            NaN            NaN                 NaN          NaN   \n",
      "2014-03-23            NaN            NaN                 NaN          NaN   \n",
      "2014-03-22            0.0            1.0                 1.0          1.0   \n",
      "\n",
      "            Cases_Mali  Deaths_Guinea  Deaths_Liberia  Deaths_SierraLeone  \\\n",
      "Date                                                                        \n",
      "2014-03-26         NaN           62.0             4.0                 2.0   \n",
      "2014-03-25         NaN           60.0             NaN                 NaN   \n",
      "2014-03-24         NaN           59.0             2.0                 NaN   \n",
      "2014-03-23         NaN            NaN             3.0                 2.0   \n",
      "2014-03-22         1.0           29.0             6.0                 5.0   \n",
      "\n",
      "            Deaths_Nigeria  Deaths_Senegal  Deaths_UnitedStates  Deaths_Spain  \\\n",
      "Date                                                                            \n",
      "2014-03-26             1.0             NaN                  0.0           1.0   \n",
      "2014-03-25             NaN             NaN                  NaN           NaN   \n",
      "2014-03-24             NaN             NaN                  NaN           NaN   \n",
      "2014-03-23             NaN             NaN                  NaN           NaN   \n",
      "2014-03-22             0.0             0.0                  0.0           1.0   \n",
      "\n",
      "            Deaths_Mali  \n",
      "Date                     \n",
      "2014-03-26          NaN  \n",
      "2014-03-25          NaN  \n",
      "2014-03-24          NaN  \n",
      "2014-03-23          NaN  \n",
      "2014-03-22          1.0  \n"
     ]
    }
   ],
   "source": [
    "print(ebola_shift.tail())"
   ]
  },
  {
   "cell_type": "markdown",
   "metadata": {},
   "source": [
    "마지막으로 인덱스를 Day 열로 지정하고 그래프에 없는 Date, Day 열은 삭제하 면 그래프를 그리기 위한 데이터프레임이 완성됩니다."
   ]
  },
  {
   "cell_type": "code",
   "execution_count": 43,
   "metadata": {},
   "outputs": [
    {
     "name": "stdout",
     "output_type": "stream",
     "text": [
      "     Cases_Guinea  Cases_Liberia  Cases_SierraLeone  Cases_Nigeria  \\\n",
      "Day                                                                  \n",
      "4.0          86.0            8.0                2.0            1.0   \n",
      "3.0          86.0            NaN                NaN            NaN   \n",
      "2.0          86.0            7.0                NaN            NaN   \n",
      "NaN           NaN            3.0                2.0            NaN   \n",
      "0.0          49.0            8.0                6.0            0.0   \n",
      "\n",
      "     Cases_Senegal  Cases_UnitedStates  Cases_Spain  Cases_Mali  \\\n",
      "Day                                                               \n",
      "4.0            NaN                 1.0          1.0         NaN   \n",
      "3.0            NaN                 NaN          NaN         NaN   \n",
      "2.0            NaN                 NaN          NaN         NaN   \n",
      "NaN            NaN                 NaN          NaN         NaN   \n",
      "0.0            1.0                 1.0          1.0         1.0   \n",
      "\n",
      "     Deaths_Guinea  Deaths_Liberia  Deaths_SierraLeone  Deaths_Nigeria  \\\n",
      "Day                                                                      \n",
      "4.0           62.0             4.0                 2.0             1.0   \n",
      "3.0           60.0             NaN                 NaN             NaN   \n",
      "2.0           59.0             2.0                 NaN             NaN   \n",
      "NaN            NaN             3.0                 2.0             NaN   \n",
      "0.0           29.0             6.0                 5.0             0.0   \n",
      "\n",
      "     Deaths_Senegal  Deaths_UnitedStates  Deaths_Spain  Deaths_Mali  \n",
      "Day                                                                  \n",
      "4.0             NaN                  0.0           1.0          NaN  \n",
      "3.0             NaN                  NaN           NaN          NaN  \n",
      "2.0             NaN                  NaN           NaN          NaN  \n",
      "NaN             NaN                  NaN           NaN          NaN  \n",
      "0.0             0.0                  0.0           1.0          1.0  \n"
     ]
    }
   ],
   "source": [
    "ebola_shift.index = ebola_shift['Day'] \n",
    "ebola_shift = ebola_shift.drop(['Date', 'Day'], axis=1)\n",
    "\n",
    "print(ebola_shift.tail())"
   ]
  },
  {
   "cell_type": "code",
   "execution_count": 44,
   "metadata": {},
   "outputs": [
    {
     "data": {
      "image/png": "[encoded data removed]",
      "text/plain": [
       "<Figure size 864x576 with 1 Axes>"
      ]
     },
     "metadata": {
      "needs_background": "light"
     },
     "output_type": "display_data"
    }
   ],
   "source": [
    "fig, ax = plt.subplots(figsize=(12,8)) \n",
    "ax = ebola_shift.iloc[:, :].plot(ax=ax)\n",
    "ax.legend(fontsize=10, loc=2, borderaxespad=0.) \n",
    "plt.show()"
   ]
  },
  {
   "cell_type": "code",
   "execution_count": null,
   "metadata": {},
   "outputs": [],
   "source": []
  }
 ],
 "metadata": {
  "kernelspec": {
   "display_name": "Python 3",
   "language": "python",
   "name": "python3"
  },
  "language_info": {
   "codemirror_mode": {
    "name": "ipython",
    "version": 3
   },
   "file_extension": ".py",
   "mimetype": "text/x-python",
   "name": "python",
   "nbconvert_exporter": "python",
   "pygments_lexer": "ipython3",
   "version": "3.7.5"
  },
  "toc": {
   "base_numbering": 1,
   "nav_menu": {},
   "number_sections": false,
   "sideBar": true,
   "skip_h1_title": false,
   "title_cell": "Table of Contents",
   "title_sidebar": "Contents",
   "toc_cell": false,
   "toc_position": {},
   "toc_section_display": true,
   "toc_window_display": false
  },
  "varInspector": {
   "cols": {
    "lenName": 16,
    "lenType": 16,
    "lenVar": 40
   },
   "kernels_config": {
    "python": {
     "delete_cmd_postfix": "",
     "delete_cmd_prefix": "del ",
     "library": "var_list.py",
     "varRefreshCmd": "print(var_dic_list())"
    },
    "r": {
     "delete_cmd_postfix": ") ",
     "delete_cmd_prefix": "rm(",
     "library": "var_list.r",
     "varRefreshCmd": "cat(var_dic_list()) "
    }
   },
   "types_to_exclude": [
    "module",
    "function",
    "builtin_function_or_method",
    "instance",
    "_Feature"
   ],
   "window_display": false
  }
 },
 "nbformat": 4,
 "nbformat_minor": 1
}
